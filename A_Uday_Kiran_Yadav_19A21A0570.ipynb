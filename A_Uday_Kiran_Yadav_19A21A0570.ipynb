{
  "nbformat": 4,
  "nbformat_minor": 0,
  "metadata": {
    "colab": {
      "name": "A.Uday Kiran Yadav - 19A21A0570.ipynb",
      "provenance": [],
      "collapsed_sections": [],
      "authorship_tag": "ABX9TyMBCOHvyjZC4dgZqQBMWng+",
      "include_colab_link": true
    },
    "kernelspec": {
      "display_name": "Python 3",
      "name": "python3"
    },
    "language_info": {
      "name": "python"
    }
  },
  "cells": [
    {
      "cell_type": "markdown",
      "metadata": {
        "id": "view-in-github",
        "colab_type": "text"
      },
      "source": [
        "<a href=\"https://colab.research.google.com/github/Ukprogramer/AVULA-UDAY-KIRAN-YADAV-19A21A0570/blob/main/A_Uday_Kiran_Yadav_19A21A0570.ipynb\" target=\"_parent\"><img src=\"https://colab.research.google.com/assets/colab-badge.svg\" alt=\"Open In Colab\"/></a>"
      ]
    },
    {
      "cell_type": "markdown",
      "metadata": {
        "id": "EnDz7caOlgB1"
      },
      "source": [
        "Exercise 1 - Basics\n",
        "\n",
        "a) Running instructions in Interactive interpreter and a Python **Script**"
      ]
    },
    {
      "cell_type": "code",
      "metadata": {
        "colab": {
          "base_uri": "https://localhost:8080/"
        },
        "id": "cuiD1C_cllGU",
        "outputId": "27fd6eb9-b24a-488d-fafa-867ad5cd9a96"
      },
      "source": [
        "print(\"Welcome to python lab\")"
      ],
      "execution_count": null,
      "outputs": [
        {
          "output_type": "stream",
          "text": [
            "Welcome to python lab\n"
          ],
          "name": "stdout"
        }
      ]
    },
    {
      "cell_type": "code",
      "metadata": {
        "id": "vSPYgxeyl8Nm"
      },
      "source": [
        "a,b=10,20"
      ],
      "execution_count": null,
      "outputs": []
    },
    {
      "cell_type": "code",
      "metadata": {
        "colab": {
          "base_uri": "https://localhost:8080/"
        },
        "id": "MI7TnNJ3mPd7",
        "outputId": "b43f1f6a-939f-440f-8f4e-f0e4f8cc995b"
      },
      "source": [
        "print(\"a=%d,b=%d\"%(a,b))"
      ],
      "execution_count": null,
      "outputs": [
        {
          "output_type": "stream",
          "text": [
            "a=10,b=20\n"
          ],
          "name": "stdout"
        }
      ]
    },
    {
      "cell_type": "code",
      "metadata": {
        "id": "bUV553TTmm8P"
      },
      "source": [
        "sum=a+b"
      ],
      "execution_count": null,
      "outputs": []
    },
    {
      "cell_type": "code",
      "metadata": {
        "colab": {
          "base_uri": "https://localhost:8080/"
        },
        "id": "T8MiMd3gmwYQ",
        "outputId": "89c5d545-22fb-4f04-9093-c3010da61068"
      },
      "source": [
        "print(\"Sum of %d , %d is :%d \"%(a,b,sum))"
      ],
      "execution_count": null,
      "outputs": [
        {
          "output_type": "stream",
          "text": [
            "Sum of 10 , 20 is :30 \n"
          ],
          "name": "stdout"
        }
      ]
    },
    {
      "cell_type": "code",
      "metadata": {
        "colab": {
          "base_uri": "https://localhost:8080/"
        },
        "id": "mz49F9uqnCqL",
        "outputId": "5d6023ab-9ac8-408b-f884-581c4f4da410"
      },
      "source": [
        "print(\"Before swaping a=%d,b=%d \"%(a,b))"
      ],
      "execution_count": null,
      "outputs": [
        {
          "output_type": "stream",
          "text": [
            "Before swaping a=10,b=20 \n"
          ],
          "name": "stdout"
        }
      ]
    },
    {
      "cell_type": "code",
      "metadata": {
        "id": "-9d2FXfBoIru"
      },
      "source": [
        "a,b=b,a"
      ],
      "execution_count": null,
      "outputs": []
    },
    {
      "cell_type": "code",
      "metadata": {
        "colab": {
          "base_uri": "https://localhost:8080/"
        },
        "id": "CrhS-mRPqDLt",
        "outputId": "22f8416f-0ca5-4145-8f9c-c10c9c310a37"
      },
      "source": [
        "print(\"After swaping a=%d,b=%d \"%(a,b))"
      ],
      "execution_count": null,
      "outputs": [
        {
          "output_type": "stream",
          "text": [
            "After swaping a=20,b=10 \n"
          ],
          "name": "stdout"
        }
      ]
    },
    {
      "cell_type": "code",
      "metadata": {
        "colab": {
          "base_uri": "https://localhost:8080/"
        },
        "id": "Rx8O0JTBqH1m",
        "outputId": "869b4184-9efe-428c-b9e1-856e217f1f8b"
      },
      "source": [
        "type(a)"
      ],
      "execution_count": null,
      "outputs": [
        {
          "output_type": "execute_result",
          "data": {
            "text/plain": [
              "int"
            ]
          },
          "metadata": {
            "tags": []
          },
          "execution_count": 12
        }
      ]
    },
    {
      "cell_type": "markdown",
      "metadata": {
        "id": "J8CQ3k5QqmyJ"
      },
      "source": [
        "b) Write a program to purposefully raise Indentation Error and Correct it\n"
      ]
    },
    {
      "cell_type": "code",
      "metadata": {
        "colab": {
          "base_uri": "https://localhost:8080/",
          "height": 130
        },
        "id": "LIo2xhQtq2AO",
        "outputId": "19754745-5d33-49e1-d33c-d439cd09c410"
      },
      "source": [
        "#program with indentation error \n",
        "\n",
        "a=int(input(\"Enter a value\"))\n",
        "b=int(input(\"Enter b value\"))\n",
        "if a>b:\n",
        "  print(\"if block\")\n",
        "   print(\"%d is big\"%a)\n",
        "else :\n",
        "  print(\"else block \")\n",
        "   print(\"%d is big \"%b)"
      ],
      "execution_count": null,
      "outputs": [
        {
          "output_type": "error",
          "ename": "IndentationError",
          "evalue": "ignored",
          "traceback": [
            "\u001b[0;36m  File \u001b[0;32m\"<ipython-input-13-c27dc3f3a513>\"\u001b[0;36m, line \u001b[0;32m7\u001b[0m\n\u001b[0;31m    print(\"%d is big\"%a)\u001b[0m\n\u001b[0m    ^\u001b[0m\n\u001b[0;31mIndentationError\u001b[0m\u001b[0;31m:\u001b[0m unexpected indent\n"
          ]
        }
      ]
    },
    {
      "cell_type": "code",
      "metadata": {
        "colab": {
          "base_uri": "https://localhost:8080/"
        },
        "id": "7kIL7CDbqL1S",
        "outputId": "2f0c3a5d-f4d6-42e1-cf03-27543a0659f0"
      },
      "source": [
        "#program with indentation error corrected \n",
        "\n",
        "a=int(input(\"Enter a value\"))\n",
        "b=int(input(\"Enter b value\"))\n",
        "if a>b:\n",
        "  print(\"if block\")\n",
        "  print(\"%d is big\"%a)\n",
        "else :\n",
        "  print(\"else block \")\n",
        "  print(\"%d is big \"%b)"
      ],
      "execution_count": null,
      "outputs": [
        {
          "output_type": "stream",
          "text": [
            "Enter a value10 \n",
            "Enter b value20\n",
            "else block \n",
            "20 is big \n"
          ],
          "name": "stdout"
        }
      ]
    },
    {
      "cell_type": "markdown",
      "metadata": {
        "id": "jcDkv4FctXI0"
      },
      "source": [
        "Exercise 2 - Operations\n",
        "\n",
        "a) Write a program to compute distance between two points taking input from the user(Pythagorean \n",
        "Theorem)"
      ]
    },
    {
      "cell_type": "code",
      "metadata": {
        "colab": {
          "base_uri": "https://localhost:8080/"
        },
        "id": "1veEv9tStk8p",
        "outputId": "3fe0e7a9-16d0-4421-b066-114a07627741"
      },
      "source": [
        "import math\n",
        "\n",
        "x1=int(input(\"Enter x co-ordinate of the first point->\"))\n",
        "y1=int(input(\"Enter y co-ordinate of the first point->\"))\n",
        "x2=int(input(\"Enter x co-ordinate of the second point->\"))\n",
        "y2=int(input(\"Enter y co-ordinate of the second point->\"))\n",
        "\n",
        "d=math.sqrt((x2-x1)**2+(y2-y1)**2)\n",
        "\n",
        "print(\"Distance between points (%d,%d),(%d,%d) is = %f\"%(x1,y1,x2,y2,d))\n"
      ],
      "execution_count": null,
      "outputs": [
        {
          "output_type": "stream",
          "text": [
            "Enter x co-ordinate of the first point->2\n",
            "Enter y co-ordinate of the first point->3\n",
            "Enter x co-ordinate of the second point->4\n",
            "Enter y co-ordinate of the second point->2\n",
            "Distance between points (2,3),(4,2) is = 2.236068\n"
          ],
          "name": "stdout"
        }
      ]
    },
    {
      "cell_type": "markdown",
      "metadata": {
        "id": "_bxQfK63uKt3"
      },
      "source": [
        "b) Write a program add.py that takes 2 numbers as command line arguments and prints its sum.\n"
      ]
    },
    {
      "cell_type": "code",
      "metadata": {
        "colab": {
          "base_uri": "https://localhost:8080/",
          "height": 232
        },
        "id": "LpCIdTNEuSxW",
        "outputId": "7b1ed23c-95df-4021-db5d-c8a07dfe20a7"
      },
      "source": [
        "import sys\n",
        "a=int(sys.argv[1])\n",
        "b=int(sys.argv[2])\n",
        "sum=a+b\n",
        "print(\"%d + %d = %d \"%(a,b,sum))"
      ],
      "execution_count": null,
      "outputs": [
        {
          "output_type": "error",
          "ename": "ValueError",
          "evalue": "ignored",
          "traceback": [
            "\u001b[0;31m---------------------------------------------------------------------------\u001b[0m",
            "\u001b[0;31mValueError\u001b[0m                                Traceback (most recent call last)",
            "\u001b[0;32m<ipython-input-18-5ceec3826418>\u001b[0m in \u001b[0;36m<module>\u001b[0;34m()\u001b[0m\n\u001b[1;32m      1\u001b[0m \u001b[0;32mimport\u001b[0m \u001b[0msys\u001b[0m\u001b[0;34m\u001b[0m\u001b[0;34m\u001b[0m\u001b[0m\n\u001b[0;32m----> 2\u001b[0;31m \u001b[0ma\u001b[0m\u001b[0;34m=\u001b[0m\u001b[0mint\u001b[0m\u001b[0;34m(\u001b[0m\u001b[0msys\u001b[0m\u001b[0;34m.\u001b[0m\u001b[0margv\u001b[0m\u001b[0;34m[\u001b[0m\u001b[0;36m1\u001b[0m\u001b[0;34m]\u001b[0m\u001b[0;34m)\u001b[0m\u001b[0;34m\u001b[0m\u001b[0;34m\u001b[0m\u001b[0m\n\u001b[0m\u001b[1;32m      3\u001b[0m \u001b[0mb\u001b[0m\u001b[0;34m=\u001b[0m\u001b[0mint\u001b[0m\u001b[0;34m(\u001b[0m\u001b[0msys\u001b[0m\u001b[0;34m.\u001b[0m\u001b[0margv\u001b[0m\u001b[0;34m[\u001b[0m\u001b[0;36m2\u001b[0m\u001b[0;34m]\u001b[0m\u001b[0;34m)\u001b[0m\u001b[0;34m\u001b[0m\u001b[0;34m\u001b[0m\u001b[0m\n\u001b[1;32m      4\u001b[0m \u001b[0msum\u001b[0m\u001b[0;34m=\u001b[0m\u001b[0ma\u001b[0m\u001b[0;34m+\u001b[0m\u001b[0mb\u001b[0m\u001b[0;34m\u001b[0m\u001b[0;34m\u001b[0m\u001b[0m\n\u001b[1;32m      5\u001b[0m \u001b[0mprint\u001b[0m\u001b[0;34m(\u001b[0m\u001b[0;34m\"%d + %d = %d \"\u001b[0m\u001b[0;34m%\u001b[0m\u001b[0;34m(\u001b[0m\u001b[0ma\u001b[0m\u001b[0;34m,\u001b[0m\u001b[0mb\u001b[0m\u001b[0;34m,\u001b[0m\u001b[0msum\u001b[0m\u001b[0;34m)\u001b[0m\u001b[0;34m)\u001b[0m\u001b[0;34m\u001b[0m\u001b[0;34m\u001b[0m\u001b[0m\n",
            "\u001b[0;31mValueError\u001b[0m: invalid literal for int() with base 10: '-f'"
          ]
        }
      ]
    },
    {
      "cell_type": "markdown",
      "metadata": {
        "id": "1uICnSF4vrBo"
      },
      "source": [
        "Exercise - 3 Control Flow\n",
        "\n",
        "a) Write a Program for checking whether the given number is an even number or not"
      ]
    },
    {
      "cell_type": "code",
      "metadata": {
        "colab": {
          "base_uri": "https://localhost:8080/"
        },
        "id": "whvnltitvy7-",
        "outputId": "b4e38a90-ca5f-407e-db97-33c2f083069c"
      },
      "source": [
        "n=int(input(\"Enter a number \"))\n",
        "if n%2==0 :\n",
        "  print(\"%d is even \"%n)\n",
        "else : \n",
        "  print(\"%d is odd \"%n)"
      ],
      "execution_count": null,
      "outputs": [
        {
          "output_type": "stream",
          "text": [
            "Enter a number 20\n",
            "20 is even \n"
          ],
          "name": "stdout"
        }
      ]
    },
    {
      "cell_type": "markdown",
      "metadata": {
        "id": "H08py0elwLBh"
      },
      "source": [
        "b) Using a for loop, write a program that prints out the decimal equivalents of 1/2, 1/3, 1/4, . . .1/10\n"
      ]
    },
    {
      "cell_type": "code",
      "metadata": {
        "colab": {
          "base_uri": "https://localhost:8080/"
        },
        "id": "acTOf7xLwSVh",
        "outputId": "7679b025-c71d-4000-d02f-0e554613f168"
      },
      "source": [
        "n=int(input(\"Enter a number \"))\n",
        "j=1\n",
        "for i in range(1,n+1):\n",
        "  print(\"Decimal equalent of %d/%d is %f \"%(j,i,j/i))\n",
        "  i=i+1"
      ],
      "execution_count": null,
      "outputs": [
        {
          "output_type": "stream",
          "text": [
            "Enter a number 10\n",
            "Decimal equalent of 1/1 is 1.000000 \n",
            "Decimal equalent of 1/2 is 0.500000 \n",
            "Decimal equalent of 1/3 is 0.333333 \n",
            "Decimal equalent of 1/4 is 0.250000 \n",
            "Decimal equalent of 1/5 is 0.200000 \n",
            "Decimal equalent of 1/6 is 0.166667 \n",
            "Decimal equalent of 1/7 is 0.142857 \n",
            "Decimal equalent of 1/8 is 0.125000 \n",
            "Decimal equalent of 1/9 is 0.111111 \n",
            "Decimal equalent of 1/10 is 0.100000 \n"
          ],
          "name": "stdout"
        }
      ]
    },
    {
      "cell_type": "markdown",
      "metadata": {
        "id": "P4KYgJGNxe4_"
      },
      "source": [
        "c) Write a program using a for loop that loops over a sequence. What is sequence"
      ]
    },
    {
      "cell_type": "code",
      "metadata": {
        "colab": {
          "base_uri": "https://localhost:8080/"
        },
        "id": "ix99aYeBxh3q",
        "outputId": "5b2e8cb3-cfb6-4bc7-f220-c95d4db399ff"
      },
      "source": [
        "#Number sequence \n",
        "num=[10,30,20,40,50]\n",
        "print(\"Number sequence \")\n",
        "for i in num:\n",
        "  print(i)\n",
        "\n",
        "#string sequence \n",
        "day=[\"sun\",\"mon\",\"tue\",\"wed\",\"thr\",\"fri\",\"sat\"]\n",
        "print(\"String sequence \")\n",
        "for i in day:\n",
        "  print(i)\n",
        "\n",
        "#Both sequence \n",
        "arr=[\"Uday\",\"cse\",570,\"scet\"]\n",
        "print(\"Both the sequences \")\n",
        "for i in arr:\n",
        "  print(i)"
      ],
      "execution_count": null,
      "outputs": [
        {
          "output_type": "stream",
          "text": [
            "Number sequence \n",
            "10\n",
            "30\n",
            "20\n",
            "40\n",
            "50\n",
            "String sequence \n",
            "sun\n",
            "mon\n",
            "tue\n",
            "wed\n",
            "thr\n",
            "fri\n",
            "sat\n",
            "Both the sequences \n",
            "Uday\n",
            "cse\n",
            "570\n",
            "scet\n"
          ],
          "name": "stdout"
        }
      ]
    },
    {
      "cell_type": "markdown",
      "metadata": {
        "id": "bL5SUWrTzFKq"
      },
      "source": [
        "d) Write a program using a while loop that asks the user for a number, and prints a countdownfrom \n",
        "that number to zero.\n"
      ]
    },
    {
      "cell_type": "code",
      "metadata": {
        "colab": {
          "base_uri": "https://localhost:8080/"
        },
        "id": "cbIrFMbuzW5x",
        "outputId": "586a44b3-068e-472e-95f6-e4d8f0d6523d"
      },
      "source": [
        "n=int(input(\"Enter a number \"))\n",
        "i=n\n",
        "print(\"Number from %d to zero are \"%n)\n",
        "while(i>=0):\n",
        " print(i)\n",
        " i-=1"
      ],
      "execution_count": null,
      "outputs": [
        {
          "output_type": "stream",
          "text": [
            "Enter a number 10\n",
            "Number from 10 to zero are \n",
            "10\n",
            "9\n",
            "8\n",
            "7\n",
            "6\n",
            "5\n",
            "4\n",
            "3\n",
            "2\n",
            "1\n",
            "0\n"
          ],
          "name": "stdout"
        }
      ]
    },
    {
      "cell_type": "markdown",
      "metadata": {
        "id": "PW9A9STt06KD"
      },
      "source": [
        "Exercise 4 - Control Flow - Continued\n",
        "\n",
        "a) Find the sum of all the primes below two million"
      ]
    },
    {
      "cell_type": "code",
      "metadata": {
        "colab": {
          "base_uri": "https://localhost:8080/"
        },
        "id": "rfpI7KX51Hvm",
        "outputId": "d4fc7ee4-f439-476d-a06a-3eee65d1322b"
      },
      "source": [
        "n=int(input(\"Enter an ending number \"))\n",
        "sum=0\n",
        "count=0\n",
        "for i in range(2,n):\n",
        "  flag=True\n",
        "  for j in range(2,i):\n",
        "    if(i%j)==0:\n",
        "      flag=False\n",
        "      break;\n",
        "  if flag==True:\n",
        "    count+=1\n",
        "    sum+=i\n",
        "print(\"No of prime number below %d is %d \"%(n,count))\n",
        "print(\"sum of prime number below %d is %d \"%(n,sum))"
      ],
      "execution_count": null,
      "outputs": [
        {
          "output_type": "stream",
          "text": [
            "Enter an ending number 200\n",
            "No of prime number below 200 is 46 \n",
            "sum of prime number below 200 is 4227 \n"
          ],
          "name": "stdout"
        }
      ]
    },
    {
      "cell_type": "markdown",
      "metadata": {
        "id": "D5OcfJgf20GO"
      },
      "source": [
        "(b) Each new term in the Fibonacci sequence is \n",
        "generated by adding the previous two terms. Bystarting with 1 and 2, the first 10 terms will be:\n",
        "1, 2, 3, 5, 8, 13, 21, 34, 55, 89, ...\n",
        "\n",
        " By considering the terms in the Fibonacci sequence whose values do not exceed four million,find \n",
        "the sum of the even-valued terms"
      ]
    },
    {
      "cell_type": "code",
      "metadata": {
        "colab": {
          "base_uri": "https://localhost:8080/"
        },
        "id": "D_xuJwLZr-e7",
        "outputId": "2b6c70e1-6082-4c4f-ec86-e96cd1aec900"
      },
      "source": [
        "n=int(input(\"Enter n value \"))\n",
        "a=0\n",
        "b=1\n",
        "c=a+b\n",
        "count=0\n",
        "sum1=0\n",
        "str1=\" \"\n",
        "while(count<n):\n",
        "  str1+=\" \"+str(c)\n",
        "  if(c%2==0):\n",
        "    sum1+=c\n",
        "  a=b\n",
        "  b=c\n",
        "  c=a+b\n",
        "  count+=1\n",
        "print(\"Fibonacci series..\")\n",
        "print(str1)\n",
        "print(\"Sum of even valued terms in fibonacci series is \",sum1)\n"
      ],
      "execution_count": null,
      "outputs": [
        {
          "output_type": "stream",
          "text": [
            "Enter n value 10\n",
            "Fibonacci series..\n",
            "  1 2 3 5 8 13 21 34 55 89\n",
            "Sum of even valued terms in fibonacci series is  44\n"
          ],
          "name": "stdout"
        }
      ]
    },
    {
      "cell_type": "markdown",
      "metadata": {
        "id": "zbvgd5n1sQop"
      },
      "source": [
        "Exercise - 5 - DS\n",
        "\n",
        "a) Write a program to count the numbers of characters in the string and store them in a dictionary data \n",
        "structure\n"
      ]
    },
    {
      "cell_type": "code",
      "metadata": {
        "colab": {
          "base_uri": "https://localhost:8080/"
        },
        "id": "lraTchi_suVj",
        "outputId": "3c7ac28d-8e95-4c29-e2d1-1239648558c4"
      },
      "source": [
        "dic={}\n",
        "n=int(input(\"Enter the no.of strings to store in dictionary : \"))\n",
        "for i in range (1,n):\n",
        "  str1=input(\"Enter string name: \")\n",
        "  dic[str1]=len(str1)\n",
        "print(\"Dictionary contains : \",dic)"
      ],
      "execution_count": null,
      "outputs": [
        {
          "output_type": "stream",
          "text": [
            "Enter the no.of strings to store in dictionary : 6\n",
            "Enter string name: Uday kiran\n",
            "Enter string name: cse\n",
            "Enter string name: scet\n",
            "Enter string name: narsapur\n",
            "Enter string name: west godavari\n",
            "Dictionary contains :  {'Uday kiran': 10, 'cse': 3, 'scet': 4, 'narsapur': 8, 'west godavari': 13}\n"
          ],
          "name": "stdout"
        }
      ]
    },
    {
      "cell_type": "markdown",
      "metadata": {
        "id": "zPrpikiBuQJ_"
      },
      "source": [
        "b) Write a program to use split and join methods in the string and trace a birthday with a dictionary \n",
        "data structure."
      ]
    },
    {
      "cell_type": "code",
      "metadata": {
        "colab": {
          "base_uri": "https://localhost:8080/"
        },
        "id": "CpyqwSGeuSUV",
        "outputId": "d2e832b2-4acf-4201-d942-64af58bd967c"
      },
      "source": [
        "dob={\"Uday\":\"20-feb-2002\",\"sai\":\"05-july-2003\",\"seetha\":\"04-june-1982\",\"veeranna\":\"08-Aug-1979\"}\n",
        "name=input(\"Enter name of person to get DOB : \")\n",
        "l=name.split()\n",
        "person=\" \"\n",
        "birth=\" \"\n",
        "for i in l :\n",
        "  if i in dob.keys():\n",
        "    person=i\n",
        "if(person==\" \"):\n",
        "  print(\"DOB of Person not found \")\n",
        "else :\n",
        "  print(\" \".join([person,\"Birth day is \",dob[person]]))"
      ],
      "execution_count": null,
      "outputs": [
        {
          "output_type": "stream",
          "text": [
            "Enter name of person to get DOB : sai\n",
            "sai Birth day is  05-july-2003\n"
          ],
          "name": "stdout"
        }
      ]
    },
    {
      "cell_type": "markdown",
      "metadata": {
        "id": "uGTdqex8xgJb"
      },
      "source": [
        "Exercise - 6 DS - Continued\n",
        "\n",
        "a) Write a program combine lists that combines these lists into a dictionary.\n"
      ]
    },
    {
      "cell_type": "code",
      "metadata": {
        "colab": {
          "base_uri": "https://localhost:8080/"
        },
        "id": "x53keTylxk1t",
        "outputId": "c38d2291-810f-4d21-845c-01c560d1d6c7"
      },
      "source": [
        "sub=[]\n",
        "marks=[]\n",
        "n=int(input(\"Enter the no.of subjects : \"))\n",
        "for i in range(0,n):\n",
        "    s=input(\"Enter sub name: \")\n",
        "    m=int(input(\"Enter marks in the sub: \"))\n",
        "    sub.append(s)\n",
        "    marks.append(m)\n",
        "print(\"Subjects...\",sub)\n",
        "print(\"Marks...\",marks)\n",
        "dic=dict(zip(sub,marks))\n",
        "print(\"Dictionary contains : \",dic)\n"
      ],
      "execution_count": null,
      "outputs": [
        {
          "output_type": "stream",
          "text": [
            "Enter the no.of subjects : 6\n",
            "Enter sub name: DAA\n",
            "Enter marks in the sub: 90\n",
            "Enter sub name: OS\n",
            "Enter marks in the sub: 95\n",
            "Enter sub name: DBMS\n",
            "Enter marks in the sub: 80\n",
            "Enter sub name: P&S\n",
            "Enter marks in the sub: 100\n",
            "Enter sub name: PPL\n",
            "Enter marks in the sub: 90\n",
            "Enter sub name: SE\n",
            "Enter marks in the sub: 85\n",
            "Subjects... ['DAA', 'OS', 'DBMS', 'P&S', 'PPL', 'SE']\n",
            "Marks... [90, 95, 80, 100, 90, 85]\n",
            "Dictionary contains :  {'DAA': 90, 'OS': 95, 'DBMS': 80, 'P&S': 100, 'PPL': 90, 'SE': 85}\n"
          ],
          "name": "stdout"
        }
      ]
    },
    {
      "cell_type": "markdown",
      "metadata": {
        "id": "dk3BFa5v0lEC"
      },
      "source": [
        "b) Write a program to count frequency of characters in a given file. Can you use characterfrequency to \n",
        "tell whether the given file is a Python program file, C program file or a text file?"
      ]
    },
    {
      "cell_type": "code",
      "metadata": {
        "id": "xkYCneTi0neM"
      },
      "source": [
        "file_types=['.py','.c','.txt']\n",
        "fn=input(\"Enter the file name: \")\n",
        "f=open(fn,\"r\")\n",
        "count=dict()\n",
        "for ft in file_types:\n",
        "  if(ft in fn):\n",
        "      if(ft=='.py'):\n",
        "         print(\"Python file \")\n",
        "      elif(ft=='.c'):\n",
        "        print(\"C file \")\n",
        "      else:\n",
        "        print(\"text file \")\n",
        "for line in f:\n",
        "  for ch in line:\n",
        "    if ch in count:\n",
        "      count[ch]+=1\n",
        "    else:\n",
        "      count[ch]=1\n",
        "print(count)\n",
        "f.close"
      ],
      "execution_count": null,
      "outputs": []
    },
    {
      "cell_type": "markdown",
      "metadata": {
        "id": "ECKVg56oQmlC"
      },
      "source": [
        "Exercise - 7 Files\n",
        "\n",
        "a) Write a program to print each line of a file in reverse order"
      ]
    },
    {
      "cell_type": "code",
      "metadata": {
        "id": "_Cbc7PmkQpKx"
      },
      "source": [
        "\n",
        "fn=input(\"Enter the file name: \")\n",
        "obj=open(fn,\"r\")\n",
        "if obj:\n",
        "    st=obj.read()\n",
        "    print(\"File content is : \\n\",st)\n",
        "obj.close()\n",
        "print()\n",
        "lines = st.split('\\n')\n",
        "for ln in lines:\n",
        "    i=len(ln)-1\n",
        "    while(i>=0):\n",
        "        print(ln[i],end='')\n",
        "        i-=1\n",
        "    print()\n",
        "    \n"
      ],
      "execution_count": null,
      "outputs": []
    },
    {
      "cell_type": "markdown",
      "metadata": {
        "id": "OnKm-8s5QyLE"
      },
      "source": [
        "b) Write a program to compute the number of characters, words and lines in a file."
      ]
    },
    {
      "cell_type": "code",
      "metadata": {
        "id": "fUOfyNBWQ3n9"
      },
      "source": [
        "nl=nc=nw=0\n",
        "fn=input(\"Enter file name: \")\n",
        "obj=open(fn,\"r\")\n",
        "lines=obj.readlines()\n",
        "obj.close()\n",
        "print(\"File contains..\",lines)\n",
        "for ln in lines:\n",
        "    nl+=1\n",
        "    words=ln.split()\n",
        "    nw+=len(words)\n",
        "    nc+=len(ln)\n",
        "print(\"No.of lines: \",nl)\n",
        "print(\"No.of words: \",nw)\n",
        "print(\"No.of characters: \",nc)\n"
      ],
      "execution_count": null,
      "outputs": []
    },
    {
      "cell_type": "markdown",
      "metadata": {
        "id": "xRoz9mJOQ_SB"
      },
      "source": [
        "Exercise - 8 Functions\n",
        "\n",
        "a) Write a function ball collide that takes two balls as parameters and computes if they arecolliding. \n",
        "Your function should return a Boolean representing whether or not the balls arecolliding.\n",
        "\n",
        "Hint: Represent a ball on a plane as a tuple of (x, y, r), r being the radius\n",
        "If (distance between two balls centers) <= (sum of their radii) then (they are colliding)"
      ]
    },
    {
      "cell_type": "code",
      "metadata": {
        "colab": {
          "base_uri": "https://localhost:8080/"
        },
        "id": "ddPLeEiKRGNL",
        "outputId": "1280c263-6fb8-4dd0-dd49-049cf0302814"
      },
      "source": [
        "import math\n",
        "def ball_collide(b1_tup,b2_tup):\n",
        "    x1,y1,r1=b1_tup\n",
        "    x2,y2,r2=b2_tup\n",
        "    d=math.sqrt((x2-x1)**2+(y2-y1)**2)\n",
        "    if d>=r1+r2:\n",
        "        return True\n",
        "    else:\n",
        "        return False\n",
        "ball1=(2,3,4)\n",
        "ball2=(1,1,3)\n",
        "\n",
        "collision=ball_collide(ball1,ball2)\n",
        "if (collision):\n",
        "    print(\"Balls are collide \")\n",
        "else:\n",
        "    print(\"Balls are not collide \")\n"
      ],
      "execution_count": null,
      "outputs": [
        {
          "output_type": "stream",
          "text": [
            "Balls are not collide \n"
          ],
          "name": "stdout"
        }
      ]
    },
    {
      "cell_type": "markdown",
      "metadata": {
        "id": "NaKMVeS0RP6W"
      },
      "source": [
        "b) Find mean, median, mode for the given set of numbers in a list."
      ]
    },
    {
      "cell_type": "code",
      "metadata": {
        "colab": {
          "base_uri": "https://localhost:8080/"
        },
        "id": "89Ys3j9URcLg",
        "outputId": "9cb4ac8c-dfb6-4661-b5e1-af8b66635d86"
      },
      "source": [
        "def list_mean(num_list):\n",
        "    return sum(num_list)/len(num_list)\n",
        "\n",
        "def list_median(num_list):\n",
        "    num_list.sort()\n",
        "    n=len(num_list)\n",
        "    mid=n//2\n",
        "    if(n%2==1):\n",
        "        return num_list[mid]\n",
        "    else:\n",
        "        return (num_list[mid-1]+num_list[mid+1])/2\n",
        "\n",
        "def list_mode(num_list):\n",
        "    num_list.sort()\n",
        "    temp=[]\n",
        "    i=0\n",
        "    while i<len(num_list):\n",
        "        temp.append(num_list.count(num_list[i]))\n",
        "        i+=1\n",
        "    dic=dict(zip(num_list,temp))\n",
        "    mode={k for (k,v) in dic.items() if v==max(temp)}\n",
        "    return mode\n",
        "\n",
        "lst=[]\n",
        "n=int(input(\"Enter the size of list \"))\n",
        "print(\"Enter %d elements \"%n)\n",
        "for i in range(0,n):5\n",
        "    x=int(input())\n",
        "    lst.append(x)\n",
        "print(\"Given list is \",lst)\n",
        "print(\"Mean of list is \",list_mean(lst))\n",
        "print(\"Median of list is \",list_median(lst))\n",
        "print(\"Mode of list is \",list_mode(lst))\n"
      ],
      "execution_count": null,
      "outputs": [
        {
          "output_type": "stream",
          "text": [
            "Enter the size of list 7\n",
            "Enter 7 elements \n",
            "1\n",
            "2\n",
            "2\n",
            "3\n",
            "4\n",
            "5\n",
            "4\n",
            "Given list is  [1, 2, 2, 3, 4, 5, 4]\n",
            "Mean of list is  3.0\n",
            "Median of list is  3\n",
            "Mode of list is  {2, 4}\n"
          ],
          "name": "stdout"
        }
      ]
    },
    {
      "cell_type": "markdown",
      "metadata": {
        "id": "ITXIoXfnSGnK"
      },
      "source": [
        "Exercise - 9 Functions - Continued\n",
        "\n",
        "a) Write a function nearly equal to test whether two strings are nearly equal. Two strings a and bare \n",
        "nearly equal when a can be generated by a single mutation on b."
      ]
    },
    {
      "cell_type": "code",
      "metadata": {
        "colab": {
          "base_uri": "https://localhost:8080/",
          "height": 385
        },
        "id": "p-qLMLO1SSVM",
        "outputId": "8715b8db-b77e-4101-84ce-653127283134"
      },
      "source": [
        " \n",
        "def nearly_eq(str1,str2):\n",
        "    count=0\n",
        "    i=j=0\n",
        "    while (i<len(str1) and j<len(str2)):\n",
        "        if(str1[i]!=str2[j]):\n",
        "          count+=1\n",
        "          if(len(str1)>len(str2)):\n",
        "             i+=1\n",
        "          elif(len(str1)==len(str2)):\n",
        "             pass\n",
        "          else:\n",
        "            i-=1\n",
        "        if (count>1):\n",
        "          return False\n",
        "        i+=1\n",
        "        j+=1\n",
        "        if(count<2):\n",
        "           return True\n",
        "S1=input (\"Enter string1\")\n",
        "S2=input (\"Enter string2\")\n",
        "if(nearly_eq(S1,S2)):\n",
        "   print (\"Strings are nearly equal\")\n",
        "else:\n",
        "   print (\"Strings are not nearly equal\")"
      ],
      "execution_count": null,
      "outputs": [
        {
          "output_type": "stream",
          "text": [
            "Enter string 1 uday kiran\n",
            "Enter string 2 uday\n"
          ],
          "name": "stdout"
        },
        {
          "output_type": "error",
          "ename": "KeyboardInterrupt",
          "evalue": "ignored",
          "traceback": [
            "\u001b[0;31m---------------------------------------------------------------------------\u001b[0m",
            "\u001b[0;31mKeyboardInterrupt\u001b[0m                         Traceback (most recent call last)",
            "\u001b[0;32m<ipython-input-1-ab523bf4759c>\u001b[0m in \u001b[0;36m<module>\u001b[0;34m()\u001b[0m\n\u001b[1;32m     21\u001b[0m \u001b[0ms2\u001b[0m\u001b[0;34m=\u001b[0m\u001b[0minput\u001b[0m\u001b[0;34m(\u001b[0m\u001b[0;34m\"Enter string 2 \"\u001b[0m\u001b[0;34m)\u001b[0m\u001b[0;34m\u001b[0m\u001b[0;34m\u001b[0m\u001b[0m\n\u001b[1;32m     22\u001b[0m \u001b[0;34m\u001b[0m\u001b[0m\n\u001b[0;32m---> 23\u001b[0;31m \u001b[0;32mif\u001b[0m\u001b[0;34m(\u001b[0m\u001b[0mnearly_eq\u001b[0m\u001b[0;34m(\u001b[0m\u001b[0ms1\u001b[0m\u001b[0;34m,\u001b[0m\u001b[0ms2\u001b[0m\u001b[0;34m)\u001b[0m\u001b[0;34m)\u001b[0m\u001b[0;34m:\u001b[0m\u001b[0;34m\u001b[0m\u001b[0;34m\u001b[0m\u001b[0m\n\u001b[0m\u001b[1;32m     24\u001b[0m     \u001b[0mprint\u001b[0m\u001b[0;34m(\u001b[0m\u001b[0;34m\"Given strings are nearly equal \"\u001b[0m\u001b[0;34m)\u001b[0m\u001b[0;34m\u001b[0m\u001b[0;34m\u001b[0m\u001b[0m\n\u001b[1;32m     25\u001b[0m \u001b[0;32melse\u001b[0m\u001b[0;34m:\u001b[0m\u001b[0;34m\u001b[0m\u001b[0;34m\u001b[0m\u001b[0m\n",
            "\u001b[0;32m<ipython-input-1-ab523bf4759c>\u001b[0m in \u001b[0;36mnearly_eq\u001b[0;34m(str1, str2)\u001b[0m\n\u001b[1;32m      2\u001b[0m     \u001b[0mcount\u001b[0m\u001b[0;34m=\u001b[0m\u001b[0;36m0\u001b[0m\u001b[0;34m\u001b[0m\u001b[0;34m\u001b[0m\u001b[0m\n\u001b[1;32m      3\u001b[0m     \u001b[0mi\u001b[0m\u001b[0;34m=\u001b[0m\u001b[0mj\u001b[0m\u001b[0;34m=\u001b[0m\u001b[0;36m0\u001b[0m\u001b[0;34m\u001b[0m\u001b[0;34m\u001b[0m\u001b[0m\n\u001b[0;32m----> 4\u001b[0;31m     \u001b[0;32mwhile\u001b[0m\u001b[0;34m(\u001b[0m\u001b[0mi\u001b[0m\u001b[0;34m<\u001b[0m\u001b[0mlen\u001b[0m\u001b[0;34m(\u001b[0m\u001b[0mstr1\u001b[0m\u001b[0;34m)\u001b[0m \u001b[0;32mand\u001b[0m \u001b[0mj\u001b[0m\u001b[0;34m<\u001b[0m\u001b[0mlen\u001b[0m\u001b[0;34m(\u001b[0m\u001b[0mstr2\u001b[0m\u001b[0;34m)\u001b[0m\u001b[0;34m)\u001b[0m\u001b[0;34m:\u001b[0m\u001b[0;34m\u001b[0m\u001b[0;34m\u001b[0m\u001b[0m\n\u001b[0m\u001b[1;32m      5\u001b[0m         \u001b[0;32mif\u001b[0m\u001b[0;34m(\u001b[0m\u001b[0mstr1\u001b[0m\u001b[0;34m[\u001b[0m\u001b[0mi\u001b[0m\u001b[0;34m]\u001b[0m\u001b[0;34m!=\u001b[0m\u001b[0mstr2\u001b[0m\u001b[0;34m[\u001b[0m\u001b[0mj\u001b[0m\u001b[0;34m]\u001b[0m\u001b[0;34m)\u001b[0m\u001b[0;34m:\u001b[0m\u001b[0;34m\u001b[0m\u001b[0;34m\u001b[0m\u001b[0m\n\u001b[1;32m      6\u001b[0m             \u001b[0mcount\u001b[0m\u001b[0;34m+=\u001b[0m\u001b[0;36m1\u001b[0m\u001b[0;34m\u001b[0m\u001b[0;34m\u001b[0m\u001b[0m\n",
            "\u001b[0;31mKeyboardInterrupt\u001b[0m: "
          ]
        }
      ]
    },
    {
      "cell_type": "markdown",
      "metadata": {
        "id": "HEwITwRGdpkY"
      },
      "source": [
        "b) Write a function dup to find all duplicates in the list"
      ]
    },
    {
      "cell_type": "code",
      "metadata": {
        "colab": {
          "base_uri": "https://localhost:8080/"
        },
        "id": "bVW82rokdq4f",
        "outputId": "9c7bede3-887f-40dc-cd6f-a796729ff28d"
      },
      "source": [
        "def dups(num_list):\n",
        "    temp=[]\n",
        "    for i in num_list:\n",
        "        cnt=num_list.count(i)\n",
        "        if(cnt>1 and (i not in temp)):\n",
        "            temp.append(i)\n",
        "    print(\"Duplicate elements are : \",temp)\n",
        "lst=[]\n",
        "n=int(input(\"Enter the size of list \"))\n",
        "print(\"Enter the %d elements \"%n)\n",
        "for i in range (0,n):\n",
        "    x=int(input())\n",
        "    lst.append(x)\n",
        "print(\"Given list is : \",lst)\n",
        "dups(lst)\n"
      ],
      "execution_count": null,
      "outputs": [
        {
          "output_type": "stream",
          "text": [
            "Enter the size of list 5\n",
            "Enter the 5 elements \n",
            "1\n",
            "2\n",
            "1\n",
            "2\n",
            "4\n",
            "Given list is :  [1, 2, 1, 2, 4]\n",
            "Duplicate elements are :  [1, 2]\n"
          ],
          "name": "stdout"
        }
      ]
    },
    {
      "cell_type": "markdown",
      "metadata": {
        "id": "nd-3QjA3d2ba"
      },
      "source": [
        "c) Write a function unique to find all the unique elements of a list.\n"
      ]
    },
    {
      "cell_type": "code",
      "metadata": {
        "colab": {
          "base_uri": "https://localhost:8080/"
        },
        "id": "3h1N40fNeBJx",
        "outputId": "56cad1a7-052a-4bdf-dd43-df02b0a49ec3"
      },
      "source": [
        "def uniq_list(num_list):\n",
        "    temp=[]\n",
        "    for i in num_list:\n",
        "        cnt=num_list.count(i)\n",
        "        if(cnt==1):\n",
        "            temp.append(i)\n",
        "    print(\"unique elements are : \",temp)\n",
        "lst=[]\n",
        "n=int(input(\"Enter the size of list \"))\n",
        "print(\"Enter the %d elements \"%n)\n",
        "for i in range (0,n):\n",
        "    x=int(input())\n",
        "    lst.append(x)\n",
        "print(\"Given list is : \",lst)\n",
        "uniq_list(lst)\n"
      ],
      "execution_count": null,
      "outputs": [
        {
          "output_type": "stream",
          "text": [
            "Enter the size of list 7\n",
            "Enter the 7 elements \n",
            "1\n",
            "1\n",
            "2\n",
            "3\n",
            "2\n",
            "4\n",
            "5\n",
            "Given list is :  [1, 1, 2, 3, 2, 4, 5]\n",
            "unique elements are :  [3, 4, 5]\n"
          ],
          "name": "stdout"
        }
      ]
    },
    {
      "cell_type": "markdown",
      "metadata": {
        "id": "uuukYySWeNSq"
      },
      "source": [
        "Exercise - 10 - Functions - Problem Solving\n",
        "\n",
        "a) Write a function cumulative product to compute cumulative product of a list of numbers.\n"
      ]
    },
    {
      "cell_type": "code",
      "metadata": {
        "colab": {
          "base_uri": "https://localhost:8080/"
        },
        "id": "n6V92mNweOOZ",
        "outputId": "38cae9ab-6738-4f93-861f-1d5cd6e82a84"
      },
      "source": [
        "def cum_prod(num_list):\n",
        "    prod=1\n",
        "    temp=[]\n",
        "    for i in num_list:\n",
        "        prod*=i\n",
        "        temp.append(prod)\n",
        "    return temp\n",
        "lst=[]\n",
        "n=int(input(\"Enter the size of list \"))\n",
        "print(\"Enter the %d elements \"%n)\n",
        "for i in range (0,n):\n",
        "    x=int(input())\n",
        "    lst.append(x)\n",
        "print(\"Given list is : \",lst)\n",
        "print(\"cumulative product list is : \",cum_prod(lst))\n"
      ],
      "execution_count": null,
      "outputs": [
        {
          "output_type": "stream",
          "text": [
            "Enter the size of list 5\n",
            "Enter the 5 elements \n",
            "1\n",
            "2\n",
            "3\n",
            "4\n",
            "5\n",
            "Given list is :  [1, 2, 3, 4, 5]\n",
            "cumulative product list is :  [1, 2, 6, 24, 120]\n"
          ],
          "name": "stdout"
        }
      ]
    },
    {
      "cell_type": "markdown",
      "metadata": {
        "id": "fXLZ1hygeft9"
      },
      "source": [
        "b) Write a function reverse to reverse a list. Without using the reverse function.\n"
      ]
    },
    {
      "cell_type": "code",
      "metadata": {
        "colab": {
          "base_uri": "https://localhost:8080/"
        },
        "id": "vTpE61xkeknd",
        "outputId": "867465d6-0265-46c3-abad-cedd1e6973d8"
      },
      "source": [
        "# call by value \n",
        "def reverse_list(num_list):\n",
        "    temp=num_list[::-1]\n",
        "    return temp\n",
        "lst=[]\n",
        "n=int(input(\"Enter the size of list \"))\n",
        "print(\"Enter the %d elements \"%n)\n",
        "for i in range (0,n):\n",
        "    x=int(input())\n",
        "    lst.append(x)\n",
        "print(\"Given list before reverse function: \",lst)\n",
        "print(\"Given list in reverse order : \",reverse_list(lst))\n",
        "print(\"Given list after reverse function: \",lst)\n"
      ],
      "execution_count": null,
      "outputs": [
        {
          "output_type": "stream",
          "text": [
            "Enter the size of list 5\n",
            "Enter the 5 elements \n",
            "5 \n",
            "4\n",
            "3\n",
            "2\n",
            "1\n",
            "Given list before reverse function:  [5, 4, 3, 2, 1]\n",
            "Given list in reverse order :  [1, 2, 3, 4, 5]\n",
            "Given list after reverse function:  [5, 4, 3, 2, 1]\n"
          ],
          "name": "stdout"
        }
      ]
    },
    {
      "cell_type": "code",
      "metadata": {
        "colab": {
          "base_uri": "https://localhost:8080/"
        },
        "id": "rmQCaef0e9d5",
        "outputId": "754f1f91-1b76-4387-91e2-41c69d18c2c9"
      },
      "source": [
        "# call by reference \n",
        "def reverse_list(num_list):\n",
        "    i=0\n",
        "    j=len(num_list)-1\n",
        "    while(i<=j):\n",
        "        temp=num_list[i]\n",
        "        num_list[i]=num_list[j]\n",
        "        num_list[j]=temp\n",
        "        j-=1\n",
        "        i+=1\n",
        "    return num_list\n",
        "lst=[]\n",
        "n=int(input(\"Enter the size of list \"))\n",
        "print(\"Enter the %d elements \"%n)\n",
        "for i in range (0,n):\n",
        "    x=int(input())\n",
        "    lst.append(x)\n",
        "print(\"Given list before reverse function: \",lst)\n",
        "print(\"Given list in reverse order : \",reverse_list(lst))\n",
        "print(\"Given list after reverse function: \",lst)\n"
      ],
      "execution_count": null,
      "outputs": [
        {
          "output_type": "stream",
          "text": [
            "Enter the size of list 5\n",
            "Enter the 5 elements \n",
            "10\n",
            "30\n",
            "20\n",
            "70\n",
            "40\n",
            "Given list before reverse function:  [10, 30, 20, 70, 40]\n",
            "Given list in reverse order :  [40, 70, 20, 30, 10]\n",
            "Given list after reverse function:  [40, 70, 20, 30, 10]\n"
          ],
          "name": "stdout"
        }
      ]
    },
    {
      "cell_type": "markdown",
      "metadata": {
        "id": "q211Ok1xfZhg"
      },
      "source": [
        "c) Write function to compute gcd, lcm of two numbers. Each function shouldn’t exceed one line"
      ]
    },
    {
      "cell_type": "code",
      "metadata": {
        "colab": {
          "base_uri": "https://localhost:8080/"
        },
        "id": "aKZuTLfefam4",
        "outputId": "591bdda5-c10e-4d39-a95e-d444d7087311"
      },
      "source": [
        "gcd=lambda a,b: a if b==0 else gcd(b,a%b)\n",
        "lcm=lambda a,b:(a*b)//gcd(a,b)\n",
        "x=int(input(\"Enter one integer\"))\n",
        "y=int(input(\"Enter second integer \"))\n",
        "big=x if (x>y) else y\n",
        "small=x if(x<y) else y\n",
        "print(\"GCD of %d,%d is \"%(x,y),gcd(big,small))\n",
        "print(\"LCM of %d,%d is \"%(x,y),lcm(big,small))"
      ],
      "execution_count": null,
      "outputs": [
        {
          "output_type": "stream",
          "text": [
            "Enter one integer200\n",
            "Enter second integer 15\n",
            "GCD of 200,15 is  5\n",
            "LCM of 200,15 is  600\n"
          ],
          "name": "stdout"
        }
      ]
    },
    {
      "cell_type": "markdown",
      "metadata": {
        "id": "lNnpbVvCe67E"
      },
      "source": [
        "Exercise 11 - Multi-D Lists\n",
        "\n",
        "a) Write a program that defines a matrix and prints"
      ]
    },
    {
      "cell_type": "code",
      "metadata": {
        "colab": {
          "base_uri": "https://localhost:8080/"
        },
        "id": "j-9t_31Je8vb",
        "outputId": "825af7b3-f002-4685-fc7d-99f68b0925ec"
      },
      "source": [
        "matA=[[]]\n",
        "\n",
        "rows=int(input(\"Enter the row size \"))\n",
        "cols=int(input(\"Enter the column size \"))\n",
        "\n",
        "matA=[[int(input(\"Enter the A[%d,%d] value \"%(i,j)))for j in range(cols)]for i in range (rows)]\n",
        "\n",
        "print(\"Matrix is....\")\n",
        "\n",
        "for i in range(rows):\n",
        "    for j in range (cols):\n",
        "        print(matA[i][j],end='\\t')\n",
        "    print()\n"
      ],
      "execution_count": null,
      "outputs": [
        {
          "output_type": "stream",
          "text": [
            "Enter the row size 2\n",
            "Enter the column size 2\n",
            "Enter the A[0,0] value 1\n",
            "Enter the A[0,1] value 2\n",
            "Enter the A[1,0] value 3\n",
            "Enter the A[1,1] value 4\n",
            "Matrix is....\n",
            "1\t2\t\n",
            "3\t4\t\n"
          ],
          "name": "stdout"
        }
      ]
    },
    {
      "cell_type": "markdown",
      "metadata": {
        "id": "ZeDYdazNfKwE"
      },
      "source": [
        "b) Write a program to perform addition of two square matrices\n"
      ]
    },
    {
      "cell_type": "code",
      "metadata": {
        "colab": {
          "base_uri": "https://localhost:8080/"
        },
        "id": "QyCZfM9xfRts",
        "outputId": "6783186e-68ad-4ba8-aee5-6f06ec6c9bcf"
      },
      "source": [
        "def mat_read(rows,cols):\n",
        "    mat=[[int(input(\"Enter the mat[%d,%d] value \"%(i,j)))for j in range(cols)]for i in range (rows)]\n",
        "    return mat\n",
        "def print_mat(rows,cols,mat):\n",
        "    for i in range(rows):\n",
        "        for j in range (cols):\n",
        "            print(mat[i][j],end='\\t')\n",
        "        print()\n",
        "    \n",
        "matA=[[]]\n",
        "matB=[[]]\n",
        "mat_sum=[[]]\n",
        "\n",
        "\n",
        "rows=int(input(\"Enter the row size \"))\n",
        "cols=int(input(\"Enter the column size \"))\n",
        "\n",
        "if(rows==cols):\n",
        "    print(\"For matrix A\")\n",
        "    matA=mat_read(rows,cols)\n",
        "    \n",
        "    print(\"For matrix B\")\n",
        "    matB=mat_read(rows,cols)\n",
        "    \n",
        "    mat_sum=[[matA[i][j]+matB[i][j] for j in range(cols)]for i in range (rows)]\n",
        "\n",
        "    print(\"Matrix A \")\n",
        "    print_mat(rows,cols,matA)\n",
        "    \n",
        "    print(\"Matrix B \")\n",
        "    print_mat(rows,cols,matB)\n",
        "    \n",
        "    print(\"Matrix A+B = \")\n",
        "    print_mat(rows,cols,mat_sum)\n",
        "else:\n",
        "    print(\"Matrix Addition is not possible\")\n",
        "    "
      ],
      "execution_count": null,
      "outputs": [
        {
          "output_type": "stream",
          "text": [
            "Enter the row size 2\n",
            "Enter the column size 2\n",
            "For matrix A\n",
            "Enter the mat[0,0] value 1\n",
            "Enter the mat[0,1] value 2\n",
            "Enter the mat[1,0] value 3\n",
            "Enter the mat[1,1] value 4\n",
            "For matrix B\n",
            "Enter the mat[0,0] value 4\n",
            "Enter the mat[0,1] value 3\n",
            "Enter the mat[1,0] value 2\n",
            "Enter the mat[1,1] value 1\n",
            "Matrix A \n",
            "1\t2\t\n",
            "3\t4\t\n",
            "Matrix B \n",
            "4\t3\t\n",
            "2\t1\t\n",
            "Matrix A+B = \n",
            "5\t5\t\n",
            "5\t5\t\n"
          ],
          "name": "stdout"
        }
      ]
    },
    {
      "cell_type": "markdown",
      "metadata": {
        "id": "1bFs2z4CfWfm"
      },
      "source": [
        "c) Write a program to perform multiplication of two square matrices\n"
      ]
    },
    {
      "cell_type": "code",
      "metadata": {
        "colab": {
          "base_uri": "https://localhost:8080/"
        },
        "id": "lc8xxS_Efa4g",
        "outputId": "9ec12eba-037b-4f74-8067-22e562fddc19"
      },
      "source": [
        "def mat_read(rows,cols):\n",
        "    mat=[[int(input(\"Enter the mat[%d,%d] value \"%(i,j)))for j in range(cols)]for i in range (rows)]\n",
        "    return mat\n",
        "def print_mat(rows,cols,mat):\n",
        "    for i in range(rows):\n",
        "        for j in range (cols):\n",
        "            print(mat[i][j],end='\\t')\n",
        "        print()\n",
        "    \n",
        "matA=[[]]\n",
        "matB=[[]]\n",
        "mat_mul=[[]]\n",
        "\n",
        "\n",
        "rows=int(input(\"Enter the row size \"))\n",
        "cols=int(input(\"Enter the column size \"))\n",
        "\n",
        "if(rows==cols):\n",
        "    print(\"For matrix A\")\n",
        "    matA=mat_read(rows,cols)\n",
        "    \n",
        "    print(\"For matrix B\")\n",
        "    matB=mat_read(rows,cols)\n",
        "    \n",
        "    mat_mul=[[0 for j in range(cols)]for i in range (rows)]\n",
        "\n",
        "    for i in range (rows):\n",
        "        for j in range(cols):\n",
        "            for k in range(cols):\n",
        "                mat_mul[i][j]+=matA[i][k]*matB[k][j]\n",
        "\n",
        "    print(\"Matrix A \")\n",
        "    print_mat(rows,cols,matA)\n",
        "    \n",
        "    print(\"Matrix B \")\n",
        "    print_mat(rows,cols,matB)\n",
        "    \n",
        "    print(\"Matrix A*B = \")\n",
        "    print_mat(rows,cols,mat_mul)\n",
        "else:\n",
        "    print(\"Matrix multiplication is not possible\")"
      ],
      "execution_count": null,
      "outputs": [
        {
          "output_type": "stream",
          "text": [
            "Enter the row size 2\n",
            "Enter the column size 2\n",
            "For matrix A\n",
            "Enter the mat[0,0] value 1\n",
            "Enter the mat[0,1] value 2\n",
            "Enter the mat[1,0] value 3\n",
            "Enter the mat[1,1] value 4\n",
            "For matrix B\n",
            "Enter the mat[0,0] value 1\n",
            "Enter the mat[0,1] value 2\n",
            "Enter the mat[1,0] value 3\n",
            "Enter the mat[1,1] value 4\n",
            "Matrix A \n",
            "1\t2\t\n",
            "3\t4\t\n",
            "Matrix B \n",
            "1\t2\t\n",
            "3\t4\t\n",
            "Matrix A*B = \n",
            "7\t10\t\n",
            "15\t22\t\n"
          ],
          "name": "stdout"
        }
      ]
    }
  ]
}