{
  "nbformat": 4,
  "nbformat_minor": 0,
  "metadata": {
    "colab": {
      "name": "A.Uday Kiran Yadav - 19A21A0570.ipynb",
      "provenance": [],
      "collapsed_sections": [],
      "include_colab_link": true
    },
    "kernelspec": {
      "display_name": "Python 3",
      "name": "python3"
    },
    "language_info": {
      "name": "python"
    }
  },
  "cells": [
    {
      "cell_type": "markdown",
      "metadata": {
        "id": "view-in-github",
        "colab_type": "text"
      },
      "source": [
        "<a href=\"https://colab.research.google.com/github/Ukprogramer/AVULA-UDAY-KIRAN-YADAV-19A21A0570/blob/main/A_Uday_Kiran_Yadav_19A21A0570.ipynb\" target=\"_parent\"><img src=\"https://colab.research.google.com/assets/colab-badge.svg\" alt=\"Open In Colab\"/></a>"
      ]
    },
    {
      "cell_type": "markdown",
      "metadata": {
        "id": "EnDz7caOlgB1"
      },
      "source": [
        "## Exercise 1 - Basics\n",
        "\n",
        " a) Running instructions in Interactive interpreter and a Python Script"
      ]
    },
    {
      "cell_type": "code",
      "metadata": {
        "colab": {
          "base_uri": "https://localhost:8080/"
        },
        "id": "cuiD1C_cllGU",
        "outputId": "27fd6eb9-b24a-488d-fafa-867ad5cd9a96"
      },
      "source": [
        "print(\"Welcome to python lab\")"
      ],
      "execution_count": null,
      "outputs": [
        {
          "output_type": "stream",
          "text": [
            "Welcome to python lab\n"
          ],
          "name": "stdout"
        }
      ]
    },
    {
      "cell_type": "code",
      "metadata": {
        "id": "vSPYgxeyl8Nm"
      },
      "source": [
        "a,b=10,20"
      ],
      "execution_count": null,
      "outputs": []
    },
    {
      "cell_type": "code",
      "metadata": {
        "colab": {
          "base_uri": "https://localhost:8080/"
        },
        "id": "MI7TnNJ3mPd7",
        "outputId": "b43f1f6a-939f-440f-8f4e-f0e4f8cc995b"
      },
      "source": [
        "print(\"a=%d,b=%d\"%(a,b))"
      ],
      "execution_count": null,
      "outputs": [
        {
          "output_type": "stream",
          "text": [
            "a=10,b=20\n"
          ],
          "name": "stdout"
        }
      ]
    },
    {
      "cell_type": "code",
      "metadata": {
        "id": "bUV553TTmm8P"
      },
      "source": [
        "sum=a+b"
      ],
      "execution_count": null,
      "outputs": []
    },
    {
      "cell_type": "code",
      "metadata": {
        "colab": {
          "base_uri": "https://localhost:8080/"
        },
        "id": "T8MiMd3gmwYQ",
        "outputId": "89c5d545-22fb-4f04-9093-c3010da61068"
      },
      "source": [
        "print(\"Sum of %d , %d is :%d \"%(a,b,sum))"
      ],
      "execution_count": null,
      "outputs": [
        {
          "output_type": "stream",
          "text": [
            "Sum of 10 , 20 is :30 \n"
          ],
          "name": "stdout"
        }
      ]
    },
    {
      "cell_type": "code",
      "metadata": {
        "colab": {
          "base_uri": "https://localhost:8080/"
        },
        "id": "mz49F9uqnCqL",
        "outputId": "5d6023ab-9ac8-408b-f884-581c4f4da410"
      },
      "source": [
        "print(\"Before swaping a=%d,b=%d \"%(a,b))"
      ],
      "execution_count": null,
      "outputs": [
        {
          "output_type": "stream",
          "text": [
            "Before swaping a=10,b=20 \n"
          ],
          "name": "stdout"
        }
      ]
    },
    {
      "cell_type": "code",
      "metadata": {
        "id": "-9d2FXfBoIru"
      },
      "source": [
        "a,b=b,a"
      ],
      "execution_count": null,
      "outputs": []
    },
    {
      "cell_type": "code",
      "metadata": {
        "colab": {
          "base_uri": "https://localhost:8080/"
        },
        "id": "CrhS-mRPqDLt",
        "outputId": "22f8416f-0ca5-4145-8f9c-c10c9c310a37"
      },
      "source": [
        "print(\"After swaping a=%d,b=%d \"%(a,b))"
      ],
      "execution_count": null,
      "outputs": [
        {
          "output_type": "stream",
          "text": [
            "After swaping a=20,b=10 \n"
          ],
          "name": "stdout"
        }
      ]
    },
    {
      "cell_type": "code",
      "metadata": {
        "colab": {
          "base_uri": "https://localhost:8080/"
        },
        "id": "Rx8O0JTBqH1m",
        "outputId": "869b4184-9efe-428c-b9e1-856e217f1f8b"
      },
      "source": [
        "type(a)"
      ],
      "execution_count": null,
      "outputs": [
        {
          "output_type": "execute_result",
          "data": {
            "text/plain": [
              "int"
            ]
          },
          "metadata": {
            "tags": []
          },
          "execution_count": 12
        }
      ]
    },
    {
      "cell_type": "markdown",
      "metadata": {
        "id": "J8CQ3k5QqmyJ"
      },
      "source": [
        "b) Write a program to purposefully raise Indentation Error and Correct it"
      ]
    },
    {
      "cell_type": "code",
      "metadata": {
        "colab": {
          "base_uri": "https://localhost:8080/",
          "height": 130
        },
        "id": "LIo2xhQtq2AO",
        "outputId": "19754745-5d33-49e1-d33c-d439cd09c410"
      },
      "source": [
        "#program with indentation error \n",
        " \n",
        "a=int(input(\"Enter a value\"))\n",
        "b=int(input(\"Enter b value\"))\n",
        "if a>b:\n",
        "  print(\"if block\")\n",
        "   print(\"%d is big\"%a)\n",
        "else :\n",
        "  print(\"else block \")\n",
        "   print(\"%d is big \"%b)"
      ],
      "execution_count": null,
      "outputs": [
        {
          "output_type": "error",
          "ename": "IndentationError",
          "evalue": "ignored",
          "traceback": [
            "\u001b[0;36m  File \u001b[0;32m\"<ipython-input-13-c27dc3f3a513>\"\u001b[0;36m, line \u001b[0;32m7\u001b[0m\n\u001b[0;31m    print(\"%d is big\"%a)\u001b[0m\n\u001b[0m    ^\u001b[0m\n\u001b[0;31mIndentationError\u001b[0m\u001b[0;31m:\u001b[0m unexpected indent\n"
          ]
        }
      ]
    },
    {
      "cell_type": "code",
      "metadata": {
        "colab": {
          "base_uri": "https://localhost:8080/"
        },
        "id": "7kIL7CDbqL1S",
        "outputId": "2f0c3a5d-f4d6-42e1-cf03-27543a0659f0"
      },
      "source": [
        "#program with indentation error corrected \n",
        " \n",
        "a=int(input(\"Enter a value\"))\n",
        "b=int(input(\"Enter b value\"))\n",
        "if a>b:\n",
        "  print(\"if block\")\n",
        "  print(\"%d is big\"%a)\n",
        "else :\n",
        "  print(\"else block \")\n",
        "  print(\"%d is big \"%b)"
      ],
      "execution_count": null,
      "outputs": [
        {
          "output_type": "stream",
          "text": [
            "Enter a value10 \n",
            "Enter b value20\n",
            "else block \n",
            "20 is big \n"
          ],
          "name": "stdout"
        }
      ]
    },
    {
      "cell_type": "markdown",
      "metadata": {
        "id": "jcDkv4FctXI0"
      },
      "source": [
        "## Exercise 2 - Operations\n",
        "\n",
        "a) Write a program to compute distance between two points taking input from the user(Pythagorean \n",
        "Theorem)"
      ]
    },
    {
      "cell_type": "code",
      "metadata": {
        "colab": {
          "base_uri": "https://localhost:8080/"
        },
        "id": "1veEv9tStk8p",
        "outputId": "9c2a1b01-5935-40ba-c916-1acf3d773f05"
      },
      "source": [
        "import math\n",
        "x1=int(input (\"Enter x1 value : \"))\n",
        "x2=int(input (\"Enter x2 value : \"))\n",
        "y1=int(input (\"Enter y1 value : \"))\n",
        "y2=int(input (\"Enter y2 value : \"))\n",
        " \n",
        "d=math.sqrt(((x2-x1)**2)+((y2-y1)**2))\n",
        " \n",
        "print(\"Distances between two points is(%d,%d) and (%d,%d) is %f\"%(x1,x2,y1,y2,d))"
      ],
      "execution_count": null,
      "outputs": [
        {
          "output_type": "stream",
          "name": "stdout",
          "text": [
            "Enter x1 value : 10\n",
            "Enter x2 value : 20\n",
            "Enter y1 value : 5\n",
            "Enter y2 value : 15\n",
            "Distances between two points is(10,20) and (5,15) is 14.142136\n"
          ]
        }
      ]
    },
    {
      "cell_type": "markdown",
      "metadata": {
        "id": "_bxQfK63uKt3"
      },
      "source": [
        "b) Write a program add.py that takes 2 numbers as command line arguments and prints its sum.\n"
      ]
    },
    {
      "cell_type": "code",
      "metadata": {
        "colab": {
          "base_uri": "https://localhost:8080/",
          "height": 232
        },
        "id": "LpCIdTNEuSxW",
        "outputId": "7b1ed23c-95df-4021-db5d-c8a07dfe20a7"
      },
      "source": [
        "import sys\n",
        "a=int(sys.argv[1])\n",
        "b=int(sys.argv[2])\n",
        "sum=a+b\n",
        "print(\"%d + %d = %d \"%(a,b,sum))"
      ],
      "execution_count": null,
      "outputs": [
        {
          "output_type": "error",
          "ename": "ValueError",
          "evalue": "ignored",
          "traceback": [
            "\u001b[0;31m---------------------------------------------------------------------------\u001b[0m",
            "\u001b[0;31mValueError\u001b[0m                                Traceback (most recent call last)",
            "\u001b[0;32m<ipython-input-18-5ceec3826418>\u001b[0m in \u001b[0;36m<module>\u001b[0;34m()\u001b[0m\n\u001b[1;32m      1\u001b[0m \u001b[0;32mimport\u001b[0m \u001b[0msys\u001b[0m\u001b[0;34m\u001b[0m\u001b[0;34m\u001b[0m\u001b[0m\n\u001b[0;32m----> 2\u001b[0;31m \u001b[0ma\u001b[0m\u001b[0;34m=\u001b[0m\u001b[0mint\u001b[0m\u001b[0;34m(\u001b[0m\u001b[0msys\u001b[0m\u001b[0;34m.\u001b[0m\u001b[0margv\u001b[0m\u001b[0;34m[\u001b[0m\u001b[0;36m1\u001b[0m\u001b[0;34m]\u001b[0m\u001b[0;34m)\u001b[0m\u001b[0;34m\u001b[0m\u001b[0;34m\u001b[0m\u001b[0m\n\u001b[0m\u001b[1;32m      3\u001b[0m \u001b[0mb\u001b[0m\u001b[0;34m=\u001b[0m\u001b[0mint\u001b[0m\u001b[0;34m(\u001b[0m\u001b[0msys\u001b[0m\u001b[0;34m.\u001b[0m\u001b[0margv\u001b[0m\u001b[0;34m[\u001b[0m\u001b[0;36m2\u001b[0m\u001b[0;34m]\u001b[0m\u001b[0;34m)\u001b[0m\u001b[0;34m\u001b[0m\u001b[0;34m\u001b[0m\u001b[0m\n\u001b[1;32m      4\u001b[0m \u001b[0msum\u001b[0m\u001b[0;34m=\u001b[0m\u001b[0ma\u001b[0m\u001b[0;34m+\u001b[0m\u001b[0mb\u001b[0m\u001b[0;34m\u001b[0m\u001b[0;34m\u001b[0m\u001b[0m\n\u001b[1;32m      5\u001b[0m \u001b[0mprint\u001b[0m\u001b[0;34m(\u001b[0m\u001b[0;34m\"%d + %d = %d \"\u001b[0m\u001b[0;34m%\u001b[0m\u001b[0;34m(\u001b[0m\u001b[0ma\u001b[0m\u001b[0;34m,\u001b[0m\u001b[0mb\u001b[0m\u001b[0;34m,\u001b[0m\u001b[0msum\u001b[0m\u001b[0;34m)\u001b[0m\u001b[0;34m)\u001b[0m\u001b[0;34m\u001b[0m\u001b[0;34m\u001b[0m\u001b[0m\n",
            "\u001b[0;31mValueError\u001b[0m: invalid literal for int() with base 10: '-f'"
          ]
        }
      ]
    },
    {
      "cell_type": "markdown",
      "metadata": {
        "id": "1uICnSF4vrBo"
      },
      "source": [
        "## Exercise - 3 Control Flow\n",
        "\n",
        "a) Write a Program for checking whether the given number is an even number or not"
      ]
    },
    {
      "cell_type": "code",
      "metadata": {
        "colab": {
          "base_uri": "https://localhost:8080/"
        },
        "id": "whvnltitvy7-",
        "outputId": "b4e38a90-ca5f-407e-db97-33c2f083069c"
      },
      "source": [
        "n=int(input(\"Enter a number \"))\n",
        "if n%2==0 :\n",
        "  print(\"%d is even \"%n)\n",
        "else : \n",
        "  print(\"%d is odd \"%n)"
      ],
      "execution_count": null,
      "outputs": [
        {
          "output_type": "stream",
          "text": [
            "Enter a number 20\n",
            "20 is even \n"
          ],
          "name": "stdout"
        }
      ]
    },
    {
      "cell_type": "markdown",
      "metadata": {
        "id": "H08py0elwLBh"
      },
      "source": [
        "b) Using a for loop, write a program that prints out the decimal equivalents of 1/2, 1/3, 1/4, . . .1/10\n"
      ]
    },
    {
      "cell_type": "code",
      "metadata": {
        "colab": {
          "base_uri": "https://localhost:8080/"
        },
        "id": "acTOf7xLwSVh",
        "outputId": "7679b025-c71d-4000-d02f-0e554613f168"
      },
      "source": [
        "n=int(input(\"Enter a number \"))\n",
        "j=1\n",
        "for i in range(1,n+1):\n",
        "  print(\"Decimal equalent of %d/%d is %f \"%(j,i,j/i))\n",
        "  i=i+1"
      ],
      "execution_count": null,
      "outputs": [
        {
          "output_type": "stream",
          "text": [
            "Enter a number 10\n",
            "Decimal equalent of 1/1 is 1.000000 \n",
            "Decimal equalent of 1/2 is 0.500000 \n",
            "Decimal equalent of 1/3 is 0.333333 \n",
            "Decimal equalent of 1/4 is 0.250000 \n",
            "Decimal equalent of 1/5 is 0.200000 \n",
            "Decimal equalent of 1/6 is 0.166667 \n",
            "Decimal equalent of 1/7 is 0.142857 \n",
            "Decimal equalent of 1/8 is 0.125000 \n",
            "Decimal equalent of 1/9 is 0.111111 \n",
            "Decimal equalent of 1/10 is 0.100000 \n"
          ],
          "name": "stdout"
        }
      ]
    },
    {
      "cell_type": "markdown",
      "metadata": {
        "id": "P4KYgJGNxe4_"
      },
      "source": [
        "c) Write a program using a for loop that loops over a sequence. What is sequence"
      ]
    },
    {
      "cell_type": "code",
      "metadata": {
        "colab": {
          "base_uri": "https://localhost:8080/"
        },
        "id": "ix99aYeBxh3q",
        "outputId": "5b2e8cb3-cfb6-4bc7-f220-c95d4db399ff"
      },
      "source": [
        "#Number sequence \n",
        "num=[10,30,20,40,50]\n",
        "print(\"Number sequence \")\n",
        "for i in num:\n",
        "  print(i)\n",
        "\n",
        "#string sequence \n",
        "day=[\"sun\",\"mon\",\"tue\",\"wed\",\"thr\",\"fri\",\"sat\"]\n",
        "print(\"String sequence \")\n",
        "for i in day:\n",
        "  print(i)\n",
        "\n",
        "#Both sequence \n",
        "arr=[\"Uday\",\"cse\",570,\"scet\"]\n",
        "print(\"Both the sequences \")\n",
        "for i in arr:\n",
        "  print(i)"
      ],
      "execution_count": null,
      "outputs": [
        {
          "output_type": "stream",
          "text": [
            "Number sequence \n",
            "10\n",
            "30\n",
            "20\n",
            "40\n",
            "50\n",
            "String sequence \n",
            "sun\n",
            "mon\n",
            "tue\n",
            "wed\n",
            "thr\n",
            "fri\n",
            "sat\n",
            "Both the sequences \n",
            "Uday\n",
            "cse\n",
            "570\n",
            "scet\n"
          ],
          "name": "stdout"
        }
      ]
    },
    {
      "cell_type": "markdown",
      "metadata": {
        "id": "bL5SUWrTzFKq"
      },
      "source": [
        "d) Write a program using a while loop that asks the user for a number, and prints a countdownfrom \n",
        "that number to zero.\n"
      ]
    },
    {
      "cell_type": "code",
      "metadata": {
        "colab": {
          "base_uri": "https://localhost:8080/"
        },
        "id": "cbIrFMbuzW5x",
        "outputId": "586a44b3-068e-472e-95f6-e4d8f0d6523d"
      },
      "source": [
        "n=int(input(\"Enter a number \"))\n",
        "i=n\n",
        "print(\"Number from %d to zero are \"%n)\n",
        "while(i>=0):\n",
        " print(i)\n",
        " i-=1"
      ],
      "execution_count": null,
      "outputs": [
        {
          "output_type": "stream",
          "text": [
            "Enter a number 10\n",
            "Number from 10 to zero are \n",
            "10\n",
            "9\n",
            "8\n",
            "7\n",
            "6\n",
            "5\n",
            "4\n",
            "3\n",
            "2\n",
            "1\n",
            "0\n"
          ],
          "name": "stdout"
        }
      ]
    },
    {
      "cell_type": "markdown",
      "metadata": {
        "id": "PW9A9STt06KD"
      },
      "source": [
        "## Exercise 4 - Control Flow - Continued\n",
        "\n",
        "a) Find the sum of all the primes below two million"
      ]
    },
    {
      "cell_type": "code",
      "metadata": {
        "colab": {
          "base_uri": "https://localhost:8080/"
        },
        "id": "rfpI7KX51Hvm",
        "outputId": "d4fc7ee4-f439-476d-a06a-3eee65d1322b"
      },
      "source": [
        "n=int(input(\"Enter an ending number \"))\n",
        "sum=0\n",
        "count=0\n",
        "for i in range(2,n):\n",
        "  flag=True\n",
        "  for j in range(2,i):\n",
        "    if(i%j)==0:\n",
        "      flag=False\n",
        "      break;\n",
        "  if flag==True:\n",
        "    count+=1\n",
        "    sum+=i\n",
        "print(\"No of prime number below %d is %d \"%(n,count))\n",
        "print(\"sum of prime number below %d is %d \"%(n,sum))"
      ],
      "execution_count": null,
      "outputs": [
        {
          "output_type": "stream",
          "text": [
            "Enter an ending number 200\n",
            "No of prime number below 200 is 46 \n",
            "sum of prime number below 200 is 4227 \n"
          ],
          "name": "stdout"
        }
      ]
    },
    {
      "cell_type": "markdown",
      "metadata": {
        "id": "D5OcfJgf20GO"
      },
      "source": [
        "(b) Each new term in the Fibonacci sequence is \n",
        "generated by adding the previous two terms. Bystarting with 1 and 2, the first 10 terms will be:\n",
        "1, 2, 3, 5, 8, 13, 21, 34, 55, 89, ...\n",
        "\n",
        " By considering the terms in the Fibonacci sequence whose values do not exceed four million,find \n",
        "the sum of the even-valued terms"
      ]
    },
    {
      "cell_type": "code",
      "metadata": {
        "colab": {
          "base_uri": "https://localhost:8080/"
        },
        "id": "D_xuJwLZr-e7",
        "outputId": "2b6c70e1-6082-4c4f-ec86-e96cd1aec900"
      },
      "source": [
        "n=int(input(\"Enter n value \"))\n",
        "a=0\n",
        "b=1\n",
        "c=a+b\n",
        "count=0\n",
        "sum1=0\n",
        "str1=\" \"\n",
        "while(count<n):\n",
        "  str1+=\" \"+str(c)\n",
        "  if(c%2==0):\n",
        "    sum1+=c\n",
        "  a=b\n",
        "  b=c\n",
        "  c=a+b\n",
        "  count+=1\n",
        "print(\"Fibonacci series..\")\n",
        "print(str1)\n",
        "print(\"Sum of even valued terms in fibonacci series is \",sum1)\n"
      ],
      "execution_count": null,
      "outputs": [
        {
          "output_type": "stream",
          "text": [
            "Enter n value 10\n",
            "Fibonacci series..\n",
            "  1 2 3 5 8 13 21 34 55 89\n",
            "Sum of even valued terms in fibonacci series is  44\n"
          ],
          "name": "stdout"
        }
      ]
    },
    {
      "cell_type": "markdown",
      "metadata": {
        "id": "zbvgd5n1sQop"
      },
      "source": [
        "## Exercise - 5 - DS\n",
        "\n",
        "a) Write a program to count the numbers of characters in the string and store them in a dictionary data \n",
        "structure\n"
      ]
    },
    {
      "cell_type": "code",
      "metadata": {
        "colab": {
          "base_uri": "https://localhost:8080/"
        },
        "id": "lraTchi_suVj",
        "outputId": "3c7ac28d-8e95-4c29-e2d1-1239648558c4"
      },
      "source": [
        "dic={}\n",
        "n=int(input(\"Enter the no.of strings to store in dictionary : \"))\n",
        "for i in range (1,n):\n",
        "  str1=input(\"Enter string name: \")\n",
        "  dic[str1]=len(str1)\n",
        "print(\"Dictionary contains : \",dic)"
      ],
      "execution_count": null,
      "outputs": [
        {
          "output_type": "stream",
          "text": [
            "Enter the no.of strings to store in dictionary : 6\n",
            "Enter string name: Uday kiran\n",
            "Enter string name: cse\n",
            "Enter string name: scet\n",
            "Enter string name: narsapur\n",
            "Enter string name: west godavari\n",
            "Dictionary contains :  {'Uday kiran': 10, 'cse': 3, 'scet': 4, 'narsapur': 8, 'west godavari': 13}\n"
          ],
          "name": "stdout"
        }
      ]
    },
    {
      "cell_type": "markdown",
      "metadata": {
        "id": "zPrpikiBuQJ_"
      },
      "source": [
        "b) Write a program to use split and join methods in the string and trace a birthday with a dictionary \n",
        "data structure."
      ]
    },
    {
      "cell_type": "code",
      "metadata": {
        "colab": {
          "base_uri": "https://localhost:8080/"
        },
        "id": "CpyqwSGeuSUV",
        "outputId": "d2e832b2-4acf-4201-d942-64af58bd967c"
      },
      "source": [
        "dob={\"Uday\":\"20-feb-2002\",\"sai\":\"05-july-2003\",\"seetha\":\"04-june-1982\",\"veeranna\":\"08-Aug-1979\"}\n",
        "name=input(\"Enter name of person to get DOB : \")\n",
        "l=name.split()\n",
        "person=\" \"\n",
        "birth=\" \"\n",
        "for i in l :\n",
        "  if i in dob.keys():\n",
        "    person=i\n",
        "if(person==\" \"):\n",
        "  print(\"DOB of Person not found \")\n",
        "else :\n",
        "  print(\" \".join([person,\"Birth day is \",dob[person]]))"
      ],
      "execution_count": null,
      "outputs": [
        {
          "output_type": "stream",
          "text": [
            "Enter name of person to get DOB : sai\n",
            "sai Birth day is  05-july-2003\n"
          ],
          "name": "stdout"
        }
      ]
    },
    {
      "cell_type": "markdown",
      "metadata": {
        "id": "uGTdqex8xgJb"
      },
      "source": [
        "## Exercise - 6 DS - Continued\n",
        "\n",
        "a) Write a program combine lists that combines these lists into a dictionary.\n"
      ]
    },
    {
      "cell_type": "code",
      "metadata": {
        "colab": {
          "base_uri": "https://localhost:8080/"
        },
        "id": "x53keTylxk1t",
        "outputId": "c38d2291-810f-4d21-845c-01c560d1d6c7"
      },
      "source": [
        "sub=[]\n",
        "marks=[]\n",
        "n=int(input(\"Enter the no.of subjects : \"))\n",
        "for i in range(0,n):\n",
        "    s=input(\"Enter sub name: \")\n",
        "    m=int(input(\"Enter marks in the sub: \"))\n",
        "    sub.append(s)\n",
        "    marks.append(m)\n",
        "print(\"Subjects...\",sub)\n",
        "print(\"Marks...\",marks)\n",
        "dic=dict(zip(sub,marks))\n",
        "print(\"Dictionary contains : \",dic)\n"
      ],
      "execution_count": null,
      "outputs": [
        {
          "output_type": "stream",
          "text": [
            "Enter the no.of subjects : 6\n",
            "Enter sub name: DAA\n",
            "Enter marks in the sub: 90\n",
            "Enter sub name: OS\n",
            "Enter marks in the sub: 95\n",
            "Enter sub name: DBMS\n",
            "Enter marks in the sub: 80\n",
            "Enter sub name: P&S\n",
            "Enter marks in the sub: 100\n",
            "Enter sub name: PPL\n",
            "Enter marks in the sub: 90\n",
            "Enter sub name: SE\n",
            "Enter marks in the sub: 85\n",
            "Subjects... ['DAA', 'OS', 'DBMS', 'P&S', 'PPL', 'SE']\n",
            "Marks... [90, 95, 80, 100, 90, 85]\n",
            "Dictionary contains :  {'DAA': 90, 'OS': 95, 'DBMS': 80, 'P&S': 100, 'PPL': 90, 'SE': 85}\n"
          ],
          "name": "stdout"
        }
      ]
    },
    {
      "cell_type": "markdown",
      "metadata": {
        "id": "dk3BFa5v0lEC"
      },
      "source": [
        "b) Write a program to count frequency of characters in a given file. Can you use characterfrequency to \n",
        "tell whether the given file is a Python program file, C program file or a text file?"
      ]
    },
    {
      "cell_type": "code",
      "metadata": {
        "id": "xkYCneTi0neM"
      },
      "source": [
        "file_types=['.py','.c','.txt']\n",
        "fn=input(\"Enter the file name: \")\n",
        "f=open(fn,\"r\")\n",
        "count=dict()\n",
        "for ft in file_types:\n",
        "  if(ft in fn):\n",
        "      if(ft=='.py'):\n",
        "         print(\"Python file \")\n",
        "      elif(ft=='.c'):\n",
        "        print(\"C file \")\n",
        "      else:\n",
        "        print(\"text file \")\n",
        "for line in f:\n",
        "  for ch in line:\n",
        "    if ch in count:\n",
        "      count[ch]+=1\n",
        "    else:\n",
        "      count[ch]=1\n",
        "print(count)\n",
        "f.close"
      ],
      "execution_count": null,
      "outputs": []
    },
    {
      "cell_type": "markdown",
      "metadata": {
        "id": "ECKVg56oQmlC"
      },
      "source": [
        "## Exercise - 7 Files\n",
        "\n",
        "a) Write a program to print each line of a file in reverse order"
      ]
    },
    {
      "cell_type": "code",
      "metadata": {
        "id": "_Cbc7PmkQpKx"
      },
      "source": [
        "\n",
        "fn=input(\"Enter the file name: \")\n",
        "obj=open(fn,\"r\")\n",
        "if obj:\n",
        "    st=obj.read()\n",
        "    print(\"File content is : \\n\",st)\n",
        "obj.close()\n",
        "print()\n",
        "lines = st.split('\\n')\n",
        "for ln in lines:\n",
        "    i=len(ln)-1\n",
        "    while(i>=0):\n",
        "        print(ln[i],end='')\n",
        "        i-=1\n",
        "    print()\n",
        "    \n"
      ],
      "execution_count": null,
      "outputs": []
    },
    {
      "cell_type": "markdown",
      "metadata": {
        "id": "OnKm-8s5QyLE"
      },
      "source": [
        "b) Write a program to compute the number of characters, words and lines in a file."
      ]
    },
    {
      "cell_type": "code",
      "metadata": {
        "id": "fUOfyNBWQ3n9"
      },
      "source": [
        "nl=nc=nw=0\n",
        "fn=input(\"Enter file name: \")\n",
        "obj=open(fn,\"r\")\n",
        "lines=obj.readlines()\n",
        "obj.close()\n",
        "print(\"File contains..\",lines)\n",
        "for ln in lines:\n",
        "    nl+=1\n",
        "    words=ln.split()\n",
        "    nw+=len(words)\n",
        "    nc+=len(ln)\n",
        "print(\"No.of lines: \",nl)\n",
        "print(\"No.of words: \",nw)\n",
        "print(\"No.of characters: \",nc)\n"
      ],
      "execution_count": null,
      "outputs": []
    },
    {
      "cell_type": "markdown",
      "metadata": {
        "id": "xRoz9mJOQ_SB"
      },
      "source": [
        "## Exercise - 8 Functions\n",
        "\n",
        "a) Write a function ball collide that takes two balls as parameters and computes if they arecolliding. \n",
        "Your function should return a Boolean representing whether or not the balls arecolliding.\n",
        "\n",
        "Hint: Represent a ball on a plane as a tuple of (x, y, r), r being the radius\n",
        "If (distance between two balls centers) <= (sum of their radii) then (they are colliding)"
      ]
    },
    {
      "cell_type": "code",
      "metadata": {
        "colab": {
          "base_uri": "https://localhost:8080/"
        },
        "id": "ddPLeEiKRGNL",
        "outputId": "1280c263-6fb8-4dd0-dd49-049cf0302814"
      },
      "source": [
        "import math\n",
        "def ball_collide(b1_tup,b2_tup):\n",
        "    x1,y1,r1=b1_tup\n",
        "    x2,y2,r2=b2_tup\n",
        "    d=math.sqrt((x2-x1)**2+(y2-y1)**2)\n",
        "    if d>=r1+r2:\n",
        "        return True\n",
        "    else:\n",
        "        return False\n",
        "ball1=(2,3,4)\n",
        "ball2=(1,1,3)\n",
        "\n",
        "collision=ball_collide(ball1,ball2)\n",
        "if (collision):\n",
        "    print(\"Balls are collide \")\n",
        "else:\n",
        "    print(\"Balls are not collide \")\n"
      ],
      "execution_count": null,
      "outputs": [
        {
          "output_type": "stream",
          "text": [
            "Balls are not collide \n"
          ],
          "name": "stdout"
        }
      ]
    },
    {
      "cell_type": "markdown",
      "metadata": {
        "id": "NaKMVeS0RP6W"
      },
      "source": [
        "b) Find mean, median, mode for the given set of numbers in a list."
      ]
    },
    {
      "cell_type": "code",
      "metadata": {
        "colab": {
          "base_uri": "https://localhost:8080/"
        },
        "id": "89Ys3j9URcLg",
        "outputId": "9cb4ac8c-dfb6-4661-b5e1-af8b66635d86"
      },
      "source": [
        "def list_mean(num_list):\n",
        "    return sum(num_list)/len(num_list)\n",
        "\n",
        "def list_median(num_list):\n",
        "    num_list.sort()\n",
        "    n=len(num_list)\n",
        "    mid=n//2\n",
        "    if(n%2==1):\n",
        "        return num_list[mid]\n",
        "    else:\n",
        "        return (num_list[mid-1]+num_list[mid+1])/2\n",
        "\n",
        "def list_mode(num_list):\n",
        "    num_list.sort()\n",
        "    temp=[]\n",
        "    i=0\n",
        "    while i<len(num_list):\n",
        "        temp.append(num_list.count(num_list[i]))\n",
        "        i+=1\n",
        "    dic=dict(zip(num_list,temp))\n",
        "    mode={k for (k,v) in dic.items() if v==max(temp)}\n",
        "    return mode\n",
        "\n",
        "lst=[]\n",
        "n=int(input(\"Enter the size of list \"))\n",
        "print(\"Enter %d elements \"%n)\n",
        "for i in range(0,n):5\n",
        "    x=int(input())\n",
        "    lst.append(x)\n",
        "print(\"Given list is \",lst)\n",
        "print(\"Mean of list is \",list_mean(lst))\n",
        "print(\"Median of list is \",list_median(lst))\n",
        "print(\"Mode of list is \",list_mode(lst))\n"
      ],
      "execution_count": null,
      "outputs": [
        {
          "output_type": "stream",
          "text": [
            "Enter the size of list 7\n",
            "Enter 7 elements \n",
            "1\n",
            "2\n",
            "2\n",
            "3\n",
            "4\n",
            "5\n",
            "4\n",
            "Given list is  [1, 2, 2, 3, 4, 5, 4]\n",
            "Mean of list is  3.0\n",
            "Median of list is  3\n",
            "Mode of list is  {2, 4}\n"
          ],
          "name": "stdout"
        }
      ]
    },
    {
      "cell_type": "markdown",
      "metadata": {
        "id": "ITXIoXfnSGnK"
      },
      "source": [
        "## Exercise - 9 Functions - Continued\n",
        "\n",
        "a) Write a function nearly equal to test whether two strings are nearly equal. Two strings a and bare \n",
        "nearly equal when a can be generated by a single mutation on b."
      ]
    },
    {
      "cell_type": "code",
      "metadata": {
        "colab": {
          "base_uri": "https://localhost:8080/",
          "height": 385
        },
        "id": "p-qLMLO1SSVM",
        "outputId": "8715b8db-b77e-4101-84ce-653127283134"
      },
      "source": [
        " \n",
        "def nearly_eq(str1,str2):\n",
        "    count=0\n",
        "    i=j=0\n",
        "    while (i<len(str1) and j<len(str2)):\n",
        "        if(str1[i]!=str2[j]):\n",
        "          count+=1\n",
        "          if(len(str1)>len(str2)):\n",
        "             i+=1\n",
        "          elif(len(str1)==len(str2)):\n",
        "             pass\n",
        "          else:\n",
        "            i-=1\n",
        "        if (count>1):\n",
        "          return False\n",
        "        i+=1\n",
        "        j+=1\n",
        "        if(count<2):\n",
        "           return True\n",
        "S1=input (\"Enter string1\")\n",
        "S2=input (\"Enter string2\")\n",
        "if(nearly_eq(S1,S2)):\n",
        "   print (\"Strings are nearly equal\")\n",
        "else:\n",
        "   print (\"Strings are not nearly equal\")"
      ],
      "execution_count": null,
      "outputs": [
        {
          "output_type": "stream",
          "text": [
            "Enter string 1 uday kiran\n",
            "Enter string 2 uday\n"
          ],
          "name": "stdout"
        },
        {
          "output_type": "error",
          "ename": "KeyboardInterrupt",
          "evalue": "ignored",
          "traceback": [
            "\u001b[0;31m---------------------------------------------------------------------------\u001b[0m",
            "\u001b[0;31mKeyboardInterrupt\u001b[0m                         Traceback (most recent call last)",
            "\u001b[0;32m<ipython-input-1-ab523bf4759c>\u001b[0m in \u001b[0;36m<module>\u001b[0;34m()\u001b[0m\n\u001b[1;32m     21\u001b[0m \u001b[0ms2\u001b[0m\u001b[0;34m=\u001b[0m\u001b[0minput\u001b[0m\u001b[0;34m(\u001b[0m\u001b[0;34m\"Enter string 2 \"\u001b[0m\u001b[0;34m)\u001b[0m\u001b[0;34m\u001b[0m\u001b[0;34m\u001b[0m\u001b[0m\n\u001b[1;32m     22\u001b[0m \u001b[0;34m\u001b[0m\u001b[0m\n\u001b[0;32m---> 23\u001b[0;31m \u001b[0;32mif\u001b[0m\u001b[0;34m(\u001b[0m\u001b[0mnearly_eq\u001b[0m\u001b[0;34m(\u001b[0m\u001b[0ms1\u001b[0m\u001b[0;34m,\u001b[0m\u001b[0ms2\u001b[0m\u001b[0;34m)\u001b[0m\u001b[0;34m)\u001b[0m\u001b[0;34m:\u001b[0m\u001b[0;34m\u001b[0m\u001b[0;34m\u001b[0m\u001b[0m\n\u001b[0m\u001b[1;32m     24\u001b[0m     \u001b[0mprint\u001b[0m\u001b[0;34m(\u001b[0m\u001b[0;34m\"Given strings are nearly equal \"\u001b[0m\u001b[0;34m)\u001b[0m\u001b[0;34m\u001b[0m\u001b[0;34m\u001b[0m\u001b[0m\n\u001b[1;32m     25\u001b[0m \u001b[0;32melse\u001b[0m\u001b[0;34m:\u001b[0m\u001b[0;34m\u001b[0m\u001b[0;34m\u001b[0m\u001b[0m\n",
            "\u001b[0;32m<ipython-input-1-ab523bf4759c>\u001b[0m in \u001b[0;36mnearly_eq\u001b[0;34m(str1, str2)\u001b[0m\n\u001b[1;32m      2\u001b[0m     \u001b[0mcount\u001b[0m\u001b[0;34m=\u001b[0m\u001b[0;36m0\u001b[0m\u001b[0;34m\u001b[0m\u001b[0;34m\u001b[0m\u001b[0m\n\u001b[1;32m      3\u001b[0m     \u001b[0mi\u001b[0m\u001b[0;34m=\u001b[0m\u001b[0mj\u001b[0m\u001b[0;34m=\u001b[0m\u001b[0;36m0\u001b[0m\u001b[0;34m\u001b[0m\u001b[0;34m\u001b[0m\u001b[0m\n\u001b[0;32m----> 4\u001b[0;31m     \u001b[0;32mwhile\u001b[0m\u001b[0;34m(\u001b[0m\u001b[0mi\u001b[0m\u001b[0;34m<\u001b[0m\u001b[0mlen\u001b[0m\u001b[0;34m(\u001b[0m\u001b[0mstr1\u001b[0m\u001b[0;34m)\u001b[0m \u001b[0;32mand\u001b[0m \u001b[0mj\u001b[0m\u001b[0;34m<\u001b[0m\u001b[0mlen\u001b[0m\u001b[0;34m(\u001b[0m\u001b[0mstr2\u001b[0m\u001b[0;34m)\u001b[0m\u001b[0;34m)\u001b[0m\u001b[0;34m:\u001b[0m\u001b[0;34m\u001b[0m\u001b[0;34m\u001b[0m\u001b[0m\n\u001b[0m\u001b[1;32m      5\u001b[0m         \u001b[0;32mif\u001b[0m\u001b[0;34m(\u001b[0m\u001b[0mstr1\u001b[0m\u001b[0;34m[\u001b[0m\u001b[0mi\u001b[0m\u001b[0;34m]\u001b[0m\u001b[0;34m!=\u001b[0m\u001b[0mstr2\u001b[0m\u001b[0;34m[\u001b[0m\u001b[0mj\u001b[0m\u001b[0;34m]\u001b[0m\u001b[0;34m)\u001b[0m\u001b[0;34m:\u001b[0m\u001b[0;34m\u001b[0m\u001b[0;34m\u001b[0m\u001b[0m\n\u001b[1;32m      6\u001b[0m             \u001b[0mcount\u001b[0m\u001b[0;34m+=\u001b[0m\u001b[0;36m1\u001b[0m\u001b[0;34m\u001b[0m\u001b[0;34m\u001b[0m\u001b[0m\n",
            "\u001b[0;31mKeyboardInterrupt\u001b[0m: "
          ]
        }
      ]
    },
    {
      "cell_type": "markdown",
      "metadata": {
        "id": "HEwITwRGdpkY"
      },
      "source": [
        "b) Write a function dup to find all duplicates in the list"
      ]
    },
    {
      "cell_type": "code",
      "metadata": {
        "colab": {
          "base_uri": "https://localhost:8080/"
        },
        "id": "bVW82rokdq4f",
        "outputId": "9c7bede3-887f-40dc-cd6f-a796729ff28d"
      },
      "source": [
        "def dups(num_list):\n",
        "    temp=[]\n",
        "    for i in num_list:\n",
        "        cnt=num_list.count(i)\n",
        "        if(cnt>1 and (i not in temp)):\n",
        "            temp.append(i)\n",
        "    print(\"Duplicate elements are : \",temp)\n",
        "lst=[]\n",
        "n=int(input(\"Enter the size of list \"))\n",
        "print(\"Enter the %d elements \"%n)\n",
        "for i in range (0,n):\n",
        "    x=int(input())\n",
        "    lst.append(x)\n",
        "print(\"Given list is : \",lst)\n",
        "dups(lst)\n"
      ],
      "execution_count": null,
      "outputs": [
        {
          "output_type": "stream",
          "text": [
            "Enter the size of list 5\n",
            "Enter the 5 elements \n",
            "1\n",
            "2\n",
            "1\n",
            "2\n",
            "4\n",
            "Given list is :  [1, 2, 1, 2, 4]\n",
            "Duplicate elements are :  [1, 2]\n"
          ],
          "name": "stdout"
        }
      ]
    },
    {
      "cell_type": "markdown",
      "metadata": {
        "id": "nd-3QjA3d2ba"
      },
      "source": [
        "c) Write a function unique to find all the unique elements of a list.\n"
      ]
    },
    {
      "cell_type": "code",
      "metadata": {
        "colab": {
          "base_uri": "https://localhost:8080/"
        },
        "id": "3h1N40fNeBJx",
        "outputId": "56cad1a7-052a-4bdf-dd43-df02b0a49ec3"
      },
      "source": [
        "def uniq_list(num_list):\n",
        "    temp=[]\n",
        "    for i in num_list:\n",
        "        cnt=num_list.count(i)\n",
        "        if(cnt==1):\n",
        "            temp.append(i)\n",
        "    print(\"unique elements are : \",temp)\n",
        "lst=[]\n",
        "n=int(input(\"Enter the size of list \"))\n",
        "print(\"Enter the %d elements \"%n)\n",
        "for i in range (0,n):\n",
        "    x=int(input())\n",
        "    lst.append(x)\n",
        "print(\"Given list is : \",lst)\n",
        "uniq_list(lst)\n"
      ],
      "execution_count": null,
      "outputs": [
        {
          "output_type": "stream",
          "text": [
            "Enter the size of list 7\n",
            "Enter the 7 elements \n",
            "1\n",
            "1\n",
            "2\n",
            "3\n",
            "2\n",
            "4\n",
            "5\n",
            "Given list is :  [1, 1, 2, 3, 2, 4, 5]\n",
            "unique elements are :  [3, 4, 5]\n"
          ],
          "name": "stdout"
        }
      ]
    },
    {
      "cell_type": "markdown",
      "metadata": {
        "id": "uuukYySWeNSq"
      },
      "source": [
        "## Exercise - 10 - Functions - Problem Solving\n",
        "\n",
        "a) Write a function cumulative product to compute cumulative product of a list of numbers.\n"
      ]
    },
    {
      "cell_type": "code",
      "metadata": {
        "colab": {
          "base_uri": "https://localhost:8080/"
        },
        "id": "n6V92mNweOOZ",
        "outputId": "38cae9ab-6738-4f93-861f-1d5cd6e82a84"
      },
      "source": [
        "def cum_prod(num_list):\n",
        "    prod=1\n",
        "    temp=[]\n",
        "    for i in num_list:\n",
        "        prod*=i\n",
        "        temp.append(prod)\n",
        "    return temp\n",
        "lst=[]\n",
        "n=int(input(\"Enter the size of list \"))\n",
        "print(\"Enter the %d elements \"%n)\n",
        "for i in range (0,n):\n",
        "    x=int(input())\n",
        "    lst.append(x)\n",
        "print(\"Given list is : \",lst)\n",
        "print(\"cumulative product list is : \",cum_prod(lst))\n"
      ],
      "execution_count": null,
      "outputs": [
        {
          "output_type": "stream",
          "text": [
            "Enter the size of list 5\n",
            "Enter the 5 elements \n",
            "1\n",
            "2\n",
            "3\n",
            "4\n",
            "5\n",
            "Given list is :  [1, 2, 3, 4, 5]\n",
            "cumulative product list is :  [1, 2, 6, 24, 120]\n"
          ],
          "name": "stdout"
        }
      ]
    },
    {
      "cell_type": "markdown",
      "metadata": {
        "id": "fXLZ1hygeft9"
      },
      "source": [
        "b) Write a function reverse to reverse a list. Without using the reverse function.\n"
      ]
    },
    {
      "cell_type": "code",
      "metadata": {
        "colab": {
          "base_uri": "https://localhost:8080/"
        },
        "id": "vTpE61xkeknd",
        "outputId": "867465d6-0265-46c3-abad-cedd1e6973d8"
      },
      "source": [
        "# call by value \n",
        "def reverse_list(num_list):\n",
        "    temp=num_list[::-1]\n",
        "    return temp\n",
        "lst=[]\n",
        "n=int(input(\"Enter the size of list \"))\n",
        "print(\"Enter the %d elements \"%n)\n",
        "for i in range (0,n):\n",
        "    x=int(input())\n",
        "    lst.append(x)\n",
        "print(\"Given list before reverse function: \",lst)\n",
        "print(\"Given list in reverse order : \",reverse_list(lst))\n",
        "print(\"Given list after reverse function: \",lst)\n"
      ],
      "execution_count": null,
      "outputs": [
        {
          "output_type": "stream",
          "text": [
            "Enter the size of list 5\n",
            "Enter the 5 elements \n",
            "5 \n",
            "4\n",
            "3\n",
            "2\n",
            "1\n",
            "Given list before reverse function:  [5, 4, 3, 2, 1]\n",
            "Given list in reverse order :  [1, 2, 3, 4, 5]\n",
            "Given list after reverse function:  [5, 4, 3, 2, 1]\n"
          ],
          "name": "stdout"
        }
      ]
    },
    {
      "cell_type": "code",
      "metadata": {
        "colab": {
          "base_uri": "https://localhost:8080/"
        },
        "id": "rmQCaef0e9d5",
        "outputId": "754f1f91-1b76-4387-91e2-41c69d18c2c9"
      },
      "source": [
        "# call by reference \n",
        "def reverse_list(num_list):\n",
        "    i=0\n",
        "    j=len(num_list)-1\n",
        "    while(i<=j):\n",
        "        temp=num_list[i]\n",
        "        num_list[i]=num_list[j]\n",
        "        num_list[j]=temp\n",
        "        j-=1\n",
        "        i+=1\n",
        "    return num_list\n",
        "lst=[]\n",
        "n=int(input(\"Enter the size of list \"))\n",
        "print(\"Enter the %d elements \"%n)\n",
        "for i in range (0,n):\n",
        "    x=int(input())\n",
        "    lst.append(x)\n",
        "print(\"Given list before reverse function: \",lst)\n",
        "print(\"Given list in reverse order : \",reverse_list(lst))\n",
        "print(\"Given list after reverse function: \",lst)\n"
      ],
      "execution_count": null,
      "outputs": [
        {
          "output_type": "stream",
          "text": [
            "Enter the size of list 5\n",
            "Enter the 5 elements \n",
            "10\n",
            "30\n",
            "20\n",
            "70\n",
            "40\n",
            "Given list before reverse function:  [10, 30, 20, 70, 40]\n",
            "Given list in reverse order :  [40, 70, 20, 30, 10]\n",
            "Given list after reverse function:  [40, 70, 20, 30, 10]\n"
          ],
          "name": "stdout"
        }
      ]
    },
    {
      "cell_type": "markdown",
      "metadata": {
        "id": "q211Ok1xfZhg"
      },
      "source": [
        "c) Write function to compute gcd, lcm of two numbers. Each function shouldn’t exceed one line"
      ]
    },
    {
      "cell_type": "code",
      "metadata": {
        "colab": {
          "base_uri": "https://localhost:8080/"
        },
        "id": "aKZuTLfefam4",
        "outputId": "591bdda5-c10e-4d39-a95e-d444d7087311"
      },
      "source": [
        "gcd=lambda a,b: a if b==0 else gcd(b,a%b)\n",
        "lcm=lambda a,b:(a*b)//gcd(a,b)\n",
        "x=int(input(\"Enter one integer\"))\n",
        "y=int(input(\"Enter second integer \"))\n",
        "big=x if (x>y) else y\n",
        "small=x if(x<y) else y\n",
        "print(\"GCD of %d,%d is \"%(x,y),gcd(big,small))\n",
        "print(\"LCM of %d,%d is \"%(x,y),lcm(big,small))"
      ],
      "execution_count": null,
      "outputs": [
        {
          "output_type": "stream",
          "text": [
            "Enter one integer200\n",
            "Enter second integer 15\n",
            "GCD of 200,15 is  5\n",
            "LCM of 200,15 is  600\n"
          ],
          "name": "stdout"
        }
      ]
    },
    {
      "cell_type": "markdown",
      "metadata": {
        "id": "lNnpbVvCe67E"
      },
      "source": [
        "## Exercise 11 - Multi-D Lists\n",
        "\n",
        "\n",
        "a) Write a program that defines a matrix and prints"
      ]
    },
    {
      "cell_type": "code",
      "metadata": {
        "colab": {
          "base_uri": "https://localhost:8080/"
        },
        "id": "j-9t_31Je8vb",
        "outputId": "825af7b3-f002-4685-fc7d-99f68b0925ec"
      },
      "source": [
        "matA=[[]]\n",
        "\n",
        "rows=int(input(\"Enter the row size \"))\n",
        "cols=int(input(\"Enter the column size \"))\n",
        "\n",
        "matA=[[int(input(\"Enter the A[%d,%d] value \"%(i,j)))for j in range(cols)]for i in range (rows)]\n",
        "\n",
        "print(\"Matrix is....\")\n",
        "\n",
        "for i in range(rows):\n",
        "    for j in range (cols):\n",
        "        print(matA[i][j],end='\\t')\n",
        "    print()\n"
      ],
      "execution_count": null,
      "outputs": [
        {
          "output_type": "stream",
          "text": [
            "Enter the row size 2\n",
            "Enter the column size 2\n",
            "Enter the A[0,0] value 1\n",
            "Enter the A[0,1] value 2\n",
            "Enter the A[1,0] value 3\n",
            "Enter the A[1,1] value 4\n",
            "Matrix is....\n",
            "1\t2\t\n",
            "3\t4\t\n"
          ],
          "name": "stdout"
        }
      ]
    },
    {
      "cell_type": "markdown",
      "metadata": {
        "id": "ZeDYdazNfKwE"
      },
      "source": [
        "b) Write a program to perform addition of two square matrices\n"
      ]
    },
    {
      "cell_type": "code",
      "metadata": {
        "colab": {
          "base_uri": "https://localhost:8080/"
        },
        "id": "QyCZfM9xfRts",
        "outputId": "6783186e-68ad-4ba8-aee5-6f06ec6c9bcf"
      },
      "source": [
        "def mat_read(rows,cols):\n",
        "    mat=[[int(input(\"Enter the mat[%d,%d] value \"%(i,j)))for j in range(cols)]for i in range (rows)]\n",
        "    return mat\n",
        "def print_mat(rows,cols,mat):\n",
        "    for i in range(rows):\n",
        "        for j in range (cols):\n",
        "            print(mat[i][j],end='\\t')\n",
        "        print()\n",
        "    \n",
        "matA=[[]]\n",
        "matB=[[]]\n",
        "mat_sum=[[]]\n",
        "\n",
        "\n",
        "rows=int(input(\"Enter the row size \"))\n",
        "cols=int(input(\"Enter the column size \"))\n",
        "\n",
        "if(rows==cols):\n",
        "    print(\"For matrix A\")\n",
        "    matA=mat_read(rows,cols)\n",
        "    \n",
        "    print(\"For matrix B\")\n",
        "    matB=mat_read(rows,cols)\n",
        "    \n",
        "    mat_sum=[[matA[i][j]+matB[i][j] for j in range(cols)]for i in range (rows)]\n",
        "\n",
        "    print(\"Matrix A \")\n",
        "    print_mat(rows,cols,matA)\n",
        "    \n",
        "    print(\"Matrix B \")\n",
        "    print_mat(rows,cols,matB)\n",
        "    \n",
        "    print(\"Matrix A+B = \")\n",
        "    print_mat(rows,cols,mat_sum)\n",
        "else:\n",
        "    print(\"Matrix Addition is not possible\")\n",
        "    "
      ],
      "execution_count": null,
      "outputs": [
        {
          "output_type": "stream",
          "text": [
            "Enter the row size 2\n",
            "Enter the column size 2\n",
            "For matrix A\n",
            "Enter the mat[0,0] value 1\n",
            "Enter the mat[0,1] value 2\n",
            "Enter the mat[1,0] value 3\n",
            "Enter the mat[1,1] value 4\n",
            "For matrix B\n",
            "Enter the mat[0,0] value 4\n",
            "Enter the mat[0,1] value 3\n",
            "Enter the mat[1,0] value 2\n",
            "Enter the mat[1,1] value 1\n",
            "Matrix A \n",
            "1\t2\t\n",
            "3\t4\t\n",
            "Matrix B \n",
            "4\t3\t\n",
            "2\t1\t\n",
            "Matrix A+B = \n",
            "5\t5\t\n",
            "5\t5\t\n"
          ],
          "name": "stdout"
        }
      ]
    },
    {
      "cell_type": "markdown",
      "metadata": {
        "id": "1bFs2z4CfWfm"
      },
      "source": [
        "c) Write a program to perform multiplication of two square matrices\n"
      ]
    },
    {
      "cell_type": "code",
      "metadata": {
        "colab": {
          "base_uri": "https://localhost:8080/"
        },
        "id": "lc8xxS_Efa4g",
        "outputId": "9ec12eba-037b-4f74-8067-22e562fddc19"
      },
      "source": [
        "def mat_read(rows,cols):\n",
        "    mat=[[int(input(\"Enter the mat[%d,%d] value \"%(i,j)))for j in range(cols)]for i in range (rows)]\n",
        "    return mat\n",
        "def print_mat(rows,cols,mat):\n",
        "    for i in range(rows):\n",
        "        for j in range (cols):\n",
        "            print(mat[i][j],end='\\t')\n",
        "        print()\n",
        "    \n",
        "matA=[[]]\n",
        "matB=[[]]\n",
        "mat_mul=[[]]\n",
        "\n",
        "\n",
        "rows=int(input(\"Enter the row size \"))\n",
        "cols=int(input(\"Enter the column size \"))\n",
        "\n",
        "if(rows==cols):\n",
        "    print(\"For matrix A\")\n",
        "    matA=mat_read(rows,cols)\n",
        "    \n",
        "    print(\"For matrix B\")\n",
        "    matB=mat_read(rows,cols)\n",
        "    \n",
        "    mat_mul=[[0 for j in range(cols)]for i in range (rows)]\n",
        "\n",
        "    for i in range (rows):\n",
        "        for j in range(cols):\n",
        "            for k in range(cols):\n",
        "                mat_mul[i][j]+=matA[i][k]*matB[k][j]\n",
        "\n",
        "    print(\"Matrix A \")\n",
        "    print_mat(rows,cols,matA)\n",
        "    \n",
        "    print(\"Matrix B \")\n",
        "    print_mat(rows,cols,matB)\n",
        "    \n",
        "    print(\"Matrix A*B = \")\n",
        "    print_mat(rows,cols,mat_mul)\n",
        "else:\n",
        "    print(\"Matrix multiplication is not possible\")"
      ],
      "execution_count": null,
      "outputs": [
        {
          "output_type": "stream",
          "text": [
            "Enter the row size 2\n",
            "Enter the column size 2\n",
            "For matrix A\n",
            "Enter the mat[0,0] value 1\n",
            "Enter the mat[0,1] value 2\n",
            "Enter the mat[1,0] value 3\n",
            "Enter the mat[1,1] value 4\n",
            "For matrix B\n",
            "Enter the mat[0,0] value 1\n",
            "Enter the mat[0,1] value 2\n",
            "Enter the mat[1,0] value 3\n",
            "Enter the mat[1,1] value 4\n",
            "Matrix A \n",
            "1\t2\t\n",
            "3\t4\t\n",
            "Matrix B \n",
            "1\t2\t\n",
            "3\t4\t\n",
            "Matrix A*B = \n",
            "7\t10\t\n",
            "15\t22\t\n"
          ],
          "name": "stdout"
        }
      ]
    },
    {
      "cell_type": "markdown",
      "metadata": {
        "id": "DVPcoBOOIzFz"
      },
      "source": [
        "## Exercise 12 Modules\n",
        "a) Install packages requests, flask and explore them. using (pip)"
      ]
    },
    {
      "cell_type": "code",
      "metadata": {
        "id": "r4Xz802HKExQ"
      },
      "source": [
        ""
      ],
      "execution_count": null,
      "outputs": []
    },
    {
      "cell_type": "markdown",
      "metadata": {
        "id": "mgjQPu_NKZVE"
      },
      "source": [
        "b) Write a script that imports requests and fetch content from the page. Eg. (Wiki)"
      ]
    },
    {
      "cell_type": "code",
      "metadata": {
        "id": "cDaxFpGoNG8M"
      },
      "source": [
        "import requests\n",
        "r=requests.get('https://www.google.com')\n",
        "print(\"Status code : \",r.status_code)\n",
        "print(\"Header Content : \",r.headers['content-type'])\n",
        "print(r.text)"
      ],
      "execution_count": null,
      "outputs": []
    },
    {
      "cell_type": "markdown",
      "metadata": {
        "id": "dOlqaj9tNglm"
      },
      "source": [
        "c) Write a simple script that serves a simple HTTPResponse and a simple HTML Page"
      ]
    },
    {
      "cell_type": "code",
      "metadata": {
        "id": "cw839YUxNhfR"
      },
      "source": [
        "from flask import Flask,render_template\n",
        "app=Flask(_name_)\n",
        "print(app)\n",
        "@app.route(\"/\")\n",
        "\n",
        "def main():\n",
        "  return render_templet('login.html')\n",
        "if _name_==\"_main_\":\n",
        "  app.run(host=\"127.0.0.1\",port=2500)"
      ],
      "execution_count": null,
      "outputs": []
    },
    {
      "cell_type": "markdown",
      "metadata": {
        "id": "QZrn9YP3O0aX"
      },
      "source": [
        "##Exercise - 13 OOP\n",
        "a) Class variables and instance variable and illustration of the self-variable\n",
        "\n",
        "i) Robot"
      ]
    },
    {
      "cell_type": "code",
      "metadata": {
        "colab": {
          "base_uri": "https://localhost:8080/"
        },
        "id": "KEde6f4NO_00",
        "outputId": "79cad70b-c9af-438d-fcdf-aecd75f9624c"
      },
      "source": [
        "class Robot:\n",
        "    what=\"Machine\"\n",
        "    name=\"Chitti\"\n",
        "    version=1.0\n",
        "    speed=\"1THz\"\n",
        "    memory=\"1ZB\"\n",
        "\n",
        "    def update(upd):\n",
        "        upd.version=2.0\n",
        "        upd.speed=\"2THz\"\n",
        "        upd.memory=\"2ZB\"\n",
        "\n",
        "    def disp(self):\n",
        "        print(\"Myself is a\",robj.what)\n",
        "        print(\"MyName is a\",robj.name)\n",
        "        print(\"Version :\",robj.version)\n",
        "        print(\"Speed : \",robj.speed)\n",
        "        print(\"Memory: \",robj.memory)\n",
        "\n",
        "robj=Robot()\n",
        "robj.disp()\n",
        "\n",
        "print(\"---------------Update---------\")\n",
        "robj.update()\n",
        "robj.disp()"
      ],
      "execution_count": null,
      "outputs": [
        {
          "output_type": "stream",
          "text": [
            "Myself is a Machine\n",
            "MyName is a Chitti\n",
            "Version : 1.0\n",
            "Speed :  1THz\n",
            "Memory:  1ZB\n",
            "---------------Update---------\n",
            "Myself is a Machine\n",
            "MyName is a Chitti\n",
            "Version : 2.0\n",
            "Speed :  2THz\n",
            "Memory:  2ZB\n"
          ],
          "name": "stdout"
        }
      ]
    },
    {
      "cell_type": "markdown",
      "metadata": {
        "id": "epJ6QhNnPXxf"
      },
      "source": [
        "ii) ATM Machine"
      ]
    },
    {
      "cell_type": "code",
      "metadata": {
        "colab": {
          "base_uri": "https://localhost:8080/"
        },
        "id": "mvqG_9N-Pcfh",
        "outputId": "7650a6f4-b895-4802-bc29-4ddc6bb3ceb9"
      },
      "source": [
        "class ATM:\n",
        "    def __init__(self):\n",
        "        self.balance=0\n",
        "        print(\"New Account\")\n",
        "        \n",
        "    def enquire(self):\n",
        "        print(\"Balance: \",self.balance)\n",
        "        \n",
        "    def deposit(self):\n",
        "        amount=int(input(\"Enter the Deposit Amount:\"))\n",
        "        self.balance+=amount\n",
        "        self.enquire()\n",
        "\n",
        "    def withdraw(self):\n",
        "        amount=int(input(\"Enter the Withdraw Amount: \"))\n",
        "        if self.balance<amount:\n",
        "            print(\"Insufficient Balance.....!\")\n",
        "        else:\n",
        "            self.balance-=amount\n",
        "            self.enquire()\n",
        "\n",
        "aobj=ATM()\n",
        "while(True):\n",
        "    print(\"**Menu*\")\n",
        "    print(\"1.Deposit\")\n",
        "    print(\"2.Withdarw\")\n",
        "    print(\"3.Balance\")\n",
        "    print(\"0.Exit\")\n",
        "    ch=int(input(\"Enter Your Choice: \"))\n",
        "    if ch==0:\n",
        "        break\n",
        "    elif ch==1:\n",
        "        aobj.deposit()\n",
        "    elif ch==2:\n",
        "        aobj.withdraw()\n",
        "    elif ch==3:\n",
        "        aobj.enquire()\n",
        "    else:\n",
        "        print(\"Invalid choice:\")\n",
        "        pass"
      ],
      "execution_count": null,
      "outputs": [
        {
          "output_type": "stream",
          "text": [
            "New Account\n",
            "**Menu*\n",
            "1.Deposit\n",
            "2.Withdarw\n",
            "3.Balance\n",
            "0.Exit\n",
            "Enter Your Choice: 1\n",
            "Enter the Deposit Amount:10000\n",
            "Balance:  10000\n",
            "**Menu*\n",
            "1.Deposit\n",
            "2.Withdarw\n",
            "3.Balance\n",
            "0.Exit\n",
            "Enter Your Choice: 2\n",
            "Enter the Withdraw Amount: 800\n",
            "Balance:  9200\n",
            "**Menu*\n",
            "1.Deposit\n",
            "2.Withdarw\n",
            "3.Balance\n",
            "0.Exit\n",
            "Enter Your Choice: 0\n"
          ],
          "name": "stdout"
        }
      ]
    },
    {
      "cell_type": "markdown",
      "metadata": {
        "id": "pp-LWaP5TUqf"
      },
      "source": [
        "##Exercise - 14 GUI, Graphics\n",
        "1. Write a GUI for an Expression Calculator using tk"
      ]
    },
    {
      "cell_type": "code",
      "metadata": {
        "id": "Bwc_sYT-XqCB"
      },
      "source": [
        " \n",
        "#14A.\n",
        "from tkinter import *\n",
        " \n",
        "win = Tk() # to create a basic window\n",
        "win.geometry(\"312x324\")  #for the size of the window \n",
        "win.resizable(0, 0)  # to prevent from resizing the window\n",
        "win.title(\"Calculator\")\n",
        " \n",
        "# 'btn_click' Function continuously updates the \n",
        "# input field whenever you enters a number\n",
        " \n",
        "def btn_click(item):\n",
        "    global expression\n",
        "    expression = expression + str(item)\n",
        "    input_text.set(expression)\n",
        " \n",
        "# 'bt_clear' function : used to clear the input field\n",
        " \n",
        "def bt_clear(): \n",
        "    global expression \n",
        "    expression = \"\"\n",
        "    input_text.set(\"\")\n",
        " \n",
        "# 'bt_equal':calculates the expression present in input field\n",
        " \n",
        "def bt_equal():\n",
        "    global expression\n",
        "    result = str(eval(expression)) # 'eval':This function is used to evaluates the string expression directly\n",
        "    input_text.set(result)\n",
        "    expression = \"\"\n",
        " \n",
        "expression = \"\"\n",
        " \n",
        "# 'StringVar()' :used to get the instance of input field\n",
        " \n",
        "input_text = StringVar()\n",
        " \n",
        "# creating a frame for the input field\n",
        " \n",
        "input_frame = Frame(win, width=312, height=50, bd=0, highlightbackground=\"black\", highlightcolor=\"black\", highlightthickness=2)\n",
        " \n",
        "input_frame.pack(side=TOP)\n",
        " \n",
        "#create a input field inside the 'Frame'\n",
        " \n",
        "input_field = Entry(input_frame, font=('arial', 18, 'bold'), textvariable=input_text, width=50, bg=\"#eee\", bd=0, justify=RIGHT)\n",
        " \n",
        "input_field.grid(row=0, column=0)\n",
        " \n",
        "input_field.pack(ipady=10)\n",
        "# 'ipady' is internal padding to increase the height of input field\n",
        " \n",
        "#creating another 'Frame' for the button below the 'input_frame'\n",
        " \n",
        "btns_frame = Frame(win, width=312, height=272.5, bg=\"grey\")\n",
        " \n",
        "btns_frame.pack()\n",
        " \n",
        "# first row\n",
        " \n",
        "clear = Button(btns_frame, text = \"C\", fg = \"black\", width = 32, height = 3, bd = 0, bg = \"#eee\", cursor = \"hand2\", command = lambda: bt_clear()).grid(row = 0, column = 0, columnspan = 3, padx = 1, pady = 1)\n",
        " \n",
        "divide = Button(btns_frame, text = \"/\", fg = \"black\", width = 10, height = 3, bd = 0, bg = \"#eee\", cursor = \"hand2\", command = lambda: btn_click(\"/\")).grid(row = 0, column = 3, padx = 1, pady = 1)\n",
        " \n",
        "# second row\n",
        " \n",
        "seven = Button(btns_frame, text = \"7\", fg = \"black\", width = 10, height = 3, bd = 0, bg = \"#fff\", cursor = \"hand2\", command = lambda: btn_click(7)).grid(row = 1, column = 0, padx = 1, pady = 1)\n",
        " \n",
        "eight = Button(btns_frame, text = \"8\", fg = \"black\", width = 10, height = 3, bd = 0, bg = \"#fff\", cursor = \"hand2\", command = lambda: btn_click(8)).grid(row = 1, column = 1, padx = 1, pady = 1)\n",
        " \n",
        "nine = Button(btns_frame, text = \"9\", fg = \"black\", width = 10, height = 3, bd = 0, bg = \"#fff\", cursor = \"hand2\", command = lambda: btn_click(9)).grid(row = 1, column = 2, padx = 1, pady = 1)\n",
        " \n",
        "multiply = Button(btns_frame, text = \"\", fg = \"black\", width = 10, height = 3, bd = 0, bg = \"#eee\", cursor = \"hand2\", command = lambda: btn_click(\"\")).grid(row = 1, column = 3, padx = 1, pady = 1)\n",
        " \n",
        "# third row\n",
        " \n",
        "four = Button(btns_frame, text = \"4\", fg = \"black\", width = 10, height = 3, bd = 0, bg = \"#fff\", cursor = \"hand2\", command = lambda: btn_click(4)).grid(row = 2, column = 0, padx = 1, pady = 1)\n",
        " \n",
        "five = Button(btns_frame, text = \"5\", fg = \"black\", width = 10, height = 3, bd = 0, bg = \"#fff\", cursor = \"hand2\", command = lambda: btn_click(5)).grid(row = 2, column = 1, padx = 1, pady = 1)\n",
        " \n",
        "six = Button(btns_frame, text = \"6\", fg = \"black\", width = 10, height = 3, bd = 0, bg = \"#fff\", cursor = \"hand2\", command = lambda: btn_click(6)).grid(row = 2, column = 2, padx = 1, pady = 1)\n",
        " \n",
        "minus = Button(btns_frame, text = \"-\", fg = \"black\", width = 10, height = 3, bd = 0, bg = \"#eee\", cursor = \"hand2\", command = lambda: btn_click(\"-\")).grid(row = 2, column = 3, padx = 1, pady = 1)\n",
        " \n",
        "# fourth row\n",
        " \n",
        "one = Button(btns_frame, text = \"1\", fg = \"black\", width = 10, height = 3, bd = 0, bg = \"#fff\", cursor = \"hand2\", command = lambda: btn_click(1)).grid(row = 3, column = 0, padx = 1, pady = 1)\n",
        " \n",
        "two = Button(btns_frame, text = \"2\", fg = \"black\", width = 10, height = 3, bd = 0, bg = \"#fff\", cursor = \"hand2\", command = lambda: btn_click(2)).grid(row = 3, column = 1, padx = 1, pady = 1)\n",
        " \n",
        "three = Button(btns_frame, text = \"3\", fg = \"black\", width = 10, height = 3, bd = 0, bg = \"#fff\", cursor = \"hand2\", command = lambda: btn_click(3)).grid(row = 3, column = 2, padx = 1, pady = 1)\n",
        " \n",
        "plus = Button(btns_frame, text = \"+\", fg = \"black\", width = 10, height = 3, bd = 0, bg = \"#eee\", cursor = \"hand2\", command = lambda: btn_click(\"+\")).grid(row = 3, column = 3, padx = 1, pady = 1)\n",
        " \n",
        "# fifth row\n",
        " \n",
        "zero = Button(btns_frame, text = \"0\", fg = \"black\", width = 21, height = 3, bd = 0, bg = \"#fff\", cursor = \"hand2\", command = lambda: btn_click(0)).grid(row = 4, column = 0, columnspan = 2, padx = 1, pady = 1)\n",
        " \n",
        "point = Button(btns_frame, text = \".\", fg = \"black\", width = 10, height = 3, bd = 0, bg = \"#eee\", cursor = \"hand2\", command = lambda: btn_click(\".\")).grid(row = 4, column = 2, padx = 1, pady = 1)\n",
        " \n",
        "equals = Button(btns_frame, text = \"=\", fg = \"black\", width = 10, height = 3, bd = 0, bg = \"#eee\", cursor = \"hand2\", command = lambda: bt_equal()).grid(row = 4, column = 3, padx = 1, pady = 1)\n",
        " \n",
        "win.mainloop() "
      ],
      "execution_count": null,
      "outputs": []
    },
    {
      "cell_type": "markdown",
      "metadata": {
        "id": "j7ty0Df5Tmoo"
      },
      "source": [
        "2. Write a program to implement the following figures using turtle"
      ]
    },
    {
      "cell_type": "code",
      "metadata": {
        "id": "K_cGM0FvTuE9"
      },
      "source": [
        "import turtle\n",
        "c=[\"red\",\"green\",\"blue\"]\n",
        "i=0\n",
        "turtle.pensize(5)\n",
        "\n",
        "for angle in range(0,360,30):\n",
        "    if i>2:\n",
        "        i=0\n",
        "    turtle.color(c[i])\n",
        "    turtle.seth(angle)\n",
        "    turtle.circle(100)\n",
        "    i+=1\n"
      ],
      "execution_count": null,
      "outputs": []
    },
    {
      "cell_type": "markdown",
      "metadata": {
        "id": "dOEON6oMZHJO"
      },
      "source": [
        "![Screenshot (1).png](data:image/png;base64,iVBORw0KGgoAAAANSUhEUgAACgAAAAWgCAYAAACSABrfAAAAAXNSR0IArs4c6QAAAARnQU1BAACxjwv8YQUAAKudSURBVHhe7N1NjFznfSfqt/RhSq3PWLY0kuMrO2YriSPbiT2+QdgYG8bcSUAKAYwBRrg771hLMsBoJ0ASoJ1nQS7JVbyYRWs23ojE3Lm4QcZhD3Azg8Afsa/VTGzJtvqOJVktUdYXKdbUOd1FNotV3XU+qur8z3ke+HW1yO7qqve85z3Nwq9/1RsMJQAAAAAAAAAAACCUW3ZvAQAAAAAAAAAAgEAEAAEAAAAAAAAAACAgAUAAAAAAAAAAAAAISAAQAAAAAAAAAAAAAhIABAAAAAAAAAAAgIAEAAEAAAAAAAAAACCg3mBo9+PK3njjjbS5uZl+9I//mP7hH/4h/ebN7XTvffenx//oj9LRv/jzdPjw53Y/EwAAAAAAAAAAAKiiUgNglh386KOP0qVLl9Irr7ySLl68mH7285+l37x1KX3svgfTXQ98Kl25mtJ7772bfx4AAAAAAAAAAABQj0oBwKtXr6YPPvggvfrqq+nv/u7v0vnz59Lf/M3/ky6+/Kt07+9+IT20+tX0/pVeevONN9KHH36w+1UAAAAAAAAAAABAVZUCgO++++5O89/PXk6/fP2d9Pp7t6R3013p8qFPpCt3fTpdueNfpA8/uiUP/2VhQQAAAAAAAAAAAKAelQKAv/nNb9Lf//3fpx/85J/SrQ98Ln32f//L9Pg3/s/0yOP/Or32wX3p5V9/kK4Mbk2HDh1Kt9xS6VsBAAAAAAAAAAAAe5RK5Y2a//7p579IW2++l347WEkfu/9TaeUTn0m9ux9J799yf3rz3V56692P0tV0ax7+yxoAr1y5kgaDwe69AAAAAAAAAAAAdEuv16s0ONj3v/+D9G/+zV+k7e23dv+kuOxrs/vI7qvJSgUAX3/99XThwoX037//43TrA4fTQ7//p+nQPQ+kty+9k37yk4v5yD7Oltuo+e/999/Px0cffZT/NwAAAAAAAAAAANTt3//7p9Lffu+/pv/jL/68VAgw+5rsa7P7yO6ryQoFALP2vqzJ7+23304vvfRS+vkrv0yDQ/elW1ceSK+//pv0i1d+kbZeezu9+dZv0+VLr6X0/hvplquXpU8BAAAAAAAAAAD2yLJYRQaz+0//6YX0xS99Mf3g+z8oHAIchf+yr83uI7uvJiscAMwa/LImv7ff3k5vX3o7Xbl8OW2/+Zv0/f/+/6Yf/eCH6YN0Z7rzrnvTLe/8IqU3X0q9K++k2267Ld1xxx35uPXWW3fvLZLzqZ+HGPvDj5g/812M+QIAAAAAAAAAgJH7778v/d//+f8qHAIcD/9l95HdV5MVCgC+++676ZVXXkmv/v+vpd6dH093PfCpdNuhO9N777yVfrH5g/TLf/pJunxlkIf8rl76VfrYh79Ojzz4O+nTn/50uueee/IgYPEmwFG46eaxttZPp89f3P08prl4em3i/E0ea+l0Z6f0Yjp/uj9cV2PzNfzvtf7pFq614bm11vVjDgAAAAAAAAAwXzfkUIZjZPzPpw3KKRoCjBj+yxQKAL7xxhtpY2Mj/fD/++f0O5/9clr9l3+e7v6dh9KV9y+ld/7nZj6yj69efj99+PZWuvu2D9NXv/yl9Kd/+qfpgQce2L2XCo4cGf5vdwz/c2PjbDp5bDX1+jX0nl08n07319JaK5NQj1+ftz3zt2Psz488vvvnc9aw+b6YBf96q+nYybP5Gh9OxO58DP9y+N8bZ08O19q3NewBAAAAAAAAAEAQs4YAo4b/MjMFAK9evZo++OCDPAD405/+NL38y1fTx+59KN1x7yfS//zlP6df/eyl9NEtd6RDwz+75fY7Ui9dTbemy+neldvTZx79dHr00UfTysrK7r2VdTydu3AhXRiN7L2tN88N/3To7LHKQbKLLz6fTp7d2P2vdjl84sz1edsd3zm1EwE8fu7GP79w4Uw6cTj/q7lq0nyf76+l1Sz4l44M52Nz533Tr83Hznuob2Zr7cjnd7+iLY6mM/nzu7CQYw4AAAAAAAAA0GV5JqXAoB4HhQAjh/8yMwUAL1++nC5dupQHAF977dfpzTffTJc//DC9sfVyuvDif0z/47/9bTr08FfSI1/5t+nO3/lUuu3229O999wznIj787f+veOOO/K3Ba7d4aPpzOapnTbAF15M3sWUws7307EsiHjkeDo3uJDOHJ2chDucrbULJ9LR3f8GAAAAAAAAAABimBYCjB7+y8wUAHz//ffTq6++mn79xpvp1rseSHd/4nfTbYfuTO9eeiu9svnDtPWLn6db73kk3f3g76Vbrn6Q0nuvp9tuuZoOHTqUbr/99nTbbbfN7/2oDz+W8jet3fhx2sz/AGZ1PvWPnR3eHkmnvnNGuA8AAAAAAAAAAFpqUggwevgvM1MAMGv/y97699XX3kq/+0f/Kv3hnx1N9zzw8O7fXjf44O105bV/TJeH48q7b6aPPvpoAXWUq+nzO+9mmzvf7+Vhw33fEvh8P/+cXv98unh6Lf949eTO29FunFzd+bt97uPi+dOpv7bzOflYW0v98/v1D15M50/309rer+mtpbX+6TT5y86nfv45/eFHk75fP53e9/vV5OLptJZ9v+E8TXbj47zmhq8bPvf+zhxnn3e6xHzfbHc+d78uHwceg5tdPP18yuN/p75T7i1w93me1+dj8rHvnx6uvd3PuG53PtdO539XfJ3tmP3rphy/ay4O72vyur3x3nae+/jxGD5FAAAAAAAAAKChrmcB6hkQwXgIMHr4LzNTAPC9997LGwB/s30pb/9buf/B9Otf/vO15r97Hv7DdNsd96bBh79NH731cjp0+bX0vz3yyfToo4+mu+66a/de5mUz/TjLkh35fFod3hx96uC3BD7/3Sz2ldLxbx5N6bEn0/Hjx9PxUYjwyPDj7L+H48nHdv9sj5dOr6XVYyfT2bT7efk320hnj61ODrDlIbHVdOzk2eGnHbl230fSRto4ezIdW83CWbufO8Ho+/3ohu93Np0cfr/9vq4pzveHzz17i92RgvN9s/Opv7Y7n8NZ3Pna4Z3tdwym2NxZOOnJJ8qk/2500/PMXUynJzzW7NifPXksre5zADdvWmezPcfC63OqnXlePZat2+ww7dzfzrp9Ib147a6yEOHOc98YHcvdx/rCS0W+HwAAAAAAAAAAUNRMAcArV66k3/72t+md4cg+fmPr5XThxf+Y/sd/+9t06OGvpEe+/G/THfc/kgZXPkhXf/t6+sRdt6RvfG0tfeMb30gPPvjg7r3Mx7UWtyefSHmM6/AT6ck89LQ3pLTX+ZTn/46cSk8dHX760RPpzJkz6an8i7L7eSr/72ycODoeDDubTp5M6dTmIA0u7HzOmQuDtHlq52s3Tn57rEntfOqvnkxZLOz4uc00GFy4dt8XBsOvO3d8+DdZOGtaA9vw+72w8/0uTPh+Z58fb2JrmB89n54/e2RnvobPdzDI5rTIfI/LAnXHUpazO3Jq73xeGH68mbJp2Tj5rTRbzu1ieulH2e3j6bGq+b8Jz/Pa2wk/fjydy9fL9cd6YfexDg/g5Me6cTIdO/n47teNjvvwOW7uhlunPsei63OaPfN8/FzaHD6nC/ljH63bJ9Moq3m9RXF4PPY+1uFzfPqJnc8BAAAAAAAAAJpnJ+NQ34AItrffuuFtf/e+HXD2dxHNFAC8evVq+vDDD9Pl4cg+fvfSW+mVzR9eawC8+8HPpt7V91PvvdfSXbddSQ89cG9aPfx76bOf/ez8GgAv7rzt6M5byR5PT197D9fD6cTTO8G6k9++Oe50U2CwoOPnLtz0drGHT3xnJ9CVfpT2lp6Nvtfwi9KZCeG2w0fP7Iazzqbnp6TWjj896fs9PXzGQ1NDjg2xsZEenzBfpZ3/dto53OfShZvudP/jfrPd5shpRm/vOzYmlvZNfZ7Dx3TmTLr50B9OT+ykVNOPN3f+ZNzxcxO+7vCJ9J18vUx/jkXW51R75/nM0ZvOkyw0O3psOy2KKT1+U4ry8PBzxv8MAAAAAAAAAACWYzz8l73t7963A44aApwpALg3ADX8v90/ve7qB2+ny7/+Sbr10s/Sv3jg7vTII4+kO++8c+fza3M2HdvzOHqru2+5euR4OrW5p3Etc/SbOwG5s98dazy7mF58IU827QkMFnE8Ze8afLPD6bHHdz/cY/QWs6eemvhFucNPPLnT6jbxLYunfb+j6Zv5E2y43ZbFuuy8dfM+8zk67j96acJcjltNn89DcdM9fuRIOjIau3820YHP82I6f/50Ot3vp/7aWlpb6+0GV6eZdtyvr5fJz7HY+pzmhrfIPsDq7iSefb6fzjc5jAoAAAAAAAAAQGdNCv/df/99+YgeApwpAJi55ZZb0qHbb0kP3HVL+vhdt6aP3Xo93De4/F66+vYr6a7Bm2n1s7+bHnvssXTPPffs/m2N9gayjh9Pp85tps0LZyY0r40CcmfTd/cmAC++mHbyf9+8MTA4FzO+xezhx4afwcFG87mRTq7uCYLeMI7tNC4WMqUV7/CJ/K1sL+yOnea9onZaKnu91XTs2Ml08uzZ4Xcbevx4Or7f3R35fFrd/fAmc18vo3meHkLcK2sXPJc9mY2z6Vh2XNbWUl8SEAAAAAAAAACgNqNsDOVMC/+NRA8BFmoAvPeOW9PqJ28fjtvSPYeuL6re1Q/TLR++mT5+1yB9+Ut/lP7kT/5kODH37/5tXY6nc3sCWRfOnEknjh6+6e1JR44+dSpvSju7JwF4/tsn08Z+DXLU6/HHph6fKrLw5/H9xpOP7X7mfq6/De8LVd9HecrzvHj6W7stlafSuc2d97sfrd2n8u/dBofT0TMX0mDzXDp+JAsCbqSzx1ZTb00jIAAAAAAAAAAAy3VQ+G8kcghwpgDg1atX04cffpjefeft9PZrv0iX3vhVuvLhe+mj9y+ld3/9Uhq8/fP08P23p8OPPpJ+77OPpocffjh/C+ClOvxEyjNW194G+HzaeQfZJ9MT80ilTTWlYW7k4ku7rXDzCcu1x+htbI+kJ586k86c2WecODrTXF57++WT3x57q+g6XH+76XMXTqSjYw9o5+2hS1jYejlg3Y47fDRvTBwMNq83An7r9HAWAAAAAAAAAACoIiud2juYzazhv5GoIcCZAoBXrlxJ77zzTvr5yz9Pf/O3/zV978JGeu31N9IHb22l13/4Yrr6q430xcc+lb761a+mj3/84w2pnDycTjydvQ/w2fT86Yspnf9u/vawx58+saCg3fWGuZPfnh4vu/jiC8PPyN71deqbvi7ftRDlmN05XZTVz+/MZ+XGvpHDJ1K+RIbP4lj/fM1htc00PeM3epvdKTZeSNOe4k6L5TzXy2zrdrqsEfA7KX/H5I0fD2cBAAAAAAAAAAAWq2j4byRiCHCmAOChQ4fSQw89lO68cyX9/OWX009/+tN06dKldFu6nO5O2+nhu6+kP1z9TFpdXU333HPP7lc1wNFvpizftfHCi+n083n8L33zgHf/3fhxfZGlwyeezr9/OnssrWUhxDEXz/fT6smdlrinTzSw/2/UojgKUe518XzqH6se/ysy36P53Di5mvoT31/2Yjrf76cJUz3V0TPnrh2j1alvW3sxvVi4sW815XnF4dzteRfqoewxfivlh32qjXTyWzc/lmy97Ez5fNfLwev29O4cD5/L+UnByf3CjwAAAAAAAAAA3ZSVqhUZlPfv/t2ThcN/I+MhwOy+mmymAOADDzyQ/uzP/ix95StfTremQdp+4/V0+cMP0n333Zu+8IXHh3/+lfS5z30uffKTn8zDgs1xNH1zJzG2E7g6/s3hn0w2ejvYPPS01k/9/lrqF0mSTXQ0ndk8tfs2s6vDE3MtrfWz++6nteFJupqnuY6kU5tnpj6u5Rq1KO4+/rXhnGSPf3jbWz2WfnTq1E5QrIRy8319Ps8eG5vPtWzjW03Hzu5XrTfJ8D4Hm7uNdWfTsdWdDXRt+BzzkW+oq+lkHrw7kj6f3cxk1KSXPdbs/kbHPXuMj6dT+Tec4sipdOrxncdy/esWuV4OWrcv7Hza0EvPH0ur+Xzt/H12HHu9Yzttm+eauq4BAAAAAAAAAGiz//Afvp2+/q++Vjj8NzIKAWb3kd1Xk80UAMxa/bJ2vy998YvpD37/99OnHnkk3Xnnnem+++5LX/jCF9If//Efp4cffjitrKykW2+9dfermuHoUztBpjw49dQ+caTDJ9KFc8d3Qk8bZ9PZsxspPbbzV5Vk97u5mc4dPzK87420cTa777Np48iRdPzUubQ5uJCaWP53zdEzafPcqTR8+NnE5I99J9y1mS6cqDBBZec7n89z6dT4fG4M//v4qXRus8x8Hk4nLgx2n2d2v9ljGt53Nob/deTI8XRq+HzzY1Ug0Xb4xIXhfe59jsOZGz7GzcGZ9MTOp0z1xJnhmjl1fPiFu89v+Gfln18J+63bc99JT+SP4XB64unh8xs+wdHzy45jNl/nhl97RvoPAAAAAAAAACANBoNKg+K+9KUvpv/yX/5zqfDfSPa12X1k99VkveEiOXCVfPTRR+ny5ctpe3s7vfrqq+l73/te+uu//ut0xx13pL/6q79KX//61/MwYPbfjXPxdFpbPZk2jpxKmxdOpCZn7ei686mftedZqwAAAAAAAAAAwAxmagDMWv2ycF/2Fr9/8Ad/kLcBZq2A2Z89+OCD6aGHHmpm+G/o/LdP5u1px58WqAIAAAAAAAAAAKA9ZgoAjvR6vTwMeNttt+UfN9/59N3s/WrT8fRNb0cKAAAAAAAAAABAi5QKAGbtf5/5zGfSo48+mu66667dv22ei6efT1n+78ipp5L8HwAAAAAAAAAAAG1SKgCYveXv17/+9fS1r30tfeITn9j924Y4309ra9nopdWTG1n6L33nhDf/BQAAAAAAAAAAoF0KBQAzWQjw7rvvztv/mtoAuLFxdjhSOnL8XNq8cCKJ/wEAAAAAAAAAANA2vcHQ7scAAAAAAAAAAABAEIUbAAEAAAAAAAAAAIDlEwAEAAAAAAAAAACAgAQAAQAAAAAAAAAAICABQAAAAAAAAAAAAAhIABAAAAAAAAAAAAACEgAEAAAAAAAAAACAgHrb29uD3Y8BAAAAAAAAAACAIDQAAgAAAAAAAAAAQEACgAAAAAAAAAAAABCQACAAAAAAAAAAAAAEJAAIAAAAAAAAAAAAAQkAAgAAAAAAAAAAQEC97e3twe7HN1hfX9/9CAAAAAAAAAAAAFi0v/zLv8xvV1ZW8ttxGgABAAAAAAAAAAAgoAMbAPv9fn4LAAAAAAAAAAAAzN9gsBPr29raym81AAIAAAAAAAAAAECLzNwAOEoUAgAAAAAAAAAAAPOnARAAAAAAAAAAAABaSAAQAAAAAAAAAAAAAhIABAAAAAAAAAAAgIAEAAEAAAAAAAAAACAgAUAAAAAAAAAAAAAISAAQAAAAAAAAAAAAAhIABAAAAAAAAAAAgIAEAAEAAAAAAAAAACAgAUAAAAAAAAAAAAAISAAQAAAAAAAAAAAAAhIABAAAAAAAAAAAgIAEAAEAAAAAAAAAACAgAUAAAAAAAAAAAAAISAAQAAAAAAAAAAAAAhIABAAAAAAAAAAAgIAEAAEAAAAAAAAAACAgAUAAAAAAAAAAAAAISAAQAAAAAAAAAAAAAhIABAAAAAAAAAAAgIAEAAEAAAAAAAAAACAgAUAAAAAAAAAAAAAISAAQAAAAAAAAAAAAAhIABAAAAAAAAAAAgIAEAAEAAAAAAAAAACAgAUAAAAAAAAAAAAAISAAQAAAAAAAAAAAAAhIABAAAAAAAAAAAgIAEAAEAAAAAAAAAACAgAUAAAAAAAAAAAAAISAAQAAAAAAAAAAAAAhIABAAAAAAAAAAAgIAEAAEAAAAAAAAAACAgAUAAAAAAAAAAAAAISAAQAAAAAAAAAAAAAhIABAAAAAAAAAAAgIAEAAEAAAAAAAAAACAgAUAAAAAAAAAAAAAISAAQAAAAAAAAAAAAAhIABAAAAAAAAAAAgIAEAAEAAAAAAAAAACAgAUAAAAAAAAAAAAAISAAQAAAAAAAAAAAAAhIABAAAAAAAAAAAgIAEAAEAAAAAAAAAACAgAUAAAAAAAAAAAAAISAAQAAAAAAAAAAAAAhIABAAAAAAAAAAAgIAEAAEAAAAAAAAAACAgAUAAAAAAAAAAAAAISAAQAAAAAAAAAAAAAhIABAAAAAAAAAAAgIAEAAEAAAAAAAAAACAgAUAAAAAAAAAAAAAISAAQAAAAAAAAAAAAAhIABAAAAAAAAAAAgIAEAAEAAAAAAAAAACAgAUAAAAAAAAAAAAAISAAQAAAAAAAAAAAAAhIABAAAAAAAAAAAgIAEAAEAAAAAAAAAACAgAUAAAAAAAAAAAAAISAAQAAAAAAAAAAAAAhIABAAAAAAAAAAAgIAEAAEAAAAAAAAAACAgAUAAAAAAAAAAAAAISAAQAAAAAAAAAAAAAhIABAAAAAAAAAAAgIAEAAEAAAAAAAAAACAgAUAAAAAAAAAAAAAISAAQAAAAAAAAAAAAAhIABAAAAAAAAAAAgIAEAAEAAAAAAAAAACAgAUAAAAAAAAAAAAAISAAQAAAAAAAAAAAAAhIABAAAAAAAAAAAgIAEAAEAAAAAAAAAACAgAUAAAAAAAAAAAAAISAAQAAAAAAAAAAAAAhIABAAAAAAAAAAAgIAEAAEAAAAAAAAAACAgAUAAAAAAAAAAAAAISAAQAAAAAAAAAAAAAhIABAAAAAAAAAAAgIAEAAEAAAAAAAAAACAgAUAAAAAAAAAAAAAISAAQAAAAAAAAAAAAAhIABAAAAAAAAAAAgIAEAAEAAAAAAAAAACAgAUAAAAAAAAAAAAAISAAQAAAAAAAAAAAAAhIABAAAAAAAAAAAgIAEAAEAAAAAAAAAACAgAUAAAAAAAAAAAAAISAAQAAAAAAAAAAAAAhIABAAAAAAAAAAAgIAEAAEAAAAAAAAAACAgAUAAAAAAAAAAAAAISAAQAAAAAAAAAAAAAhIABAAAAAAAAAAAgIAEAAEAAAAAAAAAACAgAUAAAAAAAAAAAAAISAAQAAAAAAAAAAAAAhIABAAAAAAAAAAAgIAEAAEAAAAAAAAAACAgAUAAAAAAAAAAAAAISAAQAAAAAAAAAAAAAhIABAAAAAAAAAAAgIAEAAEAAAAAAAAAACAgAUAAAAAAAAAAAAAISAAQAAAAAAAAAAAAAhIABAAAAAAAAAAAgIAEAAEAAAAAAAAAACAgAUAAAAAAAAAAAAAISAAQAAAAAAAAAAAAAhIABAAAAAAAAAAAgIAEAAEAAAAAAAAAACAgAUAAAAAAAAAAAAAISAAQAAAAAAAAAAAAAhIABAAAAAAAAAAAgIAEAAEAAAAAAAAAACAgAUAAAAAAAAAAAAAISAAQAAAAAAAAAAAAAhIABAAAAAAAAAAAgIAEAAEAAAAAAAAAACAgAUAAAAAAAAAAAAAISAAQAAAAAAAAAAAAAhIABAAAAAAAAAAAgIAEAAEAAAAAAAAAACAgAUAAAAAAAAAAAAAISAAQAAAAAAAAAAAAAhIABAAAAAAAAAAAgIAEAAEAAAAAAAAAACAgAUAAAAAAAAAAAAAISAAQAAAAAAAAAAAAAhIABAAAAAAAAAAAgIAEAAEAAAAAAAAAACAgAUAAAAAAAAAAAAAISAAQAAAAAAAAAAAAAhIABAAAAAAAAAAAgIAEAAEAAAAAAAAAACAgAUAAAAAAAAAAAAAISAAQAAAAAAAAAAAAAhIABAAAAAAAAAAAgIAEAAEAAAAAAAAAACAgAUAAAAAAAAAAAAAISAAQAAAAAAAAAAAAAhIABAAAAAAAAAAAgIAEAAEAAAAAAAAAACAgAUAAAAAAAAAAAAAISAAQAAAAAAAAAAAAAhIABAAAAAAAAAAAgIAEAAEAAAAAAAAAACAgAUAAAAAAAAAAAAAISAAQAAAAAAAAAAAAAhIABAAAAAAAAAAAgIAEAAEAAAAAAAAAACAgAUAAAAAAAAAAAAAISAAQAAAAAAAAAAAAAhIABAAAAAAAAAAAgIAEAAEAAAAAAAAAACAgAUAAAAAAAAAAAAAISAAQAAAAAAAAAAAAAhIABAAAAAAAAAAAgIAEAAEAAAAAAAAAACAgAUAAAAAAAAAAAAAISAAQAAAAAAAAAAAAAhIABAAAAAAAAAAAgIAEAAEAAAAAAAAAACAgAUAAAAAAAAAAAAAISAAQAAAAAAAAAAAAAhIABAAAAAAAAAAAgIAEAAEAAAAAAAAAACAgAUAAAAAAAAAAAAAISAAQAAAAAAAAAAAAAhIABAAAAAAAAAAAgIAEAAEAAAAAAAAAACAgAUAAAAAAAAAAAAAISAAQAAAAAAAAAAAAAhIABAAAAAAAAAAAgIAEAAEAAAAAAAAAACAgAUAAAAAAAAAAAAAISAAQAAAAAAAAAAAAAhIABAAAAAAAAAAAgIAEAAEAAAAAAAAAACAgAUAAAAAAAAAAAAAISAAQAAAAAAAAAAAAAhIABAAAAAAAAAAAgIAEAAEAAAAAAAAAACAgAUAAAAAAAAAAAAAISAAQAAAAAAAAAAAAAhIABAAAAAAAAAAAgIAEAAEAAAAAAAAAACAgAUAAAAAAAAAAAAAISAAQAAAAAAAAAAAAAhIABAAAAAAAAAAAgIAEAAEAAAAAAAAAACAgAUAAAAAAAAAAAAAISAAQAAAAAAAAAAAAAhIABAAAAAAAAAAAgIAEAAEAAAAAAAAAACAgAUAAAAAAAAAAAAAISAAQAAAAAAAAAAAAAhIABAAAAAAAAAAAgIAEAAEAAAAAAAAAACAgAUAAAAAAAAAAAAAISAAQAAAAAAAAAAAAAhIABAAAAAAAAAAAgIAEAAEAAAAAAAAAACAgAUAAAAAAAAAAAAAISAAQAAAAAAAAAAAAAhIABAAAAAAAAAAAgIAEAAEAAAAAAAAAACAgAUAAAAAAAAAAAAAISAAQAAAAAAAAAAAAAhIABAAAAAAAAAAAgIAEAAEAAAAAAAAAACAgAUAAAAAAAAAAAAAISAAQAAAAAAAAAAAAAhIABAAAAAAAAAAAgIAEAAEAAAAAAAAAACAgAUAAAAAAAAAAAAAISAAQAAAAAAAAAAAAAhIABAAAAAAAAAAAgIAEAAEAAAAAAAAAACAgAUAAAAAAAAAAAAAISAAQAAAAAAAAAAAAAhIABAAAAAAAAAAAgIAEAAEAAAAAAAAAACAgAUAAAAAAAAAAAAAISAAQAAAAAAAAAAAAAhIABAAAAAAAAAAAgIAEAAEAAAAAAAAAACAgAUAAAAAAAAAAAAAISAAQAAAAAAAAAAAAAhIABAAAAAAAAAAAgIAEAAEAAAAAAAAAACAgAUAAAAAAAAAAAAAISAAQAAAAAAAAAAAAAhIABAAAAAAAAAAAgIAEAAEAAAAAAAAAACAgAUAAAAAAAAAAAAAISAAQAAAAAAAAAAAAAhIABAAAAAAAAAAAgIAEAAEAAAAAAAAAACAgAUAAAAAAAAAAAAAISAAQAAAAAAAAAAAAAhIABAAAAAAAAAAAgIAEAAEAAAAAAAAAACAgAUAAAAAAAAAAAAAISAAQAAAAAAAAAAAAAhIABAAAAAAAAAAAgIAEAAEAAAAAAAAAACAgAUAAAAAAAAAAAAAISAAQAAAAAAAAAAAAAhIABAAAAAAAAAAAgIAEAAEAAAAAAAAAACAgAUAAAAAAAAAAAAAISAAQAAAAAAAAAAAAAhIABAAAAAAAAAAAgIAEAAEAAAAAAAAAACAgAUAAAAAAAAAAAAAISAAQAAAAAAAAAAAAAhIABAAAAAAAAAAAgIAEAAEAAAAAAAAAACAgAUAAAAAAAAAAAAAISAAQAAAAAAAAAAAAAhIABAAAAAAAAAAAgIAEAAEAAAAAAAAAACAgAUAAAAAAAAAAAAAISAAQAAAAAAAAAAAAAhIABAAAAAAAAAAAgIAEAAEAAAAAAAAAACAgAUAAAAAAAAAAAAAISAAQAAAAAAAAAAAAAhIABAAAAAAAAAAAgIAEAAEAAAAAAAAAACAgAUAAAAAAAAAAAAAISAAQAAAAAAAAAAAAAhIABAAAAAAAAAAAgIAEAAEAAAAAAAAAACAgAUAAAAAAAAAAAAAISAAQAAAAAAAAAAAAAhIABAAAAAAAAAAAgIAEAAEAAAAAAAAAACAgAUAAAAAAAAAAAAAISAAQAAAAAAAAAAAAAhIABAAAAAAAAAAAgIAEAAEAAAAAAAAAACAgAUAAAAAAAAAAAAAISAAQAAAAANqo16tnAAAAAACNJQAIAAAAAAAAAAAAAQkAAgAAAECTTWrlm2XUZdJ9zzIAAAAAgLkTAAQAAAAAAAAAAICABAABAAAAYBEmteTNMqKa9FxmGQAAAADAzAQAAQAAAAAAAAAAICABQAAAAAAoY1J73X6D2Uyau0kDAAAAABAABAAAAAAAAAAAgIgEAAEAAABgP5Pa57LBck06JtkAAAAAgA4RAAQAAAAAAAAAAICABAABAAAAIDOpTS4b0Q0G5UZUk45hNgAAAACghQQAAQAAAAAAAAAAICABQAAAAAC6ZVI7XDaablJL3yyjrEn3NctoqknHPBsAAAAAEJgAIAAAAAAAAAAAAAQkAAgAAABAO01qe8vGsk1qzZtlRDHpsc8ylmXSGskGAAAAAAQgAAgAAAAAAAAAAAABCQACAAAAENuk9rZsLMqkNrv9BpNNmqtJY1EmralsAAAAAECDCAACAAAAAAAAAABAQAKAAAAAAMQwqY0tG4syqY0uGyzWpGOQjUWZtAazAQAAAABLIAAIAAAAAAAAAAAAAQkAAgAAANBMy2pYm9Qulw2abdIxy8aijK/X0QAAAACAORIABAAAAAAAAAAAgIAEAAEAAABohkU3p01qi8sG7TLpGGdjURa9rgEAAADoFAFAAAAAAAAAAAAACEgAEAAAAIDlmncz2qT2t2zQbZPWRDbmTRMgAAAAADUSAAQAAAAAAAAAAICABAABAAAAWKxRA1rdTWiT2tyyAUVMWkPZqNu8zgMAAAAAOkUAEAAAAAAAAAAAAALqbW9vT/z11fX19fy23+/nt4N5/JYrAAAAAI3Ve245rWSDZ3c/mMbrVDTJjO19vbScdet0AQAAAIhta2srv11ZWclvx2kABAAAAAAAAAAAgIA0AAIAAAB0zLKa/Zpm8IzXu5i5wK/1vPwLAAAA0EwaAAEAAAAAAAAAAKCFNAACAAAABKfRb740Bcak2W++vFwMAAAAsBgaAAEAAAAAAAAAAKCFNAACAAAANJRmvxg0BC6Hhr8YvKwMAAAAUI0GQAAAAAAAAAAAAGghDYAAAAAAS6Lhrxs0BJaj4a8bvOwMAAAAsD8NgAAAAAAAAAAAANBCGgABAAAA5ix609+1Bru6KtmmvM7U9UbErjQFdr3Zb+rLrDWfX1Hn2cvQAAAAADfSAAgAAAAAAAAAAAAtpAEQAAAAoGZRmuwObJybc+PfskRrGozaDBitga4xy7TuiTvgiUU5Tl6eBgAAALpKAyAAAAAAAAAAAAC0kAZAAAAAgIqa0ihXW1NcS5v/impqU2BTGwGb2iQX/mXNhp2PTTnOXq4GAAAAukIDIAAAAAAAAAAAALSQBkAAAACAGS2rEW7ujW8a/0pZdkNgU5oAl90I17mXLYOcr4teF16+BgAAANpKAyAAAAAAAAAAAAC0kAZAAAAAgCkW1fC2tCY3zX9zteiGwEWtI81uDRH8/F3UOrJ+AAAAgOg0AAIAAAAAAAAAAEALaQAEAAAA2DXvxralNf2Nq1q95XWiWs1r3dW13ubV1GYZ1Sz4ea0REAAAAGAyDYAAAAAAAAAAAADQQhoAAQAAgM6Zd9PfSGMa/0Y0/4VS9zqddT3W3cRm2SxYy87zeTcDWp8AAABA02kABAAAAAAAAAAAgBbSAAgAAAC0Xmcb/0bKVmh5PagRFtUEqPmvpVp2/s+7EXDE+gUAAACaQgMgAAAAAAAAAAAAtJAGQAAAAKB15t3419imv3Ga/1qptvX9bL3H2bJpuJbuBxoBAQAAgLbTAAgAAAAAAAAAAAAtpAEQAAAAaI15Nf+Fafwb0fzXKTOve41/ZDqyP8yrGdC6BwAAABZNAyAAAAAAAAAAAAC0kAZAAAAAICyNf2M0/zF07bzQ+Md+OrZfaAQEAAAAotIACAAAAAAAAAAAAC2kARAAAAAIp67mv7BNf+M0/7FH7U1nz+7cYWvOF27U0f2j7vPEdgoAAADMiwZAAAAAAAAAAAAAaCENgAAAAEDjafybQvMfQ/Nq/DuIRsCWsZ/k6jqfbLMAAABAXTQAAgAAAAAAAAAAQAtpAAQAAAAaS/PfFJq6GKqt+W/Gxr9pNAG2jP0lpwkQAAAAaAoNgAAAAAAAAAAAANBCGgABAACAxqna/NfaRjLNXAxVbSabthycd9zAfnODeZ13AAAAAAfRAAgAAAAAAAAAAAAtpAEQAAAAWLqqzWMjmv/GeD2nFao2j43Muhycj9zA/nODRZ+PAAAAABoAAQAAAAAAAAAAoIU0AAIAAABLU7VprPUNY5q3Oq1q01hdy8B5Ss5+NFFTzlMAAACgvTQAAgAAAAAAAAAAQAsJAAIAAAALlzWKVWkVyxrFWt0qllVKlamVyqqk1EmFV/bwj9S9DKqeb1XPdxqi7MKquqAbrur51vLpAQAAABZAABAAAAAAAAAAAAAC6m1vb0/8/cT19fX8tt/v57eDOn9tGAAAAOiUutq/Wt36lylbA+V1m1ao2gK2qGVQ9Xxu/XncFfariepq87OtAwAAACNbW1v57crKSn47TgMgAAAAAAAAAAAABKQBEAAAAJgbTWEz0qTVSVEa/w5S9jzXBNgS9q99teU8BwAAAJZHAyAAAAAAAAAAAAC0kAZAAAAAoDZVG/9GNP8dwOs0obW1EUzjZ8fZz/ZV9bwfsf0DAABA92gABAAAAAAAAAAAgBYSAAQAAAAqy5q/6mj/yxrAtIDtI6t+Uv8UVtYAVqUFrOmHv+r5W9c+wpLYn/ZV1/RU3UcAAACA9hEABAAAAAAAAAAAgIB629vbE3/vcH19Pb/t9/v57cBvbwIAAABjqrZ1dbbtr2h9k9dlQqva1hX18NsfOs4+N5Ou7g8AAADA7La2tvLblZWV/HacBkAAAAAAAAAAAAAISAAQAAAAKCxr9qrS7pU1e3Wy3SureipS95RVO6l3Cqvo4R4ZHfboh7/qeV51n2HJii7gsidMcFXP845OGwAAALCHACAAAAAAAAAAAAAE1Nve3p74+4Xr6+v5bb/fz28HkX/dGAAAAKhF2TauTrb9TVK0psnrMaFUbeHqyuGu2upnPwnGvldK2f3E9AEAAED7bG1t5bcrKyv57TgNgAAAAAAAAAAAABCQACAAAABwoKyxq0xrV9bUpa1rKKtyKlLnlFU4qXEKo+jhHde1w111Xyi7H7EkRRd41ROqJcruC6YPAAAAukcAEAAAAAAAAAAAAAISAAQAAABqp/lvV9EqprKVTyxF1aatrh9uTYAdU3TBVz3BWqLr+wQAAABwMAFAAAAAAAAAAAAACEgAEAAAAJiqaMOW5j+6QPNfvTQBwsGK7hsKFAEAAKA7BAABAAAAAAAAAAAgoN729vbE3xtcX1/Pb/v9fn478GvJAAAA0BlF27S0/o0pWrvkdZcQyrZpObzllG31sx8FYZ+sxPQBAABAd2xtbeW3Kysr+e04DYAAAAAAAAAAAAAQkAAgAAAAcE3WuFW2dYuhrJKpSC1TVsmklqm1HN5qsiY/bX4t5gRZqKKXJwAAACAOAUAAAAAAAAAAAAAISAAQAAAAKN38p6GLLlDsuFxF9xlNpi2lwu4GZfcZ0wgAAADtIwAIAAAAAAAAAAAAAfW2t7cn/p7g+vp6ftvv9/PbgV9bBgAAgNYp25LVtda/ZbcleVlmOYoed8dpMYruW1pKl2NZLYxdPd5lr1P2LQAAAGi+ra2t/HZlZSW/HacBEAAAAAAAAAAAAALSAAgAAAAd1Jbmv2U38zWNl2/qoUmr2TSXLteymv2aqi3XRfsXAAAANJcGQAAAAAAAAAAAAGghDYAAAADQIVGbszT9zYeXe26kOSsWTYD10Og3H1Gvm/YzAAAAaB4NgAAAAAAAAAAAANBCGgABAACgA5relKXhr9m68rJQ0XXo5bJmKLq/daUBULNfszX9+mp/AwAAgObQAAgAAAAAAAAAAAAtpAEQAAAAOqApDVma/top+stGmv/aoWtNgBr+2qkp11/7HAAAADSHBkAAAAAAAAAAAABoIQ2AAAAA0GKLbsRqe8PfIC22QinqfEZ5GUkjVju1tQkwauNf5fmd8UTtPbv7Qcst+jpt3wMAAIDl0wAIAAAAAAAAAAAALaQBEAAAAFpo3g1YTWumm/vLFg2vTGra8ZimKS8vlZ0vL4/FULYprylNgFGa/hY+Xw3bh5t2nOZ9Hbf/AQAAwPJoAAQAAAAAAAAAAIAW0gAIAAAALVJ381XTmuWW9vJEy6qSmnJclzVNmq+6Yd5NqHVpSpNcUxoQpwpy4kZpBix7HbAfAgAAwOJpAAQAAAAAAAAAAIAW0gAIAAAALVBX89+ym+Ea9/JDx6viFr0e5j19HT+cndW0JsBFN8Q1vtmvqOAn8rIbAuu67tsfAQAAYHE0AAIAAAAAAAAAAEALaQAEAACAFijbcLXohreRMC8zzDpBHX3dZN7rp65pDV4YRk2W1QQ478a31jX8zapl+/OymgHL/jxgnwQAAIDF0QAIAAAAAAAAAAAALaQBEAAAAAIr3Bj07GL+fR/+ZQRVSKU0rRGw7ONxONupbMNa0YY9jX8L0rIGwIMsrCGw4M8J9ksAAACYPw2AAAAAAAAAAAAA0EIaAAEAACCwAxuB5tz419qXCzrWLDVvi24G1PzHfupqAtT0t2RFT/SWnuBzW4cz/vxg3wQAAID50wAIAAAAAAAAAAAALaQBEAAAAAKa2vgzp8a/zr0soAFwrubdCFiUw9hN827wK0rjX0n264kqr++CP0/YRwEAAGB+NAACAAAAAAAAAABAC2kABAAAgICuNfto/KtX0Wo6r5fUYlmNgA4fmWU1AWr8q4kGwJmUXucz/pxhPwUAAID50QAIAAAAAAAAAAAALaQBEAAAAAKZV1Oaf/bv0iTVCPNuBHT4mGTeTYAa/+ak6IZhA8jNvN4LNg2bXgAAAKifBkAAAAAAAAAAAABoIQ2AAAAA0GAa/xZMA2AjOQ+Yp3k1/2n8WzD7dyUHngezNgE+e+P9OA8AAACgOg2AAAAAAAAAAAAA0EIaAAEAAKBBNJ0tSdGJN6GNUNf54nB2U13NfxrOGkIDYK1uOj9mbQAcGWsCHHG+AAAAQHEaAAEAAAAAAAAAAKCFNAACAADAEmn8awjNUSHVff44vN1QV/PfiEazhii6ITjhC7l23szaBDilAXCc8wcAAAAOpgEQAAAAAAAAAAAAWkgAEAAAAJYgKyqqtb0sa9oZjqzQSKkRbVf7+bNrXvdLM2QNZnW3/9EgLoBzlTX1FWrry5oCZ2gLdF4CAABAdQKAAAAAAAAAAAAAEFBve3t74q/hra+v57f9fj+/HfjtSQAAAKistnaxrPFvj0KtPFxX9IB4faQRZj1so8NV9bxz2GNadKuYfbghim4QlDLzvjr288pBnEcAAABws62trfx2ZWUlvx2nARAAAAAAAAAAAAAC0gAIAAAAC1C1geygBh2NOSVpigqp7GGreh5aBjFUbf4b309nvT/7cEMUPdGd2KUU3k81AQIAAEBpGgABAAAAAAAAAACghTQAAgAAwBxUbRqbtSlHQ05FZavkWIq6ir2qnp+WQzPV3fw3UvR+7csNYX9fiJn304INgOOcVwAAAHSZBkAAAAAAAAAAAABoIQ2AAAAAUKOqzWJFG3I04pRUV5UcC1V3oVfl83WX5bEcVRv/RmbdR2f9fvblhqh7w2CiwvuoJkAAAAAoTAMgAAAAAAAAAAAAtJAGQAAAAKhB1Sax0T+7NUwtiGaoUIqeX2UPW13nMfNVtfmv7P5Z9Pvap5dsURsHuaKX1WWdxwAAABCRBkAAAAAAAAAAAABoIQFAAAAAqCBrvKnSGpY14WQja8Kp2oYDXTc6n8qq+vVV9wP2V3WfzBrDqrSGVf16FqzqCc1cjPbJqueTn5sAAADgOgFAAAAAAAAAAAAACEgAEAAAAEoo2/Q1KiQqW0ykgaqisgeOpVjW4Sp7fo5YZvVadvMfcLCqP9eUPU81AQIAAIAAIAAAAAAAAAAAAITU297envhrdevr6/ltv9/PbwdVfu0ZAAAAWqJsq9e0f1YXba3RYlXRrAfQ6yCN0LTDVbXVz7KaTdU2r3nvk/btYIqeuE7USuqa7rL7gPMNAACANtra2spvV1ZW8ttxGgABAAAAAAAAAAAgIAFAAAAAmEHWaFOm/StrtqmjTChrtNFqA8tV9Xwuu490Rdb4VaX9b1H7pP04mLouxMykrukue55V3UcAAAAgIgFAAAAAAAAAAAAACEgAEAAAAPYxr+Y/DTULpnotlKYfrqoNV5bjjaruh01v5LPfw3QH7YeaAAEAAOBgAoAAAAAAAAAAAAAQUG97e3vir8+tr6/nt/1+P78dVPm1ZgAAAAiiaivXrP98nrWVpsmtVqHMemC9/tEI0Q7XovaNtqnaztWU/dF+HkTRE9X1oBZ17+dt2TcAAACgiK2trfx2ZWUlvx2nARAAAAAAAAAAAAACEgAEAACAoayhpkqLV9ZcoywIqql6Hi7L6Pwvuw9Efd5lZQ1eZVq8suauvSOass+bmpQ9QWmUque/8xAAAIA2EgAEAAAAAAAAAACAgAQAAQAA6LSqzVtFC4U0z0B1TS/yKvv42t4EWHb/a3rjX9MfH0RQdP+ret75eQwAAIA2EQAEAAAAAAAAAACAgAQAAQAA6KSqTVvzbiDTKEWXVD0fm2re+0Tb2Qchvqb/vKQJEAAAgDYQAAQAAAAAAAAAAICABAABAADolLJNY6MGm3k32QDTRT3/ij7utjUiFm3Yanvzn8YxqN9o3yi7fzgvAQAAiEwAEAAAAAAAAAAAAAISAAQAAKATqjb/VaVZZknaVqVGaF1rAiy675Vt7mqK6I+fMa4fS1HXtJc9H/28BgAAQEQCgAAAAAAAAAAAABCQACAAAABMUFfzX1EapJZkWQe84xRszSbaPGnQmo15WhL7/VIsa9r9XAUAAEAXCAACAAAAAAAAAABAQAKAAAAAtFrR5izFQNA8bTsvyz6fpjcBlm20a1tDl8YxaJ6i56WGTgAAACIRAAQAAAAAAAAAAICABAABAABoJc1/QNO1pQlQ8x8QhSZAAAAA2kgAEAAAAAAAAAAAAAISAAQAAIA50hwDHCRqE2DZ/U3zH3CQpjWdAgAAQJMJAAIAAAAAAAAAAEBAAoAAAAC0StHGmLLNW3XTiEWXaHaaLEoToOa/epWdT4go6s9dzlMAAACaTAAQAAAAAAAAAAAAAhIABAAAoBWKNmA1pYEGmK6r52nZ5z3vJsCyDVhdbf7r6vOGSIqep5oAAQAAaCIBQAAAAAAAAAAAAAhIABAAAIDQ5t14VZaGmCVr6sKAAqI3IGrAoxVcT5aqqdPv5zwAAACaRAAQAAAAAAAAAAAAAhIABAAAoFOa1qilIWvJoles0QlFl2ndjVlFm67sa4Rg/1+qpk2/fQsAAIDIBAABAAAAAAAAAAAgIAFAAAAAQiracKXoB4iu6D5WtQlQ8x/QNUX3saL7JAAAAMyDACAAAAAAAAAAAAAEJAAIAABAKJr/IK6qjXSUU3TeNVoth3mH5tAECAAAQCQCgAAAAAAAAAAAABCQACAAAAAhRGkO0wAD1Wnu3F/Z+TloHy27fxVtyuoa8wPV+TkQAAAAphMABAAAAAAAAAAAgIAEAAEAAGilpjeIaYQCqlr2PmcfA6ry8xoAAABUJwAIAAAAAAAAAAAAAQkAAgAA0Gi93s6YVdObZADqVnTfG99Xe8/18jErjVhA1xTd94ruqwAAAFCFACAAAAAAAAAAAAAEJAAIAABAI0Vr/tP00hBFFw60yLz3Qc1/dJrrSyMs+zBoAgQAAKCJBAABAAAAAAAAAAAgIAFAAAAAWCANWg2x7MpIaADNVDDketAIDgMAAACUJwAIAAAAAAAAAAAAAQkAAgAA0Ci93s6YlcaYjhstmKILp+zXUYppXqy690XNpYulmXFB9l4DimxQZb+OVim6LzqvAQAAmCcBQAAAAAAAAAAAAAhIABAAAIBGKFqko/mvZfa2KRUZdZl037MMauW8XpBnh2s3GyyUJsU5mbQ3zzLqMum+Zxm0giZAAAAAmkAAEAAAAAAAAAAAAAISAAQAAADqM6nlaJYR1aTnMsuABajaqKixjoWatFfOMqKa9FxmGQAAAABjBAABAAAAAAAAAAAgIAFAAAAAlqpooU3VRisK2ts6NMtgNpPmbtKAOj07XFPZgEWYtKftN5jNpLmbNFiooo2pved6+QAAAIA6CAACAAAAAAAAAABAQAKAAAAAhKD5b84mtQdlg+WadEyyAUUUbP4r2mRFx03ao7LBck06JtlgruyfAAAALIMAIAAAAAAAAAAAAAQkAAgAAMBSKKJZkr0tQHtHdEUrIqNXSk46htlomIY+LA7guDVD77lePhpjtDDGR3SuHzsDAAAACEsAEAAAAAAAAAAAAAISAAQAAKDRohftLM2kdp9sNN3ogBcdRY3mY9J9zTKaau+x3jsarunTGlXhBrlnhwchG7uCLJ9wBs8M8tFYe/eOvaPp9u7RRUbZ5zfpvmYZTbX3WO8dzFXjmj4BAAAISQAQAAAAAAAAAAAAAhIABAAAgMgmtfVkY9kmtR7NMqqq634OsvcxFxnLMmmNZAMyY81/dMSkPSEbyzZp75xlzFtd32fvYy4ylmXSGskG+2p80ycAAACtIgAIAAAAAAAAAAAAAQkAAgAAsFCKY0ra27qzdyzKpDai/QaTTZqrSWNRJq2pbBBa77lePupiWQS399zeOxZl0h6332CySXM1aSzKpDWVDUqpe98GAACgWwQAAQAAAAAAAAAAICABQAAAABpp0UU2jTGpTScbi7K3RWjvYLEmHYNsLMqkNZgNWmXwzCAftMSkczYbizJpz8oGizXpGGRjUSatwWx0lH0WAACARRAABAAAAAAAAAAAgIAEAAEAAFiIjhfATLe3HWeREzSpHSgbNNukY5aNRRlfr6NBI/Se6+VjXhzuhtl7Di7ywEzag7JBs006ZtlYlPH1OhrcYN77OAAAAO0kAAgAAAAAAAAAAAABCQACAADQKIsupKmqcFPLoptv9rb87B20y6RjnI1FWfS6ppLBM4N8jCx6uVDSos+zvXvJ3kG7TDrG2ViURa/rJRnfdwEAAKBOAoAAAAAAAAAAAAAQkAAgAAAAc9XyQpeZDZ7dGXMzqb0nG3TbpDWRjXlz4i9U4SbSihzeBZv3hE/aI7JBt01aE9loCPsQAAAAXCcACAAAAAAAAAAAAAEJAAIAANAIDSuWqWzU+Fd789/eFp69g3K6WiE0aQ1lg1YbPDPIxzSWQTO4fiyICrlyJq2hbNRkkHr56LpFN7sCAAAQmwAgAAAAAAAAAAAABCQACAAAADWqrbFpUrtONpiN+Spn71rbO2ikZTdEKVCrl+tHQ5m/2exda3sHNzioiRUAAADKEAAEAAAAAAAAAACAgHrb29sTf91sfX09v+33+/ntwG/rAQAAUEDRVqiw/+ysq/7Kv7vnY9bjY/7LOWB+e2m2eTX95cza/le2bcrpM2euH8tlgS9Xx68fRdtbtQYCAAB029bWVn67srKS347TAAgAAAAAAAAAAAABCQACAACwVFlzS6j2lqyxZu+oKtwEwB51rd+6zidosr3XjjrWu+sHkXX8+pE1+mn1AwAAoC4CgAAAAAAAAAAAABCQACAAAAC1ClrEcrC6ntio8aau5htogrrW9eg8q+t8a6nec718NIXDdYC6Jqiu8wyapK51PTrP6jrfGqZp+z4AAADNIgAIAAAAAAAAAAAAAQkAAgAAsBRVi17mru4mmcY/YahRXeu97vOwYwbPDPJRlm2rpLrXrQNBl9S13us+D+ek6j4NAAAAGQFAAAAAAAAAAAAACEgAEAAAgFo0vGBldjU9kd6zNw5gul4a5ONArdloaCXXD2gu1w8AAABaTAAQAAAAAAAAAAAAAuptb29P/PXq9fX1/Lbf7+e3g8EMv4UNAABAZ81aqtK4f17W1AZzUEvT4Bn/rl6KosfX6x9zMfP+kEqejx05br3nis1PXftO2P193uZ8/XDdmBPXhRDmft0YacjxXdb+DgAAQAxbW1v57crKSn47TgMgAAAAAAAAAAAABCQACAAAQDdl1TI1tDdlzU0Htf+xRFmzj/am9qvpfG6LrBlqGe1QnTkMNT1R14+Gc/3ohoZsXMvatwEAAGgHAUAAAAAAAAAAAAAISAAQAACAShpSnHKw0QOt+oBHjUCagaB+Vc+rus5zbtD57a6udbU7kZr/oEajDWo0yqrrPF+Q3nO9fAAAAEBGABAAAAAAAAAAAAACEgAEAABgIaoWs5RWV5PL0p4AdFBd51uQJicayvUD4gl+/Rg8M8gHAAAAFCEACAAAAAAAAAAAAAEJAAIAANBOVZtbRg0ydTXJAMXVdR4uqcmpLr3nevmIIvh0V38Cda1boLy6zsPwGxoAAABdIAAIAAAAAAAAAAAAAQkAAgAA0C51NTcBzaPJaV+DZwb5mJfWb4+uH+3W8vOfA1Q9P60fAAAAGkwAEAAAAAAAAAAAAAISAAQAAKCUxhWhlH1Ao0aYqs0wB+g918sHDde4hc1EVc9bx5m9yq6HquuQZnI8l2ru2/Pec7bMcZ77AyzGz5cAAABkBAABAAAAAAAAAAAgIAFAAAAA5qpswcrMyjax1PTABs8M8kHDzX0hslRlj2/DmpxYsCVfP4DyajsNy97RnK8ffr4EAACgCAFAAAAAAAAAAAAACEgAEAAAgJg0NwHjGtrkVFbvuV4+omrotJZ/YK4fMTV2IdIoLbt+AAAA0C0CgAAAAAAAAAAAABCQACAAAACxlG1a0dxEERp9YutYk9PgmUE+FiXsdlr2+IZ9whTiOJMpuw6CXj8AAABoBwFAAAAAAAAAAAAACEgAEAAAgBg0N1EH66Fbyh5vTU7t4voBFOX6AQAAQCACgAAAAAAAAAAAABCQACAAAACFLLzYpOw3bGhzU++5Xj6ABQrW5GSfqEnLrh8UtKTzl3Iae7iCXD9cNwAAALpNABAAAAAAAAAAAAACEgAEAABgLioXKJVtTqn8jcsZPDPIBy2z4Aafrpv7dJfdHxq6DqLsOwufvrLfcM7XDw1dDTXn4069lna4yn7jihugny8BAACYhQAgAAAAAAAAAAAABCQACAAAQLM0tLmJlrFeFqpx0132AVVscmqbxh3Xllw/NH5Bg5XdL1w/AAAAmCMBQAAAAAAAAAAAAAhIABAAAIBmaElzExCIJqd2cP1gL+cni+D6AQAAQIMIAAIAAAAAAAAAAEBAAoAAAAAsV9kmFM1NLJLGnnZrSJNT77lePtqq9tOo7B0u+PrR9uMa1oLXAS1Vdh3VviECAADQZQKAAAAAAAAAAAAAEJAAIAAAAMsRpLmJlrOeGmlpxUhl18OCH/DgmUE+mmLhp1HZ+V74Ay2maccVKKDs/rLg6wcAAADtJAAIAAAAAAAAAAAAAQkAAgAAMJPaCkrK3lHDm5uK6j3Xywd0SZjTuOwDrW2jZCLXD/bj/AupdYdtydcPP18CAAB0kwAgAAAAAAAAAAAABCQACAAAQK2mFp+UbTYp26SyJINnBvmgpWpq6CGIsvuPdVKvsvMZ7PrBglgXIYU7bGUf8JT9zs+XAAAA7EcAEAAAAAAAAAAAAAISAAQAAGC+NDcRgfXWSGW3j9qVXR+NeQJBlZ2/hpzPved6+QA6zPUDAACABRAABAAAAAAAAAAAgIAEAAEAAGiWhjQ3AfMT9jS3PzVb0OMzeGaQD0rSlEYErh8AAADMkQAgAAAAAAAAAAAABCQACAAAwHwUbeTRjEIkGqe6reh+Zb0UU3S+XD+YhXVCExRdh64fAAAAzEAAEAAAAAAAAAAAAAISAAQAAGBfhYtHin5Bxxt5es/18kFDdHw9UlDR9VJ4Q+0Y1w/ojM5vh3O+fvj5EgAAoFsEAAEAAAAAAAAAACAgAUAAAABqoYjpRoNnBvkAqut8UxShaN5aEBtDJ/j58kZ+vgQAAGASAUAAAAAAAAAAAAAISAAQAACAehRt4lHpQhtooKqkNdtA0Sdi3dyo6Hy0ZOFo8lqQlqwXWqro+nT9AAAAYAIBQAAAAAAAAAAAAAhIABAAAIBKBqmXj5lp4iEC65Qyiq6brjc5FX3+zkugrexvAAAAVCAACAAAAAAAAAAAAAEJAAIAAEAD9J7r5YOgut7kBtjHF8V+G5rDBwAAAPUTAAQAAAAAAAAAAICABAABAAAoZZB6+ZjZYLAzOmbwzCAfBFV03ao2mqsw02vd7K/o8y06nw3nulBSx9dN13T28Fm3AAAAlCAACAAAAAAAAAAAAAEJAAIAAFCI5r/56j3Xywd0SWu3iRmfWO/ZndF2rh/QXUULHDvP/gcAAEABAoAAAAAAAAAAAAAQkAAgAAAALMDgmUE+CKpoE4+qI+ag6fuIwirmouh+aiGG5vABAABAcQKAAAAAAAAAAAAAEFBve3t74u/Tra+v57f9fj+/Hfi1OwAAgE4ale4MUsE2M/+OnKj33GzzqC1wvmY9DnVzXPdXtDQx3DYz5Qn2nt394ABR1s/402z79aPofmIf2F/RfaAufmyZr1mPq+MwxdgEtu26AQAAwP62trby25WVlfx2nAZAAAAAAAAAAAAACEgDIAAAAPsaFY7M3ODk34/70hQ1X8tq9mua6OumtU1RU56YBsBdQa8fXWl2nfW8bDs/5hRTdN2Y3ynGJlIDIAAAQLdoAAQAAAAAAAAAAIAW0gAIAADA/lS3zEVXGqOq0uhXr6gNctOE3W5a3uQ0enozN/+NBD2gbdnPi17umU3Xfyxq/X6+aLsTqgEQAACgWzQAAgAAAAAAAAAAQAtpAAQAAGCyolVA/t1YSNFmu7Y1uGj2a6amrLPObD9tbXLqyAGMuo8XPTwsRtt+jPJj5HzN3Dw6ur6YYAAAgNA0AAIAAAAAAAAAAEALaQAEAABgMtUtCzFzg0uwBkANf+206HU46zYUdvvZfYIaAGMewKbu30WnnxiinSat37+XTAMgAABAt2gABAAAAAAAAAAAgBbSAAgAAMCNClYH9dLOvxf9s7Gcok15TWsAi970V/t8Tjl/Zm14i2pe67IjRXLtaXLqyAFb9r5ddJqjGgx/wpio5nUTdT5tA91W+LoxYsIBAABC0gAIAAAAAAAAAAAALaQBEAAAgB0FK1tGzX/j/POxnJmbXJbcABil8W9p87Tk6qOmHp+qx2PWaY26/4Rvcip5/Wj98VrQul+02o9bkBO8qcdj3LLPq7bv18tW9Dp/03VjxAEAAAAIRQMgAAAAAAAAAAAAtJAGQAAAAHaUbHAa55+P5RRudFlQw11TGuWW3XxYWNGqqDmfOE05juNmPa4Nm87azdwopwFwqea1Txdd3/O2sOPS8hO7Kcd1UdPW9n26KUpfL8Y5AAAAAKFoAAQAAAAAAAAAAIAW0gAIAADQdSWbm6bxz8dqZm52qbkRb1kNceGa/YoKUom0rOM/7qD1MOt0RtuHKjc6LesJV7x+tPY41bSO521p8x9kX1yURa+HeU1nW/fnpql8vRjngAAAAISgARAAAAAAAAAAAABaSAMgAABA181Y2XJQ89+Ifz5WU7SJrWyD3qIa31rf8HeQljRdLWq9jBtfP20tDqvc6LSsJ1rx+tG24zNSdd3WpbHz29YTeU4WtX7KTrPDuViVrxfjHBAAAIAQNAACAAAAAAAAAABAC2kABAAA6KqClS0aABdr5oaXGRv25t3g1vmmv4O0tCJp3utq3GidzTqdUfajyo1Oi36iNV0/Wnd8Cq7PqsJdb1u6Dy5a09ZX2/bjpqt8vRjnwAAAAISgARAAAAAAAAAAAABaSAMgAABAVxWsbNHwslhFG6dGFtXIpvGvpI41YM1tPT5bbF6aPo21NTot6onOuI4Pao5ty3Epuh6LCn9d7di+tyxFp7moaYfFz4eLVdv1YpwDBAAA0GgaAAEAAAAAAAAAAKCFNAACAAB0VcHKFg0vi7WoJr9ZafyriSasXG3re8bmtaZPY9H5mNrstKgnOuM6bm0D4Jwa/1p7/bTvLUXRaZ83h7UeMzcAjn5u8wM8AABAK2gABAAAAAAAAAAAgBbSAAgAANA1JZt4FIgsx6KbADX9LYhGrBuUXucFm9iaPo0zNzstqwGw4Lqd1gAY7jho/CvHPtcoRQ9HXRzWemkABAAA6CYNgAAAAAAAAAAAANBCGgABAAC6pmQTiAKR5Zh3A6DGvyXTkDVR4XU/Y0Nb06evcgPgyLye6IzrdVrz30jjj8Octt3OXB/ta6HMa72POLz1mlsD4IgDBgAA0EgaAAEAAAAAAAAAAKCFBAABAACggbKGl3m0/2WNMHsHwWRNPvOua2qAea3T0fTN6/wipmvrYnfUJSvS2jtar+4JZCHmvU4tiyWb14EFAACgUQQAAQAAAAAAAAAAIKDe9vb2xF//Wl9fz2/7/X5+O/BbYgAAALEVrV8Z+3fgrF/un4/V1NVKpt0vmLL1SB094aaeJ8/OOB/PTv76ZZ83s57/g2d3P5im7nVRcH320v7ff9nLdl5tZJ29/tm/Wq3u88Vhr2bm68T49WzWA+kAAQAANNLW1lZ+u7Kykt+O0wAIAAAAAAAAAAAAAWkABAAA6IqKzR+KQ+arrua/cZoAg9GkVcq182fWBsCRKU2AI4s+f4ruAwtrApxxXR7U/Dey6OVa9rQ6SOevd/arTnD+NMvcGwBHHCAAAIBG0QAIAAAAAAAAAAAALSQACAAAAEuUNbnMq/0vM+/7p2ZZ406Z1p2s2WdeNU0BZE1H+Sg5fdMs+vwZPY+2qvv4HKTu02L0+Bf9PBqn7MR2fuJiqfv8GTfv+2eM8w8AAKDVBAABAAAAAAAAAAAgoN729vbEX/taX1/Pb/v9fn478NthAAAAMRWtV5ny77+a7qbzqraJjdrByt5Pm9vFWqlsPVLHT8DC0/bsbF+wqPNn1vN78OzuB9NUXQcFJ7KX9v9+i1qWZU+bm4yti87vn/ajTqh6mKuef5bLZEV/7pu6X816gBwIAACARtna2spvV1ZW8ttxGgABAAAAAAAAAAAgIA2AAAAAbVdz04fikHLqav4bpwmwI6pWMnXUzNM2YwPgyLzPn9oaAEfKroMZJ/Cg5r+ReS/HsqfJNVPWgea/khPrB4FQ6j7M/4ude0tuW2fWABq9eqIeRryH45H51TPQCRkzR9ZPWcSFJBpYqwrFVO0dR8KlSanaX+l5tH2+23xfeFavUhfGQgAAADRBAiAAAAAAAAAAAAB0SAMgAAAA7GhKbClJ/5uSXH5Kc3n23+nElMCTk8IzJf2UxjCN4O3P3E5jo+Vcl55vyizbO3ubT4l/t4Pvcic2t14RyrNlLt0G2eean5UuDAAAAE3SAAgAAAAAAAAAAAABXT4/P1d/3ev9/X2+vr6+zter3woDAACIJTU2ZePnvq0/dtSPkbXSwHJT/VL/femBQeXGIg16MJOnKzMNrtZ52nqOr29ff3gmdd0TJ+zya9vPr7X9crf/PxvXd9j6qL4MJXW5c5e5+Nx+GXWbbb4vbK1bWxfEuQYAAGjCx8fHfH15eZmv9yQAAgAAAAAAAAAAQEASAAEAAHq1U7KHwJB1pcl/tZOmJAEOIjdSabADmp08dVISYPL5rZ0EuHHCtib/LUq3XfY6LhLXc7i6qJ4MJXW5ay9z6XkebdudlgC4cM4BAABOJQEQAAAAAAAAAAAAOiQBEAAAoFdbkz0SP+8JDPmuteS/Re7rkgQYVG6U0mDf92QnTjWeBNh6AmDpNstet4Xkv5+pH0NpbblLz3fv2zA5ETa1fm1dAOcdAADgVBIAAQAAAAAAAAAAoEMaAAEAAHozJXmUxqn8YAoAEQLyN5GlJP1vSmjZM2Vq759PY3IP5s71ojW505R7nkrrxOEa2w+5L+ffOk/Jfwnpf8PVzeIJZgR7L3fpz8/dxr0Zrn4BAADwjQZAAAAAAAAAAAAACOjy+fm5+mth7+/v8/X19XW+Xv1WJwAAQAxbY1AKP+cd9M80ozTF6+xUltTXL0UmuNw4pMG+/0mdpmV6cutB6rna+u9c377+sNWjdU4s7HvdB0q3r3r3hPowpNx6d5bcbbroZbtuvg/k1rFoGwMAAGBQHx8f8/Xl5WW+3pMACAAAAAAAAAAAAAFpAAQAAIAfTMkruWlfkymRpYV0qdTXUfq+OdmU0JOT0jMlAZXGLgWSOk3L9OSe693OVe56NyZ3+y1vP3V+c9cxrNIJJqTUZW9luUtfR+52H04rCw4AAEARDYAAAAAAAAAAAAAQkAZAAACAXjQadRI1gaU0qauXZKnSeeBkuck+UQ/uQZbpyT3ntc9V8c9LXO/E//2p3J+3bO/a89md0gkmpNxlb03pNow6D+oaAAAAKTQAAgAAAAAAAAAAQECXz8/P1d+fe39/n6+vr6/z9eq3PQEAANq2Nd6k8ue7k/7Z3ZSmrURJ/ct9nz2kGg6tNAap8++HcqdnmZa96sfWn3t9+/rDVv9e+MbX/fX/l9b9WttQHXvAOR9aaR1r3Sjbe3Pdr1XPUidWnQAAADjUx8fHfH15eZmv9yQAAgAAAAAAAAAAQEAaAAEAAOCPKWklJ01qSl65HVFEe71UMiX2lKT2TAlBpfFLDcudnmVaSs9Vbh36p3R9d1a6fZa3V1qvu1VrghlKtGVfXm/u6y49Jt3KnVAAAACaoAEQAAAAAAAAAAAAAtIACAAAABl6SZJKfR/FCWW0oTTpZ4lQ6jRKKXd6lukorQ+9nbPSbbKsR+68lK5Hs5aJrTXBhJa6DXpZdtsXAAAANAACAAAAAAAAAABASJfPz8/V3497f3+fr6+vr/P16tfoAAAA2rY19qXy57vU0KHWPl6mpkl1mSJ1w3wMqiQ97Fan3x/lTs8yHUen+V3fvv7wzL8XuO31XX4du76l89dtfXJeuRH9Oay26PNx+nPY1glUPwAAAA718fExX19eXubrPQmAAAAAAAAAAAAAEJAEQAAAgF6cnNgRLTBE0t06SVvMUiOUHuns+6Tcabmfhr0TAaMmANaap+7qkfPIilr1qFep89PKvGyte7vVua0Tp54AAAAcSgIgAAAAAAAAAAAAdEgDIAAAQHRTUketdKABTMkqe6dvRTYlyuSkypjXzkzJPjXSfTqrT7WmJfecVdfI+nQ3r6WWdam1PrUmmCbkbgvb4Ge1jtswTBgAAEBTNAACAAAAAAAAAABAQJfPz8/V3/t7f3+fr6+vr/P16tcDAQAA2rQ1fWPnz3WNvIyHctPpukiTKlCa6jf6/HWnVtpPJ98zpU7Ho7e9V3rm9e3rD4Uuv/ZZr1rz0U2dcb5YUbotRt8OufN31rxtrX+7172tE6feAAAAHOLj42O+vry8zNd7EgABAAAAAAAAAAAgIA2AAAAAdG1KUslJ15qSVaTXlc9D7vzTqCnpp0baz5QsdDuCSp2OR293tHrzaN5S60X4ebs9A2sbI1XqhqRppdvCdvjLPAAAADACDYAAAAAAAAAAAAAQ0OXz83P199/e39/n6+vr63y9+jU5AACANm2Nh9n5c11qSs1RHzNT0+dGSuHKUZrmZ3479VUALr/OWd+zv7bKTel69Lprp2Ze377+kKnWutZ+v2fXk9rrtNW/9Tx747OLktS/iW3xM8+rG22dKBsOAADgEB8fH/P15eVlvt6TAAgAAAAAAAAAAAABSQAEAACIrrGEjlZeTnNJKp0pTb4y38cqTZTqxe51J3Oe719X7WS5VhMAc9/n3vWj9vxHpU4fq7ROH/SY143U+W7lufWwc9nKAz0AAAAzCYAAAAAAAAAAAADQIQmAAAAA0TWW0HH2y0lNbpJwVEerSV6jKE2OYl1unSpdj+XfrZ1El5sEWJoAWOv95NaL2vM4OnW7rtx6cdBjXbdam/etdUoCIAAAwJgkAAIAAAAAAAAAAECHJAACAABE11hCR2qiSq2XJYGuDdZhX7mJRezrUR0rXa/l59ZKsDs6AbDW639UH2rNC3Wp59vk1oeDHueGcfY6pNYxCYAAAABjkgAIAAAAAAAAAAAAHZIACAAAEFVqZMnBn+uOenkS59pkXfLkJhExiLeyDXJ0AmDp66VP6vzXHxL5en5fR69Ls8l/i8Y/ZwAAAIxGAiAAAAAAAAAAAAB0SAIgAABAVFuTOU76PHdUcEjzCSqDkwT4XW7CUDTJ5zlzYrKT6aI7KAlQ8t82ucmKqQclt55G0fv9Obf++1r+WJ5f72ydEBsVAABgVxIAAQAAAAAAAAAAoEMSAAEAAKIKksixV5KK5L9YSpOroq1fbtLT3pr/emenies2KfBR0t7b1/t98N93SwDsLPkvO9nvmcYPYqtJg6PdB3wdfy7Pr1+2ToQNCwAAsCsJgAAAAAAAAAAAANAhCYAAAABRBUvkqPVyJf/F1lsSYGnCU23dfX1z0gSHTQxcEviWBMBFZhLg5nkIkvy3W6LfM50cTMmA25SWLV/DtyV1PWs9xzazr2s9wAMAAFBEAiAAAAAAAAAAAAB0SAIgAABAVMESOUoTVHKThyQAtilqEmBpslMtw35Nc/YC3E18K/vhqc4TAP/Vg8b2x2haSQiMen8YfPs0K3ddS59jJQACAABwSwIgAAAAAAAAAAAAdEgCIAAAQFRBEzlyX3bY5BR+1HoSYGmiUy5fwyQ6a6EWDxbs7Jf1PxKTAJ8mAB6U/Pc/57zR9eZnZyUEtn6fsJ1iSF3n3OfY5p5ft75xGxkAAGBXEgABAAAAAAAAAACgQxIAAQAAogqayJGclJOYMCX5L7azEwFLk5y28jXLQY5a0I2eJurtrVYC4E7Jf49ex2kc1EMcnQx49n3CtoptuOfYrW/YxgYAANiVBEAAAAAAAAAAAADokARAAACAaFKjRxr9PPf0bUj+G1qtRKhn+6I0yekZX6c0au+FT3R4MuBdfd2cAFg5+a+ZxD8HtWl7JwQedZ+wzfoyzHNs6gGw0QEAAHYhARAAAAAAAAAAAAA6JAEQAAAgmq1JHI1/jhsmOYUi1ZOf3vbZJ7426UStqK9CZyUCLol8D//9wgTA0xP/HNSu1L4/LM8RtcuAbden4Z5jO/n8AQAAEJUEQAAAAAAAAAAAAOiQBEAAAIBoOkvg+J+3I/mPFcVJT5WT/3xNMpjakWCJjkoEvP75lyb/8++l1mVJf5wg+z4hGZYCwzzHSgAEAAA4lQRAAAAAAAAAAAAA6JAEQAAAgGg6TeD497Y2JqdI/hvb06QniX8c4aRkwKMSATfX47MS/xxMfvDwPiHxjx10/xwrARAAAOBUEgABAAAAAAAAAACgQxIAAQAAouk1AfBZotsdCYDcqh3E5msQdlG4UQ9L/nvi+ueV7MoBZAfuE+yp++dYCYAAAACnkgAIAAAAAAAAAAAAHZIACAAAEM3oCYBvf9+Xj6ljq53k9Ovt5x8ocZJV1TdiHZe3rz8svurmXnZPBHzEjYAfuE9wpO6fYyUAAgAAnEoCIAAAAAAAAAAAAHRIAiAAAEA0nSVwbE5MWdwlWfm4OobdgtaeJDo9IulpMI0m/S3+J/Hv3pI49ZXUd/nzpz2dlgi4cGMY0tGJf8+4T4xhmOdYCYAAAACnkgAIAAAAAAAAAAAAHZIACAAAEE0nCRyliSn3fGztU2uJTo9IeupE40l/97Ym/y3uk/n+/f0n9bUWyYDUVPu4Ltsj+fnkCfeHPg33HCsBEAAA4FQSAAEAAAAAAAAAAKBDEgABAACiSY28afTznARAflIr2enZvqid9HRP8lOjgiX9LZ4m/t3bmgB4b5REwIUbSNP2Pq5H3SfcD/oyzHNsJ587AAAAopMACAAAAAAAAAAAAB2SAAgAABDV1kSOxj7P1U5Muefja2ylSU+l6793IuBCEtRBGk36S07yy/Wgfm5OAry3czJgM4mACzeUQxx9TM++T6j/sQ33HBv08wYAAEBvJAACAAAAAAAAAABAhyQAAgAARNV5AuB9Qk5qQpCPsTGUJj/tvc5HJQLekxCV6OgIsXsPNuJZ++dZ4tSjpL3kZMKdEwEX/zO9ja43Pztr2Vq/T6j3MaSuc+5zbHPlJewLBwAA6IsEQAAAAAAAAAAAAOiQBEAAAICogiVyHJWccs/H2TaVJkGdta6nJbrdGTYxqnTjlLrbeK3sh/9xVALg4qAkwEf+LUtj+2M0Z0//Iur9QRJgm3LXtfQ5tplysvWFD17/AAAA9iYBEAAAAAAAAAAAADokARAAACCqYIkcWxNUniXghE1QYVaaENXaeraWANddglTphsmUnYR3to1JfI8SABfJ7//kBMCtnr3v3XRyIzrpOD7V231BEmBbUtez1nNsM/s63AsGAADokwRAAAAAAAAAAAAA6JAEQAAAgKiCJHLUTk5ZpCYR+Vh7rtLkqGjr11oy4KL5ZKnSjZIobNLfIjN5b2sSXq9JgFvtlhjYeEE7+BhuNtp9QBLguTy/ftn6gj1oAwAA7EoCIAAAAAAAAAAAAHRIAiAAAEBUjSdy7JWcci9ckspgcpOkel2nVpMBa0s+z7kbZaPwSX/3CpP2dksAXHSWBPhMdlJgYqHb+Zicrvf7c279lwR4LM+vd7a+UA/YAAAAu5IACAAAAAAAAAAAAB2SAAgAABBV49EhrSaoLHzM3Zd1yTNMQuBOiXzdJf3dOyj5754kQGpS5/POoSTAfR29Ls0nADb/AgEAAMYiARAAAAAAAAAAAAA6JAEQAAAguq0JHQd9rjsq+e+exLk2WId9RU8IrJX811rS36M6Vrpey8/NPVf3jk4ArPX6H9WHWvNCXer5NpIA23D2OqTWscPO19YX5sADAAAcQgIgAAAAAAAAAAAAdEgCIAAAQHSNJXRsTVLZK8Gm2SSVzuUmcZn/OlpNBoye+Jdbp1pL/lscnQC4qPV+cutF7XkcnbpdlyTAc7Q271vr1GHnr7kXBAAAMDYJgAAAAAAAAAAAANAhCYAAAADRNZbQcXYC4CI18cnH3jSliVrm+1hHJQTWSvxb1E7+273uVEqUKj1f93KT/xa11qHW+9y7ftSe/6jU6WOV1um961tvUue7lefWw85lcy8IAABgbBIAAQAAAAAAAAAAoEMSAAEAAKJrJKGjtSSVRWqSk4+/PytNxjK/nSrdGF9yk+bOTr6qlfy3qDSd/7SaALjIfb9n15Pa67TVv/VUULskCXBfnlc32vqC1CEAAIBDSAAEAAAAAAAAAACADkkABAAAiK6RhI6tiSpHJ9NETZZqTWnSlfnsTOmGuBd8g9RKlKo+rYXJf4taCYCLWu8/fF1xjviBJMC6Wk3+u7e1LOx+3Jt5IQAAAEwkAAIAAAAAAAAAAECHNAACAADQtSmYJCecZAo+qR3OFFHpPOTOP42qdTCWjRF8g0yJUimpUlOi1FqqVK1pjeLRvKVuh/DzdnsGUt74I6NtpM49qhdbpdanXpkHAAAARqABEAAAAAAAAAAAAAK6fH5+rv4a4fv7+3x9fX2dr9cav4UKAABAfalpPzt9vtuarlKSZlNDbjjSaB+LzROzWmlinW2M1DSpR3Vvr7C26699fvDl7esPldWan262We2NoTB3JTfN7uznr6NFnaetx3+3Yz1s4QUAAGjbx8fHfH15eZmv9yQAAgAAAAAAAAAAQEAaAAEAAKKbkjekb2xmun42Bb/khE+Z187kboR7nW2MKVEqN1XqVq3pLdbI+nQ3r6WWdam1Pt1MDJMpoS4npa7WOetV7rwOq1Z9AgAAoAoNgAAAAAAAAAAAABDQ5fPzc/XXtN7f3+fr6+vrfL36bS4AAIC2bU33qfz5LjVNprV0ldRQpN4/HpuPQdVKB+t0Q+SmZi317ujwteuvjf/gsl4bX+Dl7esPBymdv27rk/PKjejPYbV5Li209QWoHwAAAIf6+PiYry8vL/P1ngRAAAAAAAAAAAAACEgCIAAAQC9OSuzYmrTSeuLM6YkrJxv9/Q8rdeEf6XRDnJ38t0xrcnlP/QuJ/39q3c+dx0XpfHa6PfMn5F63EzSW6Ml3pXp7/8l1v5bT/mEAAAB+IgEQAAAAAAAAAAAAOqQBEAAAADJMASm1wpfOlPo+psAXoS8dKN3Ay0bodENMSVI5qXVTotQ0ak1vL5Z5ybWsR+68lK5Hs5YJyZ2YRbcTNJbUc5Zb51rTy/sAAACAEhoAAQAAAAAAAAAAICANgAAAAPBHboDSEpwULUAp2uulktKFL00aa1xuktSSvHX69Ja+gJ2lJpTdW9Ynd54an55ypRuo+wliTW7dO8vyenNfd2kd6pbzDwAAEJoGQAAAAAAAAAAAAAjo8vn5ufrrbu/v7/P19fV1vl6Lfv0YAACA3aWmdhR+zktNXYmWtlIagtLqx+jc9+VrgeAs/I9yUqQmS13ba3qTy/qvjX/h/h9O/Icub19/2OhZ/W91/rthgoZUeq5ak/t+Fr0/hxYf163/oLoAAABwio+Pj/n68vIyX+9JAAQAAAAAAAAAAICANAACAAD0YkrkaDCVY0pciZa6MimdzilIJTd0qSWNbiu2yt2IFv5HS11rZXqLf17iD6hd13N/3pQINo3i99+73AnK3eA0ofY5PctyznNFnQd1DQAAgBQaAAEAAAAAAAAAACAgDYAAAADwg9IEllYClFJfh+SZ4HI33mALn5ostSRJNTe9uS+oMblJXcs6ps5vJ9O2Xe4GHG6i+pJ6rlLr4l5KX0duPRmO8w0AANAFDYAAAAAAAAAAAAAQ0OXz83P11+De39/n6+vr63y97vLryQAAAFSXmuKR+XlvaypLr+krpWEpR33MPmg70IrcjTnYwqemSi117Ojp3frvXX9t/R+fvJDEN3h5+/rDE7n3gdz0r9z1Gq7+qRdDyq1/eytJ+5uM/ryZfSx3/wcAAACo4ePjY76+vLzM13sSAAEAAAAAAAAAACAgDYAAAAC9mRI6dkzpmBJaSlNaelA6zVPgSm740hZ7/3wak7vgO9eL1uTWr2Gmt7EXPCV65aR6/Vvnt6+xUe46h5W73sNN1Nhy6+ZWpT8/t070xrEEAAAYmwZAAAAAAAAAAAAACOjy+fm5+utx7+/v8/X19XW+XkP9ujIAAACbY0ASP+9tTWkZLY2lNHWl9sfu1NfjY39QuRtvsAXPTpd6y5un0ulNPr+/Nv6FrS9s4wu4vH39YaPS+0JxClnieg5XF9WToaSep9rPdaXn2XPmus3HMflG45wDAACc6ePjY76+vLzM13sSAAEAAAAAAAAAACAgCYAAAAC92inZQwLgz3IDlO7lfgwX6DKI3I026IInJ02dlPy32Lq81ZP/Fon7a2sSYK37wlFJgMPWR/VlKEclARaf2y+eL3+2+RhW/4EAAADsSQIgAAAAAAAAAAAAdEgCIAAAQO8qJ3xIAEyTG6S02PpxPPXf8TE/qNwNNeiCR0v+W2wu23slAC42vpCjEwAXkgB3pt4MZa8kwNJz6nnyr833ha3TVf0HAgAAsCcJgAAAAAAAAAAAANAhDYAAAACwoyk4pSQ8ZQpo+Smk5dl/pxO5C126AUcxJcElpP8t02p6zzUlg92OZG9/ztTt4LvcDe7GNIQp2e+ndL9n//2Z7HPNz5xPAACALmkABAAAAAAAAAAAgIAun5+fq79G9/7+Pl9fX1/n69WvMwMAAMSUmvLx4PNfaoqL1JZ1paEry/Lk/hwf74Ox0FmSU6c2pv8dNa1bl/3668n/WPqCE/ff5e3rDw8cdV8oSR375m5fDF8/1aMh5J6f5XyXnj/Pj+tSj9/DY7f5BmMdAAAAWvLx8TFfX15e5us9CYAAAAAAAAAAAAAQkARAAACAURQmfmxNdJHckiY3UCmVj/XBSNoqsjmBqrHkv8Xmcr13AuBi4wtqJQFwUS0J8Iv72xf1aQi1z88jzlWazfeHR9Na/AMAAAA4gwRAAAAAAAAAAAAA6JAGQAAAADjRFLCyZ8jK3j+fyqZknpx0rcEXepm2KbGqZmrV0dOau/xR1F6fZ6ZksZrpYsvrP/p9NCf3YPS+wTtT+/zc2/vnc8f5AwAA6JoGQAAAAAAAAAAAAAhIAyAAAADfSQg5Re2ksdo/j53lnrtBF3qZrtxp+/X2Z86mcWeZztan9frrMo+HTnoD17e/ozVL0ljtxLHhEwFz91n2waUHtc8hlZ10/wAAAKCMBkAAAAAAAAAAAAAI6PL5+bn661zv7+/z9fX1db5e/dYXAABAH7am7tx9DtyabiTVpY69wpF8vG9M7kIPtpBPp+ktcR6/0v9am8bN5fmn9L/JXm9s4wu8PEkBbO0+sVd633D3Q/WsC85D2zbfJ+6nO/svAgAA0IKPj4/5+vLyMl/vSQAEAAAAAAAAAACAgCQAAgAAjCYzAUQC4DlyA5W28nH/ZKkLPMiCJe/7jQmArdenzeVZAuCuJKAVUtdC2Wu/LzwX1rX5PrFMu/MIAADQBQmAAAAAAAAAAAAA0CEJgAAAAKPJTAKRAHiO1OUq5eP/QSTyfJO9zzcm/y26TwDce58kLtSjJMBw65C4z7bq/n6pzjVl76S/RzwX1rX5PrFMe/JfAAAAoEUSAAEAAAAAAAAAAKBDEgABAABGlZgIIgHwWKnBSXvztUAlErFm1fb3xmS2XpL/FqclAC42vuBHCYCLsOsiETCNuneKsxL/HvF8WMfW4/TvGCX/BQAAAFokARAAAAAAAAAAAAA6JAEQAABgVImJIBIAj5Ub2JIatJTL1wSZUhco+ETvth8TE9h6SQB8mPy3OGq/bHzB3SYA3tspEXAR/r46WN07y96Jf4/2oefDY1W7X9xz7gAAAJomARAAAAAAAAAAAAA6JAEQAABgVImJPM+SnBYSXurYnPCycbpTA5hS+drgiU4TsPbeV/eWaektcWrzeX+U6HT0fklc+Ef3j+7WJ3F/lgp3v+20Dh6ttf0lAfBYxfeLe84ZAABACBIAAQAAAAAAAAAAoEMSAAEAAEa3MUpEAuAxjgpISv13cg3/dUIniVdH7Zd799ORmnzVXcJcKwmAi40vfJQEwEXpvq2l2fntpC4epfVEyV7rcquK7xf3Bj9fAAAAUUgABAAAAAAAAAAAgA5JAAQAABhdYYLTPckuZTYnu1Se5tRAplq6/7ohSNLVWet/79nb35o0Fa0ObT73QRMAF/f3kW7XqdI+3ttp8x+kLh7l6P2w17r3Wp9b8+z4bE7+W3R+vgAAAHohARAAAAAAAAAAAAA6JAEQAACAv55EikgA3FergUipr2sv4b6WaGxBW1nHe1vfdmpCVrfJcvfJTq0cjMQNttxPel2nxV77e2+HrUtjdbK20ZIee6/TrXh0bCT/AQAA9E0CIAAAAAAAAAAAAHRIAiAAAAB/PYgU2Zr8t5DokmdrENLZH89TA5vOcto8nZxo1er6lL7NrclSUevP5vMvAbAJm9froH1/tOrrdtSEFmp1Pe6dfa56r9dne3RcJAACAAD0TQIgAAAAAAAAAAAAdEgCIAAAAN/dRYtsTQCU5JInMTirucCW1NffmurzmTghl199nJu99mVq4lb3iXJLwlOr39NFL2gbnf02oyTRlbo+ev6oPKFR57PVejdK3T7bUock/wEAAIxBAiAAAAAAAAAAAAB0SAIgAAAA676iRSQA7mtz8lew6U1NyIouNYEnavLf0ftwa5JU2Pqz1NmN+yFMHUgtAEG/d2y1fo+SEDiaaHWu+/p9tkHqLAAAAH9JAAQAAAAAAAAAAIAOSQAEAABg3ZJMJQFwF6MHt6S+/9ZtTQBsPfmvlX2WmmAmAbAxgxS4qG9TQmCbenuOGqaOn2X0B0kAAIDBSAAEAAAAAAAAAACADkkABAAA4EdbE1yuS1Kgz4+bbA1uGX06UwNujrY1+W9xdgJglP20ue4ET/5b9JYAuKzfv/vCVkELXi/1XDLgPkZPtuu+nh9N8h8AAMCQJAACAAAAAAAAAABAhyQAAgAA8CMJgHUJbtnXUYmBrSf/Rd833SZGPdigvSYALjYnAQbduL0kAD4jIfAvSXVpUveN+X0g8QFnua94jgQAAOiDBEAAAAAAAAAAAADokARAAAAAfpScALjwOXLVKElRrStNCsxNALSuP+s+KUoC4DbBDkpqPVEHfnZW0qDkuX1tfp60DuskAAIAAAxNAiAAAAAAAAAAAAB0SAIgAAAAP8pOAFz4PPmNBMDgRH3tqtuEqCf7pvcEwIUkwL+UhUTqbhckAGZK3P/39xPHAQAAoA8SAAEAAAAAAAAAAKBDGgABAADgAFOAS2qIEQ1JXcApckfsDpW1XkemhK+tKV+wWWo9bf2g8CN1JM+U/Lc1TRYAAID+aAAEAAAAAAAAAACAgDQAAgAAsC9JPEkExzGibhOfNta/v7lN/dfJy9vfsZn7B3Tj+vs6DzZS/wAAAEigARAAAAAAAAAAAAAC0gAIAADAMQZNMhHgElzqAopw3FWYBCn75mep7zd1PhvX2ds5zuD7ZjTdJsM+k7hv/+bHDnT/AAAAYJUGQAAAAAAAAAAAAAhIAyAAAAA0IDXYiMZYQBieMnAQEx1amCRXAAAACEQDIAAAAAAAAAAAAASkARAAAIBjXS5/B7TMPiVH6r4ZPcks9f07l0CvEuvb5dd1HgAAADDRAAgAAAAAAAAAAAABaQAEAACgDklOjCh13/PN5b/LPMJLrWf2zXep89HJ/aOTt9E+E03LUven+wcAAAArNAACAAAAAAAAAABAQBoAAQAAqKKbJK9KBA5BPdff13lABAK6DmKih+D58jvPlwAAAKzRAAgAAAAAAAAAAAABaQAEAADgR8nJW6mJPINHmQgwaoxoHVKk7hcH/mep8+O8QljDJ7vufP9ILacAAADEpgEQAAAAAAAAAAAAAtIACAAAwD5So0ckORGJaJ2x7ZzcNLzU+XL/YAv7hBak7kP3DwAAADbQAAgAAAAAAAAAAAABaQAEAACgLRJ6oHuX/y7zCEd9alvQ9bGtCklIIwIHHQAAgB1pAAQAAAAAAAAAAICANAACAACwr9xkHkkpHMl+a9L193Uep8vdH5LJygS/f1h+wP0DAACAI2gABAAAAAAAAAAAgIA0AAIAAFDV5b/LPP5HbpJJI0lOWwV7uaSSyDOW3ANtn9SVO58KMmvsi5AePl+2KnefPah3ti0AAAA/0QAIAAAAAAAAAAAAAWkABAAAYJPr7+s8iklymuVOA0QWJsEpt9442PvKnd/O7h884PyFVO35shUn3z8cAwAAgDFpAAQAAAAAAAAAAICANAACAABwjtyIEklO1GQ/Nem0RKjc/XBw5FJr2/bwZMdO7x+NvzzgJ7kH+OD7BwAAAH3SAAgAAAAAAAAAAAABaQAEAADgXJ0mOdEZCT19ayS5qfdtVj3ZMXfCDr5/9L6uYR28D+hU7j5SGAAAAKhIAyAAAAAAAAAAAAAEpAEQAACANuQmoUjwAXJJbuqD+we3nE+O4P4BAABAQzQAAgAAAAAAAAAAQEAaAAEAAGhLbjKKJCdS2C+Huvx3mUczctdfctM3za1rJ/ePxl4OcCv3gLp/AAAAsCMNgAAAAAAAAAAAABCQBkAAAAB2UZwMFSzJ6aR/lr1J7DnU9fd1HrvJPaiN7oModWf3db2Xu147T2ij24goB4nZacmjufuk8ODbngAAAGyhARAAAAAAAAAAAAAC0gAIAABAEklOZQqDYIAcufXgpAOrTlSSO5GN3j9I5CCFcvjz5VZB7h+2OwAAwNg0AAIAAAAAAAAAAEBAGgABAACIITfaRJITt+yHseSutyilvrh/AKncPwAAAAhEAyAAAAAAAAAAAAAEpAEQAACAWCQ5cQQJPrENltx0dHm7/HeZRzi563v0BHMO68wkdx8EvX8AAADQBw2AAAAAAAAAAAAAEJAGQAAAAGKS5ATc6yy5qdGXtdn193UezcmdWPePmKIfJI7R2f0DAACAsWgABAAAAAAAAAAAgIA0AAIAALCry3+XeewmN3mlUpJTpR/D3ixU33LXV3LT2E6+fwD5qj1fNnr/UGYAAABIoQEQAAAAAAAAAAAAAtIACAAAQJbr7+s8mlGa5LRz1MrOQTHUYqFiKD231plbufuhdB/SJut5qt2fL2/PbM46N3b/aOzlAAAAcBINgAAAAAAAAAAAABCQBkAAAAD6UhqFkpsIA+yv9Hx2HpW0d/m6/HeZR7fcP/rW+fnnidLzaf8AAADQMA2AAAAAAAAAAAAAEJAGQAAAAPpUmtSyJMWUJsYA+Wqdw+DJTdFe/vX3dR5hlU54rX0L5Kt1DqMVYAAAAIakARAAAAAAAAAAAAAC0gAIAADAIS7/XeZxuFrJLaUJMsB2tc6b5CZKuH9APMHvH8oFAAAAOTQAAgAAAAAAAAAAQEAaAAEAAChy/X2dR/OWJJfSRJclmkVEC9RXeq5qnXO+OS3BtRW19tXX/r7++juACpb7xjJy1TrnBwnyMgEAADiIBkAAAAAAAAAAAAAISAMgAAAAYxKdMobSRCBicJ6/OWvbh0mELVVpv0kCbJz7R5Oub99HsUbuH7YbAAAAJTQAAgAAAAAAAAAAQEAaAAEAADjU5b/LPJqxJL80kgDDSaz/LnY777dndqB1G+zttu92DxYszJIEeJ8IKBFsJ4XrxTmqJ/4F3QdBXzYAAAA70wAIAAAAAAAAAAAAAWkABAAAoIrr7+s8whOtAofbnOzkfNKySvvzUSIgjGS5L2y+Pzzj/gEAAEDHNAACAAAAAAAAAABAQBoAAQAAOMXlv8s8mrUkxdRKjLn8ea/TgBHU2u+1z+FgSpeh+Trdqtr7ttZ5gghq7ffa53AnjjcAAAA1aAAEAAAAAAAAAACAgDQAAgAAUNX193Ue3amVILNEvYh8oSe19vVtWlON89ap1qan27pfS60Fq3XOoCW19vVyzmqdt8Z0+rYAAACoRAMgAAAAAAAAAAAABKQBEAAAgFNd/rvMI4zbdJkaUSyliTdwplr7t9Z5gpbd3jtq7Hf3DyIb/P7h+AIAAFCTBkAAAAAAAAAAAAAISAMgAAAAu7j+vs6DjZYoGJEwtOh+fy6DEFKXK1wya1CXX9dvI9vtmUxZaDjC/f5cRqbL2/fRu6ABhwAAABxMAyAAAAAAAAAAAAAEpAEQAAAAWrSWljMNtjFfeW732u2gSWcnQ0l6ras4CXCxdoanQR7zt83tXrsdlfSS+Fd5WgAAAGCmARAAAAAAAAAAAAAC0gAIAABAEy7/XebBE7epOreDPGdHqJ1lbQ9Ng649W2Z1uA1LEmC1RMDF7Vm/HaMatf6XWttD06hsSfzrJfkvle0JAABACg2AAAAAAAAAAAAAEJAGQAAAAHZ1/X2dx+iqJzndW0vjmQZjW9sT09ib6KJDHT3d6vrB9l7gtRoxDca2tiemsbOtiX/qEAAAAPw/DYAAAAAAAAAAAAAQkAZAAAAAmnL57zKPKJKDmZa/kPwXM62l90yDvqyt8TSOcvS+psj99ohWd4d19Dm7rSW3g76srfE0jnL0vj7J0dMKAADAWDQAAgAAAAAAAAAAQEAaAAEAADjE9fd1Htw5K/nmNuXndtC2tTWbxlHu9+syaMLey6GON+b2DO658PfWatA0aNvamk3jKPf7dRl8Y1oAAADIoQEQAAAAAAAAAAAAAtIACAAAQJMu/13mMZzbVJzbcZS1dKBpcKy1NZjGUdb24DToytHbip2tndlpHOW2Vt0OjrW2BtM4ytoenMagjp5+AAAAxqQBEAAAAAAAAAAAAALSAAgAAMChrr+v8yDRWprONI5ymyK0ZbBuba7WxlHW9tQ0CK32Mqrbwd2e7dtxlLUa99Ng3dpcrY2jrO2paZDF9AEAAFBCAyAAAAAAAAAAAAAEpAEQAAAAIrtN3bkdZ1tLJdoyStX6Oc/cvuaUcZa1PTINmLz92QvTYCxrNWEaZ1urnVvG3mr9O7evOWWcZW2PTIMfnb1sAAAAjEUDIAAAAAAAAAAAAASkARAAAICmXf67zINEa2k902jdbdpRyki1zMfaz9oyWnW71rejcc75PpKX/y4J8Pr7Og/qar2MfKsdt6N1tzU6ZeS+v7WftWW06natbwe7Ms0AAADUoAEQAAAAAAAAAAAAAtIACAAAwCkkS53kNtXndkSXmqzUehLTM2trOI3GOOcxWbc2NHesb2vN7YjO/ePvAAAAAMLSAAgAAAAAAAAAAAABaQAEAAAghMt/l3mwk7U0oGlwrrU1mQakePtTO6exUfSAMw62VqOmwbnW1mQa7Er9BAAA4AwaAAEAAAAAAAAAACAgDYAAAACc6vr7Oo+tJAEebC096KfBNmtztzagpsQkQCiyVtN+GmyzNndrg0OlJv9ZJgAAAGrSAAgAAAAAAAAAAAABaQAEAAAA6rlNH0oZUa29ly0DDlCamJqaaAVF1mrllhHV2nvZMgAAAADuaAAEAAAAAAAAAACAgDQAAgAA0ITr7+s8tipNtqIxaylHW0Ytaz97y6Aq5/ogb3/meBocSqLiTtZq85ZRy9rP3jLoQuq5tvwAAADsQQMgAAAAAAAAAAAABKQBEAAAgKZIAiTJbZpSSqRO7t8jS+q5pkztuii57ljK0kFu7wEpE5779+iK5D8AAABaogEQAAAAAAAAAAAAAtIACAAAAAeSpNUICwESqWDiftAEic4AAACQTwMgAAAAAAAAAAAABKQBEAAAgCZdf1/nsdXZyTGStBphIRjY3nVQUBpDc39pQurzYW2pddC2AQAA4AgaAAEAAAAAAAAAACAgDYAAAAA0LVoSIMDRUuvefV1NTaiSBAiMRvIfAAAALdMACAAAAAAAAAAAAAFpAAQAAKBLrScBStACSp1d59QxoJTnNQAAACinARAAAAAAAAAAAAAC0gAIAABACNff13m07vrnJU4DyNd6ItTZcufnWR3NrV8Ssn5mfqCc50AAAAB4TAMgAAAAAAAAAAAABKQBEAAAgFBSE2AkiUE7oiQ49SZ13iVYncO8QztSkzudXwAAAM6kARAAAAAAAAAAAAAC0gAIAABASKmJVpIAgehS61hqnbyXmmiVmpgF0BrJfwAAAESkARAAAAAAAAAAAAAC0gAIAADAUFpLApSYdTILQABHJ//dkwRIl2zUU3keAwAAgHo0AAIAAAAAAAAAAEBAGgABAAAIrXbSVS2piVlUZgHoQGsJWakkatEF95NTec4DAACA5zQAAgAAAAAAAAAAQEAaAAEAAOhCakJM9GQtGMGo5zT3fe+dlJWbeDVqEqAERGhf6jmV/AcAAECLNAACAAAAAAAAAABAQBoAAQAA6ErUJEBJUYxk76S6qFpN/rsnCbAuiWKMJOpzl3MKAABAyzQAAgAAAAAAAAAAQEAaAAEAAGBHEmOAZ6Ik/93LrW+SAIFnzq5vAAAAEIkGQAAAAAAAAAAAAAhIAyAAAABdSk2OyU3gAsgVNfnvniRAIIrUupNb3wAAAOBIGgABAAAAAAAAAAAgIA2AAAAAdE0SIMTX27nMfT+tJf/dkwT4V2/vB3qQei4l/wEAABCJBkAAAAAAAAAAAAAISAMgAAAArDgrcUxy1ElM/ClaT7RrRbR5kpy1jXk6iXp/Cs9VAAAAsB8NgAAAAAAAAAAAABCQBkAAAACGkJugVSuxRtLTSUw8DUmtJ9GS/+6lHr/oSV2Sxjrj/nGKWnUv9zxadgAAACLSAAgAAAAAAAAAAAABaQAEAABgKLnJMktyV2qCF1BP1POX+rprJWC1IjVRq/ckPQljUN9SN3Lrh3MJAABAZBoAAQAAAAAAAAAAICANgAAAAAypNGFr7ySy3AQbiKi3xLvF3nWid+ogxNf685LkPwAAAHqgARAAAAAAAAAAAAAC0gAIAADA0I5OApQ0A+X2TpQqlfv6ek1CXOTWv9aTAFt/fRBBav0rPXeexwAAAOiJBkAAAAAAAAAAAAAISAMgAAAA/FGavNV6IhlEUHoOz7Kc/9w6EPV95ypNAixN/jqLxLGTRd04fFO6jM4hAAAAPdIACAAAAAAAAAAAAAFdPj8/V3/f7f39fb6+vr7O16tfiwMAAGBAual+z9K8UtNrfCwvZMJDST13Z6Xn5daHxUipfz8pDWU767gqK8FsXTALVUXtOp5bJywnAAAAPfj4+JivLy8v8/WeBEAAAAAAAAAAAAAISAMgAAAA/GBKpMlJ6ZqSb35Kv5kSaaTSHMiEh5J77o7y7Hw/0/r7O1rp8ZySwUpTBPek/MBjz+ph7vl27gAAABiJBkAAAAAAAAAAAAAISAMgAAAAbJCb2FWaFLZoPeEKRiD5b1+liV1H1Un1OBgLdqizn3sk/wEAADAiDYAAAAAAAAAAAAAQ0OXz83P19+He39/n6+vr63y9+rU5AAAA+Cc33eZR+tfWlBsfzwulxgmZ8FOlnrPa6XqlKVbS/uooDW+rfYzV62As2KG21s3S56F7lg8AAICefXx8zNeXl5f5ek8CIAAAAAAAAAAAAAQkARAAAAAK1EoIE0x3MIlQoZQmSqWS/Nem3GSwRa3jrHwEY8EOkVo3c59/7lk2AAAARiABEAAAAAAAAAAAADqkARAAAAAKTAk2JWlfU2LONKYEGyk2UGY5T7lK/35pPeBnpXVyShorSRsr/fsczII1aamTpcvjuQkAAAD+nwZAAAAAAAAAAAAACOjy+fm5+nty7+/v8/X19XW+Xv06HQAAADxVkh42e0v7/O3jeqbU2CET3YSt52trCl/xef0i9e8ctcLdth7vrf+ectEIC3aI5Dqa+Jxzz3IBAAAwoo+Pj/n68vIyX+9JAAQAAAAAAAAAAICAJAACAADADo5KAvRxvZCEqFBSz9WjZL7S8ynxr02liYCPjnnqz1UuGqG+H2JzPZX8BwAAANkkAAIAAAAAAAAAAECHJAACAADAAZITxxKTcnxszyQhKqSt5+k+qU/y3xhqJwEqE8GIbDzE03oq8Q8AAACqkQAIAAAAAAAAAAAAHdIACAAAAAeYksOS0sPeLn8HbZgSpUpjxTjNlFRVkv6XfH451ZQcVpIethx3x75zpRuF76bEv9uRybIAAABAOg2AAAAAAAAAAAAAENDl8/Nz9ffp3t/f5+vr6+t8vfq1OwAAAKhmcxpZYoqOj++ZtsZ8meAmlKT5bSHtr097pfkpC41Rz3f1r/4WpPytsRwAAADw2MfHx3x9eXmZr/ckAAIAAAAAAAAAAEBAEgABAADgRNWTAN/+/jwJZokkRoVUOwnQuRlD7SRAZaERqQtr4ZJI0AQAAIDzSAAEAAAAAAAAAACADkkABAAAgIY8TDTbmgC4+EoCXEg2e0JyVEi1EgCdjzHVSjRTDhqxdUEt2CYS/wAAAKAdEgABAAAAAAAAAACgQxIAAQAAoGH/k3C2NQnwLgHwnsSzByRINalW0t8954CJpLNOqN9FnAMAAABolwRAAAAAAAAAAAAA6JAEQAAAAAgkOaHnSRLgQhLaFwlSTdgr8W9hv7NmrwS0hbKxk9SFsxAziX8AAAAQhwRAAAAAAAAAAAAA6JAEQAAAAAhoc3LPxgTAe8MmpEmSOsXeiX+PSAJksnfy3yPKRyVbF3DwCd9tn389Z6inAAAAsB8JgAAAAAAAAAAAANAhCYAAAAAQUHKST2YS4GK4ZB+JUrs6K/HvEclVYzor+e8R5SSTer1q78S/e+ooAAAA7EcCIAAAAAAAAAAAAHRIAiAAAAAEtjnhpzAB8JFuE38kSlW1d+Lf/T7M/fckWI0hNxnt/rjvlrD2RXl5InUBOp3Qvffhs+cHdRMAAAD2JwEQAAAAAAAAAAAAOiQBEAAAAAJLTv7ZKQnwXvhEIMlSWY5O+ntGEiC3cpPSUo/33olsys2XrRPdyYTtva/+SXxOUC8BAABgfxIAAQAAAAAAAAAAoEMSAAEAAKADuYF1eye2PRImMWiwhKlUrSX+PZL6OiVa9Sm3TpbaO7lt2K9tO6vPe++TR3KfB9RJAAAAOI4EQAAAAAAAAAAAAOiQBEAAAADoQG5y0P3H/bMSARfNJQqdFRnWiKP3w97rL+FqTK0d46OT3rr7Wjd4XT56/e/Vuu+rjwAAAHAcCYAAAAAAAAAAAADQIQmAAAAA0JHcZKFHH/vPTgS8d1riUPDEqXutrOtZ6ykJcAxRju3ZiXCL5r/+DbKgraznovb9XT0EAACA40kABAAAAAAAAAAAgA5JAAQAAIAO7R2UNFwyYOPJU62txyOtJEdJvupbbgJbK19/tpYg98jh89VYHW5tnfa+j6t/AAAAcB4JgAAAAAAAAAAAANAhCYAAAADQsaMDk6Ik0eW6vn39YavCCY06n1GSoiRg9amxoLhqoiQD3iue341v/PJrjPN59H1a3QMAAIDzSQAEAAAAAAAAAACADkkABAAAgAG0kojVS0JgahLgJTU5MJjoCVESsfrQa/LfI1ETAflZK/dfdQ4AAADaIQEQAAAAAAAAAAAAOiQBEAAAAAaQmxR11NcB0ZIBR0sAHCUJSkJWTKMl/20lIbBtrd9f1TcAAABohwRAAAAAAAAAAAAA6JAEQAAAABhI60mAj7SaEBg9CVDC03eSsmKJWs9aIylwH1Hvm+oZAAAAtEcCIAAAAAAAAAAAAHRIAiAAAAAMqJfkrFaSAbcmAe6dACi5qQ7JWW2T/HcuiYHf9XJfVL8AAACgXRIAAQAAAAAAAAAAoEMSAAEAAGBgkrS2eZaotDUBcJGaBCiZ6RypSVrW6RipdcvXmuc4Kylw1PWW/AcAAAD9kgAIAAAAAAAAAAAAHZIACAAAAEgCrEU0WZckAbbB8eqUhS0i+Q8AAAD6JwEQAAAAAAAAAAAAOqQBEAAAAJgDlXJClabgptz0QIhiSspKScuaErlyU7n4X6l1Jree0TgL+01unUmtZwAAAED7NAACAAAAAAAAAABAQBoAAQAAgH8ELBVKnUARil2TBFjG8eicBT6U5D8AAADolwZAAAAAAAAAAAAACOjy+fm5+mt/7+/v8/X19XW+Xv36PwAAAAwnNZzJ1wd3TGCXSlP9pHCtKw2Dc3yCUBeLpNYf9QYAAADi+/j4mK8vLy/z9Z4EQAAAAAAAAAAAAAhIAyAAAADw0BS8lBK+NAU7laZ4QeumRK2SVK0pwas0RbAnpXUjtU5BRKl1o7ROAQAAAHFoAAQAAAAAAAAAAICANAACAAAA1UkC/CJCsWuSAMuUbnfJf8GkLrgFno1eJwAAAIDnNAACAAAAAAAAAABAQBoAAQAAgKdyg5hKE766kTqBJi4USYBpSrd3bj3iJKkLboFnuXWhtB4BAAAA8WgABAAAAAAAAAAAgIAun5+fq78O+P7+Pl9fX1/n69VvXQIAAABfSsPphv2aIXXifB8TWm6qX2/pXerF4NS9TUpTQKX+AQAAQL8+Pj7m68vLy3y9JwEQAAAAAAAAAAAAApIACAAAAGST7JVJItZQRk32Uh8Gp85tIvkPAAAAeEYCIAAAAAAAAAAAAHRIAiAAAABQrDTpazHc1w8SsoYyStKX5L/BqWs/Kq0DC8l/AAAAMA4JgAAAAAAAAAAAANAhDYAAAABAsSnAqUaI0xQcVStNsEsmKLQpsasktWtKDquVHraH0u1Zq45wEvXpR7XOb2kdAQAAAPqjARAAAAAAAAAAAAACunx+fq7+uuD7+/t8fX19na9Xv34LAAAAJCoNgxrm64jcifJ9TWilaWCtpIDZvoOzAX7UyzkHAAAAzvPx8TFfX15e5us9CYAAAAAAAAAAAAAQkARAAAAAYHelSYCL7r+ekKQ1tChJYaXn2XbthHq1qvQcLyT/AQAAAAsJgAAAAAAAAAAAANAhCYAAAADA4SSIPSFZa2itJgE6t8zUp1VREjwBAACAeCQAAgAAAAAAAAAAQIc0AAIAAACHm4KgSsKgpgCq0jSypuVOUPcTM4YpCawkDWxKIitNI7tVuq1KzzuNyN0InW+A0vNWet4BAAAANAACAAAAAAAAAABAQJfPz8/VXy98f3+fr6+vr/P16td0AQAAgJ3UCq3r9uuL3AnyfU4XaqX5bU0Zcx75Rv355ujzCAAAAPDx8TFfX15e5us9CYAAAAAAAAAAAAAQkARAAAAAoDmlCWSSAO/4XqcrpQlkj5LHnDu+UW++2evcAQAAADwjARAAAAAAAAAAAAA6JAEQAAAAaFZpItmiu681JHPxR2ki2T9vZfvCtuqM+jKrdb4k/wEAAAClJAACAAAAAAAAAABAhyQAAgAAAM2TBPiApC7+qJYEuNiYCGgbdUY9mUn+AwAAAFojARAAAAAAAAAAAAA6JAEQAAAACEci4B3JXdzYKxHQdunUoPWj9jmR+AcAAADsRQIgAAAAAAAAAAAAdEgCIAAAABBWrSTAe2G/BpEEyB//tsGbhDN+MFi9qJ6M+cW5AAAAAPYmARAAAAAAAAAAAAA6JAEQAAAA6IZEwC+SAIeyebklAjIZpD5I/AMAAAB6IQEQAAAAAAAAAAAAOiQBEAAAAOjOXkmAizBfk0gC7FK1/S0RcCyd1oO9kv7u2d8AAADAWSQAAgAAAAAAAAAAQIckAAIAAADd2zsRcNHs1yeSAEOrvX8fLWvtJDWJaY3o7PxL/AMAAABGIwEQAAAAAAAAAAAAOiQBEAAAABjOsImApW/c90OHOir5754kwOA6O+d7J/7ZnwAAAEDrJAACAAAAAAAAAABAhyQAAgAAAHzZOxmwma9XJAE2Za99V2uZ9kpgk7xWWfBzvXfS38K+AwAAAKKRAAgAAAAAAAAAAAAdkgAIAAAA8MDeiYCL0752qfUGfW+06qj9szhqGY5KaltIbHsg+PmV+AcAAACwjQRAAAAAAAAAAAAA6JAEQAAAAICNjk50W+z+tYwkwCxn7YdFK9N9dCLgveES3oKcV0mRAAAAAHVIAAQAAAAAAAAAAIAOSQAEAAAAKHR2Etyi2tc3EgFnrazrvVan9ewkwEfCJ8M1dh5bWWeJfwAAAMAoJAACAAAAAAAAAABAhyQAAgAAAFTWanLcvadf93SaBBhlfRZRv5ZrNRHwkWYS5Wpv0CcbKMo6SfwDAAAARiUBEAAAAAAAAAAAADokARAAAABgZ9ES5+79+1po50TA6PNUapSv36IlA9b2MMmu8vmKOs+S/gAAAAC+kwAIAAAAAAAAAAAAHZIACAAAAHCSqIl31191X/jlz0/sma/V8oyeFDgKiX8AAAAAP5MACAAAAAAAAAAAAB2SAAgAAADQqCgJgbUSAaMmAfra7BwSAmOQ8AcAAABQRgIgAAAAAAAAAAAAdEgCIAAAAEBwrSQF1koCXLSSCOhrsZgkBO5Lsh8AAADAMSQAAgAAAAAAAAAAQIckAAIAAAAM5qjEwFqJgHslAfq6i4mkwL8k+gEAAAC0SQIgAAAAAAAAAAAAdEgCIAAAAACraicF1koEFN1HUzYelMvb1x8OJtkPAAAAIDYJgAAAAAAAAAAAANAhCYAAAAAAHKt2tODC91fsaa99u7B/AQAAAFghARAAAAAAAAAAAAA6pAEQAAAAgGNNSWe3o5YpoW1tQIq1PTSN2vY6BwAAAAAMRQMgAAAAAAAAAAAABKQBEAAAAIBz7Z2AtpbmNg3GtrYnprE3iX8AAAAAVKQBEAAAAAAAAAAAAALSAAgAAABAG5ZktKMS0tbS36ZBX9bWeBpHOXpfAwAAADAUDYAAAAAAAAAAAAAQkAZAAAAAANp0VnLaWlrcNGjb2ppN4yj3+3UZAAAAALAjDYAAAAAAAAAAAAAQkAZAAAAAAGJYS1ebxlHW0uWmwbHW1mAaR1nbg9MAAAAAgBNoAAQAAAAAAAAAAICANAACAAAAENtaGts0jrKWRvfTYN3aXK2No6ztqWkAAAAAQEM0AAIAAAAAAAAAAEBAGgABAAAA6NNaets0zraWardlRLH22reMs6ztkWkAAAAAQAAaAAEAAAAAAAAAACAgDYAAAAAAjGUt7W0arVtLzdsycq39rC2jVWtrPg0AAAAACEwDIAAAAAAAAAAAAASkARAAAAAAJmvpcNOIbi2lb8uIam0NpwEAAAAAHdIACAAAAAAAAAAAAAFpAAQAAACAn6ylyU2Dc62tyTQAAAAAYCAaAAEAAAAAAAAAACAgDYAAAAAAkGMtfe6nwTZrc7c2AAAAAAANgAAAAAAAAAAAABCRBkAAAAAAOMJait2WEdXae9kyAAAAAIDNNAACAAAAAAAAAABAQBoAAQAAAKBlayl5W0Ytaz97ywAAAAAAdqcBEAAAAAAAAAAAAALSAAgAAAAAPVpL5csZAAAAAECzNAACAAAAAAAAAABAQBoAAQAAAAAAAAAAICANgAAAAAAAAAAAABCQBkAAAAAAAAAAAAAISAMgAAAAAAAAAAAABKQBEAAAAAAAAAAAAALSAAgAAAAAAAAAAAABaQAEAAAAAAAAAACAgDQAAgAAAAAAAAAAQEAaAAEAAAAAAAAAACAgDYAAAAAAAAAAAAAQkAZAAAAAAAAAAAAACEgDIAAAAAAAAAAAAASkARAAAAAAAAAAAAAC0gAIAAAAAAAAAAAAAWkABAAAAAAAAAAAgIA0AAIAAAAAAAAAAEBAGgABAAAAAAAAAAAgIA2AAAAAAAAAAAAAEJAGQAAAAAAAAAAAAAhIAyAAAAAAAAAAAAAEpAEQAAAAAAAAAAAAAtIACAAAAAAAAAAAAAFpAAQAAAAAAAAAAICANAACAAAAAAAAAABAQBoAAQAAAAAAAAAAICANgAAAAAAAAAAAABCQBkAAAAAAAAAAAAAISAMgAAAAAAAAAAAABKQBEAAAAAAAAAAAAALSAAgAAAAAAAAAAAABaQAEAAAAAAAAAACAgDQAAgAAAAAAAAAAQEAaAAEAAAAAAAAAACAgDYAAAAAAAAAAAAAQkAZAAAAAAAAAAAAACEgDIAAAAAAAAAAAAASkARAAAAAAAAAAAAAC0gAIAAAAAAAAAAAAAWkABAAAAAAAAAAAgIA0AAIAAAAAAAAAAEBAGgABAAAAAAAAAAAgIA2AAAAAAAAAAAAAEJAGQAAAAAAAAAAAAAhIAyAAAAAAAAAAAAAEpAEQAAAAAAAAAAAAAtIACAAAAAAAAAAAAAFpAAQAAAAAAAAAAICANAACAAAAAAAAAABAQBoAAQAAAAAAAAAAICANgAAAAAAAAAAAABCQBkAAAAAAAAAAAAAISAMgAAAAAAAAAAAABKQBEAAAAAAAAAAAAALSAAgAAAAAAAAAAAABaQAEAAAAAAAAAACAgDQAAgAAAAAAAAAAQEAaAAEAAAAAAAAAACAgDYAAAAAAAAAAAAAQkAZAAAAAAAAAAAAACEgDIAAAAAAAAAAAAASkARAAAAAAAAAAAAAC0gAIAAAAAAAAAAAAAWkABAAAAAAAAAAAgIA0AAIAAAAAAAAAAEBAGgABAAAAAAAAAAAgIA2AAAAAAAAAAAAAEJAGQAAAAAAAAAAAAAhIAyAAAAAAAAAAAAAEpAEQAAAAAAAAAAAAAtIACAAAAAAAAAAAAAFpAAQAAAAAAAAAAICANAACAAAAAAAAAABAQBoAAQAAAAAAAAAAICANgAAAAAAAAAAAABCQBkAAAAAAAAAAAAAISAMgAAAAAAAAAAAABKQBEAAAAAAAAAAAAALSAAgAAAAAAAAAAAABaQAEAAAAAAAAAACAgDQAAgAAAAAAAAAAQEAaAAEAAAAAAAAAACAgDYAAAAAAAAAAAAAQkAZAAAAAAAAAAAAACEgDIAAAAAAAAAAAAASkARAAAAAAAAAAAAAC0gAIAAAAAAAAAAAAAWkABAAAAAAAAAAAgIA0AAIAAAAAAAAAAEBAGgABAAAAAAAAAAAgIA2AAAAAAAAAAAAAEJAGQAAAAAAAAAAAAAhIAyAAAAAAAAAAAAAEpAEQAAAAAAAAAAAAAtIACAAAAAAAAAAAAAFpAAQAAAAAAAAAAICANAACAAAAAAAAAABAQBoAAQAAAAAAAAAAICANgAAAAAAAAAAAABCQBkAAAAAAAAAAAAAISAMgAAAAAAAAAAAABKQBEAAAAAAAAAAAAALSAAgAAAAAAAAAAAABaQAEAAAAAAAAAACAgDQAAgAAAAAAAAAAQEAaAAEAAAAAAAAAACAgDYAAAAAAAAAAAAAQkAZAAAAAAAAAAAAACEgDIAAAAAAAAAAAAASkARAAAAAAAAAAAAAC0gAIAAAAAAAAAAAAAWkABAAAAAAAAAAAgIA0AAIAAAAAAAAAAEBAGgABAAAAAAAAAAAgIA2AAAAAAAAAAAAAEJAGQAAAAAAAAAAAAAhIAyAAAAAAAAAAAAAEpAEQAAAAAAAAAAAAAtIACAAAAAAAAAAAAAFpAAQAAAAAAAAAAICANAACAAAAAAAAAABAQBoAAQAAAAAAAAAAICANgAAAAAAAAAAAABCQBkAAAAAAAAAAAAAISAMgAAAAAAAAAAAABKQBEAAAAAAAAAAAAALSAAgAAAAAAAAAAAABaQAEAAAAAAAAAACAgDQAAgAAAAAAAAAAQEAaAAEAAAAAAAAAACAgDYAAAAAAAAAAAAAQkAZAAAAAAAAAAAAACEgDIAAAAAAAAAAAAASkARAAAAAAAAAAAAAC0gAIAAAAAAAAAAAAAWkABAAAAAAAAAAAgIA0AAIAAAAAAAAAAEBAGgABAAAAAAAAAAAgIA2AAAAAAAAAAAAAEJAGQAAAAAAAAAAAAAhIAyAAAAAAAAAAAAAEpAEQAAAAAAAAAAAAAtIACAAAAAAAAAAAAAFpAAQAAAAAAAAAAICANAACAAAAAAAAAABAQBoAAQAAAAAAAAAAICANgAAAAAAAAAAAABCQBkAAAAAAAAAAAAAISAMgAAAAAAAAAAAABKQBEAAAAAAAAAAAAALSAAgAAAAAAAAAAAABaQAEAAAAAAAAAACAgDQAAgAAAAAAAAAAQEAaAAEAAAAAAAAAACAgDYAAAAAAAAAAAAAQkAZAAAAAAAAAAAAACEgDIAAAAAAAAAAAAASkARAAAAAAAAAAAAAC0gAIAAAAAAAAAAAAAWkABAAAAAAAAAAAgIA0AAIAAAAAAAAAAEBAGgABAAAAAAAAAAAgIA2AAAAAAAAAAAAAEJAGQAAAAAAAAAAAAAhIAyAAAAAAAAAAAAAEpAEQAAAAAAAAAAAAAtIACAAAAAAAAAAAAAFpAAQAAAAAAAAAAICANAACAAAAAAAAAABAQBoAAQAAAAAAAAAAICANgAAAAAAAAAAAABCQBkAAAAAAAAAAAAAISAMgAAAAAAAAAAAABKQBEAAAAAAAAAAAAALSAAgAAAAAAAAAAAABaQAEAAAAAAAAAACAgDQAAgAAAAAAAAAAQEAaAAEAAAAAAAAAACAgDYAAAAAAAAAAAAAQkAZAAAAAAAAAAAAACEgDIAAAAAAAAAAAAASkARAAAAAAAAAAAAAC0gAIAAAAAAAAAAAAAWkABAAAAAAAAAAAgIA0AAIAAAAAAAAAAEBAGgABAAAAAAAAAAAgIA2AAAAAAAAAAAAAEJAGQAAAAAAAAAAAAAhIAyAAAAAAAAAAAAAEpAEQAAAAAAAAAAAAAtIACAAAAAAAAAAAAAFpAAQAAAAAAAAAAICANAACAAAAAAAAAABAQBoAAQAAAAAAAAAAICANgAAAAAAAAAAAABCQBkAAAAAAAAAAAAAISAMgAAAAAAAAAAAABKQBEAAAAAAAAAAAAALSAAgAAAAAAAAAAAABaQAEAAAAAAAAAACAgDQAAgAAAAAAAAAAQEAaAAEAAAAAAAAAACAgDYAAAAAAAAAAAAAQkAZAAAAAAAAAAAAACEgDIAAAAAAAAAAAAASkARAAAAAAAAAAAAAC0gAIAAAAAAAAAAAAAWkABAAAAAAAAAAAgIA0AAIAAAAAAAAAAEBAGgABAAAAAAAAAAAgIA2AAAAAAAAAAAAAEJAGQAAAAAAAAAAAAAhIAyAAAAAAAAAAAAAEpAEQAAAAAAAAAAAAAtIACAAAAAAAAAAAAAFpAAQAAAAAAAAAAICANAACAAAAAAAAAABAQBoAAQAAAAAAAAAAICANgAAAAAAAAAAAABCQBkAAAAAAAAAAAAAISAMgAAAAAAAAAAAABKQBEAAAAAAAAAAAAALSAAgAAAAAAAAAAAABaQAEAAAAAAAAAACAgDQAAgAAAAAAAAAAQEAaAAEAAAAAAAAAACAgDYAAAAAAAAAAAAAQkAZAAAAAAAAAAAAACEgDIAAAAAAAAAAAAASkARAAAAAAAAAAAAAC0gAIAAAAAAAAAAAAAWkABAAAAAAAAAAAgIA0AAIAAAAAAAAAAEBAGgABAAAAAAAAAAAgIA2AAAAAAAAAAAAAEJAGQAAAAAAAAAAAAAhIAyAAAAAAAAAAAAAEpAEQAAAAAAAAAAAAAtIACAAAAAAAAAAAAAFpAAQAAAAAAAAAAICANAACAAAAAAAAAABAQBoAAQAAAAAAAAAAICANgAAAAAAAAAAAABCQBkAAAAAAAAAAAAAISAMgAAAAAAAAAAAABKQBEAAAAAAAAAAAAALSAAgAAAAAAAAAAAABaQAEAAAAAAAAAACAgDQAAgAAAAAAAAAAQEAaAAEAAAAAAAAAACAgDYAAAAAAAAAAAAAQkAZAAAAAAAAAAAAACEgDIAAAAAAAAAAAAASkARAAAAAAAAAAAAAC0gAIAAAAAAAAAAAAAWkABAAAAAAAAAAAgIA0AAIAAAAAAAAAAEBAGgABAAAAAAAAAAAgIA2AAAAAAAAAAAAAEJAGQAAAAAAAAAAAAAhIAyAAAAAAAAAAAAAEpAEQAID/a+ducqvMgTAKJ2HGAlgCO2HClhiyKlbCMmDECEjr3HCiFyuoh83XOo/ktr9yVdn3J+oMIpIkSZIkSZIkSZIkF9QfACZJkiRJkiRJkiRJkiRJckH9AWCSJEmSJEmSJEmSJEmSJBfUHwAmSZIkSZIkSZIkSZIkSXJB/QFgkiRJkiRJkiRJkiRJkiQX1B8AJkmSJEmSJEmSJEmSJElyQf0BYJIkSZIkSZIkSZIkSZIkF9QfACZJkiRJkiRJkiRJkiRJckH9AWCSJEmSJEmSJEmSJEmSJBfUHwAmSZIkSZIkSZIkSZIkSXJB/QFgkiRJkiRJkiRJkiRJkiQX1B8AJkmSJEmSJEmSJEmSJElyQf/6B4CPj4+3kSRJkiRJkiRJkiRJkiRJ/h79C4BJkiRJkiRJkiRJkiRJklzQ/devX1/85/2+ffv2a5UkSZIkSZIkSZIkSZIkSf4rr1+//rX6Xf8CYJIkSZIkSZIkSZIkSZIkF/THfwEwSZIkSZIkSZIkSZIkSZL8vfoXAJMkSZIkSZIkSZIkSZIkuaD+ADBJkiRJkiRJkiRJkiRJkgvqDwCTJEmSJEmSJEmSJEmSJLmg+3fv3j3e39/fPT4+3j08PNxmhozDvN2HOT9//rzlsP7x48dv/YyLfWJgppb9XZND7atXr5577BnE4B4zcet5ds0M1tsHu4a9NkaddzbftWcxY1+bew7rwPzhw4fbOkmSJLmCjx8/Pv/u6+/F/q68v/saV7////662dOZe+5ha1jTB/bkPTOG7bP5xHhmn3tTt/PewfXG7WGONsbMGWD9Ul9svXnew9fLsJe12wPbZ/NhPqxjfP/+/XaW+7vH2s9p62DcGPMitrUyz9kep+1pr/M9Mc4MzzKXefOw53mGMeMwDvN2H+Z4B9bnZ2ZcfgfATC37uyaHWl6DPfYMYnCPmbj1PLtmBuvtg13DXhujzjub79qzmLGvzT2HdTjrdeaee9ga1vSBPf3ctX02nxjP7HNvv1vOewfXG7eHOdoYM2eA9Ut9sfXmeQ9fL8Ne1m4PbJ/Nh/mwjtHP/9P7xGwcxmHe7sMc78D6/MyMy+8AmKllf9fkUMtrsMeeQQzuMRO3nmfXzGC9fbBr2Gtj1Hln8117FjP2tbnnsA5nvc7ccw9bw5o+sKefu7bP5hPjmX3u7XfLee/geuP2MEcbY+YMsH6pL7bePO/h62XYy9rtge2z+Xj79u3zvnWe5ftAfPdY+zltHYwbY17EtlbmOdvjtD3tdb4nxpnhWeYybx72PM8wZhzGYd7uwxzvwPr8zIyLfWJgppb9XZMD+7hnL+/hHjNx63l2zQzW2we7hr02Rp13Nt+1ZzFjX5t7Dutw1uvMPfewNazpA3v6uWv7bD4xntnn3n63nPcOrol//vz5Vv/mzZvnPfvjy5cvv9VxBqxn3n1svXnnd51hL2u3B7bP5sN8WMfo//9P7xOzcRiHebsPc7wD6/MzMy6/A2Cmlv1dk0Mtr8EeewYxuMdM3HqeXTOD9fbBrmGvjVHnnc137VnM2NfmnsM6nPU6c889bA1r+sCefu7aPptPjGf2ubffLee9g+uN28McbYyZM8D6pb7YevO8h6+XYS9rtwe2z+bDfFjH6Of/6X1iNg7jMG/3YY53YH1+ZsbldwDM1LK/a3Ko5TXYY88gBveYiVvPs2tmsN4+2DXstTHqvLP5rj2LGfva3HNYh7NeZ+65h61hTR/Y089d22fzifHMPvf2u+W8d3C9cXuYo40xcwZYv9QXW2+e9/D1Muxl7fbA9tl8mA/rGP38P71PzMZhHObtPszxDqzPz8y4/A6AmVr2d00OtbwGe+wZxOAeM3HreXbNDNbbB7uGvTZGnXc237VnMWNfm3sO63DW68w997A1rOkDe/q5a/tsPjGe2efefrec9w6uN24Pc7QxZs4A65f6YuvN8x6+Xoa9rN0e2D6bD/NhHeP/9vP//v37W+zTp0+3efPMIfbAfxy7KQ6DezTZg2C9cdaghhh59PEM89f2Oi9qH2wfbD65PDubs184hjUMcplx3oGZYQxnDdzjHHBH77A9rPFezkmSJMmV+Duuv9/6+y6/3/r7cr////n3f2ZyPNM8a3l20HfPZ/ZcmEdP5j2bAfdgL98j9oh5N/fo4z1P1jF7P94DEbeeXnsmjJvH2GfyPZcYjLuG9yOHsfv2Imdj8E7EHNhzYT/7bw9nkWvs7OMdsHWsz+flvucye44Dvg/s+R5vnj9DYHZ4L3Ll5+jenmOe9cZZgxpi5O3Prflre1Gzd7EPtg82n1yenc3xu+SwhkEuM847MDOM4ayBe77X3NE7bA9rvNfO5Himedby7KDvns/suTCPnsx7NgPuwV6+R+wR827u0cd7nqxj9n5+b0DcenrtmTBuHmOfyfdcYjDuGt6PHMbu24ucjcE7EXNgz4X97L89nEWusbOPd8DWsT6fl/uey+w5Dvg+sOd7vHn+DIHZ4b3IlZ+je3uOedYbZw1qiJG3P7fmr+1Fzd7FPtg+2HxyeXY2x++SwxoGucw478DMMIazBu75XnNH77A9rPFeO5PjmeZZy7ODvns+s+fCPHoy79kMuAd7+R6xR8y7uUcf73myjtn7+b0BcevptWfCuHmMfSbfc4nBuGt4P3IYu28vcjaG82wG9lzYz/7bw1nkGjv7eAdsHevzebnvucye44DvA3u+x5vnzxCYHd6LXPk5urfnbB71xu1NDTHy9ufW/WUv++x59sH2webTg2dnc6x3WMMglxnnHZgZxnDWwD3fa+7oHbaHNXsvZ3I80zxreXbQd89n9lyY52vesxlwD/byZ4A9Yt7NGH2cT+YwO/zegGfrOWfPhHHzGPtMvucSg3HX8H7kMHbfXuRsDN6JmAN7Luxn/+3hLHKNnX28A7aO9fm83PdcZs9xwPeBPd/jzfNnCMwO70Wu/Bzd23PMs944a1BDjLz9uTV/bS9q9i72wfbB5pPLs7M5fpcc1jDIZcZ5B2aGMZw1cM/3mjt6h+1hjffamRzPNM9anh303fOZPRfm0ZN5z2bAPdjL94g9Yt7NPfp4z5N1zN7P7w2IW0+vPRPGzWPsM/meSwzGXcP7kcPYfXuRszF4J2IO7Lmwn/23h7PINXb28Q7YOtbn83Lfc5k9xwHfB/Z8jzfPnyEwO7wXufJzdG/PMc9646xBDTHy9ufW/LW9qNm72AfbB5tPLs/O5vhdcljDIJcZ5x2YGcZw1sA932vu6B22hzXea2dyPNM8a3l20HfPZ/ZcmEdP5j2bAfdgL98j9oh5N/fo4z1P1jF7P783IG49vfZMGDePsc/key4xGHcN70cOY/ftRc7G4J2IObDnwn723x7OItfY2cc7YOtYn8/Lfc9l9hwHfB/Y8z3ePH+GwOzwXuTKz9G9Pcc8642zBjXEyNufW/PX9qJm72IfbB9sPrk8O5vjd8lhDYNcZpx3YGYYw1kD93yvuaN32B7WeK+dyfFM86zl2UHfPZ/Zc2EePZn3bAbcg718j9gj5t3co4/3PFnH7P383oC49fTaM2HcPMY+k++5xGDcNbwfOYzdtxc5G4N3IubAngv72X97OItcY2cf74CtY30+L/c9l9lzHPB9YM/3ePP8Gbq7u7v7B0lBaZcQwduMAAAAAElFTkSuQmCC)"
      ]
    },
    {
      "cell_type": "code",
      "metadata": {
        "id": "Fb9E3EFpXLuF"
      },
      "source": [
        "import turtle\n",
        "turtle.pensize(2)\n",
        "for i in range(36):\n",
        "    for j in range(4):\n",
        "        turtle.forward(70)\n",
        "        turtle.left(90)\n",
        "    turtle.left(10)"
      ],
      "execution_count": null,
      "outputs": []
    },
    {
      "cell_type": "markdown",
      "metadata": {
        "id": "zXZGYGTuZNCK"
      },
      "source": [
        "![Screenshot (2).png](data:image/png;base64,iVBORw0KGgoAAAANSUhEUgAACgAAAAWgCAYAAACSABrfAAAAAXNSR0IArs4c6QAAAARnQU1BAACxjwv8YQUAAI0CSURBVHhe7N1NkBzneR/wdwFQIAl+WZDIkLJCycLStkxJthTFZWxFKlViuwCWq1ipCis33XaPgKvCG4+8MQfgiD1ZhxzMXHQhtvJRcTnybqripFz6sBRxYUukJDIRSREkKH7gazM9uy8xfDG93T3Ts5hn8fuVXwOY6X7ep3uaOv3r6YWtgQQAAAAAAAAAAACEcmDnTwAAAAAAAAAAACAQAUAAAAAAAAAAAAAISAAQAAAAAAAAAAAAAhIABAAAAAAAAAAAgIAEAAEAAAAAAAAAACAgAUAAAAAAAAAAAAAIaGFrYOfvU3vjjTfS5uZm+sHf/336u7/7u/SrNy+m++5/ID3+e7+XTvzpn6Rjxz63cyQAAAAAAAAAAAAwjakmAFbZwWvXrqVLly6ll19+OV24cCH95Kc/Sb9661L62P0PpiNHP5WuXk/pvffeHR4HAAAAAAAAAAAA9GOqAOD169fTBx98kF555ZX0N3/zN2lt7Xz6q7/6b+nCS79I9/3mF9JDi19N719dSG++8Ua6fPmDnbMAAAAAAAAAAACAaU0VAHz33Xe3J//95KX089ffSa+/dyC9m46kK4c/ka4e+XS6euc/SZevHRiG/6qwIAAAAAAAAAAAANCPqQKAv/rVr9Lf/u3fpu/96B/SwaOfS5/953+WHv/Gv02PPP4v02sf3J9e+uUH6erWwXT48OF04MBUWwEAAAAAAAAAAAAjJkrl5cl///DTn6VX33wv/Xrr7vSxBz6V7v7EZ9LCPY+k9w88kN58dyG99e61dD0dHIb/qgmAV69eTVtbWztVAAAAAAAAAAAAbi8LCwtTLZp997vfS3/8x3+aLl58a+eT7qpzqxpVrXk2UQDw9ddfT+vr6+l/ffeH6eDRY+mh3/7DdPjeo+ntS++kH/3ownBVf68etzz57/333x+ua9euDf8NAAAAAAAAAAAAfft3/+7p9Nff+e/pX/3pn0wUAqzOqc6talS15lmnAGA1va+a5Pf222+nF198Mf305Z+nrcP3p4N3H02vv/6r9LOXf5Zefe3t9OZbv05XLr2W0vtvpAPXr0ifAgAAAAAAAAAAjKiyWF0W7f3H//h8+uKXvpi+993vdQ4B5vBfdW5Vo6o1zzoHAKsJftUkv7ffvpjevvR2unrlSrr45q/Sd//X/0w/+N730wfprnTXkfvSgXd+ltKbL6aFq++kQ4cOpTvvvHO4Dh48uFMtkrW0Mgwxrgz+xuy53924XwAAAAAAAAAAkD3wwP3pv/6n/9w5BFiG/6oaVa151ikA+O6776aXX345vfJ/X0sLd308HTn6qXTo8F3pvXfeSj/b/F76+T/8KF25ujUM+V2/9Iv0scu/TI88+Bvp05/+dLr33nuHQcDukwBzuOnmtbS0ks6uXdg5jjoXzi6NvX/j11I6e9ve0gtp7ezK4Lkq7tfg30srZ/fhszb4b2vpdv/NAQAAAAAAAABm6yM5lMHKys/rFpPpGgKMGP6rdAoAvvHGG2ljYyN9///8Y/qNz345Lf6zP0n3/MZD6er7l9I7/29zuKq/X7/yfrr89qvpnkOX01e//KX0h3/4h+no0aM7VaZw/Pjg/3bW4J8bG6vp9MnFtLDSw9yzC2vp7MpSWtqXSajHb9y3kfu3rfj8+OM7n8/YnN3vC1Xwb2ExnTy9OnzGBzdi534Mvhz8e2P19OBZe86EPQAAAAAAAAAACKJtCDBq+K/SKgB4/fr19MEHHwwDgD/+8Y/TSz9/JX3svofSnfd9Iv2/n/9j+sVPXkzXDtyZDg8+O3DHnWkhXU8H05V03913pM88+un06KOPprvvvnun2qSW0/n19bSeV/Vu683zg08HVk9OHSS78MKz6fTqxs6/9pdjp87duG8761tntiOAy+c/+vn6+rl06tjwq5map/u9trKUFqvgXzo+uB+b2+9N//B+bL9DfbN61o5/fueM/eJEOje8vvU9+c0BAAAAAAAAAG5nw0xKh0U/mkKAkcN/lVYBwCtXrqRLly4NA4CvvfbL9Oabb6Yrly+nN159Ka2/8B/S//4ff50OP/yV9MhX/nW66zc+lQ7dcUe67957BzfigeGrf++8887ha4F7d+xEOrd5Znsa4PMvJG8xpbO1lXSyCiIeX07nt9bTuRPjk3DHqmdt/VQ6sfNvAAAAAAAAAAAghroQYPTwX6VVAPD9999Pr7zySvrlG2+mg0eOpns+8Zvp0OG70ruX3kovb34/vfqzn6aD9z6S7nnwt9KB6x+k9N7r6dCB6+nw4cPpjjvuSIcOHZrd+6iPPZaGL63d+GHaHH4Aba2llZOrgz+PpzPfOifcBwAAAAAAAAAA+9S4EGD08F+lVQCwmv5Xvfr3ldfeSr/5e/8i/e4fnUj3Hn1459sbtj54O1197e/TlcG6+u6b6dq1a3swjnIxfX77bbZDaysLw7Dhrq8EXlsZHrOwspYunF0a/n3x9PbraDdOL25/t0uNC2tn08rS9jHDtbSUVtZ2mz94Ia2dXUlLo+csLKWllbNp/GlraWV4zMrgb+P2W0lnd92vJxfOpqVqv8F9Gu+jfX7oI+cNrn1l+x5Xx52d4H7fbOd+7pw3XI2/wc0unH02DeN/Z7412Stwd7nOG/dj/G+/cnbw7O0cccPO/Vw6O/yu+3O2rf15Nb/fhy4Mao1/bj9abfvay99jcIkAAAAAAAAAwJy6kQXoZ0EEZQgweviv0ioA+N577w0nAP7q4qXh9L+7H3gw/fLn//jh5L97H/7ddOjO+9LW5V+na2+9lA5feS3900c+mR599NF05MiRnSqzspl+WGXJjn8+LQ7+OPF08yuB175dxb5SWn7yREqPPZWWl5fTcg4RHh/8vfr3YD312M5nI148u5QWT55Oq2nnuOFmG2n15OL4ANswJLaYTp5eHRx2/MPax9NG2lg9nU4uVuGsnWPHyPv94CP7rabTg/12O29erK0Mrr16xW7W8X7fbC2tLO3cz8Fd3D53UGy336DG5vaDk556YpL030fddJ1DF9LZMb1Wv/3q6ZNpcZcfcPOm56zdNXZ+Pmtt3+fFk9VzW/1M2/W2n9vn0wsflqpChNvXvpF/y51en3+xy34AAAAAAAAAAEBXrQKAV69eTb/+9a/TO4NV/f2NV19K6y/8h/S//8dfp8MPfyU98uV/ne584JG0dfWDdP3Xr6dPHDmQvvG1pfSNb3wjPfjggztVZuPDKW5PPZGGMa5jT6SnhqGn0ZDSqLU0zP8dP5OePjE4/MSpdO7cufT08KSqztPDf1fr1IkyGLaaTp9O6czmVtpa3z7m3PpW2jyzfe7G6eeKSWpraWXxdKpiYcvnN9PW1vqHtde3BuedXx58U4Wz6iawDfZ7fnu/9TH7rT5bTmKbMz94Nj27enz7fg2ud2uruqdd7nepCtSdTFXO7viZ0fu5Pvj7Zqpuy8bpb6Z2ObcL6cUfVH8+nh6bNv835jo/fJ3w48vp/PB5udHr+k6vgx9wfK8bp9PJ04/vnJd/98E1bu6EW2uvsevzWWfkPi+fT5uDa1of9p6f26dSzmremKI4+D1Gex1c4zNPbB8DAAAAAAAAAMyf7YxDfwsiuHjxrY+89nf0dcDVdxG1CgBev349Xb58OV0ZrOrv7156K728+f0PJwDe8+Bn08L199PCe6+lI4eupoeO3pcWj/1W+uxnPzu7CYAXtl87uv0q2eX0zIfvcD2WTj2zHaw7/dzNcaebAoMdLZ9fv+l1scdOfWs70JV+kEaHnuW9Bielc2PCbcdOnNsJZ62mZ2tSa8vPjNvvmcEVD9SGHOfExkZ6fMz9mtjac2n75z6f1m8quvvvfrOdyZF18ut9izV2aF/tdQ56Oncu3fzTH0tPbKdU0w83tz8pLZ8fc96xU+lbw+el/hq7PJ+1Ru/zuRM3/XdShWZzb9tTFFN6/KYU5bHBMeVnAAAAAAAAAABwa5Thv+q1v6OvA44aAmwVABwNQA3+386nN1z/4O105Zc/Sgcv/ST9k6P3pEceeSTddddd28f3ZjWdHOljYXHnlavHl9OZzZGJa5UTT24H5Fa/XUw8u5BeeH6YbBoJDHaxnKq3Bt/sWHrs8Z2/jsivmD3z9NiTho498dT2VLexryyu2+9EenJ4gXNuZ8piX7Zf3bzL/cy/+w9eHHMvS4vp88NQXL3Hjx9Px/Pa+Wysxuu8kNbWzqazKytpZWkpLS0t7ARX69T97jeel/HX2O35rPORV2Q3WNy5iavPrqS1eQ6jAgAAAAAAAABw2xoX/nvggfuHK3oIsFUAsHLgwIF0+I4D6eiRA+njRw6mjx28Ee7buvJeuv72y+nI1ptp8bO/mR577LF077337nzbo9FA1vJyOnN+M22unxszeS0H5FbTt0cTgBdeSNv5vyc/GhiciZavmD322OAImuX7uZFOL44EQT+yTm5PXOykZiresVPDV9mu76ztyXtdbU+pXFhYTCdPnk6nV1cHuw08vpyWdyt3/PNpceevN5n585Lvc30IcVQ1XfB8dTEbq+lk9bssLaUVSUAAAAAAAAAAgN7kbAyTqQv/ZdFDgJ0mAN5358G0+Mk7ButQuvfwjYdq4frldODym+njR7bSl7/0e+kP/uAPBjfmgZ1v+7Kczo8EstbPnUunThy76fWk2Ymnzwwnpa2OJADXnjudNnabIEe/Hn+s9veZRhX+XN5tPfXYzpG7ufEa3uenfY9yzXVeOPvNnSmVZ9L5ze333edn9+nh3vvBsXTi3Hra2jyflo9XQcCNtHpyMS0smQgIAAAAAAAAAMCt1RT+yyKHAFsFAK9fv54uX76c3n3n7fT2az9Ll974Rbp6+b107f1L6d1fvpi23v5peviBO9KxRx9Jv/XZR9PDDz88fAXwLXXsiTTMWH34GuC1tP0G2afSE7NIpdWqmTCXXXhxZyrcbMJy+0d+je3x9NTT59K5c7usUyda3csPX798+rniVdF9uPG66fPrp9KJoqHt10NPYM+el4bntnTsxHBi4tbW5o2JgN88O7gLAAAAAAAAAABMoxo6Nbpop234L4saAmwVALx69Wp655130k9f+mn6q7/+7+k76xvptdffSB+89Wp6/fsvpOu/2EhffOxT6atf/Wr6+Mc/PicjJ4+lU89U7wFeTc+evZDS2reHr4ddfubUHgXtbkyYO/1cfbzswgvPD46o3vpa+9LXW+/DEGVh557ulcXPb9/PqSf2ZcdOpeEjMriKkytrPYfVNlN9xi+/ZrfGxvOp7hK3p1jO8nlp99zWqyYCfisN35i88cPBXQAAAAAAAAAAgL3VNfyXRQwBtgoAHj58OD300EPprrvuTj996aX04x//OF26dCkdSlfSPelievieq+l3Fz+TFhcX07333rtz1hw48WSq8l0bz7+Qzj47jP+lJxve/rvxw/4iS8dOPTPcP62eTEtVCLFwYW0lLZ7enhL3zKk5nP+XpyjmEOWoC2tp5eT08b8u9zvfz43Ti2ll7PtlL6S1lZU05lbXOnHu/Ie/0WLta2svpBc6T+xbTMO84uDejbyFeqDq8Ztp+LPX2kinv3lzL9Xzsn3LZ/u8ND+3Z3fu8eBa1sYFJ3cLPwIAAAAAAAAA3J6qoWpdFpP7N//mqc7hv6wMAVa15lmrAODRo0fTH/3RH6WvfOXL6WDaShffeD1dufxBuv/++9IXvvD44POvpM997nPpk5/85DAsOD9OpCe3E2PbgavlJwefjJdfBzsMPS2tpJWVpbTSJUk21ol0bvPMzmtmFwf/YS6lpZWq9kpaGvxHujhMcx1PZzbP1fZ1a+Upijv9Lw3uSdX/4M+FxZPpB2fObAfFJjDZ/b5xP1dPFvdzqfofvsV0cnW30XrjDGpube5MrFtNJxe3/wd0aXCNwzX8H9TFdHoYvDuePl/90UqepFf1WtXLv3vV4+PpzHDDGsfPpDOPb/dy47y9fF6antvntw8bePHZk2lxeL+2v69+x4WFk9vTNs/P63MNAAAAAAAAAMB+9u///XPp6//ia53Df1kOAVY1qlrzrFUAsJrqV033+9IXv5h+57d/O33qkUfSXXfdle6///70hS98If3+7/9+evjhh9Pdd9+dDh48uHPWfDjx9HaQaRicenqXONKxU2n9/PJ26GljNa2ubqT02PZXU6nqbm6m88vHB7U30sZqVXs1bRw/npbPnE+bW+tpHof/fejEubR5/kwatF/dmGHv2+GuzbR+aoobNOn9Ht7P8+lMeT83Bv9ePpPOb05yP4+lU+tbO9dZ1a16GtSu1uBfx48vpzOD6x3+Vh0SbcdOrQ9qjl7j4M4NetzcOpee2D6k1hPnBs/MmeXBiTvXN/hs8uubwG7P7flvpSeGPRxLTzwzuL7BBebrq37H6n6dH5x7TvoPAAAAAAAAACBtbW1NtejuS1/6Yvov/+U/TRT+y6pzqxpVrXm2MHhIGp+Sa9eupStXrqSLFy+mV155JX3nO99Jf/EXf5HuvPPO9Od//ufp61//+jAMWP177lw4m5YWT6eN42fS5vqpNM9ZO253a2mlmp7nWQUAAAAAAAAAAFpoNQGwmupXhfuqV/z+zu/8znAaYDUVsPrswQcfTA899NB8hv8G1p47PZyetvyMQBUAAAAAAAAAAAD7R6sAYLawsDAMAx46dGj49/m3lr5dva82LacnvY4UAAAAAAAAAACAfWSiAGA1/e8zn/lMevTRR9ORI0d2vp0/F84+m6r83/EzTyf5PwAAAAAAAAAAAPaTiQKA1St/v/71r6evfe1r6ROf+MTOt3NibSUtLVVrIS2e3qjSf+lbp7z8FwAAAAAAAAAAgP2lUwCwUoUA77nnnuH0v3mdALixsTpYKR1fPp82108l8T8AAAAAAAAAAAD2m4WtgZ2/AwAAAAAAAAAAAEF0ngAIAAAAAAAAAAAA3HoCgAAAAAAAAAAAABCQACAAAAAAAAAAAAAEJAAIAAAAAAAAAAAAAQkAAgAAAAAAAAAAQEACgAAAAAAAAAAAABDQwsWLF7d2/g4AAAAAAAAAAAAEYQIgAAAAAAAAAAAABCQACAAAAAAAAAAAAAEJAAIAAAAAAAAAAEBAAoAAAAAAAAAAAAAQkAAgAAAAAAAAAAAABLRw8eLFrZ2/f8Rf/uVf7vwNAAAAAAAAAAAA2Gt/9md/Nvzz7rvvHv5ZMgEQAAAAAAAAAAAAAmqcALiysjL8EwAAAAAAAAAAAJi9ra3tWN+rr746/NMEQAAAAAAAAAAAANhHWk8AzIlCAAAAAAAAAAAAYPZMAAQAAAAAAAAAAIB9SAAQAAAAAAAAAAAAAhIABAAAAAAAAAAAgIAEAAEAAAAAAAAAACAgAUAAAAAAAAAAAAAISAAQAAAAAAAAAAAAAhIABAAAAAAAAAAAgIAEAAEAAAAAAAAAACAgAUAAAAAAAAAAAAAISAAQAAAAAAAAAAAAAhIABAAAAAAAAAAAgIAEAAEAAAAAAAAAACAgAUAAAAAAAAAAAAAISAAQAAAAAAAAAAAAAhIABAAAAAAAAAAAgIAEAAEAAAAAAAAAACAgAUAAAAAAAAAAAAAISAAQAAAAAAAAAAAAAhIABAAAAAAAAAAAgIAEAAEAAAAAAAAAACAgAUAAAAAAAAAAAAAISAAQAAAAAAAAAAAAAhIABAAAAAAAAAAAgIAEAAEAAAAAAAAAACAgAUAAAAAAAAAAAAAISAAQAAAAAAAAAAAAAhIABAAAAAAAAAAAgIAEAAEAAAAAAAAAACAgAUAAAAAAAAAAAAAISAAQAAAAAAAAAAAAAhIABAAAAAAAAAAAgIAEAAEAAAAAAAAAACAgAUAAAAAAAAAAAAAISAAQAAAAAAAAAAAAAhIABAAAAAAAAAAAgIAEAAEAAAAAAAAAACAgAUAAAAAAAAAAAAAISAAQAAAAAAAAAAAAAhIABAAAAAAAAAAAgIAEAAEAAAAAAAAAACAgAUAAAAAAAAAAAAAISAAQAAAAAAAAAAAAAhIABAAAAAAAAAAAgIAEAAEAAAAAAAAAACAgAUAAAAAAAAAAAAAISAAQAAAAAAAAAAAAAhIABAAAAAAAAAAAgIAEAAEAAAAAAAAAACAgAUAAAAAAAAAAAAAISAAQAAAAAAAAAAAAAhIABAAAAAAAAAAAgIAEAAEAAAAAAAAAACAgAUAAAAAAAAAAAAAISAAQAAAAAAAAAAAAAhIABAAAAAAAAAAAgIAEAAEAAAAAAAAAACAgAUAAAAAAAAAAAAAISAAQAAAAAAAAAAAAAhIABAAAAAAAAAAAgIAEAAEAAAAAAAAAACAgAUAAAAAAAAAAAAAISAAQAAAAAAAAAAAAAhIABAAAAAAAAAAAgIAEAAEAAAAAAAAAACAgAUAAAAAAAAAAAAAISAAQAAAAAAAAAAAAAhIABAAAAAAAAAAAgIAEAAEAAAAAAAAAACAgAUAAAAAAAAAAAAAISAAQAAAAAAAAAAAAAhIABAAAAAAAAAAAgIAEAAEAAAAAAAAAACAgAUAAAAAAAAAAAAAISAAQAAAAAAAAAAAAAhIABAAAAAAAAAAAgIAEAAEAAAAAAAAAACAgAUAAAAAAAAAAAAAISAAQAAAAAAAAAAAAAhIABAAAAAAAAAAAgIAEAAEAAAAAAAAAACAgAUAAAAAAAAAAAAAISAAQAAAAAAAAAAAAAhIABAAAAAAAAAAAgIAEAAEAAAAAAAAAACAgAUAAAAAAAAAAAAAISAAQAAAAAAAAAAAAAhIABAAAAAAAAAAAgIAEAAEAAAAAAAAAACAgAUAAAAAAAAAAAAAISAAQAAAAAAAAAAAAAhIABAAAAAAAAAAAgIAEAAEAAAAAAAAAACAgAUAAAAAAAAAAAAAISAAQAAAAAAAAAAAAAhIABAAAAAAAAAAAgIAEAAEAAAAAAAAAACAgAUAAAAAAAAAAAAAISAAQAAAAAAAAAAAAAhIABAAAAAAAAAAAgIAEAAEAAAAAAAAAACAgAUAAAAAAAAAAAAAISAAQAAAAAAAAAAAAAhIABAAAAAAAAAAAgIAEAAEAAAAAAAAAACAgAUAAAAAAAAAAAAAISAAQAAAAAAAAAAAAAhIABAAAAAAAAAAAgIAEAAEAAAAAAAAAACAgAUAAAAAAAAAAAAAISAAQAAAAAAAAAAAAAhIABAAAAAAAAAAAgIAEAAEAAAAAAAAAACAgAUAAAAAAAAAAAAAISAAQAAAAAAAAAAAAAhIABAAAAAAAAAAAgIAEAAEAAAAAAAAAACAgAUAAAAAAAAAAAAAISAAQAAAAAAAAAAAAAhIABAAAAAAAAAAAgIAEAAEAAAAAAAAAACAgAUAAAAAAAAAAAAAISAAQAAAAAAAAAAAAAhIABAAAAAAAAAAAgIAEAAEAAAAAAAAAACAgAUAAAAAAAAAAAAAISAAQAAAAAAAAAAAAAhIABAAAAAAAAAAAgIAEAAEAAAAAAAAAACAgAUAAAAAAAAAAAAAISAAQAAAAAAAAAAAAAhIABAAAAAAAAAAAgIAEAAEAAAAAAAAAACAgAUAAAAAAAAAAAAAISAAQAAAAAAAAAAAAAhIABAAAAAAAAAAAgIAEAAEAAAAAAAAAACAgAUAAAAAAAAAAAAAISAAQAAAAAAAAAAAAAhIABAAAAAAAAAAAgIAEAAEAAAAAAAAAACAgAUAAAAAAAAAAAAAISAAQAAAAAAAAAAAAAhIABAAAAAAAAAAAgIAEAAEAAAAAAAAAACAgAUAAAAAAAAAAAAAISAAQAAAAAAAAAAAAAhIABAAAAAAAAAAAgIAEAAEAAAAAAAAAACAgAUAAAAAAAAAAAAAISAAQAAAAAAAAAAAAAhIABAAAAAAAAAAAgIAEAAEAAAAAAAAAACAgAUAAAAAAAAAAAAAISAAQAAAAAAAAAAAAAhIABAAAAAAAAAAAgIAEAAEAAAAAAAAAACAgAUAAAAAAAAAAAAAISAAQAAAAAAAAAAAAAhIABAAAAAAAAAAAgIAEAAEAAAAAAAAAACAgAUAAAAAAAAAAAAAISAAQAAAAAAAAAAAAAhIABAAAAAAAAAAAgIAEAAEAAAAAAAAAACAgAUAAAAAAAAAAAAAISAAQAAAAAAAAAAAAAhIABAAAAAAAAAAAgIAEAAEAAAAAAAAAACAgAUAAAAAAAAAAAAAISAAQAAAAAAAAAAAAAhIABAAAAAAAAAAAgIAEAAEAAAAAAAAAACAgAUAAAAAAAAAAAAAISAAQAAAAAAAAAAAAAhIABAAAAAAAAAAAgIAEAAEAAAAAAAAAACAgAUAAAAAAAAAAAAAISAAQAAAAAAAAAAAAAhIABAAAAAAAAAAAgIAEAAEAAAAAAAAAACAgAUAAAAAAAAAAAAAISAAQAAAAAAAAAAAAAhIABAAAAAAAAAAAgIAEAAEAAAAAAAAAACAgAUAAAAAAAAAAAAAISAAQAAAAAAAAAAAAAhIABAAAAAAAAAAAgIAEAAEAAAAAAAAAACAgAUAAAAAAAAAAAAAISAAQAAAAAAAAAAAAAhIABAAAAAAAAAAAgIAEAAEAAAAAAAAAACAgAUAAAAAAAAAAAAAISAAQAAAAAAAAAAAAAhIABAAAAAAAAAAAgIAEAAEAAAAAAAAAACAgAUAAAAAAAAAAAAAISAAQAAAAAAAAAAAAAhIABAAAAAAAAAAAgIAEAAEAAAAAAAAAACAgAUAAAAAAAAAAAAAISAAQAAAAAAAAAAAAAhIABAAAAAAAAAAAgIAEAAEAAAAAAAAAACAgAUAAAAAAAAAAAAAISAAQAAAAAAAAAAAAAhIABAAAAAAAAAAAgIAEAAEAAAAAAAAAACAgAUAAAAAAAAAAAAAISAAQAAAAAAAAAAAAAhIABAAAAAAAAAAAgIAEAAEAAAAAAAAAACAgAUAAAAAAAAAAAAAISAAQAAAAAAAAAAAAAhIABAAAAAAAAAAAgIAEAAEAAAAAAAAAACAgAUAAAAAAAAAAAAAISAAQAAAAAAAAAAAAAhIABAAAAAAAAAAAgIAEAAEAAAAAAAAAACAgAUAAAAAAAAAAAAAISAAQAAAAAAAAAAAAAhIABAAAAAAAAAAAgIAEAAEAAAAAAAAAACAgAUAAAAAAAAAAAAAISAAQAAAAAAAAAAAAAhIABAAAAAAAAAAAgIAEAAEAAAAAAAAAACAgAUAAAAAAAAAAAAAISAAQAAAAAAAAAAAAAhIABAAAAAAAAAAAgIAEAAEAAAAAAAAAACAgAUAAAAAAAAAAAAAISAAQAAAAAAAAAAAAAhIABAAAAAAAAAAAgIAEAAEAAAAAAAAAACAgAUAAAAAAAAAAAAAISAAQAAAAAAAAAAAAAhIABAAAAAAAAAAAgIAEAAEAAAAAAAAAACAgAUAAAAAAAAAAAAAISAAQAAAAAAAAAAAAAhIABAAAAAAAAAAAgIAEAAEAAAAAAAAAACAgAUAAAAAAAAAAAAAISAAQAAAAAAAAAAAAAhIABAAAAAAAAAAAgIAEAAEAAAAAAAAAACAgAUAAAAAAAAAAAAAISAAQAAAAAAAAAAAAAhIABAAAAAAAAAAAgIAEAAEAAAAAAAAAACAgAUAAAAAAAAAAAAAISAAQAAAAAAAAAAAAAhIABAAAAAAAAAAAgIAEAAEAAAAAAAAAACAgAUAAAAAAAAAAAAAISAAQAAAAAAAAAAAAAhIABAAAAAAAAAAAgIAEAAEAAAAAAAAAACAgAUAAAAAAAAAAAAAISAAQAAAAAAAAAAAAAhIABAAAAAAAAAAAgIAEAAEAAAAAAAAAACAgAUAAAAAAAAAAAAAISAAQAAAAAAAAAAAAAhIABAAAAAAAAAAAgIAEAAEAAAAAAAAAACAgAUAAAAAAAAAAAAAISAAQAAAAAAAAAAAAAhIABAAAAAAAAAAAgIAEAAEAAAAAAAAAACAgAUAAAAAAAAAAAAAISAAQAAAAAAAAAAAAAhIABAAAAAAAAAAAgIAEAAEAAAAAAAAAACAgAUAAAAAAAAAAAAAISAAQAAAAAAAAAAAAAhIABAAAAAAAAAAAgIAEAAEAAAAAAAAAACAgAUAAAAAAAAAAAAAISAAQAAAAAAAAAAAAAhIABAAAAAAAAAAAgIAEAAEAAAAAAAAAACAgAUAAAAAAAAAAAAAISAAQAAAAAAAAAAAAAhIABAAAAAAAAAAAgIAEAAEAAAAAAAAAACAgAUAAAAAAAAAAAAAISAAQAAAAAAAAAAAAAhIABAAAAAAAAAAAgIAEAAEAAAAAAAAAACAgAUAAAAAAAAAAAAAISAAQAAAAAAAAAAAAAhIABAAAAAAAAAAAgIAEAAEAAAAAAAAAACAgAUAAAAAAAAAAAAAISAAQAAAAAAAAAAAAAhIABAAAAAAAAAAAgIAEAAEAAAAAAAAAACAgAUAAAAAAAAAAAAAISAAQAAAAAAAAAAAAAhIABAAAAAAAAAAAgIAEAAEAAAAAAAAAACAgAUAAAAAAAAAAAAAISAAQAAAAAAAAAAAAAhIABAAAAAAAAAAAgIAEAAEAAAAAAAAAACAgAUAAAAAAAAAAAAAISAAQAAAAAAAAAAAAAhIABAAAAAAAAAAAgIAEAAEAAAAAAAAAACAgAUAAAAAAAAAAAAAISAAQAAAAAAAAAAAAAhIABAAAAAAAAAAAgIAEAAEAAAAAAAAAACAgAUAAAAAAAAAAAAAISAAQAAAAAAAAAAAAAhIABAAAAAAAAAAAgIAEAAEAAAAAAAAAACAgAUAAAAAAAAAAAAAISAAQAAAAAAAAAAAAAhIABAAAAAAAAAAAgIAEAAEAAAAAAAAAACAgAUAAAAAAAAAAAAAISAAQAAAAAAAAAAAAAhIABAAAAAAAAAAAgIAEAAEAAAAAAAAAACAgAUAAAAAAAAAAAAAISAAQAAAAAAAAAAAAAhIABAAAAAAAAAAAgIAEAAEAAAAAAAAAACAgAUAAAAAAAAAAAAAISAAQAAAAAAAAAAAAAhIABAAAAAAAAAAAgIAEAAEAAAAAAAAAACAgAUAAAAAAAAAAAAAISAAQAAAAAAAAAAAAAhIABAAAAAAAAAAAgIAEAAEAAAAAAAAAACAgAUAAAAAAAAAAAAAISAAQAAAAAAAAAAAAAhIABAAAAAAAAAAAgIAEAAEAAAAAAAAAACAgAUAAAAAAAAAAAAAISAAQAAAAAAAAAAAAAhIABAAAAAAAAAAAgIAEAAEAAAAAAAAAACAgAUAAAAAAAAAAAAAISAAQAAAAAAAAAAAAAhIABAAAAAAAAAAAgIAEAAEAAAAAAAAAACAgAUAAAAAAAAAAAAAISAAQAAAAAAAAAAAAAhIABAAAAAAAAAAAgIAEAAEAAAAAAAAAACAgAUAAAAAAAAAAAAAISAAQAAAAAAAAAAAAAhIABAAAAAAAAAAAgIAEAAEAAAAAAAAAACAgAUAAAAAAAAAAAAAISAAQAAAAAAAAAAAAAhIABAAAAAAAAAAAgIAEAAEAAAAAAAAAACAgAUAAAAAAAAAAAAAISAAQAAAAAAAAAAAAAhIABAAAAAAAAAAAgIAEAAEAAAAAAAAAACAgAUAAAAAAAAAAAAAISAAQAAAAAAAAAAAAAhIABAAAAAAAAAAAgIAEAAEAAAAAAAAAACAgAUAAAAAAAAAAAAAISAAQAAAAAAAAAAAAAhIABAAAAAAAAAAAgIAEAAEAAAAAAAAAACAgAUAAAAAAAAAAAAAISAAQAAAAAAAAAAAAAhIABAAAAAAAAAAAgIAEAAEAAAAAAAAAACAgAUAAAAAAAAAAAAAISAAQAAAAAAAAAAAAAhIABAAAAAAAAAAAgIAEAAEAAAAAAAAAACAgAUAAAAAAAAAAAAAISAAQAAAAAAAAAAAAAhIABAAAAAAAAAAAgIAEAAEAAAAAAAAAACAgAUAAAAAAAAAAAAAISAAQAAAAAAAAAAAAAhIABAAAAAAAAAAAgIAEAAEAAAAAAAAAACAgAUAAAAAAAAAAAAAISAAQAAAAAAAAAAAAAhIABAAAAAAAAAAAgIAEAAEAAAAAAAAAACAgAUAAAAAAAAAAAAAISAAQAAAAAAAAAAAAAhIABAAAAAAAAAAAgIAEAAEAAAAAAAAAACAgAUAAAAAAAAAAAAAISAAQAAAAAAAAAAAAAhIABAAAAAAAAAAAgIAEAAEAAAAAAAAAACAgAUAAAAAAAAAAAAAISAAQAAAAAAAAAAAAAhIABAAAAAAAAAAAgIAEAAEAAAAAAAAAACAgAUAAAAAAAAAAAAAISAAQAAAAAAAAAAAAAhIABAAAAAAAAAAAgIAEAAEAAAAAAAAAACAgAUAAAAAAAAAAAAAISAAQAAAAAAAAAAAAAhIABAAAAAAAAAAAgIAEAAEAAAAAAAAAACAgAUAAAAAAAAAAAAAISAAQAAAAAAAAAAAAAhIABAAAAAAAAAAAgIAEAAEAAAAAAAAAACAgAUAAAAAAAAAAAAAISAAQAAAAAAAAAAAAAhIABAAAAAAAAAAAgIAEAAEAAAAAAAAAACAgAUAAAAAAAAAAAAAISAAQAAAAAAAAAAAAAhIABAAAAAAAAAAAgIAEAAEAAAAAAAAAACAgAUAAAAAAAAAAAAAISAAQAAAAAAAAAAAAAhIABAAAAAAAAAAAgIAEAAEAAAAAAAAAACAgAUAAAAAAAAAAAAAISAAQAAAAAAAAAAAAAhIABAAAAAAAAAAAgIAEAAEAAAAAAAAAACAgAUAAAAAAAAAAAAAISAAQAAAAAAAAAAAAAhIABAAAAAAAAAAAgIAEAAEAAAAAAAAAACAgAUAAAAAAAAAAAAAISAAQAAAAAAAAAAAAAhIABAAAAAAAAAAAgIAEAAEAAAAAAAAAACAgAUAAAAAAAAAAAAAISAAQAAAAAAAAAAAAAhIABAAAAAAAAAAAgIAEAAEAAAAAAAAAACAgAUAAAAAAAAAAAAAISAAQAAAAAAAAAAAAAhIABAAAAAAAAAAAgIAEAAEAAAAAAAAAACAgAUAAAAAAAAAAAAAISAAQAAAAAAAAAAAAAhIABAAAAAAAAAAAgIAEAAEAAAAAAAAAACAgAUAAAAAAAAAAAAAISAAQAAAAAAAAAAAAAhIABAAAAAAAAAAAgIAEAAEAAAAAAAAAACAgAUAAAAAAAAAAAAAISAAQAAAAAAAAAAAAAhIABAAAAAAAAAAAgIAEAAEAAAAAAAAAACAgAUAAAAAAAAAAAAAISAAQAAAAAAAAAAAAAhIABAAAAAAAAAAAgIAEAAEAAAAAAAAAACAgAUAAAAAAAAAAAAAISAAQAAAAAAAAAAAAAhIABAAAAAAAAAAAgIAEAAEAAAAAAAAAACAgAUAAAAAAAAAAAAAISAAQAAAAAAAAAAAAAhIABAAAAAAAAAAAgIAEAAEAAAAAAAAAACAgAUAAAAAAAAAAAAAISAAQAAAAAAAAAAAAAhIABAAAAAAAAAAAgIAEAAEAAAAAAAAAACAgAUAAAAAAAAAAAAAISAAQAAAAAAAAAAAAAhIABAAAAAAAAAAAgIAEAAEAAAAAAAAAACAgAUAAAAAAAAAAAAAISAAQAAAAAAAAAAAAAhIABAAAAAAAAAAAgIAEAAEAAAAAAAAAACAgAUAAAAAAAAAAAAAISAAQAAAAAAAAAAAAAhIABAAAAAAAAAAAgIAEAAEAAAAAAAAAACAgAUAAAAAAAAAAAAAISAAQAAAAAAJZWFgYrnkxb/0AAAAAwO1EABAAAAAAAAAAAAACEgAEAAAAgADKSXu3evLevPUDAAAAALcjAUAAAAAAAAAAAAAISAAQAAAAAOZY02S9vZ68N2/9AAAAAMDtTAAQAAAAAAAAAAAAAhIABAAAAIAW9nqyXd1+W1tbw1XKx9edN6mmunX97LW6/gAAAABgPxMABAAAAAAAAAAAgIAEAAEAAABgF+Vkufzv8vNZKyftNU3em7a/pvOb+pl2/ya5frlP+W8AAAAA2M8EAAEAAAAAAAAAACAgAUAAAAAAmELfE+fKeuVkvVL+vu64rv3VHd+0T52u+zfpux4AAAAARCYACAAAAAAAAAAAAAEJAAIAAADAGOWkuaYJePn48ry2Jj2v1NRfnbrv6+rVmXT/Ovm8uvPzfuW+dccDAAAAwH4iAAgAAAAAAAAAAAABCQACAAAAwATKiXOl0al1u02iq/u+qX6TuvPL/W71/qX8fdNx0/YHAAAAAPuBACAAAAAAAAAAAAAEJAAIAAAAACPKyXNNk+by903HjU61G12lpjpd1dWbl/3LVSfXqauXld831QUAAACAyAQAAQAAAAAAAAAAICABQAAAAADo0eiUutFJdE26Hh/NpPej63kAAAAAcDsRAAQAAAAAAAAAAICABAABAAAAmGsLCwut1rTKOn1NnhudYrdbvb6uo1RXt66fve4jG71H4/rqqqzT13XlOnULAAAAAPaSACAAAAAAAAAAAAAEJAAIAAAAwL4w6SS2rsdPqu0++bi2x9epO7+cjFf+O+tr/7Z12h43ra79lKtJ2+MAAAAAoA8CgAAAAAAAAAAAABCQACAAAAAAoeSJdXWT67LRqW2jq0lT3a7q9h29ht32G+19XJ1S3XFN+9R933XfpuPzPtPu11bdPqXR3tvsP3oNbeoDAAAAwCwIAAIAAAAAAAAAAEBAAoAAAAAAzKVyElvdpLXRKWzjvi+NTnlrU39SZf2sbp/8ed33WVk3/7v8PGuqV6o7vm6f8t+lXK+ubt3nTXW7KvfJ9Zv2yeeVq1R+3lQXAAAAAPogAAgAAAAAAAAAAAABCQACAAAAsK+MTmkbXU1Gp8GNrq7qzmvbRzba+7jzmvqrO6+tpvObrrPp/FLd8U3XWSefV64mo72P6wcAAAAA5okAIAAAAAAAAAAAAAQkAAgAAADAbWHSiW5tJ8jVfd/XJLm+6szKrbrO0d9mdHXVV/8AAAAAsJcEAAEAAAAAAAAAACAgAUAAAAAA5ko5wW3Wk9ly/XLVGZ0yN7pKTXW6qtunzmhve3leX8r7N9rT6GqS65RrVsr6bfsEAAAAgEkIAAIAAAAAAAAAAEBAAoAAAAAA3BbKSWxNk+Dy903H1elr8ltdnbK/vOo09dP0/bi9qlVqqtNW1zrjeqtWnfL7vvoGAAAAgL0kAAgAAAAAAAAAAAABCQACAAAAsK/1NdltdKrc6OS4Jnn/ctVpOq5p/9Eexx1X1s+r1FQnq/u+qX5WHpdXW039ddV1fwAAAAC4lQQAAQAAAAAAAAAAICABQAAAAABaGZ3ONslqUh7X92S3bNq6ddeT67atn+uUq07buqWu581qn3HXWq0muW5d/bZ16tTVnVZZt22f+biuCwAAAIDbkwAgAAAAAAAAAAAABCQACAAAAMCeGDe1bHT1raw77aS3uj7r6ubPy9XVpOflfuv6rjPpedm011muUt3nk/ablXWnrVcn161bk5r2fAAAAABiEgAEAAAAAAAAAACAgAQAAQAAAJhInpjWtCY1OhVttzVrdftMen1dzxu91tFVp+n7vH+56rTdr1xtNe1fZ9Lz+jLumsetSeXra1oAAAAA3N4EAAEAAAAAAAAAACAgAUAAAAAAZmrc1LLRNa1xU9eqVar7vKtp+67rY/SetKmf65Sr1LZu03Hj9qpWk7Z1J1XWnbRe3Xn583JNa/SejFsAAAAA0IYAIAAAAAAAAAAAAAQkAAgAAADAXBk3DW3cmtS4aW67rWzSfevqZXV18+flmrW6PpuM67VapbrPR+/RJPuXynpNa1Kj17rbAgAAAIBZEAAEAAAAAAAAAACAgAQAAQAAALglyslrXSeljU5XG3de0/ddjU6LG7dKdZ9nbfsa3WO3enXK8/PK6j7vqmudpusv64zWHrf6kvuq66/p+zrl8X33DQAAAMDtSQAQAAAAAAAAAAAAAhIABAAAAGBX5aSyrpPPZq3tJLXcd92aVu6jbT9NmuqMu4bR1WTa+nnVaarfVl91snHXMLqa9N3PtMq+560/AAAAAGZLABAAAAAAAAAAAAACEgAEAAAAYF9pO8ktq5uYlus0rUnlfetWqe2+ded3NdrLbvWa+irrlKurcr+mVeq6b10dAAAAAJgHAoAAAAAAAAAAAAAQkAAgAAAAAHuqnMA26YS1aeuU52eT9lPKdco1qdxv02oyrqdqNRm317g1qXE9VavUdZ+6Ol2VdSa93r7qAAAAAEBFABAAAAAAAAAAAAACEgAEAAAAgIFyMludPLGtbnJbXZ2640v5/Lo60xrtfXT1ret11PVRd/5o7+POK5V12p4HAAAAAPNMABAAAAAAAAAAAAACEgAEAAAA2CdGp6H1uUrjjumySuOOabNK447ZbZXGHTNuNRl3TrXamvS8eTPpdZTn5dVk3DnjVmncMbut0rhj2qzSuGO6rNK4Y6ZZAAAAAMwnAUAAAAAAAAAAAAAISAAQAAAAIDgTuoBZ878zAAAAAPNJABAAAAAAAAAAAAACEgAEAAAA2Ge2trZ6WaVxx3RZpXHH7LZK444Zt+qMO3Z01Wl73K1S9leu0rhjxq1507a/8rhy1Rl37LhVGnfMbqs07pguqzTumC4LAAAAgPkmAAgAAAAAAAAAAAABCQACAAAAMFMLCwvDlXWdLFae31bdeU37N52Xv687blby/k1rVsbtNW7tlfJ3qNs/f19n0vPqTHoeAAAAAExCABAAAAAAAAAAAAACEgAEAAAAIJS6iW1Z3QS2pklvdedlTd+3lftoWvvFuGsbt6bV9verO27SPqbtvzy/rj8AAAAAGEcAEAAAAAAAAAAAAAISAAQAAABgLpWT0KadtJbrlWtWcr/lYrxx96paszLuWahWqe7zUtlv2/MAAAAAYBoCgAAAAAAAAAAAABCQACAAAAAAM1FOQOtroluuW7dulXx9fV0n2+blvo571kbXtMrr66suAAAAAPubACAAAAAAAAAAAAAEJAAIAAAAwC01OkVtdJXqPt8ro1PoRie1cWvNy+/S9NzWfQ8AAAAA0xAABAAAAAAAAAAAgIAEAAEAAAD4iHJSWV+T1UanoI2uvo1Og5uk7/L8vErl531fz6zr963sr+x/Wm3r58/rvm+rrzqlfB11a1plv33VBQAAAGA+CQACAAAAAAAAAABAQAKAAAAAALQyOqWszZrW6PS10dWkax9d6xNL+fvm1WTa5yivaZV9NC0AAAAAbi8CgAAAAAAAAAAAABCQACAAAADAbWrc9LBqleo+b2vcVLTRVar7fNo+SnX7cHvYq9+/bp/8ed2aVN1/J/nzcgEAAAAQmwAgAAAAAAAAAAAABCQACAAAALDPjJvyNW5Naty0stHVt2n7LfXdZ1mv735vd+X9nPXvN6ncZ9lvX3KfdWtSZd/lAgAAAGC+CQACAAAAAAAAAABAQAKAAAAAAHNu3FSu0TWtpkliTd9nZT9dj8/y53XftzXa82gf09Zlfymfh7rnpqtct6yf1X2elfu3Pb48L2v6vq3cR9MCAAAAYG8IAAIAAAAAAAAAAEBAAoAAAAAAe2zctKzdVlflpK+mlZX7ld/3ZdLramtWfXN7mvXzNOv/Hurk62pak8rX1XYBAAAAMBkBQAAAAAAAAAAAAAhIABAAAABgj0w76WrcdK5q3WrldeW+8ufl6tvovahWnfL7vvuZVf1Z9z2tsp+y30nNqm7WtX7+vum4SeV+yr4mVfbZd926BQAAAMDeEgAEAAAAAAAAAACAgAQAAQAAAPZI3YSs0elZu60ouk4am/T6ot0X9pdZP7d1/x11/e9rr+Xra1oAAAAA9EMAEAAAAAAAAAAAAAISAAQAAACgkzyBrO0ksrqJX/nzrnXymlR5ftv92Rvl7zHt713qu34+v22dvH/b4+vkOnkBAAAAcHsSAAQAAAAAAAAAAICABAABAAAAGKucMJZXk9FpaNWqO69rvVlr20+Tst++6jKdvfod2j6vTf3kOl3rlQsAAACA/U0AEAAAAAAAAAAAAAISAAQAAAC4zfU1KaztpLKuZjXJbFb9EoPnFQAAAID9QAAQAAAAAAAAAAAAAhIABAAAALjN5AllbSeV5clj5WrStn6pbf2+lPtN2ndpVnX3q/L+lPdvUrOqWyr3ySbdr65eKdcvV51ct1wAAAAAxCQACAAAAAAAAAAAAAEJAAIAAADssXJC16wmcI1O9xpdTUaniI32mZV18nGje4x+31a5X/nvSevuF/N2P8r9y/5ud+X9mPT+5PucV1knf17Kx5XH1xndY3T1razbtj8AAAAAxhMABAAAAAAAAAAAgIAEAAEAAAD2mbaTu/qavNV2v1Lev2sfk+7XpOxjVvuwN8rfr+tz1lbXffL3TcfVKfeb1K3eHwAAAIB+CAACAAAAAAAAAABAQAKAAAAAAEHkyVvlajI6bWx0ddV2vyZd9687vq9+Zq3sP0rfe6W8H3W/97zp63fs63on7SfvX64meb9J9wUAAACgHwKAAAAAAAAAAAAAEJAAIAAAAMCcmnTCVtdJXk2a9m+7z7T91J3f9f40Kffpuz6zVf5edc/NpOqeh2n3aXt+03F1/XXVtp8s71suAAAAAGZLABAAAAAAAAAAAAACEgAEAAAAmBNtJ2flyVxdJ3S11bWPtsf1pa5eUx/TmnV9pnOrfv++n+8muY+mffNxefUl79u0fzarPgAAAADYJgAIAAAAAAAAAAAAAQkAAgAAAOyRSSdhdZ241VbXPrLcx6Tn96Xv+1Hqu35Z71bfv0mVfU96n/qqU6evemWfWd/9Zm3r1vXV1rTnZ7nfcrWV++irHwAAAIDbjQAgAAAAAAAAAAAABCQACAAAANCzcqJVXm1NOkmrrbb91O0/7fl9K/dp219bs67f1bz1c6uV11/en77Nun427T5tz5/V85P3b9tHlvuZVV8AAAAA+40AIAAAAAAAAAAAAAQkAAgAAAAwpa4TqyadjDWtpv767qvt/ZiVW70/45W/S1/PW99udZ/l/pPKfTf139d+bXXtq1wAAAAAbBMABAAAAAAAAAAAgIAEAAEAAABaGjeFqlp1yglXee2Vtn3W6Xpe3fWN9tClXldN+0+rrD9p3b7q3O7K+1be10ndqt8j71u3f9frq6vTZLSHSc6fVL6+ttdZ9pkXAAAAwO1GABAAAAAAAAAAAAACEgAEAAAAaNB2slTXCVaz0tRvU39trzcr6/Vdv6u6/We9L7HVPR9Nz/O0mp7Lcv+u/XStPy9yX+UCAAAA4KMEAAEAAAAAAAAAACAgAUAAAACABnWTp0anUo37ftaaJntlbftsWy9rqje657jjuu7X1az2LetOWq+vOlGU11def1t91cnKetm0dZs07dv3/nX7ZW33zXWa6s1K2z4BAAAAbhcCgAAAAAAAAAAAABCQACAAAABAME2Tt5omZN3qyV2lWfdTt2/f9vq+ltc16/3L+nt1X7O+r6+u3qyvq699++pz2n7qzgcAAABgbwgAAgAAAAAAAAAAQEACgAAAAAAtlROx+pp81VQ3/7v8/FYp++2q7vxZX1+577T71V0He6Pv+z/r37PueZt231n3XarbL19feZ3lv/vqd1Z1AQAAAKIRAAQAAAAAAAAAAICABAABAAAA5lQ54arU98Srpnp7tV++7qbr78u0+5TX0bXetOfPu/J6yuttMu35pb7r1cn7lPtlfe/bVG+v96u7bgAAAAD6JQAIAAAAAAAAAAAAAQkAAgAAANxibSdl5YlbTZO3Srl+3T65Xt33s9Z0PX33Vbffrbp+9sZe/b5N+zQ977OS+2p6/vNqK9erq1vqWh8AAACA3QkAAgAAAAAAAAAAQEACgAAAAAAdlZOuJp1o1XTe6FSt0f3amrSv0qT7dzV6reP26+t6sr73Kev13e/tprx/db9Xk7rfYdJ6dZr26Xu/On3tU3c9TUavdbc+Jq1fnte0DwAAAMB+JwAIAAAAAAAAAAAAAQkAAgAAAOyRPLmqnGDVt7b18+SspuPb1utb3WSvvvvZq32alH3s9f59K/uvu8+zUnf/+u5jr/Zpq66fbF77resLAAAAgN0JAAIAAAAAAAAAAEBAAoAAAAAAM9J2stWsJ2/V1W/qq9T1+L701X+Tun26KuvM+r7Ner+yXrlf36bdrzw/67vvvdqnrbp+2srn99V/2U+u21Q/n1eeDwAAAMB4AoAAAAAAAAAAAAAQkAAgAAAAwITKSVZtJ1eNTsEaPb/8d1OdJmW9tvJ5deePXuM0/XW1V/2U+/RVt6868668zrrfrTSr+9N2/ya5v7o++9qnrbb9TNpX3Xl1+3U12tu4fbLRaxzdt+k8AAAAgNuFACAAAAAAAAAAAAAEJAAIAAAAMGOjU676mFhVNxEr62ufrKleUz99a9tP37rWbeqzTnnerK5n3nW9f+V96np+nab739c+TXIf0fppK/e9V/0DAAAA7BcCgAAAAAAAAAAAABCQACAAAABAR02Tr2Y1yapuvyZtz2vqd/Sadjsu79d230k19TPt/n3VLetM29d+U96PuvteZ1b3s65u7q9rn13l/ev6yNr20/T9tJr67Kqp39F70+e+AAAAANEIAAIAAAAAAAAAAEBAAoAAAAAADbpOmmp7XFt19WY90atJ3r+pj77vR526Pqbdf1Z1m5T7znq/aZX91d23vtTdj2n3nVXdtur2z3Ifs+pn2v2bzp+VvO+t2h8AAADgVhEABAAAAAAAAAAAgIAEAAEAAAAKbSdJNU3CmpW2+zX1n/XVf65TV2/0nrbpa1JN+09q2rrl+dP2E115/XX3t1R339qeX2dWdZvkfZv276uPtnXq+in11Vdbeb+mfUfvaZvrAAAAAIhKABAAAAAAAAAAAAACEgAEAAAA2NE0Kapp8lT5ed+Tp+r2LfW976Sa+s19zqrfuv2n3bfpurqatI9S2de0dcvz+7ruSfuqO2/SvnK9vus2ado3m9X+s9J3v+X9qaufP6/7Pmu63wAAAABRCQACAAAAAAAAAABAQAKAAAAAwG0rT4SqmwzVdrLUtJr6iK7tfZzVfWi7b1dl3bZ1mvopTbrPXin7mfb62pr0vKb7N2ndOnm/tvv2vf+8aHsfptV0H/eqDwAAAIC9IgAIAAAAAAAAAAAAAQkAAgAAABTqJkf1bdYTqJquY6+us5T3bdq/7/vTtG9f+7WtU/bR1/7zqry+ut+hNOl5pbJOlutNWrdO3X7ZrPZtq2nfuu+brqutvuo0abpOAAAAgOgEAAEAAAAAAAAAAP4/O/eyI0tuawEUPfX/f6hHnp57y24C0USwqHhlJSvXAgT4ZEgUFVHu0YZgIAFAAAAAgL/ddVNUrpNvuqpuvop1eX2lqzPF9sx7fcc5q/Oe1e236q46/NNd76+qU323s2Kfbr+793133bnz+8r/rtYddVcdAAAAgHcjAAgAAAAAAAAAAAADCQACAAAAHyvfCJVvnrpbVf+pm6m688Tzbt6rde/j7r6r/Y7WP1snr6vmr857lbx/7i+szgt5fujWZXfVqUT9ap9w1353We376vNK9T7O1luV67/bdwEAAAA4SwAQAAAAAAAAAAAABhIABAAAAPghZ2+geuqmrKj7VP2j4v107+muvqt9jtbv6ry73Gd1nrtV72d1/1h/tU6lqx9in6v7XZX7jXG3s3V/+v0AAAAA/BYCgAAAAAAAAAAAADCQACAAAADw8fJNVFdvyurWr958dbav1f1z/Szq5PFTjvZ91l31uzpZnn/2HHfVqeR6eb9wdl6o5mfV+rBap7Ja/+o+V0WfXb/hbN/V/Lzvat1u3up5Kmf7AgAAAJhCABAAAAAAAAAAAAAGEgAEAAAAuMnVm6qOOnqTVTU/fq+eZ3HOPF6t6/tqf6v1O3n90X7y/Kv1nna1n3y+SrVPrF+tk0Xdp+pflfuLUcn9xsiq3ytH51/VnRMAAADgUwkAAgAAAAAAAAAAwEACgAAAAAB/yzdard44Vc27ekPWU3U7UT+PTvSbx6t0fV7tq6p/tl61rjvHNKvvbfXcd7+3qFfVDWfrn5X7itGJPl/Vb7XPar953rb3J+oCAAAA/DYCgAAAAAAAAAAAADCQACAAAABAo7pxqvo93zSV/12tC93zTt7vLlE3j06c5+q5Vq32d7avqm5X5+i6PD/P657f7ej++XnI81ZV66p9KlGnqhei7tH6R+V+YnRyfzGettrfXapzVX28uj8AAACAnyYACAAAAAAAAAAAAAMJAAIAAAAk3U1a1Q1T3bpXefUNWHHuPCrRXx5POdrXqqre9kx79bp1v9XZ93F0XaWqE6Le0bpHbc/0XT8h9xVjitVzdqpzd/WnvS8AAACAowQAAQAAAAAAAAAAYCABQAAAAIBCvjmqumlq9Yaprl7+d1c3z690dZ4S+67uH+fJ425dX0f3r+qEqk63f8jzqnrZ0XX5eV5f6dbl56GqX80P1bos6lT1os5qvaPy/jEquZ8Yr7a6b3eeLM/P/17dt5p3th4AAADAdAKAAAAAAAAAAAAAMJAAIAAAAEAh3yiV3XXD1NF9uvnvKs6RRyfOm8dduj5W992eaa9etb6avyqv7/o8Ktdb7bfqo1rfza/WhVhf1QldnaPyvjE62zPd2c+r5fN251p9P52qfrhrHwAAAIB3JwAIAAAAAAAAAAAAAwkAAgAAACQ/fXNUd7PVbxPnzaMT3+mu77W6/+q+VZ1qXZ6f53XPX63rL6ueV+fo6sW6an2IOl29Tt4vRifvH2Oqo/3/9HlXvxMAAADAVAKAAAAAAAAAAAAAMJAAIAAAAMDfqpuiXnWD1U/flPVu4n3kUYnvl8dZR/etVOtX++vmrda5y9F+jp6/mh+qdSHWd3U6sU+3X8j7xuB/XvU+qn1WvyMAAADANAKAAAAAAAAAAAAAMJAAIAAAAPDxqpuh8k1S+d9Hb5Q6Or+T+/kUce7V88d7z+Oobt+u/uq6bl71PP8e88/K67t9u/3ieTWvqr+6rlrfyfVjVPJ+MT7NT587f6fcT9Vf930BAAAAphEABAAAAAAAAAAAgIEEAAEAAICPEzdAVTdBVTdHVao6d7laP9Z3Y6r4Xnl09t7B11jV7VPVXV1Xzauex+9PyfVj/2rf7nmIeSHmH13XyXVjdGKfo/u9q713sDcqV59XVtcdrV99t6hztB4AAADAuxEABAAAAAAAAAAAgIEEAAEAAICP0d30tHrD1+q8kPeN9blO19/TYv9uTJHfc4zO0fOu1s91u3V5XhbPO9X60NU5un/M757nedX8kNdVcr0YnVw/xrvbO+t34y5H6+X51fs9Wnf1O3Xzju4LAAAA8C4EAAEAAAAAAAAAAGAgAUAAAADg16tudoobobqboSp5Xd6n2ndVXt/tl8X8bhwV+66Od7P3Dr5GZe9MX6NytG6o5se86nn1e8j7HLW6Pvqo5uc+u7oxP6/Lok5XL+S6Md5NPlc1ztp7B3tjVZ6/2l+1T16f/12t68S6an3eBwAAAODdCQACAAAAAAAAAADAQAKAAAAAwMepbn66S3WD1NP7nhV9deOseB+r46ccPe9e718j6+rm9d28/Dx+/ynRT9VHft7Ni5Hl9TEquV6Mn7LX+3fjqL2zfjdeJZ+n2r/6/ez7WFXtCwAAADCFACAAAAAAAAAAAAAMJAAIAAAAfJy7b5TqbpA6+jz3161/lehjdZwV518dT9k709fo7PX4NUJXJ8/PuuevdrXf/D5ifh6dqJPrPWWvx+/GWflc1XgXV/vp1l+tn139PgAAAAA/TQAQAAAAAAAAAAAABhIABAAAAH69u2+MyqobpJ7e993F+VfHWfH+u3GXvd6/Rif3c3T9b5HPm99LZ/vOtuOq3Ec3ztrr/bvxbl7V19P7VN/xVecDAAAAuIsAIAAAAAAAAAAAAAwkAAgAAAB8jHyz09WbvDpP169MvcEq+l4dR8X3WB1H7fX4NSrVft26afJ58nkrsS6Po7bv+Ltx1l6P343prr6vVdU+T+3/W74PAAAA8HkEAAEAAAAAAAAAAGAgAUAAAADg4529USqvq26Q6up3z9kX77sbZ8V3WR2Vo/109aY5+n5iVKLe6jhqr5fvBsd032X1u63Oy/I63xEAAACYTgAQAAAAAAAAAAAABhIABAAAAD5OdePT6o1S3bynbpRa7Y9/iu+xOs6K79ONcNe+0+Rz772j78ZZed9qcM7V71Ppvs/qvk/1BwAAAPDTBAABAAAAAAAAAABgIAFAAAAA4GMdvVGq+r2qk3/P6/O/Y363jmfl79CNs+K7ftr3vevce9/iu8Fr5O9afYc8r1qXVb/n9aH6vaoDAAAAMI0AIAAAAAAAAAAAAAwkAAgAAAB8vO5GqbtvkKrqrTq7L8+I77E62Lf3rr4b/A5n/3tY/R1Evaquvx8AAADgtxEABAAAAAAAAAAAgIEEAAEAAAD+tnoz1NEbpLr5R+t18g1YxnsN9u29K+PnR+fof7+6+XfXC0frAgAAAEwhAAgAAAAAAAAAAAADCQACAAAAJNVNUXffINXVu3s/gFd59X/fqnp37wMAAADwbgQAAQAAAAAAAAAAYCABQAAAAIDkr7/++u/Iqt/P6uqd3S9uvDJmj+n2zmTMG2c99d+3SlXv7n0AAAAA3o0AIAAAAAAAAAAAAAwkAAgAAADwt9Wboo7eKNXNP1qP2eJ7d2O6vTN9N5jp6Pfr5t9dLxytCwAAADCFACAAAAAAAAAAAAAMJAAIAAAAfLzqZqg/f/78Y2Rnb5Sq6q06uy/PiO+xOti3966+G/wOZ/97WP0dRL2qrr8fAAAA4LcRAAQAAAAAAAAAAICBBAABAACAj9XdIJUdvVEq/57X53/H/G4dz8rfoRtnxXf9tO9717n3vsV3g9fI37X6DnletS6rfs/rQ/V7VQcAAABgGgFAAAAAAAAAAAAAGEgAEAAAAPg4R2+Qyrp5T90stdof/xTfY3WcFd+nG+GufafJ5957R9+Ns/K+1eCcq9+n0n2f1X2f6g8AAADgpwkAAgAAAAAAAAAAwEACgAAAAMDHO3szVF539oaq7jn7treCfTfOiu+yOipH++nqTXP0/cSoRL3VcdReL98Njum+y+p3W52X5XW+IwAAADCdACAAAAAAAAAAAAAMJAAIAAAAfIx809PZG6RWPV2/MvVGq+h7dRwV32N1HLXX49eoVPt166bJ58nnrcS6PI7avuPvxll7PX43prv6vlZV+zy1/2/5PgAAAMDnEQAEAAAAAAAAAACAgQQAAQAAgF/v6ZudqhupPv1GqTj/6jgr3n837rLX+9fo5H6Orv8t8nnze+ls39l2XJX76MZZe71/N97Nq/p6ep/qO77qfAAAAAB3EQAEAAAAAAAAAACAgQQAAQAAgI9z9QavrLsx6ujz3F+3/lWij9VxVpx/dTxl70xfo7PX49cIXZ08P+uev9rVfvP7iPl5dKJOrveUvR6/G2flc1XjXVztp1t/tX529fsAAAAA/DQBQAAAAAAAAAAAABhIABAAAAD4OHffIJVVN0o9ve9Z0Vc3zor3sTp+ytHz7vX+NbKubl7fzcvP4/efEv1UfeTn3bwYWV4fo5Lrxfgpe71/N47aO+t341Xyear9q9/Pvo9V1b4AAAAAUwgAAgAAAAAAAAAAwEACgAAAAMCvV90gFTc/nb0BKq/L+1T7rsrru/2ymN+No2Lf1fFu9t7B16jsnelrVI7WDdX8mFc9r34PeZ+jVtdHH9X83GdXN+bndVnU6eqFXDfGu8nnqsZZe+9gb6zK81f7q/bJ6/O/q3WdWFetz/sAAAAAvDsBQAAAAAAAAAAAABhIABAAAAD4GN3NTtWNUNnqvJD3jfW5Ttff02L/bkyR33OMztHzrtbPdbt1eV4WzzvV+tDVObp/zO+e53nV/JDXVXK9GJ1cP8a72zvrd+MuR+vl+dX7PVp39Tt1847uCwAAAPAuBAABAAAAAAAAAABgIAFAAAAA4OPETU/VjU+rN0qFqs5drtaP9d2YKr5XHp29d/A1VnX7VHVX11Xzqufx+1Ny/di/2rd7HmJeiPlH13Vy3Rid2Ofofu9q7x3sjcrV55XVdUfrV98t6hytBwAAAPBuBAABAAAAAAAAAABgIAFAAAAA4ONVN0Dlm6Pyv4/eHHV0fif38yni3Kvnj/eex1Hdvl391XXdvOp5/j3mn5XXd/t2+8Xzal5Vf3Vdtb6T68eo5P1ifJqfPnf+Trmfqr/u+wIAAABMIwAIAAAAAAAAAAAAAwkAAgAAAPytuhmquknqbq/aZ4p4H3lU4vvlcdbRfSvV+tX+unmrde5ytJ+j56/mh2pdiPVdnU7s0+0X8r4x+J9XvY9qn9XvCAAAADCNACAAAAAAAAAAAAAMJAAIAAAAkPz0TVGvuinrXcR58+jEd7rre63uv7pvVadal+fned3zV+v6y6rn1Tm6erGuWh+iTlevk/eL0cn7x5jqaP8/fd7V7wQAAAAwlQAgAAAAAAAAAAAADCQACAAAAFDobo6662aro/t0899VnCOPTpw3j7t0fazuuz3TXr1qfTV/VV7f9XlUrrfab9VHtb6bX60Lsb6qE7o6R+V9Y3S2Z7qzn1fL5+3Otfp+OlX9cNc+AAAAAO9OABAAAAAAAAAAAAAGEgAEAAAAKOQbpqobpbqbqEJXL/+7q5vnV7o6T4l9V/eP8+Rxt66vo/tXdUJVp9s/5HlVvezouvw8r6906/LzUNWv5odqXRZ1qnpRZ7XeUXn/GJXcT4xXW923O0+W5+d/r+5bzTtbDwAAAGA6AUAAAAAAAAAAAAAYSAAQAAAAIOlujso3TYV3uXGq6u8pce48KtFfHk852teqqt72THv1unW/1dn3cXRdpaoTot7Rukdtz/RdPyH3FWOK1XN2qnN39ae9LwAAAICjBAABAAAAAAAAAABgIAFAAAAAgEZ1w1T1e75xKv+7Whe65528312ibh6dOM/Vc61a7e9sX1Xdrs7RdXl+ntc9v9vR/fPzkOetqtZV+1SiTlUvRN2j9Y/K/cTo5P5iPG21v7tU56r6eHV/AAAAAD9NABAAAAAAAAAAAAAGEgAEAAAA+Fu+aWr1JqlqXnVz1aqn6naifh6d6DePV+n6vNpXVf9svWpdd45pVt/b6rnvfm9Rr6obztY/K/cVoxN9vqrfap/VfvO8be9P1AUAAAD4bQQAAQAAAAAAAAAAYCABQAAAAICbrN5MdZejN1pV8+P36nkW58zj1bq+r/a3Wr+T1x/tJ8+/Wu9pV/vJ56tU+8T61TpZ1H2q/lW5vxiV3G+MrPq9cnT+Vd05AQAAAD6VACAAAAAAAAAAAAAMJAAIAAAAfLx8k9XVm6a69as3Z53ta3X/XD+LOnn8lKN9n3VX/a5OluefPcdddSq5Xt4vnJ0XqvlZtT6s1qms1r+6z1XRZ9dvONt3NT/vu1q3m7d6nsrZvgAAAACmEAAEAAAAAAAAAACAgQQAAQAAAH7I2Zuort6IVYm6T9U/Kt5P957u6rva52j9rs67y31W57lb9X5W94/1V+tUuvoh9rm631W53xh3O1v3p98PAAAAwG8hAAgAAAAAAAAAAAADCQACAAAAHyvfQPXUDVmhqv/UTVjdeeJ5N+/Vuvdxd9/Vfkfrn62T11XzV+e9St4/9xdW54U8P3TrsrvqVKJ+tU+4a7+7rPZ99Xmleh9n663K9d/tuwAAAACcJQAIAAAAAAAAAAAAAwkAAgAAAPztrhuhcp1881T+d4h1eX2lqzPF9sx7fcc5q/Oe1e236q46/NNd76+qU323s2Kfbr+793133bnz+8r/rtYddVcdAAAAgHcjAAgAAAAAAAAAAAADCQACAAAAJK+6KSrfdHW37hyvOmcW+3b73/1+un3v2m+1Tu7jrv3fVT5f9R2ys+uyXCdEvbN1K9V+4al9V3X7Vs+7c626q06nOycAAADAdAKAAAAAAAAAAAAAMJAAIAAAAPCx4gaq6iaquDnq6Rukuj6mW32PT72H1X2PynVX63T9ZGf3eZXcz9XzrTq7rnt/Z+tWYr/Vfe/e/12svoeruvf4qj4AAAAAXkUAEAAAAAAAAAAAAAYSAAQAAAD4W3cjVHezVP797humqn2zu/c9q+s3+nyq32r/q/t25zrqbB9Z7utq3bz+rnOf7atad7avqHd33U63b3hq/6fc3W9+P1X9+L16Hrr3DQAAADCVACAAAAAAAAAAAAAMJAAIAAAAkMRNUd2NUas3T91tdb+u/3BX/1Gnqrd9pyt9ndXtf9bVunn91X6my+ev3m9WvbfV9ZWn6nZi327/u/pYrVP1k93V16rYr9t3+05XzgEAAAAwlQAgAAAAAAAAAAAADCQACAAAANA4epPU6rxVVb3uBqynbW/h+q6Pu99Hperj6v5P1e3kfZ/e76rcX/Xe7lK9j6v7PlV3VbV/iD6e6ufq/t36p8S+P7U/AAAAwE8RAAQAAAAAAAAAAICBBAABAAAADupumupuyDqr2q+zuq7rd3um7+bFfqv7ntX1c3X/u+rmOlf7+m3y+6jee+Wp91nVjf6O9nlU7F/1EVb76Z5f1fV5VNfv9t3cuS8AAADANAKAAAAAAAAAAAAAMJAAIAAAAMDD4iar7karVd3NV3ftE7p6XT93W+3nbkfrdn1W8rqnzvPujr6//J6Orq907/+ufTrRx7R+VkXfr+ofAAAA4LcQAAQAAAAAAAAAAICBBAABAAAATso3Va3eiLW95Wq7Pv+7q9PJ9VbFumr99oxX+jvqVf3kfe6qe1edd5fPWX237Kn3s7p/J/qr+rxrn1Wr/Zztq1pX7XfUtre9fcL2jNt9u3UAAAAAn0IAEAAAAAAAAAAAAAYSAAQAAAB4SHVzVfb0TVZV/a6v7Oj8u9zVf6fa56hc5+n39vR+uV7e725X98vrw919v2qfVVU/q2L9Xf3nfqJuVz/W5fUAAAAA7BMABAAAAAAAAAAAgIEEAAEAAABe5FU3W63Wj5u4uvmr9e5W3RR2dz+v2qeT+3j1/nfL/Vfv+SnV+7u7j1fts6rqJ7xrv1VfAAAAAHxPABAAAAAAAAAAAAAGEgAEAAAAOCjflHX25qpuXeyT91t1tq/s7P5Hbc+6t99d5wl375Pr3d3vp8nvr/peneo7nK1X6fa5e7/KXftU5+lsz/pdH2fr53XdPgAAAAC/nQAgAAAAAAAAAAAADCQACAAAAPDDVm/C2t6qdeTGq6hf7RP1qudP685zd1/Vfj91fl7jVd+326f7e39K9NX9/cdYFfWqutnR+gAAAAB8TwAQAAAAAAAAAAAABhIABAAAAHhT3U1ZqzdurerqvWq/OHd3/rtc3Sef42i9q+vfXT5PPm/n6vrs7nqV2CfvF+7et6v36v2qcwMAAABwLwFAAAAAAAAAAAAAGEgAEAAAAGBRvvHqrhuuurrx7/z7T8n9HlWtf/p8ed+r+1Xn4DXufv9Pf8/q7+3qvk/3nVX7xfnyOfO/7+r3qboAAAAA0wgAAgAAAAAAAAAAwEACgAAAAADD5JuvsrgJq7oRq1v/lJ/qp9r3bq9+r/lcT++f67/qvYa7z1fVe/pcd+17V59X+6nWAwAAAPAaAoAAAAAAAAAAAAAwkAAgAAAAQKO6CSt+r54/bfXmrdU+j97k1dXb7rk37+h+Rz21b657tt5ddabI58vnX3VXnZDrhat1O92+d+9f7RdW9406Xb2nrPYJAAAA8CkEAAEAAAAAAAAAAGAgAUAAAACAxupNV+9yM1XXb9ff6nlDrnd3/aOq/Z/el9mqv4/u7/mq7u8y73+0n6P130X0lQcAAAAA/yQACAAAAAAAAAAAAAMJAAIAAAAsipu08qjs3V71NV5ltc/K0XXV+bY9HKl3VLf/Vbn+2bp31fl0+b3l93rWT32P2Lfa/+j5qjqdbQ9n1p8V51s9Z+4zBgAAAMCnEQAEAAAAAAAAAACAgQQAAQAAAC46egPV0Zuu7tL1d3dfq+/jKT+9P/vyd7nr7+1uP91n3v+s6Lvr/679Vh3tKw8AAAAA/kcAEAAAAAAAAAAAAAYSAAQAAAC42d5tVV9j1erNWGet9lPtf3X93fI+q/2terr+Ue/Wz0/L58/v525P1w9X91ld/9TfT+y/2keIfp7qCwAAAOC3EQAEAAAAAAAAAACAgQQAAQAAAF7k7M1WZ2/S6hztI0QfZ9ff5e73kd1dP9f76fd3Vu777Hu6q07lrnq5z3B3v2G1btXXqqvrQ/Sbx6ro465+AAAAAD6NACAAAAAAAAAAAAAMJAAIAAAA8CZWb8I6e9PWqqN9rM67S1Wv6+Oqp+tzzU99/7v/vjvRR7dvzItxl9i32z881QcAAAAA/yMACAAAAAAAAAAAAAMJAAIAAAC8qbM3Zx29oavT7b+6z9V+qvVH308n73N3fZ6Vv1f1d3NW9fdwdZ/V9d28qr+jVvsJsW8eAAAAADxLABAAAAAAAAAAAAAGEgAEAAAAGGLvdq2v0YmbvPI4anW/ztH9q/l39fO03P+Uvl8lv4/qe7+bu77jXec920/sn0cn9ju7LwAAAAD3EAAEAAAAAAAAAACAgQQAAQAAAH6Z1Ru5Vm/66py9AWx729iRPs7u18l9PLUPr5G/39G/s1VH94nn3bxK3u+sn94fAAAAgHsIAAIAAAAAAAAAAMBAAoAAAAAAL5Zv3nrqRq2om0cn+st9hlwn5m332D5flffL/z5b97d4t/eR98/9fbr8Ps6+n3jPMXKd+D2LeXl+ZbvHdtwt113tDwAAAIB9AoAAAAAAAAAAAAAwkAAgAAAAwIfZ3u61vYmrsr1FbDs6q/Wz1fp3yfud7Tt7qu5vld9Pfn9nPVU3y/uEs/tV9bKon0cl6uYBAAAAwEwCgAAAAAAAAAAAADCQACAAAADAh7vrBrDu5rGznrqh7Kl+mcHfKwAAAAC/gQAgAAAAAAAAAAAADCQACAAAAMCuuMksj07cVBajWne03tNW++nkfu+qyzWv+g6rf69dP1HnaL08AAAAAPjdBAABAAAAAAAAAABgIAFAAAAAAA45esNYdYNZ/H60Toyz8vrV/XmN/D2ufu/s7vqxfrVO7L86vxJ1YgAAAADwmQQAAQAAAAAAAAAAYCABQAAAAIAXqW78it+7McXRG8nOnm/ae+F3efrvtvr/0dH/f71anK8bAAAAANxDABAAAAAAAAAAAAAGEgAEAAAAeJGrN3ft3aL1NX5aPlf0Fb/ncbftu/galfz87n6eqv9031flfnK/Zz1VNxytH8+7eWdFP7mvs3Kfd9etBgAAAACvJQAIAAAAAAAAAAAAAwkAAgAAALzY9pavlXHU3q1c342Q98vP73L2XKue6pvP9PTf09P/f6jEubpxVpxrdQAAAABwjgAgAAAAAAAAAAAADCQACAAAAPDm9m7L2o6ruhu/uuch93N0fojfq+ertj1v+7hal98l/z1UfzdHRd1cP1S/h7z/6vy8LnTPV0Uf3QAAAADgNQQAAQAAAAAAAAAAYCABQAAAAIBfZu82rr1xVr5JLI+7Xe03u7vPXO/ufj9dfp9Pf7+zos/c712iz2qclfvOAwAAAID3JgAIAAAAAAAAAAAAAwkAAgAAAHyovdu+vkZW/b5q77ay7ciq36/2kVX78Ble9f2rfeL3apxV/f8kfs8DAAAAgNkEAAEAAAAAAAAAAGAgAUAAAAAAluzdHvbduGrvVrSv0Tnax9H6zJK/b4zO1b+jGFflProBAAAAwGcRAAQAAAAAAAAAAICBBAABAAAA+Id8k9jTN5ndbXv72pm+8/oYWf797vM8Xf9uub/c/1Wr9eP36vmqu+pkcY5qXJX7vasuAAAAAO9JABAAAAAAAAAAAAAGEgAEAAAA4Edtbz/bjqz6/VW2t8Ftb1jjZ73Ld+n+bqvnAAAAAHCFACAAAAAAAAAAAAAMJAAIAAAAwCPyjWd33dC2vU1tb/yU7S10d5yT/3mX97r3t7YdV+Xz3VUXAAAAgN9NABAAAAAAAAAAAAAGEgAEAAAA4C3lG9Cu3gAX9fJ4SvSbB/v23tXXeMre38LXyKrfs9zv6joAAAAAuEIAEAAAAAAAAAAAAAYSAAQAAABglO5muOrmtWpdzK/Whe75quijG7/F3tn2xlWr36+ad7aPq/3n9VV/AAAAALBHABAAAAAAAAAAAAAGEgAEAAAA+GXiRrGrI9ubszKyvTnfjcre3O2o7M3djkr3/GnbHq+MbG/OlfFTuv23Pe6Nyt7c7ajszd0b2d6cIyPbm3NkAAAAAPDeBAABAAAAAAAAAABgIAFAAAAAAAAAAAAAGEgAEAAAAAAAAAAAAAYSAAQAAAAY7s+fP4+ObG/OkZHtzfluZHtzvhvZ3py90dlb8zU6R+dnZ9e92vaMK/3m+TE6e2u2o7I397uR7c35bmR7c46MbG/OHQMAAACA9yIACAAAAAAAAAAAAAMJAAIAAAAwSr6J7K+//vrvWHV2fV6XVXVW18WI+d26EOveTT7H9ozf9Rvzs7PrOkfX5T7O7gsAAAAAdxAABAAAAAAAAAAAgIEEAAEAAADg/3U3zIW48a26+a2qU83PYn1V56pt79txt6PnqPqo1m9731uX5Tqr6wAAAADgnQkAAgAAAAAAAAAAwEACgAAAAAC8VL55rbrhrXO1Tl4fzvaTRZ08zop+u9HZ6+lrdPb22htn7fX0NbKj+1R1jsp1zp73rjoAAAAA8EUAEAAAAAAAAAAAAAYSAAQAAADgV8k3rHWqG9iiTjfOin2rka3uW60/atvLd/W6vnKdPI7K+3UjO7pvVQcAAAAA3oEAIAAAAAAAAAAAAAwkAAgAAADAt/KNae92I9rqjW7RdzWuij5W++l0dfbOsB2dq/VjVLr6q+6qE/bOsB2du/u5Kvf9bv0BAAAA8CwBQAAAAAAAAAAAABhIABAAAACAH5FvKlu9gS3E/Gpd9/yo6LcaWfV7WO1ru8d39Sp5fYxQ/X7U0Trd+XOdbe29cZfoq+qve17J8+/uGwAAAIDPJAAIAAAAAAAAAAAAAwkAAgAAAPBWtrerfTfO2t4atzLC2X2reqGqG7/n8bSqz85er18jq37fvqMz+2e5XjfO2p71uwEAAAAATxAABAAAAAAAAAAAgIEEAAEAAAB41N5taNtx1d5tbl8jq34/6mrfVR/bd7JSP+rkka3W7ebt7fU1Oqt1z8p1z9ar1sXveVy1fSd7AwAAAABWCAACAAAAAAAAAADAQAKAAAAAAJyyd2vZ3jhr79a1vfG0ap+z5zu6bnvW7ah0z2P/PCqr++Wxqtu/cnbdXfbOvDfOivN1AwAAAIDPJgAIAAAAAAAAAAAAAwkAAgAAAPASe7ejbcfdct2rN6ZVfVZ14/c8jjq7Lvqt+q6cXReunjOPrPr9bL8h171arxJ1q3HW1fUAAAAAzCQACAAAAAAAAAAAAAMJAAIAAACwZHtL2ZnRyfOqm96uulq3Ok/UXa0fdfKorNbNjq57ap+9s36NTtSt6q/WqVR1r8p1V/uMeUcHAAAAAJ9JABAAAAAAAAAAAAAGEgAEAAAA4Fe764a0uNEt3+zW2d7Sth2Vbl63/7bHvXm5foysqxOq5139kOfFWNX1d9TR/QEAAADgJwkAAgAAAAAAAAAAwEACgAAAAAB8hHyzW3dzXDzv5lXuukmuqpP7i1Hp+ume7+31NbKuzqqjdfZ6+xqV/PyuvgEAAADglQQAAQAAAAAAAAAAYCABQAAAAADeSr6JrbvJ7aqon0cl+ssj6+ocVe1T2fb2ynV3ye9v29N2dKJOHk/J9Vf7BAAAAIAzBAABAAAAAAAAAABgIAFAAAAAAD7C2ZvftrfNfXeTW/X87L7ZXXWe8lPn3H6b7Tjqrv4BAAAA4JUEAAEAAAAAAAAAAGAgAUAAAAAAfpW4yS2Pzt4tcl/jqGrdah9h2/veuq6/at2qbn13zm59Vs3vzlmJdXl0tr3v9QMAAAAA70QAEAAAAAAAAAAAAAYSAAQAAADgLeUb26ob2ba3te09z7a3wa3UPyvXD9U+8Xv1POS68e/8e+jqZdX8ap/87yzqVXWr37u6R+V9on63T6zLI8u/d3UBAAAA4A4CgAAAAAAAAAAAADCQACAAAAAAo2xvYdveuJZtb3fbjk5X96hq3+0Zvttv2/tenaya1+1TPT+6bzc/9rm636pqn2zb+8r+2zOs1AcAAACAJwgAAgAAAAAAAAAAwEACgAAAAAD8CkdvcAtH55+1uk/MW51fqdbnG+uqG+zu2n+1zuq8q472k0dndR4AAAAA3EEAEAAAAAAAAAAAAAYSAAQAAADgrW1vX/tuXJXrVDfjHRV1unp3nSOr6lb9vLqPsH1He30dlevcda6oUw0AAAAAeCUBQAAAAAAAAAAAABhIABAAAAAAbrS9xW57A13n6Pxpzr6Po+sAAAAA4JMIAAIAAAAAAAAAAMBAAoAAAAAAsPHnz5//jtDdQLe9pe67eVE3j6yrc1RV7132z6MSdap6IT/v6gIAAADAZAKAAAAAAAAAAAAAMJAAIAAAAACc0N1Et73V7rsb6KrnXf1OtT7v99P7Z/G8m3e1PwAAAAD4DQQAAQAAAAAAAAAAYCABQAAAAADYkW+gixvnqpvntrfWbdetOrsu6/qrVM+repWz+1diXbU+9sv7VvMBAAAA4DcRAAQAAAAAAAAAAICBBAABAAAA4IK7b5rL9fLNdtn29ru9eUf7q+Z3+1SO7t+5ux4AAAAATCYACAAAAAAAAAAAAAMJAAIAAADAN+LGuWq8Sr55r7uJ72p/3fqun6v7d6J+NQAAAADgEwgAAgAAAAAAAAAAwEACgAAAAADwhqqb7PJNe2F7+93eurO6ulU/AAAAAMDzBAABAAAAAAAAAABgIAFAAAAAAHhj1c17oXt+t3frBwAAAAA+mQAgAAAAAAAAAAAADCQACAAAAAADxM16efyUvV6+BgAAAADwOgKAAAAAAAAAAAAAMJAAIAAAAAAAAAAAAAwkAAgAAAAAAAAAAAADCQACAAAAAAAAAADAQAKAAAAAAAAAAAAAMJAAIAAAAAAAAAAAAAwkAAgAAAAAAAAAAAADCQACAAAAAAAAAADAQAKAAAAAAAAAAAAAMJAAIAAAAAAAAAAAAAwkAAgAAAAAAAAAAAADCQACAAAAAAAAAADAQAKAAAAAAAAAAAAAMJAAIAAAAAAAAAAAAAwkAAgAAAAAAAAAAAADCQACAAAAAAAAAADAQAKAAAAAAAAAAAAAMJAAIAAAAAAAAAAAAAwkAAgAAAAAAAAAAAADCQACAAAAAAAAAADAQAKAAAAAAAAAAAAAMJAAIAAAAAAAAAAAAAwkAAgAAAAAAAAAAAADCQACAAAAAAAAAADAQAKAAAAAAAAAAAAAMJAAIAAAAAAAAAAAAAwkAAgAAAAAAAAAAAADCQACAAAAAAAAAADAQAKAAAAAAAAAAAAAMJAAIAAAAAAAAAAAAAwkAAgAAAAAAAAAAAADCQACAAAAAAAAAADAQAKAAAAAAAAAAAAAMJAAIAAAAAAAAAAAAAwkAAgAAAAAAAAAAAADCQACAAAAAAAAAADAQAKAAAAAAAAAAAAAMJAAIAAAAAAAAAAAAAwkAAgAAAAAAAAAAAADCQACAAAAAAAAAADAQAKAAAAAAAAAAAAAMJAAIAAAAAAAAAAAAAwkAAgAAAAAAAAAAAADCQACAAAAAAAAAADAQAKAAAAAAAAAAAAAMJAAIAAAAAAAAAAAAAwkAAgAAAAAAAAAAAADCQACAAAAAAAAAADAQAKAAAAAAAAAAAAAMJAAIAAAAAAAAAAAAAwkAAgAAAAAAAAAAAADCQACAAAAAAAAAADAQAKAAAAAAAAAAAAAMJAAIAAAAAAAAAAAAAwkAAgAAAAAAAAAAAADCQACAAAAAAAAAADAQAKAAAAAAAAAAAAAMJAAIAAAAAAAAAAAAAwkAAgAAAAAAAAAAAADCQACAAAAAAAAAADAQAKAAAAAAAAAAAAAMJAAIAAAAAAAAAAAAAwkAAgAAAAAAAAAAAADCQACAAAAAAAAAADAQAKAAAAAAAAAAAAAMJAAIAAAAAAAAAAAAAwkAAgAAAAAAAAAAAADCQACAAAAAAAAAADAQAKAAAAAAAAAAAAAMJAAIAAAAAAAAAAAAAwkAAgAAAAAAAAAAAADCQACAAAAAAAAAADAQAKAAAAAAAAAAAAAMJAAIAAAAAAAAAAAAAwkAAgAAAAAAAAAAAADCQACAAAAAAAAAADAQAKAAAAAAAAAAAAAMJAAIAAAAAAAAAAAAAwkAAgAAAAAAAAAAAADCQACAAAAAAAAAADAQAKAAAAAAAAAAAAAMJAAIAAAAAAAAAAAAAwkAAgAAAAAAAAAAAADCQACAAAAAAAAAADAQAKAAAAAAAAAAAAAMJAAIAAAAAAAAAAAAAwkAAgAAAAAAAAAAAADCQACAAAAAAAAAADAQAKAAAAAAAAAAAAAMJAAIAAAAAAAAAAAAAwkAAgAAAAAAAAAAAADCQACAAAAAAAAAADAQAKAAAAAAAAAAAAAMJAAIAAAAAAAAAAAAAwkAAgAAAAAAAAAAAADCQACAAAAAAAAAADAQAKAAAAAAAAAAAAAMJAAIAAAAAAAAAAAAAwkAAgAAAAAAAAAAAADCQACAAAAAAAAAADAQAKAAAAAAAAAAAAAMJAAIAAAAAAAAAAAAAwkAAgAAAAAAAAAAAADCQACAAAAAAAAAADAQAKAAAAAAAAAAAAAMJAAIAAAAAAAAAAAAAwkAAgAAAAAAAAAAAADCQACAAAAAAAAAADAQAKAAAAAAAAAAAAAMJAAIAAAAAAAAAAAAAwkAAgAAAAAAAAAAAADCQACAAAAAAAAAADAQAKAAAAAAAAAAAAAMJAAIAAAAAAAAAAAAAwkAAgAAAAAAAAAAAADCQACAAAAAAAAAADAQAKAAAAAAAAAAAAAMJAAIAAAAAAAAAAAAAwkAAgAAAAAAAAAAAADCQACAAAAAAAAAADAQAKAAAAAAAAAAAAAMJAAIAAAAAAAAAAAAAwkAAgAAAAAAAAAAAADCQACAAAAAAAAAADAQAKAAAAAAAAAAAAAMJAAIAAAAAAAAAAAAAwkAAgAAAAAAAAAAAADCQACAAAAAAAAAADAQAKAAAAAAAAAAAAAMJAAIAAAAAAAAAAAAAwkAAgAAAAAAAAAAAADCQACAAAAAAAAAADAQAKAAAAAAAAAAAAAMJAAIAAAAAAAAAAAAAwkAAgAAAAAAAAAAAADCQACAAAAAAAAAADAQAKAAAAAAAAAAAAAMJAAIAAAAAAAAAAAAAwkAAgAAAAAAAAAAAADCQACAAAAAAAAAADAQAKAAAAAAAAAAAAAMJAAIAAAAAAAAAAAAAwkAAgAAAAAAAAAAAADCQACAAAAAAAAAADAQAKAAAAAAAAAAAAAMJAAIAAAAAAAAAAAAAwkAAgAAAAAAAAAAAADCQACAAAAAAAAAADAQAKAAAAAAAAAAAAAMJAAIAAAAAAAAAAAAAwkAAgAAAAAAAAAAAADCQACAAAAAAAAAADAQAKAAAAAAAAAAAAAMJAAIAAAAAAAAAAAAAwkAAgAAAAAAAAAAAADCQACAAAAAAAAAADAQAKAAAAAAAAAAAAAMJAAIAAAAAAAAAAAAAwkAAgAAAAAAAAAAAADCQACAAAAAAAAAADAQAKAAAAAAAAAAAAAMJAAIAAAAAAAAAAAAAwkAAgAAAAAAAAAAAADCQACAAAAAAAAAADAQAKAAAAAAAAAAAAAMJAAIAAAAAAAAAAAAAwkAAgAAAAAAAAAAAADCQACAAAAAAAAAADAQAKAAAAAAAAAAAAAMJAAIAAAAAAAAAAAAAwkAAgAAAAAAAAAAAADCQACAAAAAAAAAADAQAKAAAAAAAAAAAAAMJAAIAAAAAAAAAAAAAwkAAgAAAAAAAAAAAADCQACAAAAAAAAAADAQAKAAAAAAAAAAAAAMJAAIAAAAAAAAAAAAAwkAAgAAAAAAAAAAAADCQACAAAAAAAAAADAQAKAAAAAAAAAAAAAMJAAIAAAAAAAAAAAAAwkAAgAAAAAAAAAAAADCQACAAAAAAAAAADAQAKAAAAAAAAAAAAAMJAAIAAAAAAAAAAAAAwkAAgAAAAAAAAAAAADCQACAAAAAAAAAADAQAKAAAAAAAAAAAAAMJAAIAAAAAAAAAAAAAwkAAgAAAAAAAAAAAADCQACAAAAAAAAAADAQAKAAAAAAAAAAAAAMJAAIAAAAAAAAAAAAAwkAAgAAAAAAAAAAAADCQACAAAAAAAAAADAQAKAAAAAAAAAAAAAMJAAIAAAAAAAAAAAAAwkAAgAAAAAAAAAAAADCQACAAAAAAAAAADAQAKAAAAAAAAAAAAAMJAAIAAAAAAAAAAAAAwkAAgAAAAAAAAAAAADCQACAAAAAAAAAADAQAKAAAAAAAAAAAAAMJAAIAAAAAAAAAAAAAwkAAgAAAAAAAAAAAADCQACAAAAAAAAAADAQAKAAAAAAAAAAAAAMJAAIAAAAAAAAAAAAAwkAAgAAAAAAAAAAAADCQACAAAAAAAAAADAQAKAAAAAAAAAAAAAMJAAIAAAAAAAAAAAAAwkAAgAAAAAAAAAAAADCQACAAAAAAAAAADAQAKAAAAAAAAAAAAAMJAAIAAAAAAAAAAAAAwkAAgAAAAAAAAAAAADCQACAAAAAAAAAADAQAKAAAAAAAAAAAAAMJAAIAAAAAAAAAAAAAwkAAgAAAAAAAAAAAADCQACAAAAAAAAAADAQAKAAAAAAAAAAAAAMJAAIAAAAAAAAAAAAAwkAAgAAAAAAAAAAAADCQACAAAAAAAAAADAQAKAAAAAAAAAAAAAMJAAIAAAAAAAAAAAAAwkAAgAAAAAAAAAAAADCQACAAAAAAAAAADAQAKAAAAAAAAAAAAAMJAAIAAAAAAAAAAAAAwkAAgAAAAAAAAAAAADCQACAAAAAAAAAADAQAKAAAAAAAAAAAAAMJAAIAAAAAAAAAAAAAwkAAgAAAAAAAAAAAADCQACAAAAAAAAAADAQAKAAAAAAAAAAAAAMJAAIAAAAAAAAAAAAAwkAAgAAAAAAAAAAAADCQACAAAAAAAAAADAQAKAAAAAAAAAAAAAMJAAIAAAAAAAAAAAAAwkAAgAAAAAAAAAAAADCQACAAAAAAAAAADAQAKAAAAAAAAAAAAAMJAAIAAAAAAAAAAAAAwkAAgAAAAAAAAAAAADCQACAAAAAAAAAADAQAKAAAAAAAAAAAAAMJAAIAAAAAAAAAAAAAwkAAgAAAAAAAAAAAADCQACAAAAAAAAAADAQAKAAAAAAAAAAAAAMJAAIAAAAAAAAAAAAAwkAAgAAAAAAAAAAAADCQACAAAAAAAAAADAQAKAAAAAAAAAAAAAMJAAIAAAAAAAAAAAAAwkAAgAAAAAAAAAAAADCQACAAAAAAAAAADAQAKAAAAAAAAAAAAAMJAAIAAAAAAAAAAAAAwkAAgAAAAAAAAAAAADCQACAAAAAAAAAADAQAKAAAAAAAAAAAAAMJAAIAAAAAAAAAAAAAwkAAgAAAAAAAAAAAADCQACAAAAAAAAAADAQAKAAAAAAAAAAAAAMJAAIAAAAAAAAAAAAAwkAAgAAAAAAAAAAAADCQACAAAAAAAAAADAQAKAAAAAAAAAAAAAMJAAIAAAAAAAAAAAAAwkAAgAAAAAAAAAAAADCQACAAAAAAAAAADAQAKAAAAAAAAAAAAAMJAAIAAAAAAAAAAAAAwkAAgAAAAAAAAAAAADCQACAAAAAAAAAADAQAKAAAAAAAAAAAAAMJAAIAAAAAAAAAAAAAwkAAgAAAAAAAAAAAADCQACAAAAAAAAAADAQAKAAAAAAAAAAAAAMJAAIAAAAAAAAAAAAAwkAAgAAAAAAAAAAAADCQACAAAAAAAAAADAQAKAAAAAAAAAAAAAMJAAIAAAAAAAAAAAAAwkAAgAAAAAAAAAAAADCQACAAAAAAAAAADAQAKAAAAAAAAAAAAAMJAAIAAAAAAAAAAAAAwkAAgAAAAAAAAAAAADCQACAAAAAAAAAADAQAKAAAAAAAAAAAAAMJAAIAAAAAAAAAAAAAwkAAgAAAAAAAAAAAADCQACAAAAAAAAAADAQAKAAAAAAAAAAAAAMJAAIAAAAAAAAAAAAAwkAAgAAAAAAAAAAAADCQACAAAAAAAAAADAQAKAAAAAAAAAAAAAMJAAIAAAAAAAAAAAAAwkAAgAAAAAAAAAAAADCQACAAAAAAAAAADAQAKAAAAAAAAAAAAAMJAAIAAAAAAAAAAAAAwkAAgAAAAAAAAAAAADCQACAAAAAAAAAADAQAKAAAAAAAAAAAAAMJAAIAAAAAAAAAAAAAwkAAgAAAAAAAAAAAADCQACAAAAAAAAAADAQAKAAAAAAAAAAAAAMJAAIAAAAAAAAAAAAAwkAAgAAAAAAAAAAAADCQACAAAAAAAAAADAQAKAAAAAAAAAAAAAMJAAIAAAAAAAAAAAAAwkAAgAAAAAAAAAAAADCQACAAAAAAAAAADAQAKAAAAAAAAAAAAAMJAAIAAAAAAAAAAAAAwkAAgAAAAAAAAAAAADCQACAAAAAAAAAADAQAKAAAAAAAAAAAAAMJAAIAAAAAAAAAAAAAwkAAgAAAAAAAAAAAADCQACAAAAAAAAAADAQAKAAAAAAAAAAAAAMJAAIAAAAAAAAAAAAAwkAAgAAAAAAAAAAAADCQACAAAAAAAAAADAQAKAAAAAAAAAAAAAMJAAIAAAAAAAAAAAAAwkAAgAAAAAAAAAAAADCQACAAAAAAAAAADAQAKAAAAAAAAAAAAAMJAAIAAAAAAAAAAAAAwkAAgAAAAAAAAAAAADCQACAAAAAAAAAADAQAKAAAAAAAAAAAAAMJAAIAAAAAAAAAAAAAwkAAgAAAAAAAAAAAADCQACAAAAAAAAAADAQAKAAAAAAAAAAAAAMJAAIAAAAAAAAAAAAAwkAAgAAAAAAAAAAAADCQACAAAAAAAAAADAQAKAAAAAAAAAAAAAMJAAIAAAAAAAAAAAAAwkAAgAAAAAAAAAAAADCQACAAAAAAAAAADAQAKAAAAAAAAAAAAAMJAAIAAAAAAAAAAAAAwkAAgAAAAAAAAAAAADCQACAAAAAAAAAADAQAKAAAAAAAAAAAAAMJAAIAAAAAAAAAAAAAwkAAgAAAAAAAAAAAADCQACAAAAAAAAAADAQAKAAAAAAAAAAAAAMJAAIAAAAAAAAAAAAAwkAAgAAAAAAAAAAAADCQACAAAAAAAAAADAQAKAAAAAAAAAAAAAMJAAIAAAAAAAAAAAAAwkAAgAAAAAAAAAAAADCQACAAAAAAAAAADAQAKAAAAAAAAAAAAAMJAAIAAAAAAAAAAAAAwkAAgAAAAAAAAAAAADCQACAAAAAAAAAADAQAKAAAAAAAAAAAAAMJAAIAAAAAAAAAAAAAwkAAgAAAAAAAAAAAADCQACAAAAAAAAAADAQAKAAAAAAAAAAAAAMJAAIAAAAAAAAAAAAAwkAAgAAAAAAAAAAAADCQACAAAAAAAAAADAQAKAAAAAAAAAAAAAMJAAIAAAAAAAAAAAAAwkAAgAAAAAAAAAAAADCQACAAAAAAAAAADAQAKAAAAAAAAAAAAAMJAAIAAAAAAAAAAAAAwkAAgAAAAAAAAAAAADCQACAAAAAAAAAADAQAKAAAAAAAAAAAAAMJAAIAAAAAAAAAAAAAwkAAgAAAAAAAAAAAADCQACAAAAAAAAAADAQAKAAAAAAAAAAAAAMJAAIAAAAAAAAAAAAAwkAAgAAAAAAAAAAAADCQACAAAAAAAAAADAQAKAAAAAAAAAAAAAMJAAIAAAAAAAAAAAAAwkAAgAAAAAAAAAAAADCQACAAAAAAAAAADAQAKAAAAAAAAAAAAAMJAAIAAAAAAAAAAAAAwkAAgAAAAAAAAAAAADCQACAAAAAAAAAADAQAKAAAAAAAAAAAAAMJAAIAAAAAAAAAAAAAwkAAgAAAAAAAAAAAADCQACAAAAAAAAAADAQAKAAAAAAAAAAAAAMJAAIAAAAAAAAAAAAAwkAAgAAAAAAAAAAAADCQACAAAAAAAAAADAQAKAAAAAAAAAAAAAMJAAIAAAAAAAAAAAAAwkAAgAAAAAAAAAAAADCQACAAAAAAAAAADAQAKAAAAAAAAAAAAAMJAAIAAAAAAAAAAAAAwkAAgAAAAAAAAAAAADCQACAAAAAAAAAADAQAKAAAAAAAAAAAAAMJAAIAAAAAAAAAAAAAwkAAgAAAAAAAAAAAADCQACAAAAAAAAAADAQAKAAAAAAAAAAAAAMJAAIAAAAAAAAAAAAAwkAAgAAAAAAAAAAAADCQACAAAAAAAAAADAQAKAAAAAAAAAAAAAMJAAIAAAAAAAAAAAAAwkAAgAAAAAAAAAAAADCQACAAAAAAAAAADAQAKAAAAAAAAAAAAAMJAAIAAAAAAAAAAAAAwkAAgAAAAAAAAAAAADCQACAAAAAAAAAADAQAKAAAAAAAAAAAAAMJAAIAAAAAAAAAAAAAwkAAgAAAAAAAAAAAADCQACAAAAAAAAAADAQAKAAAAAAAAAAAAAMJAAIAAAAAAAAAAAAAwkAAgAAAAAAAAAAAADCQACAAAAAAAAAADAQAKAAAAAAAAAAAAAMJAAIAAAAAAAAAAAAAwkAAgAAAAAAAAAAAADCQACAAAAAAAAAADAQAKAAAAAAAAAAAAAMJAAIAAAAAAAAAAAAAwkAAgAAAAAAAAAAAADCQACAAAAAAAAAADAQAKAAAAAAAAAAAAAMJAAIAAAAAAAAAAAAAwkAAgAAAAAAAAAAAADCQACAAAAAAAAAADAQAKAAAAAAAAAAAAAMJAAIAAAAAAAAAAAAAwkAAgAAAAAAAAAAAADCQACAAAAAAAAAADAQAKAAAAAAAAAAAAAMJAAIAAAAAAAAAAAAAwkAAgAAAAAAAAAAAADCQACAAAAAAAAAADAQAKAAAAAAAAAAAAAMJAAIAAAAAAAAAAAAAwkAAgAAAAAAAAAAAADCQACAAAAAAAAAADAQAKAAAAAAAAAAAAAMJAAIAAAAAAAAAAAAAwkAAgAAAAAAAAAAAADtQHAP3/+/HcAAAAAAAAAAAAA78MNgAAAAAAAAAAAADDQX//+9793r/f7z3/+8/f/AgAAAAAAAAAAAH7Kv/71r7//1z+5ARAAAAAAAAAAAAAGKm8ABAAAAAAAAAAAAN6XGwABAAAAAAAAAABgIAFAAID/a9fubuaqmi0K2yYHQiATbkiJS6IiEsIgAcCfHlvDmiz5BMBRDamotapm/fTu3fJ7wXEcx3Ecx3Ecx3Ecx3Ecx3Ecx3Ecx3H8B7n/AfA4juM4juM4juM4juM4juM4juM4juM4juM4juM4/oN8/Pnnnz9//Pjxw+fPnz98+vTpi2dRHOk2jzT//PPPF43z33///a9+xUNeDLxa+T3TqP3hhx++9dgZYijHi1fv3pmH8/bBnlGvjalr5/Sdm8VjP1u5rDrwv/7665fzcRzHcRzHcfwX+O2337797dvfxf2tvH/7Fo/7+//fn1suXu2bw9Y464N6embFsH1WL+Yub29163eHzhuvR5rYGG8GnL/XF1ufrj36vKxe1W4PbJ/VIz2qY3/99deXWeU359z3tHUoXoxfxLY20uXr8bI96/U+k+I8mpWWXx12XjOKFUdxpNs80rSD8/udFY/eAfBq5fdMo9ZnqMfOEEM5Xrx69848nLcP9ox6bUxdO6fv3Cwe+9nKZdXhrY9X++awNc76oJ5977F9Vi/mLm/v3q387tB54/VIExvjzYDz9/pi69O1R5+X1ava7YHts3qkR3Xsfv9fnxNfHMWRbvNI0w7O73dWPHoHwKuV3zONWp+hHjtDDOV48erdO/Nw3j7YM+q1MXXtnL5zs3jsZyuXVYe3Pl7tm8PWOOuDeva9x/ZZvZi7vL17t/K7Q+eN1yNNbIw3A87f64utT9cefV5Wr2q3B7bP6vHTTz99y1fXrJ6D+Oac+562DsWL8YvY1ka6fD1etme93mdSnEez0vKrw85rRrHiKI50m0eadnB+v7PiIS8GXq38nmlQn3L1ao9yvHj17p15OG8f7Bn12pi6dk7fuVk89rOVy6rDWx+v9s1ha5z1QT373mP7rF7MXd7evVv53aGz+B9//PGl/scff/yWqz/+/PPPf9WZger5zWPr073vOqtXtdsD22f1SI/q2P37//U58cVRHOk2jzTt4Px+Z8WjdwC8Wvk906j1GeqxM8RQjhev3r0zD+ftgz2jXhtT187pOzeLx362cll1eOvj1b45bI2zPqhn33tsn9WLucvbu3crvzt03ng90sTGeDPg/L2+2Pp07dHnZfWqdntg+6we6VEdu9//1+fEF0dxpNs80rSD8/udFY/eAfBq5fdMo9ZnqMfOEEM5Xrx69848nLcP9ox6bUxdO6fv3Cwe+9nKZdXhrY9X++awNc76oJ5977F9Vi/mLm/v3q387tB54/VIExvjzYDz9/pi69O1R5+X1ava7YHts3qkR3Xsfv9fnxNfHMWRbvNI0w7O73dWPHoHwKuV3zONWp+hHjtDDOV48erdO/Nw3j7YM+q1MXXtnL5zs3jsZyuXVYe3Pl7tm8PWOOuDeva9x/ZZvZi7vL17t/K7Q+eN1yNNbIw3A87f64utT9cefV5Wr2q3B7bP6pEe1bH/b7//X3755Uvs999//+JXl0bsk/9kmwzDUE6THYTqiztDjRidPs1Iv2yvd9H6YPtg9bTu+TT7wrFqGC2PdweeFcNbg3LmwI7tsD2qaa/8cRzHcRzHcfyX6G/c/r7t711/3/b38v39/3///c/TNDNdte6Zvjufby7S6cnvbIZyqFfPSE6s3crp054v1fHt5xmEePV67UwUT8f2Tt9cMRTvjPajYZuvF83G0E5iGXYu6lf/7ZEP2mJvn3bA1jm/96V8c/nmZOg5yPWMV9dvCHzWXrTR91hu56Srvrgz1IjR7e82/bK91Owu9cH2wepp3fNpepeyahgtj3cHnhXDW4NyPWs7tsP2qKa91tM0M1217pm+O59vLtLpye9shnKoV89ITqzdyunTni/V8e3XewPx6vXamSieju2dvrliKN4Z7UfDNl8vmo2hncQy7FzUr/7bIx+0xd4+7YCtc37vS/nm8s3J0HOQ6xmvrt8Q+Ky9aKPvsdzOSVd9cWeoEaPb3236ZXup2V3qg+2D1dO659P0LmXVMFoe7w48K4a3BuV61nZsh+1RTXutp2lmumrdM313Pt9cpNOT39kM5VCvnpGcWLuV06c9X6rj26/3BuLV67UzUTwd2zt9c8VQvDPaj4Ztvl40G8M7m2Hnon713x75oC329mkHbJ3ze1/KN5dvToaeg1zPeHX9hsBn7UUbfY/lds7q1Bevtxoxuv3dll/qVZ+dVx9sH6xeD/d8muqzahgtj3cHnhXDW4NyPWs7tsP2qGb3ytM0M1217pm+O59vLtL1mXc2QznUq9+AnFi7FdMn/5KGz3pv4F69OTsTxdOxvdM3VwzFO6P9aNjm60WzMbSTWIadi/rVf3vkg7bY26cdsHXO730p31y+ORl6DnI949X1GwKftRdt9D2W2znpqi/uDDVidPu7Tb9sLzW7S32wfbB6Wvd8mt6lrBpGy+PdgWfF8NagXM/aju2wPappr/U0zUxXrXum787nm4t0evI7m6Ec6tUzkhNrt3L6tOdLdXz79d5AvHq9diaKp2N7p2+uGIp3RvvRsM3Xi2ZjaCexDDsX9av/9sgHbbG3Tztg65zf+1K+uXxzMvQc5HrGq+s3BD5rL9roeyy3c9JVX9wZasTo9nebftleanaX+mD7YPW07vk0vUtZNYyWx7sDz4rhrUG5nrUd22F7VNNe62mama5a90zfnc83F+n05Hc2QznUq2ckJ9Zu5fRpz5fq+PbrvYF49XrtTBRPx/ZO31wxFO+M9qNhm68XzcbQTmIZdi7qV//tkQ/aYm+fdsDWOb/3pXxz+eZk6DnI9YxX128IfNZetNH3WG7npKu+uDPUiNHt7zb9sr3U7C71wfbB6mnd82l6l7JqGC2PdweeFcNbg3I9azu2w/aopr3W0zQzXbXumb47n28u0unJ72yGcqhXz0hOrN3K6dOeL9Xx7dd7A/Hq9dqZKJ6O7Z2+uWIo3hntR8M2Xy+ajaGdxDLsXNSv/tsjH7TF3j7tgK1zfu9L+ebyzcnQc5DrGa+u39CHDx8+/A8cV8PpAoH/1gAAAABJRU5ErkJggg==)"
      ]
    },
    {
      "cell_type": "markdown",
      "metadata": {
        "id": "ImFoi27dV2MH"
      },
      "source": [
        "##Exercise - 15 - Testing\n",
        "\n",
        "a) Write a test-case to check the function even numbers which return True on passing a list of all even numbers\n",
        "\n",
        "AIM : Write a test-case to check the function even numbers which return True on passing a list of all even \n",
        "numbers"
      ]
    },
    {
      "cell_type": "code",
      "metadata": {
        "colab": {
          "base_uri": "https://localhost:8080/"
        },
        "id": "jFqZBxrnWSeb",
        "outputId": "dec197de-759f-447b-de90-f5c23f88c535"
      },
      "source": [
        "def evnNo(num):\n",
        "    stat=True\n",
        "\n",
        "    for i in num:\n",
        "        if i%2 ==1:\n",
        "            stat=False\n",
        "            break\n",
        "    return stat\n",
        "\n",
        "numbers=[]\n",
        "n=int(input(\"Enter how many values you want to enter: \"))\n",
        "for i in range(0,n):\n",
        "    numbers.append(int(input(\"Enter a value : \")))\n",
        "print(evnNo(numbers))"
      ],
      "execution_count": null,
      "outputs": [
        {
          "output_type": "stream",
          "text": [
            "Enter how many values you want to enter: 5\n",
            "Enter a value : 2\n",
            "Enter a value : 4\n",
            "Enter a value : 6\n",
            "Enter a value : 8\n",
            "Enter a value : 12\n",
            "True\n"
          ],
          "name": "stdout"
        }
      ]
    },
    {
      "cell_type": "markdown",
      "metadata": {
        "id": "KxmALcEWZw9Q"
      },
      "source": [
        "b) Write a test-case to check the function reverse string which returns the reversed string\n",
        "\n",
        "AIM : Write a test-case to check the function reverse string which returns the reversed string"
      ]
    },
    {
      "cell_type": "code",
      "metadata": {
        "colab": {
          "base_uri": "https://localhost:8080/"
        },
        "id": "qYu6z-alZ3Zi",
        "outputId": "40b9b0e2-13df-44dc-a82c-a50d2eab44b5"
      },
      "source": [
        "def rev_str(st):\n",
        "  return st[::-1]\n",
        "\n",
        "st=\"Uday Kiran Yadav\"\n",
        "print(\"Given String is : \",st)\n",
        "\n",
        "print(\"Reverse is : \",rev_str(st))"
      ],
      "execution_count": null,
      "outputs": [
        {
          "output_type": "stream",
          "text": [
            "Given String is :  Uday Kiran Yadav\n",
            "Reverse is :  vadaY nariK yadU\n"
          ],
          "name": "stdout"
        }
      ]
    },
    {
      "cell_type": "markdown",
      "metadata": {
        "id": "Fwu_q0S8bUm9"
      },
      "source": [
        "##Exercise - 16 - Advanced"
      ]
    },
    {
      "cell_type": "markdown",
      "metadata": {
        "id": "dbGnt796IIiX"
      },
      "source": [
        "a) Build any one classical data structure\n",
        "\n",
        "AIM : Write a programe to Build any one classical data structure"
      ]
    },
    {
      "cell_type": "code",
      "metadata": {
        "id": "9AwWwYhkbX89",
        "colab": {
          "base_uri": "https://localhost:8080/"
        },
        "outputId": "a63c7282-b54b-4284-c4c7-5a4a063a7607"
      },
      "source": [
        "import sys\n",
        "a=[]\n",
        "\n",
        "while True:\n",
        "        print(\"\\n1.PUSH 2.POP 3.DISPLAY 4.EXIT\")\n",
        "        ch=int(input(\"Enter Your Choice: \"))\n",
        "        if ch==1:\n",
        "            ele=int(input(\"Enter element: \"))\n",
        "            a.append(ele)\n",
        "            print (\"Inserted\")\n",
        "        elif ch==2:\n",
        "            if len(a)==0:\n",
        "                print(\"\\t STACK IS EMPTY\")\n",
        "            else:\n",
        "                print (\"Deleted element is: \", a[len(a)-1])\n",
        "                a.remove(a[len(a)-1])\n",
        "        elif ch==3:\n",
        "            if len(a)==0:\n",
        "                print(\"\\t STACK IS EMPTY\")\n",
        "            else:\n",
        "                print(\"\\tThe Elements in Stack is: \")\n",
        "                for i in reversed(a):\n",
        "                    print (i)\n",
        "        elif ch==4:\n",
        "            break\n",
        "        else:\n",
        "            print (\"\\t INVALID CHOICE \")\n"
      ],
      "execution_count": null,
      "outputs": [
        {
          "output_type": "stream",
          "text": [
            "\n",
            "1.PUSH 2.POP 3.DISPLAY 4.EXIT\n",
            "Enter Your Choice: 1\n",
            "Enter element: 10\n",
            "Inserted\n",
            "\n",
            "1.PUSH 2.POP 3.DISPLAY 4.EXIT\n",
            "Enter Your Choice: 1\n",
            "Enter element: 11\n",
            "Inserted\n",
            "\n",
            "1.PUSH 2.POP 3.DISPLAY 4.EXIT\n",
            "Enter Your Choice: 1\n",
            "Enter element: 12\n",
            "Inserted\n",
            "\n",
            "1.PUSH 2.POP 3.DISPLAY 4.EXIT\n",
            "Enter Your Choice: 1\n",
            "Enter element: 13\n",
            "Inserted\n",
            "\n",
            "1.PUSH 2.POP 3.DISPLAY 4.EXIT\n",
            "Enter Your Choice: 3\n",
            "\tThe Elements in Stack is: \n",
            "13\n",
            "12\n",
            "11\n",
            "10\n",
            "\n",
            "1.PUSH 2.POP 3.DISPLAY 4.EXIT\n",
            "Enter Your Choice: 2\n",
            "Deleted element is:  13\n",
            "\n",
            "1.PUSH 2.POP 3.DISPLAY 4.EXIT\n",
            "Enter Your Choice: 2\n",
            "Deleted element is:  12\n",
            "\n",
            "1.PUSH 2.POP 3.DISPLAY 4.EXIT\n",
            "Enter Your Choice: 2\n",
            "Deleted element is:  11\n",
            "\n",
            "1.PUSH 2.POP 3.DISPLAY 4.EXIT\n",
            "Enter Your Choice: 3\n",
            "\tThe Elements in Stack is: \n",
            "10\n",
            "\n",
            "1.PUSH 2.POP 3.DISPLAY 4.EXIT\n",
            "Enter Your Choice: 4\n"
          ],
          "name": "stdout"
        }
      ]
    },
    {
      "cell_type": "markdown",
      "metadata": {
        "id": "w9gCSzpk09cp"
      },
      "source": [
        "b) Write a program to solve knapsack problem.\n",
        "\n",
        "AIM : Write a program to solve knapsack problem"
      ]
    },
    {
      "cell_type": "code",
      "metadata": {
        "id": "zOIVQAe48m9s",
        "colab": {
          "base_uri": "https://localhost:8080/"
        },
        "outputId": "ed930f6f-f576-4cef-bb87-6104d21bc4b8"
      },
      "source": [
        " \n",
        "def knapSack(W, wt, val, n):\n",
        "    K = [[0 for x in range(W+1)]for x in range(n+1)]\n",
        "    for i in range(n+1):\n",
        "         for w in range(W+1):\n",
        "            if i==0 or w==0:\n",
        "               K[i][w] = 0\n",
        "            elif wt[i-1]<= w:\n",
        "                K[i][w] = max(val[i-1] + K[i-1][w-wt[i-1]],K[i-1][w])\n",
        "            else:\n",
        "                K[i][w] = K[i-1][w]\n",
        "    return K[n][W]\n",
        "val = [15, 3, 4]\n",
        "wt = [3, 2, 1]\n",
        "W=5\n",
        "n= len(val)\n",
        "print(\"Maximum value knapsack of capacity W: \",knapSack(W, wt, val, n))"
      ],
      "execution_count": null,
      "outputs": [
        {
          "output_type": "stream",
          "name": "stdout",
          "text": [
            "Maximum value knapsack of capacity W:  19\n"
          ]
        }
      ]
    },
    {
      "cell_type": "markdown",
      "metadata": {
        "id": "qttsdCwpDMsg"
      },
      "source": [
        "## Exercise - 17 - Data analysis\n",
        "\n",
        "AIM: Data analysis for manipulation using the following packages"
      ]
    },
    {
      "cell_type": "markdown",
      "metadata": {
        "id": "-mvruuhyDtx_"
      },
      "source": [
        "a) Numpy Package"
      ]
    },
    {
      "cell_type": "code",
      "metadata": {
        "colab": {
          "base_uri": "https://localhost:8080/"
        },
        "id": "YHPOyFTxDR-0",
        "outputId": "d95384fb-5647-41c4-a49b-77223aad305a"
      },
      "source": [
        "import numpy as np\n",
        "a=np.array([0,1,2])\n",
        "print (type(a))\n",
        "print (a.shape)\n",
        "print (a[0])\n",
        "print (a[1])\n",
        "print (a[2])\n",
        "a[0]=5\n",
        "print (a)\n",
        "print (\"Creating 3x3 identity matrix\")\n",
        "e=np.eye(3)\n",
        "print (e)"
      ],
      "execution_count": 3,
      "outputs": [
        {
          "output_type": "stream",
          "name": "stdout",
          "text": [
            "<class 'numpy.ndarray'>\n",
            "(3,)\n",
            "0\n",
            "1\n",
            "2\n",
            "[5 1 2]\n",
            "Creating 3x3 identity matrix\n",
            "[[1. 0. 0.]\n",
            " [0. 1. 0.]\n",
            " [0. 0. 1.]]\n"
          ]
        }
      ]
    },
    {
      "cell_type": "markdown",
      "metadata": {
        "id": "G1EMPoB8D4Jy"
      },
      "source": [
        "b)Pandas package"
      ]
    },
    {
      "cell_type": "markdown",
      "metadata": {
        "id": "fuWZKmFgE9vE"
      },
      "source": [
        "\n",
        "\n",
        "      1)Series\n",
        " "
      ]
    },
    {
      "cell_type": "code",
      "metadata": {
        "colab": {
          "base_uri": "https://localhost:8080/"
        },
        "id": "bKeqbWNsD7C4",
        "outputId": "785c4816-74eb-47f2-c334-e04e5f57e804"
      },
      "source": [
        "import pandas as pd\n",
        "s=pd.Series([1,2,3,4,5],index=['A','B','C','D','E'])\n",
        "print(s)"
      ],
      "execution_count": 4,
      "outputs": [
        {
          "output_type": "stream",
          "name": "stdout",
          "text": [
            "A    1\n",
            "B    2\n",
            "C    3\n",
            "D    4\n",
            "E    5\n",
            "dtype: int64\n"
          ]
        }
      ]
    },
    {
      "cell_type": "markdown",
      "metadata": {
        "id": "td3TEPKzFjJJ"
      },
      "source": [
        "         2) Data Frames"
      ]
    },
    {
      "cell_type": "code",
      "metadata": {
        "colab": {
          "base_uri": "https://localhost:8080/",
          "height": 143
        },
        "id": "drD0mKDhFm46",
        "outputId": "46404609-5635-4e81-8ccb-aa6daba7d274"
      },
      "source": [
        "#creating data frame\n",
        "import pandas as pd\n",
        "data={'Gen':['F','M','M'],'EiD':['E01','E02','E03'],'Age':[25,56,49]}\n",
        "df=pd.DataFrame(data, columns= ['EiD','Age','Gen'])\n",
        "df"
      ],
      "execution_count": 5,
      "outputs": [
        {
          "output_type": "execute_result",
          "data": {
            "text/html": [
              "<div>\n",
              "<style scoped>\n",
              "    .dataframe tbody tr th:only-of-type {\n",
              "        vertical-align: middle;\n",
              "    }\n",
              "\n",
              "    .dataframe tbody tr th {\n",
              "        vertical-align: top;\n",
              "    }\n",
              "\n",
              "    .dataframe thead th {\n",
              "        text-align: right;\n",
              "    }\n",
              "</style>\n",
              "<table border=\"1\" class=\"dataframe\">\n",
              "  <thead>\n",
              "    <tr style=\"text-align: right;\">\n",
              "      <th></th>\n",
              "      <th>EiD</th>\n",
              "      <th>Age</th>\n",
              "      <th>Gen</th>\n",
              "    </tr>\n",
              "  </thead>\n",
              "  <tbody>\n",
              "    <tr>\n",
              "      <th>0</th>\n",
              "      <td>E01</td>\n",
              "      <td>25</td>\n",
              "      <td>F</td>\n",
              "    </tr>\n",
              "    <tr>\n",
              "      <th>1</th>\n",
              "      <td>E02</td>\n",
              "      <td>56</td>\n",
              "      <td>M</td>\n",
              "    </tr>\n",
              "    <tr>\n",
              "      <th>2</th>\n",
              "      <td>E03</td>\n",
              "      <td>49</td>\n",
              "      <td>M</td>\n",
              "    </tr>\n",
              "  </tbody>\n",
              "</table>\n",
              "</div>"
            ],
            "text/plain": [
              "   EiD  Age Gen\n",
              "0  E01   25   F\n",
              "1  E02   56   M\n",
              "2  E03   49   M"
            ]
          },
          "metadata": {},
          "execution_count": 5
        }
      ]
    },
    {
      "cell_type": "markdown",
      "metadata": {
        "id": "U_dKq1feFzFv"
      },
      "source": [
        "## Exercise - 18 - Data analysis\n",
        "\n",
        "\n",
        "AIM:  Data analysis for manipulation using the following packages"
      ]
    },
    {
      "cell_type": "markdown",
      "metadata": {
        "id": "MaXWs_QYGNRD"
      },
      "source": [
        "a) Script Package"
      ]
    },
    {
      "cell_type": "code",
      "metadata": {
        "colab": {
          "base_uri": "https://localhost:8080/"
        },
        "id": "1M_xBVY6GEdT",
        "outputId": "b1317d45-d758-4dad-cd70-cc063378aa0a"
      },
      "source": [
        "from scipy.cluster.vq import kmeans,vq,whiten\n",
        "from numpy import vstack, array\n",
        "from numpy.random import rand\n",
        "data=vstack ((rand(100,3)+array ([.5,.5,.5]),rand(100,3)))\n",
        "data"
      ],
      "execution_count": 6,
      "outputs": [
        {
          "output_type": "execute_result",
          "data": {
            "text/plain": [
              "array([[5.66808640e-01, 1.17830223e+00, 1.32837720e+00],\n",
              "       [5.60069236e-01, 1.01556889e+00, 1.12527231e+00],\n",
              "       [6.14521081e-01, 8.35889491e-01, 1.41495831e+00],\n",
              "       [1.04854909e+00, 1.18401071e+00, 1.29642026e+00],\n",
              "       [6.22861932e-01, 1.30294081e+00, 1.49195589e+00],\n",
              "       [1.48554001e+00, 1.23069126e+00, 1.47941863e+00],\n",
              "       [7.32338719e-01, 1.27799369e+00, 1.24012128e+00],\n",
              "       [5.07252639e-01, 7.99660177e-01, 1.45678603e+00],\n",
              "       [6.32211437e-01, 1.06941328e+00, 8.24507590e-01],\n",
              "       [1.49814648e+00, 6.41696479e-01, 1.45844892e+00],\n",
              "       [1.18217557e+00, 1.18312720e+00, 7.59618223e-01],\n",
              "       [7.99685821e-01, 6.98479422e-01, 1.10621815e+00],\n",
              "       [1.31428695e+00, 7.70221184e-01, 1.09931892e+00],\n",
              "       [1.40021056e+00, 1.01922126e+00, 1.21934798e+00],\n",
              "       [1.11368247e+00, 6.16810950e-01, 1.20280148e+00],\n",
              "       [1.41968979e+00, 1.30792609e+00, 6.23908548e-01],\n",
              "       [1.49979526e+00, 1.47136451e+00, 7.15865037e-01],\n",
              "       [5.47127035e-01, 1.24431726e+00, 7.23691527e-01],\n",
              "       [6.27158457e-01, 1.08655532e+00, 1.13448307e+00],\n",
              "       [1.35495837e+00, 7.31776642e-01, 9.21462473e-01],\n",
              "       [8.54566882e-01, 1.02151193e+00, 8.49047124e-01],\n",
              "       [5.65818091e-01, 1.19977175e+00, 9.71777755e-01],\n",
              "       [7.69109667e-01, 1.49235085e+00, 7.97437491e-01],\n",
              "       [8.69903142e-01, 1.05623167e+00, 1.38402780e+00],\n",
              "       [1.13004486e+00, 8.56434336e-01, 1.13931219e+00],\n",
              "       [1.16604298e+00, 1.11181722e+00, 1.17695286e+00],\n",
              "       [9.23275099e-01, 6.19367709e-01, 6.82268406e-01],\n",
              "       [8.80964567e-01, 1.24650956e+00, 1.34709215e+00],\n",
              "       [1.23722370e+00, 1.47871561e+00, 1.41376470e+00],\n",
              "       [8.89293126e-01, 6.52194255e-01, 1.26343897e+00],\n",
              "       [1.06656156e+00, 1.44162533e+00, 8.24407877e-01],\n",
              "       [1.41399690e+00, 1.36539276e+00, 1.35526163e+00],\n",
              "       [5.24695060e-01, 5.74868402e-01, 5.64911647e-01],\n",
              "       [7.09781324e-01, 6.22318453e-01, 1.41913612e+00],\n",
              "       [8.79049583e-01, 1.07288236e+00, 9.43076258e-01],\n",
              "       [8.88800903e-01, 7.52166166e-01, 1.24036648e+00],\n",
              "       [7.01740161e-01, 7.50480917e-01, 1.35951829e+00],\n",
              "       [8.76004416e-01, 1.29327218e+00, 1.03383129e+00],\n",
              "       [5.98355160e-01, 6.36591719e-01, 1.13951218e+00],\n",
              "       [1.22154763e+00, 6.14318378e-01, 1.14988801e+00],\n",
              "       [1.25545245e+00, 1.21367512e+00, 1.32593595e+00],\n",
              "       [1.03455142e+00, 1.30482196e+00, 5.37238204e-01],\n",
              "       [6.28918841e-01, 1.30391706e+00, 1.45456494e+00],\n",
              "       [1.07395109e+00, 5.10500469e-01, 1.11838581e+00],\n",
              "       [1.38503863e+00, 7.54032833e-01, 7.59019060e-01],\n",
              "       [1.26348011e+00, 1.45200186e+00, 1.04503083e+00],\n",
              "       [9.99220377e-01, 1.35838132e+00, 1.33882752e+00],\n",
              "       [1.41214472e+00, 1.13419139e+00, 6.99060305e-01],\n",
              "       [6.34053705e-01, 7.15885970e-01, 1.16890993e+00],\n",
              "       [1.47061602e+00, 1.25052635e+00, 7.73726086e-01],\n",
              "       [1.35671408e+00, 7.30023214e-01, 7.44181341e-01],\n",
              "       [1.49421735e+00, 1.19921090e+00, 7.04465039e-01],\n",
              "       [9.20460608e-01, 1.21753143e+00, 5.96607495e-01],\n",
              "       [7.17441091e-01, 1.41192103e+00, 8.47981999e-01],\n",
              "       [5.41425178e-01, 6.41116122e-01, 1.44885643e+00],\n",
              "       [1.26602762e+00, 5.33102869e-01, 1.30709501e+00],\n",
              "       [1.04997428e+00, 6.91899858e-01, 1.37516140e+00],\n",
              "       [8.95322315e-01, 1.25807602e+00, 1.41735372e+00],\n",
              "       [7.93965216e-01, 7.99567148e-01, 8.71358774e-01],\n",
              "       [8.51569864e-01, 1.29665048e+00, 9.20785712e-01],\n",
              "       [5.75575137e-01, 1.08330281e+00, 1.13339349e+00],\n",
              "       [1.47975438e+00, 5.80451437e-01, 7.78960037e-01],\n",
              "       [6.28897439e-01, 1.35305567e+00, 1.19248792e+00],\n",
              "       [1.24342811e+00, 6.04671618e-01, 6.94319596e-01],\n",
              "       [5.17404326e-01, 1.12330406e+00, 1.02018654e+00],\n",
              "       [9.09299216e-01, 9.66340348e-01, 8.00308901e-01],\n",
              "       [8.99497866e-01, 1.30804461e+00, 1.37038992e+00],\n",
              "       [9.38908785e-01, 1.37548879e+00, 8.49334196e-01],\n",
              "       [1.47022892e+00, 7.53331455e-01, 1.27065380e+00],\n",
              "       [8.59936148e-01, 5.45387300e-01, 1.24783789e+00],\n",
              "       [1.23838828e+00, 1.38297928e+00, 1.24671383e+00],\n",
              "       [8.18588670e-01, 1.26093508e+00, 1.25236683e+00],\n",
              "       [8.23007345e-01, 1.17459467e+00, 8.02425152e-01],\n",
              "       [1.10704010e+00, 6.80308200e-01, 9.66019184e-01],\n",
              "       [1.43462869e+00, 1.17167682e+00, 1.12507231e+00],\n",
              "       [1.10716348e+00, 8.16993650e-01, 1.03858404e+00],\n",
              "       [6.32027716e-01, 1.27079354e+00, 7.66637038e-01],\n",
              "       [8.83361631e-01, 8.35795124e-01, 8.56703784e-01],\n",
              "       [7.65666928e-01, 8.31371586e-01, 8.90140748e-01],\n",
              "       [5.65253415e-01, 8.57296769e-01, 1.34048268e+00],\n",
              "       [6.72341219e-01, 5.56204394e-01, 1.46866806e+00],\n",
              "       [1.17906888e+00, 1.20133468e+00, 1.44004081e+00],\n",
              "       [8.86217740e-01, 5.55558434e-01, 1.27640399e+00],\n",
              "       [7.87129369e-01, 1.26752569e+00, 8.85868224e-01],\n",
              "       [7.58267594e-01, 5.46286121e-01, 1.48285671e+00],\n",
              "       [9.35129203e-01, 6.11694871e-01, 8.20621067e-01],\n",
              "       [1.10033784e+00, 5.08392197e-01, 1.19803475e+00],\n",
              "       [5.25520629e-01, 5.09261605e-01, 5.51823374e-01],\n",
              "       [6.31268241e-01, 5.60667366e-01, 1.07244783e+00],\n",
              "       [6.61576635e-01, 9.63024706e-01, 9.04561983e-01],\n",
              "       [1.45432091e+00, 9.76540521e-01, 5.20848773e-01],\n",
              "       [9.43369084e-01, 1.21111966e+00, 1.23586876e+00],\n",
              "       [8.88030395e-01, 6.07687866e-01, 5.50736673e-01],\n",
              "       [1.00427002e+00, 7.69505501e-01, 8.16860411e-01],\n",
              "       [9.36282871e-01, 5.02972859e-01, 8.45586816e-01],\n",
              "       [9.35783123e-01, 1.25632352e+00, 5.39226772e-01],\n",
              "       [1.48090643e+00, 1.38740232e+00, 8.73127854e-01],\n",
              "       [9.62020326e-01, 1.20311415e+00, 9.23067265e-01],\n",
              "       [1.24982734e+00, 1.26314948e+00, 9.73390148e-01],\n",
              "       [9.41278004e-01, 9.21590640e-01, 6.45611426e-01],\n",
              "       [2.57198785e-01, 6.53173751e-01, 5.86889382e-02],\n",
              "       [2.05305011e-01, 7.80620115e-01, 9.46873475e-01],\n",
              "       [8.41971643e-01, 9.68023061e-01, 4.41868176e-01],\n",
              "       [1.64392978e-02, 9.45720035e-01, 6.27856651e-01],\n",
              "       [6.29698011e-01, 7.31850002e-01, 6.51418658e-01],\n",
              "       [8.64179631e-01, 2.73035839e-01, 6.59581611e-01],\n",
              "       [2.29018674e-01, 7.84801550e-01, 3.03268528e-01],\n",
              "       [8.93821654e-01, 4.95270003e-01, 3.48633717e-01],\n",
              "       [1.04373386e-01, 4.36185376e-01, 5.66818739e-01],\n",
              "       [9.22374363e-01, 4.74543622e-01, 4.54033260e-03],\n",
              "       [9.74155333e-01, 8.13805748e-01, 9.43680177e-01],\n",
              "       [7.50061109e-01, 5.88228939e-01, 5.74583690e-01],\n",
              "       [2.56289931e-01, 3.41646442e-01, 1.13148155e-01],\n",
              "       [1.94488835e-02, 8.95039596e-01, 5.34996872e-01],\n",
              "       [1.96919654e-01, 1.27348145e-01, 5.38397156e-01],\n",
              "       [7.83738276e-01, 4.51396273e-01, 6.47114828e-01],\n",
              "       [6.02220386e-01, 9.50014036e-01, 4.59393534e-01],\n",
              "       [6.37927750e-01, 9.48489452e-01, 5.48324039e-01],\n",
              "       [9.21121262e-01, 7.55579580e-01, 5.86722693e-01],\n",
              "       [8.65829754e-01, 5.50530556e-01, 4.73201222e-01],\n",
              "       [3.32376911e-01, 1.55536719e-01, 1.12311457e-02],\n",
              "       [2.02151485e-01, 4.98748791e-01, 1.13933585e-01],\n",
              "       [6.51837778e-02, 8.65230817e-01, 5.69357966e-01],\n",
              "       [5.72348549e-01, 3.91014737e-01, 5.08078240e-02],\n",
              "       [9.00970746e-01, 1.77586462e-01, 7.48016903e-01],\n",
              "       [2.34831108e-01, 9.86764171e-01, 7.62291500e-01],\n",
              "       [8.18106762e-01, 1.76377102e-01, 3.13651123e-01],\n",
              "       [1.55035320e-01, 2.73320444e-01, 1.94546708e-01],\n",
              "       [4.11852720e-01, 8.53524475e-01, 8.04145240e-02],\n",
              "       [9.81225553e-01, 2.22588152e-01, 7.68755258e-01],\n",
              "       [4.15336803e-01, 8.53620332e-01, 3.12236976e-01],\n",
              "       [5.87739896e-01, 8.49866244e-01, 6.37280106e-01],\n",
              "       [4.11155298e-02, 2.53431917e-02, 5.68980509e-01],\n",
              "       [6.44262649e-01, 7.93253129e-01, 9.95146222e-01],\n",
              "       [9.50526022e-01, 8.40556384e-01, 1.77441484e-02],\n",
              "       [1.06640778e-01, 2.46437116e-01, 3.77141747e-01],\n",
              "       [6.87485023e-01, 8.66831950e-01, 2.68247286e-02],\n",
              "       [8.81712962e-01, 3.86889508e-01, 1.17612641e-01],\n",
              "       [6.14142490e-01, 4.38305933e-01, 5.90101910e-01],\n",
              "       [1.78373868e-01, 8.81353965e-01, 9.74766574e-01],\n",
              "       [4.63617801e-01, 2.85815174e-02, 4.41029518e-01],\n",
              "       [2.17516759e-02, 5.54959066e-01, 8.14583178e-01],\n",
              "       [2.71819245e-01, 1.60293602e-01, 8.34481922e-01],\n",
              "       [3.28200543e-01, 7.35114536e-01, 8.45128147e-01],\n",
              "       [1.49836684e-01, 3.43760336e-02, 7.18241354e-01],\n",
              "       [5.18885519e-01, 3.13963561e-01, 9.68884942e-01],\n",
              "       [7.20575960e-01, 3.34269667e-01, 7.46411935e-01],\n",
              "       [5.08842688e-01, 8.98179797e-01, 2.55191140e-01],\n",
              "       [7.68189272e-02, 1.05288325e-01, 3.25066834e-01],\n",
              "       [7.45631473e-01, 1.46803772e-01, 1.45129208e-01],\n",
              "       [2.67444908e-01, 5.65055417e-01, 8.54473822e-01],\n",
              "       [8.83580924e-01, 1.55726294e-01, 6.82799706e-01],\n",
              "       [8.53911180e-01, 9.04150025e-01, 8.59647776e-01],\n",
              "       [6.52680932e-01, 4.89246580e-01, 3.07808493e-01],\n",
              "       [4.28843583e-01, 5.45469568e-01, 9.46890887e-01],\n",
              "       [8.23698137e-01, 4.49464544e-01, 8.13271188e-01],\n",
              "       [5.89722239e-01, 8.41171724e-04, 3.47692493e-01],\n",
              "       [3.77973636e-01, 4.61380304e-01, 1.60237424e-01],\n",
              "       [2.92872594e-01, 1.15522328e-01, 1.71042752e-01],\n",
              "       [1.87626394e-01, 6.19080299e-01, 1.56272876e-01],\n",
              "       [3.80765560e-01, 7.95138706e-01, 4.09131595e-01],\n",
              "       [2.66803393e-01, 2.65816293e-01, 1.92312889e-02],\n",
              "       [2.38390171e-01, 5.02829302e-01, 1.88717481e-01],\n",
              "       [2.49764558e-02, 2.24274292e-01, 4.53764589e-01],\n",
              "       [7.26839027e-01, 9.48508413e-01, 3.15813815e-01],\n",
              "       [2.79391200e-01, 8.03915519e-01, 5.63116079e-01],\n",
              "       [1.93381453e-01, 7.66548638e-01, 2.75187195e-01],\n",
              "       [7.40088591e-01, 2.65210587e-01, 1.12826456e-01],\n",
              "       [5.52404874e-01, 1.98504972e-01, 2.88848341e-01],\n",
              "       [5.03328507e-01, 1.67878612e-01, 6.02472143e-01],\n",
              "       [6.77162428e-01, 6.27627278e-01, 3.37552738e-01],\n",
              "       [7.42790707e-02, 8.85081664e-02, 7.19096232e-01],\n",
              "       [8.41913418e-01, 1.16788495e-01, 7.62666439e-01],\n",
              "       [3.69335562e-01, 8.55677065e-01, 3.17678002e-01],\n",
              "       [9.01128805e-02, 3.90806947e-01, 5.11053222e-01],\n",
              "       [3.29561383e-01, 4.39888691e-01, 7.75617220e-01],\n",
              "       [1.71748552e-01, 7.03497270e-02, 5.70505702e-01],\n",
              "       [7.75640957e-01, 6.28999664e-01, 1.97699663e-01],\n",
              "       [4.77290915e-01, 6.15057951e-01, 4.11320265e-01],\n",
              "       [3.32615585e-01, 4.19922146e-01, 4.10514219e-01],\n",
              "       [1.19410120e-01, 4.78028488e-01, 4.40609627e-01],\n",
              "       [9.17461594e-01, 9.37339460e-01, 9.59734228e-01],\n",
              "       [5.06030488e-01, 5.85823945e-01, 2.26448663e-01],\n",
              "       [8.57899612e-01, 2.81255708e-01, 5.39483037e-01],\n",
              "       [6.31126001e-03, 5.44303546e-01, 2.45348048e-01],\n",
              "       [6.03391416e-01, 4.41014115e-01, 6.14224303e-01],\n",
              "       [6.72618725e-01, 6.01243628e-01, 9.34980880e-01],\n",
              "       [9.27865521e-01, 8.41587478e-01, 2.07945040e-01],\n",
              "       [2.54455542e-01, 7.72123983e-01, 2.04110893e-01],\n",
              "       [8.08200954e-01, 6.87924659e-01, 3.24661035e-01],\n",
              "       [3.17139764e-01, 4.02759101e-01, 3.69419126e-01],\n",
              "       [5.19940798e-01, 2.63046910e-02, 3.21445817e-01],\n",
              "       [5.87072342e-01, 8.13809368e-01, 3.65091291e-01],\n",
              "       [8.36126741e-02, 5.52083732e-01, 8.55257290e-01],\n",
              "       [5.49865905e-01, 2.72698630e-01, 9.10957368e-01],\n",
              "       [2.25773838e-01, 1.80353947e-01, 8.19885688e-02],\n",
              "       [4.14099390e-01, 1.44926748e-01, 4.62613569e-01],\n",
              "       [9.60555366e-01, 9.33909327e-01, 5.88827825e-01],\n",
              "       [7.67701620e-01, 1.91855219e-01, 8.84834645e-01],\n",
              "       [8.50555002e-01, 9.87026149e-01, 9.12057472e-01]])"
            ]
          },
          "metadata": {},
          "execution_count": 6
        }
      ]
    },
    {
      "cell_type": "markdown",
      "metadata": {
        "id": "zV7QFvXTGYHj"
      },
      "source": [
        "b) Matplot"
      ]
    },
    {
      "cell_type": "code",
      "metadata": {
        "colab": {
          "base_uri": "https://localhost:8080/",
          "height": 265
        },
        "id": "LRdeebsRGbaw",
        "outputId": "fcd63ce4-3182-4df0-a352-291003eee232"
      },
      "source": [
        "import matplotlib.pyplot as plt\n",
        "import numpy as np\n",
        "x=np.array(5)\n",
        "y=(35,45,23,27,60)\n",
        "plt.bar(x,y)\n",
        "plt.show()"
      ],
      "execution_count": 7,
      "outputs": [
        {
          "output_type": "display_data",
          "data": {
            "image/png": "[encoded data removed]",
            "text/plain": [
              "<Figure size 432x288 with 1 Axes>"
            ]
          },
          "metadata": {
            "needs_background": "light"
          }
        }
      ]
    }
  ]
}