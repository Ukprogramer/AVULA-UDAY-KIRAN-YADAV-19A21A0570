{
  "nbformat": 4,
  "nbformat_minor": 0,
  "metadata": {
    "colab": {
      "name": "A.Uday Kiran Yadav - 19A21A0570.ipynb",
      "provenance": [],
      "collapsed_sections": [],
      "include_colab_link": true
    },
    "kernelspec": {
      "display_name": "Python 3",
      "name": "python3"
    },
    "language_info": {
      "name": "python"
    }
  },
  "cells": [
    {
      "cell_type": "markdown",
      "metadata": {
        "id": "view-in-github",
        "colab_type": "text"
      },
      "source": [
        "<a href=\"https://colab.research.google.com/github/Ukprogramer/AVULA-UDAY-KIRAN-YADAV-19A21A0570/blob/main/A_Uday_Kiran_Yadav_19A21A0570.ipynb\" target=\"_parent\"><img src=\"https://colab.research.google.com/assets/colab-badge.svg\" alt=\"Open In Colab\"/></a>"
      ]
    },
    {
      "cell_type": "markdown",
      "metadata": {
        "id": "EnDz7caOlgB1"
      },
      "source": [
        "## Exercise 1 - Basics\n",
        " \n",
        " **AIM :**\n",
        "\n",
        " a) Running instructions in Interactive interpreter and a Python Script\n",
        "\n",
        " **DESCRIPTION :**\n",
        "\n",
        " Python is a high-level, interpreted, interactive and object-oriented \n",
        "scripting language. \n",
        "Python is designed to be highly readable.  It uses English keywords frequently where as other languages use \n",
        "punctuation, and it has fewer syntactical constructions than other languages. \n",
        "\n",
        "* Python is Interpreted \n",
        "\n",
        "* Python is Interactive \n",
        "\n",
        "* Python is Object-Oriented\n",
        "\n",
        "* Python is a Beginner's Language\n",
        "\n",
        "**Python Programming Running Python Scripts**\n",
        "\n",
        "Running Python in THREE ways: \n",
        "\n",
        "a) Running Python Interpreter \n",
        "\n",
        "b) Running Python Scripts in IDLE \n",
        "\n",
        "c) Running python scripts in Command Prompt \n",
        "\n",
        "**a) Running Python Interpreter:**\n",
        "Python comes with an interactive interpreter. When you type python in your shell or command prompt, the python interpreter becomes active with a >>> prompt and waits for your commands\n",
        "\n",
        "b) **Running Python Scripts in IDLE:**\n",
        ". Go to File menu click on New File (CTRL+N) and write the \n",
        "code and save first.py\n",
        "\n",
        "c) **Running python scripts in Command Prompt: ** **bold text**\n",
        "· Before going to run we have to check the PATH in environment \n",
        "variables. \n",
        "\n"
      ]
    },
    {
      "cell_type": "markdown",
      "metadata": {
        "id": "62-H8irnnnA5"
      },
      "source": [
        "   **PROGRAM :**"
      ]
    },
    {
      "cell_type": "code",
      "metadata": {
        "colab": {
          "base_uri": "https://localhost:8080/"
        },
        "id": "cuiD1C_cllGU",
        "outputId": "27fd6eb9-b24a-488d-fafa-867ad5cd9a96"
      },
      "source": [
        "print(\"Welcome to python lab\")"
      ],
      "execution_count": null,
      "outputs": [
        {
          "name": "stdout",
          "output_type": "stream",
          "text": [
            "Welcome to python lab\n"
          ]
        }
      ]
    },
    {
      "cell_type": "code",
      "metadata": {
        "id": "vSPYgxeyl8Nm"
      },
      "source": [
        "a,b=10,20"
      ],
      "execution_count": null,
      "outputs": []
    },
    {
      "cell_type": "code",
      "metadata": {
        "colab": {
          "base_uri": "https://localhost:8080/"
        },
        "id": "MI7TnNJ3mPd7",
        "outputId": "b43f1f6a-939f-440f-8f4e-f0e4f8cc995b"
      },
      "source": [
        "print(\"a=%d,b=%d\"%(a,b))"
      ],
      "execution_count": null,
      "outputs": [
        {
          "name": "stdout",
          "output_type": "stream",
          "text": [
            "a=10,b=20\n"
          ]
        }
      ]
    },
    {
      "cell_type": "code",
      "metadata": {
        "id": "bUV553TTmm8P"
      },
      "source": [
        "sum=a+b"
      ],
      "execution_count": null,
      "outputs": []
    },
    {
      "cell_type": "code",
      "metadata": {
        "colab": {
          "base_uri": "https://localhost:8080/"
        },
        "id": "T8MiMd3gmwYQ",
        "outputId": "89c5d545-22fb-4f04-9093-c3010da61068"
      },
      "source": [
        "print(\"Sum of %d , %d is :%d \"%(a,b,sum))"
      ],
      "execution_count": null,
      "outputs": [
        {
          "name": "stdout",
          "output_type": "stream",
          "text": [
            "Sum of 10 , 20 is :30 \n"
          ]
        }
      ]
    },
    {
      "cell_type": "code",
      "metadata": {
        "colab": {
          "base_uri": "https://localhost:8080/"
        },
        "id": "mz49F9uqnCqL",
        "outputId": "5d6023ab-9ac8-408b-f884-581c4f4da410"
      },
      "source": [
        "print(\"Before swaping a=%d,b=%d \"%(a,b))"
      ],
      "execution_count": null,
      "outputs": [
        {
          "name": "stdout",
          "output_type": "stream",
          "text": [
            "Before swaping a=10,b=20 \n"
          ]
        }
      ]
    },
    {
      "cell_type": "code",
      "metadata": {
        "id": "-9d2FXfBoIru"
      },
      "source": [
        "a,b=b,a"
      ],
      "execution_count": null,
      "outputs": []
    },
    {
      "cell_type": "code",
      "metadata": {
        "colab": {
          "base_uri": "https://localhost:8080/"
        },
        "id": "CrhS-mRPqDLt",
        "outputId": "22f8416f-0ca5-4145-8f9c-c10c9c310a37"
      },
      "source": [
        "print(\"After swaping a=%d,b=%d \"%(a,b))"
      ],
      "execution_count": null,
      "outputs": [
        {
          "name": "stdout",
          "output_type": "stream",
          "text": [
            "After swaping a=20,b=10 \n"
          ]
        }
      ]
    },
    {
      "cell_type": "code",
      "metadata": {
        "colab": {
          "base_uri": "https://localhost:8080/"
        },
        "id": "Rx8O0JTBqH1m",
        "outputId": "869b4184-9efe-428c-b9e1-856e217f1f8b"
      },
      "source": [
        "type(a)"
      ],
      "execution_count": null,
      "outputs": [
        {
          "data": {
            "text/plain": [
              "int"
            ]
          },
          "execution_count": 12,
          "metadata": {
            "tags": []
          },
          "output_type": "execute_result"
        }
      ]
    },
    {
      "cell_type": "markdown",
      "metadata": {
        "id": "J8CQ3k5QqmyJ"
      },
      "source": [
        "**AIM :**\n",
        "\n",
        "b) Write a program to purposefully raise Indentation Error and Correct it\n",
        "\n",
        "**DESCRIPTION :**\n",
        "\n",
        "**Indentation** \n",
        "* Python does not support braces to indicate blocks of code for class and \n",
        "function definitions or flow control. \n",
        "\n",
        "* Blocks of code are denoted by line indentation.\n",
        "\n",
        "* All the continuous lines indented with same number of spaces would form a block. \n",
        "\n",
        "* Python strictly follow indentation rules to indicate the blocks. \n",
        "\n",
        "\n",
        "**PROGRAM :**"
      ]
    },
    {
      "cell_type": "code",
      "metadata": {
        "colab": {
          "base_uri": "https://localhost:8080/",
          "height": 130
        },
        "id": "LIo2xhQtq2AO",
        "outputId": "19754745-5d33-49e1-d33c-d439cd09c410"
      },
      "source": [
        "#program with indentation error \n",
        " \n",
        "a=int(input(\"Enter a value\"))\n",
        "b=int(input(\"Enter b value\"))\n",
        "if a>b:\n",
        "  print(\"if block\")\n",
        "   print(\"%d is big\"%a)\n",
        "else :\n",
        "  print(\"else block \")\n",
        "   print(\"%d is big \"%b)"
      ],
      "execution_count": null,
      "outputs": [
        {
          "ename": "IndentationError",
          "evalue": "ignored",
          "output_type": "error",
          "traceback": [
            "\u001b[0;36m  File \u001b[0;32m\"<ipython-input-13-c27dc3f3a513>\"\u001b[0;36m, line \u001b[0;32m7\u001b[0m\n\u001b[0;31m    print(\"%d is big\"%a)\u001b[0m\n\u001b[0m    ^\u001b[0m\n\u001b[0;31mIndentationError\u001b[0m\u001b[0;31m:\u001b[0m unexpected indent\n"
          ]
        }
      ]
    },
    {
      "cell_type": "code",
      "metadata": {
        "colab": {
          "base_uri": "https://localhost:8080/"
        },
        "id": "7kIL7CDbqL1S",
        "outputId": "2f0c3a5d-f4d6-42e1-cf03-27543a0659f0"
      },
      "source": [
        "#program with indentation error corrected \n",
        " \n",
        "a=int(input(\"Enter a value\"))\n",
        "b=int(input(\"Enter b value\"))\n",
        "if a>b:\n",
        "  print(\"if block\")\n",
        "  print(\"%d is big\"%a)\n",
        "else :\n",
        "  print(\"else block \")\n",
        "  print(\"%d is big \"%b)"
      ],
      "execution_count": null,
      "outputs": [
        {
          "name": "stdout",
          "output_type": "stream",
          "text": [
            "Enter a value10 \n",
            "Enter b value20\n",
            "else block \n",
            "20 is big \n"
          ]
        }
      ]
    },
    {
      "cell_type": "markdown",
      "metadata": {
        "id": "jcDkv4FctXI0"
      },
      "source": [
        "## Exercise 2 - Operations\n",
        "\n",
        "**AIM :**\n",
        "\n",
        "a) Write a program to compute distance between two points taking input from the user(Pythagorean \n",
        "Theorem)\n",
        "\n",
        "**DESCRIPTION :**\n",
        "\n",
        "**Taking Input From the User:**\n",
        "A function is defined as a block of organized, reusable code used to perform a single, related action. Python has many built-in functions; you can also create your own. \n",
        "\n",
        "Python has an input function which lets you ask a user for some text input. You call this function to tell the program to stop and wait for the user to key in the data.\n",
        "\n",
        " In Python 2, you have a built-in function raw_input(), whereas in Python 3, you have input(). The program will resume once the user presses the ENTER or RETURN key.\n",
        "\n",
        " **Input Function**\n",
        "\n",
        "input(prompt=None,/). \n",
        "\n",
        "Read a string from standard input. The trailing newline is stripped. \n",
        "\n",
        "The prompt string, if given, is printed to standard output without a trailing newline before reading input. \n",
        "\n",
        "If the user hits EOF (*nix: Ctrl-D, Windows: Ctrl Z+Return), raise EOFError.\n",
        "\n",
        "**PROGRAM :**\n"
      ]
    },
    {
      "cell_type": "code",
      "metadata": {
        "colab": {
          "base_uri": "https://localhost:8080/"
        },
        "id": "1veEv9tStk8p",
        "outputId": "9c2a1b01-5935-40ba-c916-1acf3d773f05"
      },
      "source": [
        "import math\n",
        "x1=int(input (\"Enter x1 value : \"))\n",
        "x2=int(input (\"Enter x2 value : \"))\n",
        "y1=int(input (\"Enter y1 value : \"))\n",
        "y2=int(input (\"Enter y2 value : \"))\n",
        " \n",
        "d=math.sqrt(((x2-x1)**2)+((y2-y1)**2))\n",
        " \n",
        "print(\"Distances between two points is(%d,%d) and (%d,%d) is %f\"%(x1,x2,y1,y2,d))"
      ],
      "execution_count": null,
      "outputs": [
        {
          "name": "stdout",
          "output_type": "stream",
          "text": [
            "Enter x1 value : 10\n",
            "Enter x2 value : 20\n",
            "Enter y1 value : 5\n",
            "Enter y2 value : 15\n",
            "Distances between two points is(10,20) and (5,15) is 14.142136\n"
          ]
        }
      ]
    },
    {
      "cell_type": "markdown",
      "metadata": {
        "id": "_bxQfK63uKt3"
      },
      "source": [
        "**AIM :**\n",
        "\n",
        "b) Write a program add.py that takes 2 numbers as command line arguments and prints its sum.\n",
        "\n",
        "\n",
        "**DESCRIPTION :**\n",
        "\n",
        "The arguments that are given after the name of the program in the command line shell of the operating system are known as Command Line Arguments. Python provides various ways of dealing with these types of arguments. The three most common are: \n",
        "\n",
        "Using sys.argv\n",
        "\n",
        "Using getopt module\n",
        "\n",
        "Using argparse module\n",
        "\n",
        "Using sys.argv\n",
        "\n",
        "The sys module provides functions and variables used to manipulate different parts of the Python runtime environment. This module provides access to some variables used or maintained by the interpreter and to functions that interact strongly with the interpreter.\n",
        "\n",
        "One such variable is sys.argv which is a simple list structure. It’s main purpose are:\n",
        "\n",
        "* It is a list of command line arguments.\n",
        "\n",
        "* len(sys.argv) provides the number of command line arguments.\n",
        "\n",
        "* sys.argv[0] is the name of the current Python script. \n",
        "\n",
        "\n",
        "**PROGRAM :**\n"
      ]
    },
    {
      "cell_type": "code",
      "metadata": {
        "colab": {
          "base_uri": "https://localhost:8080/",
          "height": 232
        },
        "id": "LpCIdTNEuSxW",
        "outputId": "7b1ed23c-95df-4021-db5d-c8a07dfe20a7"
      },
      "source": [
        "import sys\n",
        "a=int(sys.argv[1])\n",
        "b=int(sys.argv[2])\n",
        "sum=a+b\n",
        "print(\"%d + %d = %d \"%(a,b,sum))"
      ],
      "execution_count": null,
      "outputs": [
        {
          "ename": "ValueError",
          "evalue": "ignored",
          "output_type": "error",
          "traceback": [
            "\u001b[0;31m---------------------------------------------------------------------------\u001b[0m",
            "\u001b[0;31mValueError\u001b[0m                                Traceback (most recent call last)",
            "\u001b[0;32m<ipython-input-18-5ceec3826418>\u001b[0m in \u001b[0;36m<module>\u001b[0;34m()\u001b[0m\n\u001b[1;32m      1\u001b[0m \u001b[0;32mimport\u001b[0m \u001b[0msys\u001b[0m\u001b[0;34m\u001b[0m\u001b[0;34m\u001b[0m\u001b[0m\n\u001b[0;32m----> 2\u001b[0;31m \u001b[0ma\u001b[0m\u001b[0;34m=\u001b[0m\u001b[0mint\u001b[0m\u001b[0;34m(\u001b[0m\u001b[0msys\u001b[0m\u001b[0;34m.\u001b[0m\u001b[0margv\u001b[0m\u001b[0;34m[\u001b[0m\u001b[0;36m1\u001b[0m\u001b[0;34m]\u001b[0m\u001b[0;34m)\u001b[0m\u001b[0;34m\u001b[0m\u001b[0;34m\u001b[0m\u001b[0m\n\u001b[0m\u001b[1;32m      3\u001b[0m \u001b[0mb\u001b[0m\u001b[0;34m=\u001b[0m\u001b[0mint\u001b[0m\u001b[0;34m(\u001b[0m\u001b[0msys\u001b[0m\u001b[0;34m.\u001b[0m\u001b[0margv\u001b[0m\u001b[0;34m[\u001b[0m\u001b[0;36m2\u001b[0m\u001b[0;34m]\u001b[0m\u001b[0;34m)\u001b[0m\u001b[0;34m\u001b[0m\u001b[0;34m\u001b[0m\u001b[0m\n\u001b[1;32m      4\u001b[0m \u001b[0msum\u001b[0m\u001b[0;34m=\u001b[0m\u001b[0ma\u001b[0m\u001b[0;34m+\u001b[0m\u001b[0mb\u001b[0m\u001b[0;34m\u001b[0m\u001b[0;34m\u001b[0m\u001b[0m\n\u001b[1;32m      5\u001b[0m \u001b[0mprint\u001b[0m\u001b[0;34m(\u001b[0m\u001b[0;34m\"%d + %d = %d \"\u001b[0m\u001b[0;34m%\u001b[0m\u001b[0;34m(\u001b[0m\u001b[0ma\u001b[0m\u001b[0;34m,\u001b[0m\u001b[0mb\u001b[0m\u001b[0;34m,\u001b[0m\u001b[0msum\u001b[0m\u001b[0;34m)\u001b[0m\u001b[0;34m)\u001b[0m\u001b[0;34m\u001b[0m\u001b[0;34m\u001b[0m\u001b[0m\n",
            "\u001b[0;31mValueError\u001b[0m: invalid literal for int() with base 10: '-f'"
          ]
        }
      ]
    },
    {
      "cell_type": "markdown",
      "metadata": {
        "id": "1uICnSF4vrBo"
      },
      "source": [
        "## Exercise - 3 Control Flow\n",
        "\n",
        "**AIM :**\n",
        "\n",
        "a) Write a Program for checking whether the given number is an even number or not\n",
        "\n",
        "**DESCRIPTION :**\n",
        "\n",
        "**if..else Statement**\n",
        "When there is an alternate operation in control flow, use an else statement alongside with if statement. The general format is\n",
        "\n",
        "if condition:\n",
        "\n",
        "        true statement\n",
        "\n",
        "else:\n",
        "\n",
        "         false statement\n",
        "\n",
        "**PROGRAM :**\n"
      ]
    },
    {
      "cell_type": "code",
      "metadata": {
        "colab": {
          "base_uri": "https://localhost:8080/"
        },
        "id": "whvnltitvy7-",
        "outputId": "b4e38a90-ca5f-407e-db97-33c2f083069c"
      },
      "source": [
        "n=int(input(\"Enter a number \"))\n",
        "if n%2==0 :\n",
        "  print(\"%d is even \"%n)\n",
        "else : \n",
        "  print(\"%d is odd \"%n)"
      ],
      "execution_count": null,
      "outputs": [
        {
          "name": "stdout",
          "output_type": "stream",
          "text": [
            "Enter a number 20\n",
            "20 is even \n"
          ]
        }
      ]
    },
    {
      "cell_type": "markdown",
      "metadata": {
        "id": "H08py0elwLBh"
      },
      "source": [
        "**AIM :**\n",
        "\n",
        "b) Using a for loop, write a program that prints out the decimal equivalents of 1/2, 1/3, 1/4, . . .1/10\n",
        "\n",
        "**DESCRIPTION :**\n",
        "\n",
        "**For Loop:**\n",
        "For loops can iterate over a sequence of numbers using the \"range\" and \"xrange\" functions. The difference between range and xrange is that the range function returns a new list with numbers of that specified range, whereas xrange returns an iterator, which is more efficient. \n",
        "\n",
        "The general format is\n",
        "\n",
        "for x in range(start,stop,step):\n",
        "\n",
        "statements\n",
        "\n",
        "**PROGRAM :**\n"
      ]
    },
    {
      "cell_type": "code",
      "metadata": {
        "colab": {
          "base_uri": "https://localhost:8080/"
        },
        "id": "acTOf7xLwSVh",
        "outputId": "7679b025-c71d-4000-d02f-0e554613f168"
      },
      "source": [
        "n=int(input(\"Enter a number \"))\n",
        "j=1\n",
        "for i in range(1,n+1):\n",
        "  print(\"Decimal equalent of %d/%d is %f \"%(j,i,j/i))\n",
        "  i=i+1"
      ],
      "execution_count": null,
      "outputs": [
        {
          "name": "stdout",
          "output_type": "stream",
          "text": [
            "Enter a number 10\n",
            "Decimal equalent of 1/1 is 1.000000 \n",
            "Decimal equalent of 1/2 is 0.500000 \n",
            "Decimal equalent of 1/3 is 0.333333 \n",
            "Decimal equalent of 1/4 is 0.250000 \n",
            "Decimal equalent of 1/5 is 0.200000 \n",
            "Decimal equalent of 1/6 is 0.166667 \n",
            "Decimal equalent of 1/7 is 0.142857 \n",
            "Decimal equalent of 1/8 is 0.125000 \n",
            "Decimal equalent of 1/9 is 0.111111 \n",
            "Decimal equalent of 1/10 is 0.100000 \n"
          ]
        }
      ]
    },
    {
      "cell_type": "markdown",
      "metadata": {
        "id": "P4KYgJGNxe4_"
      },
      "source": [
        "**AIM :**\n",
        "\n",
        "c) Write a program using a for loop that loops over a sequence. What is sequence\n",
        "\n",
        "**DESCRIPTION :**\n",
        "\n",
        "\n",
        "**For Loop:**\n",
        "For loops can iterate over a sequence of numbers using the \"range\" and \"xrange\" functions. The difference between range and xrange is that the range function returns a new list with numbers of that specified range, whereas xrange returns an iterator, which is more efficient. \n",
        "\n",
        "The general format is\n",
        "\n",
        "for x in range(start,stop,step):\n",
        "\n",
        "statements\n",
        "\n",
        "**PROGRAM :**\n"
      ]
    },
    {
      "cell_type": "code",
      "metadata": {
        "colab": {
          "base_uri": "https://localhost:8080/"
        },
        "id": "ix99aYeBxh3q",
        "outputId": "5b2e8cb3-cfb6-4bc7-f220-c95d4db399ff"
      },
      "source": [
        "#Number sequence \n",
        "num=[10,30,20,40,50]\n",
        "print(\"Number sequence \")\n",
        "for i in num:\n",
        "  print(i)\n",
        "\n",
        "#string sequence \n",
        "day=[\"sun\",\"mon\",\"tue\",\"wed\",\"thr\",\"fri\",\"sat\"]\n",
        "print(\"String sequence \")\n",
        "for i in day:\n",
        "  print(i)\n",
        "\n",
        "#Both sequence \n",
        "arr=[\"Uday\",\"cse\",570,\"scet\"]\n",
        "print(\"Both the sequences \")\n",
        "for i in arr:\n",
        "  print(i)"
      ],
      "execution_count": null,
      "outputs": [
        {
          "name": "stdout",
          "output_type": "stream",
          "text": [
            "Number sequence \n",
            "10\n",
            "30\n",
            "20\n",
            "40\n",
            "50\n",
            "String sequence \n",
            "sun\n",
            "mon\n",
            "tue\n",
            "wed\n",
            "thr\n",
            "fri\n",
            "sat\n",
            "Both the sequences \n",
            "Uday\n",
            "cse\n",
            "570\n",
            "scet\n"
          ]
        }
      ]
    },
    {
      "cell_type": "markdown",
      "metadata": {
        "id": "bL5SUWrTzFKq"
      },
      "source": [
        "**AIM :**\n",
        "\n",
        "d) Write a program using a while loop that asks the user for a number, and prints a countdownfrom \n",
        "that number to zero.\n",
        "\n",
        "**DESCRIPTION:**\n",
        "\n",
        " While Loop is used to execute a block of statements repeatedly until a given condition is satisfied. And when the condition becomes false, the line immediately after the loop in the program is executed. While loop falls under the category of indefinite iteration\n",
        "\n",
        " The syntax for a while loop is: \n",
        " \n",
        " while [ condition]\n",
        "\n",
        " **PROGRAM :**\n",
        " "
      ]
    },
    {
      "cell_type": "code",
      "metadata": {
        "colab": {
          "base_uri": "https://localhost:8080/"
        },
        "id": "cbIrFMbuzW5x",
        "outputId": "586a44b3-068e-472e-95f6-e4d8f0d6523d"
      },
      "source": [
        "n=int(input(\"Enter a number \"))\n",
        "i=n\n",
        "print(\"Number from %d to zero are \"%n)\n",
        "while(i>=0):\n",
        " print(i)\n",
        " i-=1"
      ],
      "execution_count": null,
      "outputs": [
        {
          "name": "stdout",
          "output_type": "stream",
          "text": [
            "Enter a number 10\n",
            "Number from 10 to zero are \n",
            "10\n",
            "9\n",
            "8\n",
            "7\n",
            "6\n",
            "5\n",
            "4\n",
            "3\n",
            "2\n",
            "1\n",
            "0\n"
          ]
        }
      ]
    },
    {
      "cell_type": "markdown",
      "metadata": {
        "id": "PW9A9STt06KD"
      },
      "source": [
        "## Exercise 4 - Control Flow - Continued\n",
        "\n",
        "**AIM :**\n",
        "\n",
        "a) Find the sum of all the primes below two million\n",
        "\n",
        "**DESCRIPTION:**\n",
        "\n",
        "A Fibonacci sequence is the integer sequence of 0, 1, 1, 2, 3, 5, 8....\n",
        "\n",
        "The first two terms are 0 and 1. All other terms are obtained by adding the preceding two terms. This means to say the nth term is the sum of (n-1)th and (n-2)th term\n",
        "\n",
        "Here, we store the number of terms in nterms. We initialize the first term to 0 and the second term to 1.\n",
        "\n",
        "If the number of terms is more than 2, we use a while loop to find the next term in the sequence by adding the preceding two terms. We then interchange the variables (update it) and continue on with the process.\n",
        "\n",
        "**PROGRAM :**"
      ]
    },
    {
      "cell_type": "code",
      "metadata": {
        "colab": {
          "base_uri": "https://localhost:8080/"
        },
        "id": "rfpI7KX51Hvm",
        "outputId": "d4fc7ee4-f439-476d-a06a-3eee65d1322b"
      },
      "source": [
        "n=int(input(\"Enter an ending number \"))\n",
        "sum=0\n",
        "count=0\n",
        "for i in range(2,n):\n",
        "  flag=True\n",
        "  for j in range(2,i):\n",
        "    if(i%j)==0:\n",
        "      flag=False\n",
        "      break;\n",
        "  if flag==True:\n",
        "    count+=1\n",
        "    sum+=i\n",
        "print(\"No of prime number below %d is %d \"%(n,count))\n",
        "print(\"sum of prime number below %d is %d \"%(n,sum))"
      ],
      "execution_count": null,
      "outputs": [
        {
          "name": "stdout",
          "output_type": "stream",
          "text": [
            "Enter an ending number 200\n",
            "No of prime number below 200 is 46 \n",
            "sum of prime number below 200 is 4227 \n"
          ]
        }
      ]
    },
    {
      "cell_type": "markdown",
      "metadata": {
        "id": "D5OcfJgf20GO"
      },
      "source": [
        "**AIM :**\n",
        "\n",
        "(b) Each new term in the Fibonacci sequence is \n",
        "generated by adding the previous two terms. Bystarting with 1 and 2, the first 10 terms will be:\n",
        "1, 2, 3, 5, 8, 13, 21, 34, 55, 89, ...\n",
        "\n",
        " By considering the terms in the Fibonacci sequence whose values do not exceed four million,find \n",
        "the sum of the even-valued terms\n",
        "\n",
        "**DESCRIPTION:**\n",
        "\n",
        "A Fibonacci sequence is the integer sequence of 0, 1, 1, 2, 3, 5, 8....\n",
        "\n",
        "The first two terms are 0 and 1. All other terms are obtained by adding the preceding two terms. This means to say the nth term is the sum of (n-1)th and (n-2)th term\n",
        "\n",
        "Here, we store the number of terms in nterms. We initialize the first term to 0 and the second term to 1.\n",
        "\n",
        "If the number of terms is more than 2, we use a while loop to find the next term in the sequence by adding the preceding two terms. We then interchange the variables (update it) and continue on with the process.\n",
        "\n",
        "**PROGRAM :**\n"
      ]
    },
    {
      "cell_type": "code",
      "metadata": {
        "colab": {
          "base_uri": "https://localhost:8080/"
        },
        "id": "D_xuJwLZr-e7",
        "outputId": "2b6c70e1-6082-4c4f-ec86-e96cd1aec900"
      },
      "source": [
        "n=int(input(\"Enter n value \"))\n",
        "a=0\n",
        "b=1\n",
        "c=a+b\n",
        "count=0\n",
        "sum1=0\n",
        "str1=\" \"\n",
        "while(count<n):\n",
        "  str1+=\" \"+str(c)\n",
        "  if(c%2==0):\n",
        "    sum1+=c\n",
        "  a=b\n",
        "  b=c\n",
        "  c=a+b\n",
        "  count+=1\n",
        "print(\"Fibonacci series..\")\n",
        "print(str1)\n",
        "print(\"Sum of even valued terms in fibonacci series is \",sum1)\n"
      ],
      "execution_count": null,
      "outputs": [
        {
          "name": "stdout",
          "output_type": "stream",
          "text": [
            "Enter n value 10\n",
            "Fibonacci series..\n",
            "  1 2 3 5 8 13 21 34 55 89\n",
            "Sum of even valued terms in fibonacci series is  44\n"
          ]
        }
      ]
    },
    {
      "cell_type": "markdown",
      "metadata": {
        "id": "zbvgd5n1sQop"
      },
      "source": [
        "## Exercise - 5 - DS\n",
        "\n",
        "**AIM :**\n",
        "\n",
        "a) Write a program to count the numbers of characters in the string and store them in a dictionary data \n",
        "structure\n",
        "\n",
        "**DESCRIPTION:**\n",
        "\n",
        "Given a string, the task is to find the frequencies of all the characters in that string and return a dictionary with key as the character and its value as its frequency in the given string.\n",
        "\n",
        "Method #1 : Naive method\n",
        "\n",
        "Simply iterate through the string and form a key in dictionary of newly occurred element or if element is already occurred, increase its value by 1.\n",
        "\n",
        "Method #2 : Using collections.Counter()\n",
        "\n",
        "The most suggested method that could be used to find all occurrences is this method, this actually gets all element frequency and could also be used to print single element frequency if required.\n",
        "\n",
        "**PROGRAM :**\n"
      ]
    },
    {
      "cell_type": "code",
      "metadata": {
        "colab": {
          "base_uri": "https://localhost:8080/"
        },
        "id": "lraTchi_suVj",
        "outputId": "3c7ac28d-8e95-4c29-e2d1-1239648558c4"
      },
      "source": [
        "dic={}\n",
        "n=int(input(\"Enter the no.of strings to store in dictionary : \"))\n",
        "for i in range (1,n):\n",
        "  str1=input(\"Enter string name: \")\n",
        "  dic[str1]=len(str1)\n",
        "print(\"Dictionary contains : \",dic)"
      ],
      "execution_count": null,
      "outputs": [
        {
          "name": "stdout",
          "output_type": "stream",
          "text": [
            "Enter the no.of strings to store in dictionary : 6\n",
            "Enter string name: Uday kiran\n",
            "Enter string name: cse\n",
            "Enter string name: scet\n",
            "Enter string name: narsapur\n",
            "Enter string name: west godavari\n",
            "Dictionary contains :  {'Uday kiran': 10, 'cse': 3, 'scet': 4, 'narsapur': 8, 'west godavari': 13}\n"
          ]
        }
      ]
    },
    {
      "cell_type": "markdown",
      "metadata": {
        "id": "zPrpikiBuQJ_"
      },
      "source": [
        "**AIM :**\n",
        "\n",
        "b) Write a program to use split and join methods in the string and trace a birthday with a dictionary \n",
        "data structure.\n",
        "\n",
        "**DESCRIPTION:**\n",
        "\n",
        "Python program to Split a string based on a delimiter and join the string using another delimiter.\n",
        "\n",
        "Split a string can be quite useful sometimes, especially when you need only certain parts of strings. A simple yet effective example is splitting the First-name and Last-name of a person. Another application is CSV(Comma Separated Files). We use split to get data from CSV and join to write data to CSV.\n",
        "\n",
        "In Python, we can use the function split() to split a string and \n",
        "\n",
        "join() to join a string. \n",
        "\n",
        "**PROGRAM :**\n"
      ]
    },
    {
      "cell_type": "code",
      "metadata": {
        "colab": {
          "base_uri": "https://localhost:8080/"
        },
        "id": "CpyqwSGeuSUV",
        "outputId": "d2e832b2-4acf-4201-d942-64af58bd967c"
      },
      "source": [
        "dob={\"Uday\":\"20-feb-2002\",\"sai\":\"05-july-2003\",\"seetha\":\"04-june-1982\",\"veeranna\":\"08-Aug-1979\"}\n",
        "name=input(\"Enter name of person to get DOB : \")\n",
        "l=name.split()\n",
        "person=\" \"\n",
        "birth=\" \"\n",
        "for i in l :\n",
        "  if i in dob.keys():\n",
        "    person=i\n",
        "if(person==\" \"):\n",
        "  print(\"DOB of Person not found \")\n",
        "else :\n",
        "  print(\" \".join([person,\"Birth day is \",dob[person]]))"
      ],
      "execution_count": null,
      "outputs": [
        {
          "name": "stdout",
          "output_type": "stream",
          "text": [
            "Enter name of person to get DOB : sai\n",
            "sai Birth day is  05-july-2003\n"
          ]
        }
      ]
    },
    {
      "cell_type": "markdown",
      "metadata": {
        "id": "uGTdqex8xgJb"
      },
      "source": [
        "## Exercise - 6 DS - Continued\n",
        "\n",
        "**AIM :**\n",
        "\n",
        "a) Write a program combine lists that combines these lists into a dictionary.\n",
        "\n",
        "**DESCRIPTION:**\n",
        "\n",
        "For this, simply declare a dictionary, and then run nested loop for both the lists and assign key and value pairs to from list values to dictionary.\n",
        "\n",
        "Most pythonic and generic method to perform this very task is by using zip(). This function pairs the list element with other list element at corresponding index in form of key-value pairs.\n",
        "\n",
        "**PROGRAM :**\n"
      ]
    },
    {
      "cell_type": "code",
      "metadata": {
        "colab": {
          "base_uri": "https://localhost:8080/"
        },
        "id": "x53keTylxk1t",
        "outputId": "c38d2291-810f-4d21-845c-01c560d1d6c7"
      },
      "source": [
        "sub=[]\n",
        "marks=[]\n",
        "n=int(input(\"Enter the no.of subjects : \"))\n",
        "for i in range(0,n):\n",
        "    s=input(\"Enter sub name: \")\n",
        "    m=int(input(\"Enter marks in the sub: \"))\n",
        "    sub.append(s)\n",
        "    marks.append(m)\n",
        "print(\"Subjects...\",sub)\n",
        "print(\"Marks...\",marks)\n",
        "dic=dict(zip(sub,marks))\n",
        "print(\"Dictionary contains : \",dic)"
      ],
      "execution_count": null,
      "outputs": [
        {
          "name": "stdout",
          "output_type": "stream",
          "text": [
            "Enter the no.of subjects : 6\n",
            "Enter sub name: DAA\n",
            "Enter marks in the sub: 90\n",
            "Enter sub name: OS\n",
            "Enter marks in the sub: 95\n",
            "Enter sub name: DBMS\n",
            "Enter marks in the sub: 80\n",
            "Enter sub name: P&S\n",
            "Enter marks in the sub: 100\n",
            "Enter sub name: PPL\n",
            "Enter marks in the sub: 90\n",
            "Enter sub name: SE\n",
            "Enter marks in the sub: 85\n",
            "Subjects... ['DAA', 'OS', 'DBMS', 'P&S', 'PPL', 'SE']\n",
            "Marks... [90, 95, 80, 100, 90, 85]\n",
            "Dictionary contains :  {'DAA': 90, 'OS': 95, 'DBMS': 80, 'P&S': 100, 'PPL': 90, 'SE': 85}\n"
          ]
        }
      ]
    },
    {
      "cell_type": "markdown",
      "metadata": {
        "id": "dk3BFa5v0lEC"
      },
      "source": [
        "**AIM :**\n",
        "\n",
        "b) Write a program to count frequency of characters in a given file. Can you use characterfrequency to \n",
        "tell whether the given file is a Python program file, C program file or a text file?\n",
        "\n",
        "**DESCRIPTION:**\n",
        "\n",
        "approaches to count the number of times a letter appears in a text file in Python.\n",
        "\n",
        "Method 1: Using the in-built count() method.\n",
        "\n",
        "**Approach:**\n",
        "\n",
        "1. Read the file.\n",
        "2. Store the content of the file in a variable.\n",
        "3. Use the count() method with the argument as a letter whose frequency is required.\n",
        "4. Display the count of the letter.\n",
        "\n",
        "**PROGRAM :**\n"
      ]
    },
    {
      "cell_type": "code",
      "metadata": {
        "id": "xkYCneTi0neM"
      },
      "source": [
        "file_types=['.py','.c','.txt']\n",
        "fn=input(\"Enter the file name: \")\n",
        "f=open(fn,\"r\")\n",
        "count=dict()\n",
        "for ft in file_types:\n",
        "  if(ft in fn):\n",
        "      if(ft=='.py'):\n",
        "         print(\"Python file \")\n",
        "      elif(ft=='.c'):\n",
        "        print(\"C file \")\n",
        "      else:\n",
        "        print(\"text file \")\n",
        "for line in f:\n",
        "  for ch in line:\n",
        "    if ch in count:\n",
        "      count[ch]+=1\n",
        "    else:\n",
        "      count[ch]=1\n",
        "print(count)\n",
        "f.close"
      ],
      "execution_count": null,
      "outputs": []
    },
    {
      "cell_type": "markdown",
      "metadata": {
        "id": "ECKVg56oQmlC"
      },
      "source": [
        "## Exercise - 7 Files\n",
        "\n",
        "**AIM :**\n",
        "\n",
        "a) Write a program to print each line of a file in reverse order\n",
        "\n",
        "**DESCRIPTION:**\n",
        "\n",
        "The file handling plays an important role when the data needs to be stored permanently into the\n",
        "file. A file is a named location on disk to store related information. We can access the stored\n",
        "information (non-volatile) after the program termination.\n",
        "In Python, files are treated in two modes as text or binary. The file may be in the text or binary\n",
        "format, and each line of a file is ended with the special character.\n",
        "Hence, a file operation can be done in the following order.\n",
        "\n",
        " Open a file\n",
        "\n",
        " Read or write - Performing operation\n",
        "\n",
        " Close the file\n",
        "\n",
        "**PROGRAM :**"
      ]
    },
    {
      "cell_type": "code",
      "metadata": {
        "id": "_Cbc7PmkQpKx"
      },
      "source": [
        "\n",
        "fn=input(\"Enter the file name: \")\n",
        "obj=open(fn,\"r\")\n",
        "if obj:\n",
        "    st=obj.read()\n",
        "    print(\"File content is : \\n\",st)\n",
        "obj.close()\n",
        "print()\n",
        "lines = st.split('\\n')\n",
        "for ln in lines:\n",
        "    i=len(ln)-1\n",
        "    while(i>=0):\n",
        "        print(ln[i],end='')\n",
        "        i-=1\n",
        "    print()\n",
        "    \n"
      ],
      "execution_count": null,
      "outputs": []
    },
    {
      "cell_type": "markdown",
      "metadata": {
        "id": "OnKm-8s5QyLE"
      },
      "source": [
        "**AIM :**\n",
        "\n",
        "b) Write a program to compute the number of characters, words and lines in a file.\n",
        "\n",
        "**DESCRIPTION :**\n",
        "\n",
        "Given a text file fname, the task is to count the total number of characters, words, spaces and lines in the file.\n",
        "\n",
        "As we know, Python provides multiple in-built features and modules for handling files. Let’s discuss different ways to calculate total number of characters, words, spaces and lines in a file using Python.\n",
        "\n",
        "Method #1: Naive approach\n",
        "\n",
        "In this approach, the idea is to solve the task by developing our own logic. Without using any built-in function of Python, the total number of characters, words, spaces and lines of the file will be calculated.\n",
        "\n",
        "Method #2: Using some built-in functions and OS module functions\n",
        "\n",
        "In this approach, the idea is to use the os.linesep() method of OS module to separate the lines on the current platform. When the interpreter’s scanner encounter os.linesep it replaces it with \\n character. After that strip() and split() functions will be used to carry out the task.\n",
        "\n",
        "**PROGRAM :**"
      ]
    },
    {
      "cell_type": "code",
      "metadata": {
        "id": "fUOfyNBWQ3n9"
      },
      "source": [
        "nl=nc=nw=0\n",
        "fn=input(\"Enter file name: \")\n",
        "obj=open(fn,\"r\")\n",
        "lines=obj.readlines()\n",
        "obj.close()\n",
        "print(\"File contains..\",lines)\n",
        "for ln in lines:\n",
        "    nl+=1\n",
        "    words=ln.split()\n",
        "    nw+=len(words)\n",
        "    nc+=len(ln)\n",
        "print(\"No.of lines: \",nl)\n",
        "print(\"No.of words: \",nw)\n",
        "print(\"No.of characters: \",nc)\n"
      ],
      "execution_count": null,
      "outputs": []
    },
    {
      "cell_type": "markdown",
      "metadata": {
        "id": "xRoz9mJOQ_SB"
      },
      "source": [
        "## Exercise - 8 Functions\n",
        "\n",
        "**AIM :**\n",
        "\n",
        "a) Write a function ball collide that takes two balls as parameters and computes if they arecolliding. \n",
        "Your function should return a Boolean representing whether or not the balls arecolliding.\n",
        "\n",
        "Hint: Represent a ball on a plane as a tuple of (x, y, r), r being the radius\n",
        "If (distance between two balls centers) <= (sum of their radii) then (they are colliding)\n",
        "\n",
        "**DESCRIPTION**\n",
        "\n",
        "**Functions**\n",
        "A function in python is a block of code that is defined for doing frequent operations in a\n",
        "particular task. The general format is\n",
        "\n",
        "def  Functionname(arguments):\n",
        "\n",
        "      Statements\n",
        "\n",
        "**Calling a Function:**\n",
        "\n",
        "A function can be called by its name followed by arguments within parenthesis.\n",
        "\n",
        "function()\n",
        "\n",
        "**PROGRAM :**\n"
      ]
    },
    {
      "cell_type": "code",
      "metadata": {
        "colab": {
          "base_uri": "https://localhost:8080/"
        },
        "id": "ddPLeEiKRGNL",
        "outputId": "1280c263-6fb8-4dd0-dd49-049cf0302814"
      },
      "source": [
        "import math\n",
        "def ball_collide(b1_tup,b2_tup):\n",
        "    x1,y1,r1=b1_tup\n",
        "    x2,y2,r2=b2_tup\n",
        "    d=math.sqrt((x2-x1)**2+(y2-y1)**2)\n",
        "    if d>=r1+r2:\n",
        "        return True\n",
        "    else:\n",
        "        return False\n",
        "ball1=(2,3,4)\n",
        "ball2=(1,1,3)\n",
        "\n",
        "collision=ball_collide(ball1,ball2)\n",
        "if (collision):\n",
        "    print(\"Balls are collide \")\n",
        "else:\n",
        "    print(\"Balls are not collide \")\n"
      ],
      "execution_count": null,
      "outputs": [
        {
          "name": "stdout",
          "output_type": "stream",
          "text": [
            "Balls are not collide \n"
          ]
        }
      ]
    },
    {
      "cell_type": "markdown",
      "metadata": {
        "id": "NaKMVeS0RP6W"
      },
      "source": [
        "**AIM :**\n",
        "\n",
        "b) Find mean, median, mode for the given set of numbers in a list.\n",
        "\n",
        "**DESCRIPTION**\n",
        "\n",
        "Mean : The mean is the average of all numbers and is sometimes called the arithmetic mean. This code calculates Mean or Average of a list containing numbers:\n",
        "\n",
        "Median : The median is the middle number in a group of numbers. This code calculates Median of a list containing numbers:\n",
        "\n",
        "Mode : The mode is the number that occurs most often within a set of numbers. This code calculates Mode of a list containing numbers:\n",
        "\n",
        "We will import Counter from collections library which is a built-in module in Python 2 and 3. This module will help us count duplicate elements in a list.\n",
        "We define a list of numbers and calculate the length of the list. We then call Counter (a dict subclass) which helps to count hashable objects, and we then convert it to dict object. We then initialize a list with a For Loop to compare all the dict values (Number of elements) to the max of all dict values (count of most occurring element) and it returns all the elements equal to max count. If the elements returned are equal to the number of total elements in a list then we print out ‘No mode’, else we print out the modes returned.\n",
        "\n",
        "**PROGRAM :**"
      ]
    },
    {
      "cell_type": "code",
      "metadata": {
        "colab": {
          "base_uri": "https://localhost:8080/"
        },
        "id": "89Ys3j9URcLg",
        "outputId": "9cb4ac8c-dfb6-4661-b5e1-af8b66635d86"
      },
      "source": [
        "def list_mean(num_list):\n",
        "    return sum(num_list)/len(num_list)\n",
        "\n",
        "def list_median(num_list):\n",
        "    num_list.sort()\n",
        "    n=len(num_list)\n",
        "    mid=n//2\n",
        "    if(n%2==1):\n",
        "        return num_list[mid]\n",
        "    else:\n",
        "        return (num_list[mid-1]+num_list[mid+1])/2\n",
        "\n",
        "def list_mode(num_list):\n",
        "    num_list.sort()\n",
        "    temp=[]\n",
        "    i=0\n",
        "    while i<len(num_list):\n",
        "        temp.append(num_list.count(num_list[i]))\n",
        "        i+=1\n",
        "    dic=dict(zip(num_list,temp))\n",
        "    mode={k for (k,v) in dic.items() if v==max(temp)}\n",
        "    return mode\n",
        "\n",
        "lst=[]\n",
        "n=int(input(\"Enter the size of list \"))\n",
        "print(\"Enter %d elements \"%n)\n",
        "for i in range(0,n):5\n",
        "    x=int(input())\n",
        "    lst.append(x)\n",
        "print(\"Given list is \",lst)\n",
        "print(\"Mean of list is \",list_mean(lst))\n",
        "print(\"Median of list is \",list_median(lst))\n",
        "print(\"Mode of list is \",list_mode(lst))\n"
      ],
      "execution_count": null,
      "outputs": [
        {
          "name": "stdout",
          "output_type": "stream",
          "text": [
            "Enter the size of list 7\n",
            "Enter 7 elements \n",
            "1\n",
            "2\n",
            "2\n",
            "3\n",
            "4\n",
            "5\n",
            "4\n",
            "Given list is  [1, 2, 2, 3, 4, 5, 4]\n",
            "Mean of list is  3.0\n",
            "Median of list is  3\n",
            "Mode of list is  {2, 4}\n"
          ]
        }
      ]
    },
    {
      "cell_type": "markdown",
      "metadata": {
        "id": "ITXIoXfnSGnK"
      },
      "source": [
        "## Exercise - 9 Functions - Continued\n",
        "\n",
        "**AIM :**\n",
        "\n",
        "a) Write a function nearly equal to test whether two strings are nearly equal. Two strings a and bare \n",
        "nearly equal when a can be generated by a single mutation on b.\n",
        "\n",
        "**DESCRIPTION:**\n",
        "\n",
        "strlen() function is used to check wether the two string are nearly equal or not by basis of the Length of those Strings\n",
        "\n",
        "len() function is an inbuilt function in Python programming language that returns the length of the string.\n",
        "\n",
        "len() is a built-in function in python.You can use the len() to get the length of the given string, array, list, tuple, dictionary, etc.\n",
        "\n",
        "Value: the given value you want the length of.\n",
        "\n",
        "Return value a return an integer value i.e. the length of the given string, or array, or list, or collections.\n",
        "\n",
        "Syntax:\n",
        "\n",
        "len(string)\n",
        "\n",
        "**PROGRAM :**\n"
      ]
    },
    {
      "cell_type": "code",
      "metadata": {
        "colab": {
          "base_uri": "https://localhost:8080/",
          "height": 385
        },
        "id": "p-qLMLO1SSVM",
        "outputId": "8715b8db-b77e-4101-84ce-653127283134"
      },
      "source": [
        " \n",
        "def nearly_eq(str1,str2):\n",
        "    count=0\n",
        "    i=j=0\n",
        "    while (i<len(str1) and j<len(str2)):\n",
        "        if(str1[i]!=str2[j]):\n",
        "          count+=1\n",
        "          if(len(str1)>len(str2)):\n",
        "             i+=1\n",
        "          elif(len(str1)==len(str2)):\n",
        "             pass\n",
        "          else:\n",
        "            i-=1\n",
        "        if (count>1):\n",
        "          return False\n",
        "        i+=1\n",
        "        j+=1\n",
        "        if(count<2):\n",
        "           return True\n",
        "S1=input (\"Enter string1\")\n",
        "S2=input (\"Enter string2\")\n",
        "if(nearly_eq(S1,S2)):\n",
        "   print (\"Strings are nearly equal\")\n",
        "else:\n",
        "   print (\"Strings are not nearly equal\")"
      ],
      "execution_count": null,
      "outputs": [
        {
          "name": "stdout",
          "output_type": "stream",
          "text": [
            "Enter string 1 uday kiran\n",
            "Enter string 2 uday\n"
          ]
        },
        {
          "ename": "KeyboardInterrupt",
          "evalue": "ignored",
          "output_type": "error",
          "traceback": [
            "\u001b[0;31m---------------------------------------------------------------------------\u001b[0m",
            "\u001b[0;31mKeyboardInterrupt\u001b[0m                         Traceback (most recent call last)",
            "\u001b[0;32m<ipython-input-1-ab523bf4759c>\u001b[0m in \u001b[0;36m<module>\u001b[0;34m()\u001b[0m\n\u001b[1;32m     21\u001b[0m \u001b[0ms2\u001b[0m\u001b[0;34m=\u001b[0m\u001b[0minput\u001b[0m\u001b[0;34m(\u001b[0m\u001b[0;34m\"Enter string 2 \"\u001b[0m\u001b[0;34m)\u001b[0m\u001b[0;34m\u001b[0m\u001b[0;34m\u001b[0m\u001b[0m\n\u001b[1;32m     22\u001b[0m \u001b[0;34m\u001b[0m\u001b[0m\n\u001b[0;32m---> 23\u001b[0;31m \u001b[0;32mif\u001b[0m\u001b[0;34m(\u001b[0m\u001b[0mnearly_eq\u001b[0m\u001b[0;34m(\u001b[0m\u001b[0ms1\u001b[0m\u001b[0;34m,\u001b[0m\u001b[0ms2\u001b[0m\u001b[0;34m)\u001b[0m\u001b[0;34m)\u001b[0m\u001b[0;34m:\u001b[0m\u001b[0;34m\u001b[0m\u001b[0;34m\u001b[0m\u001b[0m\n\u001b[0m\u001b[1;32m     24\u001b[0m     \u001b[0mprint\u001b[0m\u001b[0;34m(\u001b[0m\u001b[0;34m\"Given strings are nearly equal \"\u001b[0m\u001b[0;34m)\u001b[0m\u001b[0;34m\u001b[0m\u001b[0;34m\u001b[0m\u001b[0m\n\u001b[1;32m     25\u001b[0m \u001b[0;32melse\u001b[0m\u001b[0;34m:\u001b[0m\u001b[0;34m\u001b[0m\u001b[0;34m\u001b[0m\u001b[0m\n",
            "\u001b[0;32m<ipython-input-1-ab523bf4759c>\u001b[0m in \u001b[0;36mnearly_eq\u001b[0;34m(str1, str2)\u001b[0m\n\u001b[1;32m      2\u001b[0m     \u001b[0mcount\u001b[0m\u001b[0;34m=\u001b[0m\u001b[0;36m0\u001b[0m\u001b[0;34m\u001b[0m\u001b[0;34m\u001b[0m\u001b[0m\n\u001b[1;32m      3\u001b[0m     \u001b[0mi\u001b[0m\u001b[0;34m=\u001b[0m\u001b[0mj\u001b[0m\u001b[0;34m=\u001b[0m\u001b[0;36m0\u001b[0m\u001b[0;34m\u001b[0m\u001b[0;34m\u001b[0m\u001b[0m\n\u001b[0;32m----> 4\u001b[0;31m     \u001b[0;32mwhile\u001b[0m\u001b[0;34m(\u001b[0m\u001b[0mi\u001b[0m\u001b[0;34m<\u001b[0m\u001b[0mlen\u001b[0m\u001b[0;34m(\u001b[0m\u001b[0mstr1\u001b[0m\u001b[0;34m)\u001b[0m \u001b[0;32mand\u001b[0m \u001b[0mj\u001b[0m\u001b[0;34m<\u001b[0m\u001b[0mlen\u001b[0m\u001b[0;34m(\u001b[0m\u001b[0mstr2\u001b[0m\u001b[0;34m)\u001b[0m\u001b[0;34m)\u001b[0m\u001b[0;34m:\u001b[0m\u001b[0;34m\u001b[0m\u001b[0;34m\u001b[0m\u001b[0m\n\u001b[0m\u001b[1;32m      5\u001b[0m         \u001b[0;32mif\u001b[0m\u001b[0;34m(\u001b[0m\u001b[0mstr1\u001b[0m\u001b[0;34m[\u001b[0m\u001b[0mi\u001b[0m\u001b[0;34m]\u001b[0m\u001b[0;34m!=\u001b[0m\u001b[0mstr2\u001b[0m\u001b[0;34m[\u001b[0m\u001b[0mj\u001b[0m\u001b[0;34m]\u001b[0m\u001b[0;34m)\u001b[0m\u001b[0;34m:\u001b[0m\u001b[0;34m\u001b[0m\u001b[0;34m\u001b[0m\u001b[0m\n\u001b[1;32m      6\u001b[0m             \u001b[0mcount\u001b[0m\u001b[0;34m+=\u001b[0m\u001b[0;36m1\u001b[0m\u001b[0;34m\u001b[0m\u001b[0;34m\u001b[0m\u001b[0m\n",
            "\u001b[0;31mKeyboardInterrupt\u001b[0m: "
          ]
        }
      ]
    },
    {
      "cell_type": "markdown",
      "metadata": {
        "id": "HEwITwRGdpkY"
      },
      "source": [
        "**AIM :**\n",
        "\n",
        "b) Write a function dup to find all duplicates in the list\n",
        "\n",
        "**DESCRIPTION:**\n",
        "\n",
        "To check if a list contains any duplicate element follow the following steps,\n",
        "\n",
        "1. Add the contents of list in a set.\n",
        "\n",
        "        As set contains only unique elements, so no duplicates will be added   the the set.\n",
        "\n",
        "2. Compare the size of set and list.\n",
        "\n",
        "            If size of list & set is equal then it means no duplicates in list.\n",
        "\n",
        "3. If size of list & set are different then it means yes, there are duplicates in list.\n",
        "\n",
        "**PROGRAM : **"
      ]
    },
    {
      "cell_type": "code",
      "metadata": {
        "colab": {
          "base_uri": "https://localhost:8080/"
        },
        "id": "bVW82rokdq4f",
        "outputId": "9c7bede3-887f-40dc-cd6f-a796729ff28d"
      },
      "source": [
        "def dups(num_list):\n",
        "    temp=[]\n",
        "    for i in num_list:\n",
        "        cnt=num_list.count(i)\n",
        "        if(cnt>1 and (i not in temp)):\n",
        "            temp.append(i)\n",
        "    print(\"Duplicate elements are : \",temp)\n",
        "lst=[]\n",
        "n=int(input(\"Enter the size of list \"))\n",
        "print(\"Enter the %d elements \"%n)\n",
        "for i in range (0,n):\n",
        "    x=int(input())\n",
        "    lst.append(x)\n",
        "print(\"Given list is : \",lst)\n",
        "dups(lst)\n"
      ],
      "execution_count": null,
      "outputs": [
        {
          "name": "stdout",
          "output_type": "stream",
          "text": [
            "Enter the size of list 5\n",
            "Enter the 5 elements \n",
            "1\n",
            "2\n",
            "1\n",
            "2\n",
            "4\n",
            "Given list is :  [1, 2, 1, 2, 4]\n",
            "Duplicate elements are :  [1, 2]\n"
          ]
        }
      ]
    },
    {
      "cell_type": "markdown",
      "metadata": {
        "id": "nd-3QjA3d2ba"
      },
      "source": [
        "**AIM :**\n",
        "\n",
        "c) Write a function unique to find all the unique elements of a list.\n",
        "\n",
        "**DESCRIPTION:**\n",
        "\n",
        "To find the unique in the list .There is a Specific Method i.e.,\n",
        "\n",
        "Method  : Traversal of list\n",
        "\n",
        "Using traversal, we can traverse for every element in the list and check if the element is in the unique_list already if it is not over there, then we can append it in the unique_list. \n",
        "\n",
        "This is done using one for loop and other if statement which check if the value is in the unique list or not which is equivalent to another for loop.  \n",
        "\n",
        "**PROGRAM :**\n"
      ]
    },
    {
      "cell_type": "code",
      "metadata": {
        "colab": {
          "base_uri": "https://localhost:8080/"
        },
        "id": "3h1N40fNeBJx",
        "outputId": "56cad1a7-052a-4bdf-dd43-df02b0a49ec3"
      },
      "source": [
        "def uniq_list(num_list):\n",
        "    temp=[]\n",
        "    for i in num_list:\n",
        "        cnt=num_list.count(i)\n",
        "        if(cnt==1):\n",
        "            temp.append(i)\n",
        "    print(\"unique elements are : \",temp)\n",
        "lst=[]\n",
        "n=int(input(\"Enter the size of list \"))\n",
        "print(\"Enter the %d elements \"%n)\n",
        "for i in range (0,n):\n",
        "    x=int(input())\n",
        "    lst.append(x)\n",
        "print(\"Given list is : \",lst)\n",
        "uniq_list(lst)\n"
      ],
      "execution_count": null,
      "outputs": [
        {
          "name": "stdout",
          "output_type": "stream",
          "text": [
            "Enter the size of list 7\n",
            "Enter the 7 elements \n",
            "1\n",
            "1\n",
            "2\n",
            "3\n",
            "2\n",
            "4\n",
            "5\n",
            "Given list is :  [1, 1, 2, 3, 2, 4, 5]\n",
            "unique elements are :  [3, 4, 5]\n"
          ]
        }
      ]
    },
    {
      "cell_type": "markdown",
      "metadata": {
        "id": "uuukYySWeNSq"
      },
      "source": [
        "## Exercise - 10 - Functions - Problem Solving\n",
        "\n",
        "**AIM :**\n",
        "\n",
        "a) Write a function cumulative product to compute cumulative product of a list of numbers.\n",
        "\n",
        "**DESCRIPTION:**\n",
        "\n",
        "A cumulative product is a sequence of partial products of a given sequence. For example, the cumulative products of the sequence. , are , , .. Cumulative products can be implemented in the Wolfram Language as Rest[FoldList[Times, 1, list]]\n",
        "\n",
        "cumprod(A,1) works on successive elements in the columns of A and returns the cumulative products of each column. cumprod(A,2) works on successive elements in the rows of A and returns the cumulative products of each row.\n",
        "\n",
        "umprod() function is used when we want to compute the cumulative product of array elements over a given axis. Syntax : numpy.cumprod(arr, axis=None, dtype=None, out=None) Parameters : arr : [array_like] Array containing numbers whose cumulative product is desired.\n",
        "\n",
        "**PROGRAM :**"
      ]
    },
    {
      "cell_type": "code",
      "metadata": {
        "colab": {
          "base_uri": "https://localhost:8080/"
        },
        "id": "n6V92mNweOOZ",
        "outputId": "38cae9ab-6738-4f93-861f-1d5cd6e82a84"
      },
      "source": [
        "def cum_prod(num_list):\n",
        "    prod=1\n",
        "    temp=[]\n",
        "    for i in num_list:\n",
        "        prod*=i\n",
        "        temp.append(prod)\n",
        "    return temp\n",
        "lst=[]\n",
        "n=int(input(\"Enter the size of list \"))\n",
        "print(\"Enter the %d elements \"%n)\n",
        "for i in range (0,n):\n",
        "    x=int(input())\n",
        "    lst.append(x)\n",
        "print(\"Given list is : \",lst)\n",
        "print(\"cumulative product list is : \",cum_prod(lst))\n"
      ],
      "execution_count": null,
      "outputs": [
        {
          "name": "stdout",
          "output_type": "stream",
          "text": [
            "Enter the size of list 5\n",
            "Enter the 5 elements \n",
            "1\n",
            "2\n",
            "3\n",
            "4\n",
            "5\n",
            "Given list is :  [1, 2, 3, 4, 5]\n",
            "cumulative product list is :  [1, 2, 6, 24, 120]\n"
          ]
        }
      ]
    },
    {
      "cell_type": "markdown",
      "metadata": {
        "id": "fXLZ1hygeft9"
      },
      "source": [
        "**AIM :**\n",
        "\n",
        "b) Write a function reverse to reverse a list. Without using the reverse function.\n",
        "\n",
        "**DESCRIPTION:**\n",
        "\n",
        "In this Python code snippet post, we are going to implement a list reverse function from the scratch without using any builtin functions.\n",
        "\n",
        "Let us see how…\n",
        "\n",
        "Iterative solution\n",
        "\n",
        "We can use a for loop to swap the first and last items, the second and the one before the last item and so on until the list is reversed in place. The number of iterations needed is half the list size. If the list has an odd number of items then the middle item will stay in its place.\n",
        "\n",
        "**PROGRAM :**\n",
        "\n"
      ]
    },
    {
      "cell_type": "code",
      "metadata": {
        "colab": {
          "base_uri": "https://localhost:8080/"
        },
        "id": "vTpE61xkeknd",
        "outputId": "867465d6-0265-46c3-abad-cedd1e6973d8"
      },
      "source": [
        "# call by value \n",
        "def reverse_list(num_list):\n",
        "    temp=num_list[::-1]\n",
        "    return temp\n",
        "lst=[]\n",
        "n=int(input(\"Enter the size of list \"))\n",
        "print(\"Enter the %d elements \"%n)\n",
        "for i in range (0,n):\n",
        "    x=int(input())\n",
        "    lst.append(x)\n",
        "print(\"Given list before reverse function: \",lst)\n",
        "print(\"Given list in reverse order : \",reverse_list(lst))\n",
        "print(\"Given list after reverse function: \",lst)\n"
      ],
      "execution_count": null,
      "outputs": [
        {
          "name": "stdout",
          "output_type": "stream",
          "text": [
            "Enter the size of list 5\n",
            "Enter the 5 elements \n",
            "5 \n",
            "4\n",
            "3\n",
            "2\n",
            "1\n",
            "Given list before reverse function:  [5, 4, 3, 2, 1]\n",
            "Given list in reverse order :  [1, 2, 3, 4, 5]\n",
            "Given list after reverse function:  [5, 4, 3, 2, 1]\n"
          ]
        }
      ]
    },
    {
      "cell_type": "code",
      "metadata": {
        "colab": {
          "base_uri": "https://localhost:8080/"
        },
        "id": "rmQCaef0e9d5",
        "outputId": "754f1f91-1b76-4387-91e2-41c69d18c2c9"
      },
      "source": [
        "# call by reference \n",
        "def reverse_list(num_list):\n",
        "    i=0\n",
        "    j=len(num_list)-1\n",
        "    while(i<=j):\n",
        "        temp=num_list[i]\n",
        "        num_list[i]=num_list[j]\n",
        "        num_list[j]=temp\n",
        "        j-=1\n",
        "        i+=1\n",
        "    return num_list\n",
        "lst=[]\n",
        "n=int(input(\"Enter the size of list \"))\n",
        "print(\"Enter the %d elements \"%n)\n",
        "for i in range (0,n):\n",
        "    x=int(input())\n",
        "    lst.append(x)\n",
        "print(\"Given list before reverse function: \",lst)\n",
        "print(\"Given list in reverse order : \",reverse_list(lst))\n",
        "print(\"Given list after reverse function: \",lst)\n"
      ],
      "execution_count": null,
      "outputs": [
        {
          "name": "stdout",
          "output_type": "stream",
          "text": [
            "Enter the size of list 5\n",
            "Enter the 5 elements \n",
            "10\n",
            "30\n",
            "20\n",
            "70\n",
            "40\n",
            "Given list before reverse function:  [10, 30, 20, 70, 40]\n",
            "Given list in reverse order :  [40, 70, 20, 30, 10]\n",
            "Given list after reverse function:  [40, 70, 20, 30, 10]\n"
          ]
        }
      ]
    },
    {
      "cell_type": "markdown",
      "metadata": {
        "id": "q211Ok1xfZhg"
      },
      "source": [
        "**AIM :**\n",
        "\n",
        "c) Write function to compute gcd, lcm of two numbers. Each function shouldn’t exceed one line\n",
        "\n",
        "**DESCRIPTION:**\n",
        "\n",
        "Python provides you an anonymous function called lambda. It can take any number of\n",
        "arguments, but can only have one expression. It can be used to find LCM and GCD values without exceeding each from from one line.\n",
        "\n",
        "The general format is\n",
        "\n",
        "**lambda arguments: expression**\n",
        "\n",
        "The expression is executed during the function call and the result is returned. \n",
        "\n",
        "**Lambda as a Function**\n",
        "\n",
        "The power of using a lambda expression is implementing it using a function\n",
        "\n",
        "**PROGRAM :**"
      ]
    },
    {
      "cell_type": "code",
      "metadata": {
        "colab": {
          "base_uri": "https://localhost:8080/"
        },
        "id": "aKZuTLfefam4",
        "outputId": "591bdda5-c10e-4d39-a95e-d444d7087311"
      },
      "source": [
        "gcd=lambda a,b: a if b==0 else gcd(b,a%b)\n",
        "lcm=lambda a,b:(a*b)//gcd(a,b)\n",
        "x=int(input(\"Enter one integer\"))\n",
        "y=int(input(\"Enter second integer \"))\n",
        "big=x if (x>y) else y\n",
        "small=x if(x<y) else y\n",
        "print(\"GCD of %d,%d is \"%(x,y),gcd(big,small))\n",
        "print(\"LCM of %d,%d is \"%(x,y),lcm(big,small))"
      ],
      "execution_count": null,
      "outputs": [
        {
          "name": "stdout",
          "output_type": "stream",
          "text": [
            "Enter one integer200\n",
            "Enter second integer 15\n",
            "GCD of 200,15 is  5\n",
            "LCM of 200,15 is  600\n"
          ]
        }
      ]
    },
    {
      "cell_type": "markdown",
      "metadata": {
        "id": "lNnpbVvCe67E"
      },
      "source": [
        "## Exercise 11 - Multi-D Lists\n",
        "\n",
        "**AIM :**\n",
        "\n",
        "a) Write a program that defines a matrix and prints\n",
        "\n",
        "**DESCRIPTION:**\n",
        "\n",
        "Lists are a very widely use data structure in python. They contain a list of elements separated by comma. But sometimes lists can also contain lists within them. These are called nested lists or multidimensional lists. In this article we will see how to create and access elements in a multidimensional list.\n",
        "\n",
        "**Methods on Multidimensional lists**\n",
        "\n",
        "1. append(): Adds an element at the end of the list.\n",
        "\n",
        "2. extend(): Add the elements of a list (or any iterable), to the end of the current list.\n",
        "\n",
        "3. reverse(): Reverses the order of the list.\n",
        "\n",
        "**PROGRAM :**\n"
      ]
    },
    {
      "cell_type": "code",
      "metadata": {
        "colab": {
          "base_uri": "https://localhost:8080/"
        },
        "id": "j-9t_31Je8vb",
        "outputId": "825af7b3-f002-4685-fc7d-99f68b0925ec"
      },
      "source": [
        "matA=[[]]\n",
        "\n",
        "rows=int(input(\"Enter the row size \"))\n",
        "cols=int(input(\"Enter the column size \"))\n",
        "\n",
        "matA=[[int(input(\"Enter the A[%d,%d] value \"%(i,j)))for j in range(cols)]for i in range (rows)]\n",
        "\n",
        "print(\"Matrix is....\")\n",
        "\n",
        "for i in range(rows):\n",
        "    for j in range (cols):\n",
        "        print(matA[i][j],end='\\t')\n",
        "    print()\n"
      ],
      "execution_count": null,
      "outputs": [
        {
          "name": "stdout",
          "output_type": "stream",
          "text": [
            "Enter the row size 2\n",
            "Enter the column size 2\n",
            "Enter the A[0,0] value 1\n",
            "Enter the A[0,1] value 2\n",
            "Enter the A[1,0] value 3\n",
            "Enter the A[1,1] value 4\n",
            "Matrix is....\n",
            "1\t2\t\n",
            "3\t4\t\n"
          ]
        }
      ]
    },
    {
      "cell_type": "markdown",
      "metadata": {
        "id": "ZeDYdazNfKwE"
      },
      "source": [
        "\n",
        "\n",
        "\n",
        "\n",
        "\n",
        "\n",
        "\n",
        "\n",
        "\n",
        "\n",
        "\n",
        "\n",
        "\n",
        "\n",
        "\n",
        "\n",
        "**AIM :**\n",
        "\n",
        "b) Write a program to perform addition of two square matrices\n",
        "\n",
        "**DESCRIPTION:**\n",
        "\n",
        "We can perform matrix addition in following ways in Python.  \n",
        "\n",
        "1. Using for loop: \n",
        "\n",
        "**Explanation** :- \n",
        "In this program we have used nested for loops to iterate through each row and each column. At each point we add the corresponding elements in the two matrices and store it in the result.\n",
        "\n",
        "2. Using nested list comprehension :\n",
        "\n",
        " In Python, we can implement a matrix as nested list (list inside a list). We can treat each element as a row of the matrix. \n",
        "\n",
        "**Explanation :-**\n",
        "\n",
        "The output of this program is the same as above. We have used nested list comprehension to iterate through each element in the matrix. List comprehension allows us to write concise codes and we must try to use them frequently in Python. They are very helpful.\n",
        "\n",
        "3. uising zip function\n",
        "\n",
        "**Explanation :**\n",
        "\n",
        "The zip function accepts iterator i of each element(list) of matrix, mapping them, adding them using sum() and storing them in the map form.\n",
        "\n",
        "**PROGRAM :**\n"
      ]
    },
    {
      "cell_type": "code",
      "metadata": {
        "colab": {
          "base_uri": "https://localhost:8080/"
        },
        "id": "QyCZfM9xfRts",
        "outputId": "6783186e-68ad-4ba8-aee5-6f06ec6c9bcf"
      },
      "source": [
        "def mat_read(rows,cols):\n",
        "    mat=[[int(input(\"Enter the mat[%d,%d] value \"%(i,j)))for j in range(cols)]for i in range (rows)]\n",
        "    return mat\n",
        "def print_mat(rows,cols,mat):\n",
        "    for i in range(rows):\n",
        "        for j in range (cols):\n",
        "            print(mat[i][j],end='\\t')\n",
        "        print()\n",
        "    \n",
        "matA=[[]]\n",
        "matB=[[]]\n",
        "mat_sum=[[]]\n",
        "\n",
        "\n",
        "rows=int(input(\"Enter the row size \"))\n",
        "cols=int(input(\"Enter the column size \"))\n",
        "\n",
        "if(rows==cols):\n",
        "    print(\"For matrix A\")\n",
        "    matA=mat_read(rows,cols)\n",
        "    \n",
        "    print(\"For matrix B\")\n",
        "    matB=mat_read(rows,cols)\n",
        "    \n",
        "    mat_sum=[[matA[i][j]+matB[i][j] for j in range(cols)]for i in range (rows)]\n",
        "\n",
        "    print(\"Matrix A \")\n",
        "    print_mat(rows,cols,matA)\n",
        "    \n",
        "    print(\"Matrix B \")\n",
        "    print_mat(rows,cols,matB)\n",
        "    \n",
        "    print(\"Matrix A+B = \")\n",
        "    print_mat(rows,cols,mat_sum)\n",
        "else:\n",
        "    print(\"Matrix Addition is not possible\")\n",
        "    "
      ],
      "execution_count": null,
      "outputs": [
        {
          "name": "stdout",
          "output_type": "stream",
          "text": [
            "Enter the row size 2\n",
            "Enter the column size 2\n",
            "For matrix A\n",
            "Enter the mat[0,0] value 1\n",
            "Enter the mat[0,1] value 2\n",
            "Enter the mat[1,0] value 3\n",
            "Enter the mat[1,1] value 4\n",
            "For matrix B\n",
            "Enter the mat[0,0] value 4\n",
            "Enter the mat[0,1] value 3\n",
            "Enter the mat[1,0] value 2\n",
            "Enter the mat[1,1] value 1\n",
            "Matrix A \n",
            "1\t2\t\n",
            "3\t4\t\n",
            "Matrix B \n",
            "4\t3\t\n",
            "2\t1\t\n",
            "Matrix A+B = \n",
            "5\t5\t\n",
            "5\t5\t\n"
          ]
        }
      ]
    },
    {
      "cell_type": "markdown",
      "metadata": {
        "id": "1bFs2z4CfWfm"
      },
      "source": [
        "**AIM :**\n",
        "\n",
        "c) Write a program to perform multiplication of two square matrices\n",
        "\n",
        "**DESCRIPTION:**\n",
        "\n",
        "In Python, we can implement a matrix as nested list (list inside a list).\n",
        "\n",
        "We can treat each element as a row of the matrix.\n",
        "\n",
        "For example X = [[1, 2], [4, 5], [3, 6]] would represent a 3x2 matrix.\n",
        "\n",
        "The first row can be selected as X[0]. And, the element in first row, first column can be selected as X[0][0].\n",
        "\n",
        "Multiplication of two matrices X and Y is defined only if the number of columns in X is equal to the number of rows Y.\n",
        "\n",
        "If X is a n x m matrix and Y is a m x l matrix then, XY is defined and has the dimension n x l (but YX is not defined). Here are a couple of ways to implement matrix multiplication in Python.\n",
        "\n",
        "**PROGRAM :**"
      ]
    },
    {
      "cell_type": "code",
      "metadata": {
        "colab": {
          "base_uri": "https://localhost:8080/"
        },
        "id": "lc8xxS_Efa4g",
        "outputId": "9ec12eba-037b-4f74-8067-22e562fddc19"
      },
      "source": [
        "def mat_read(rows,cols):\n",
        "    mat=[[int(input(\"Enter the mat[%d,%d] value \"%(i,j)))for j in range(cols)]for i in range (rows)]\n",
        "    return mat\n",
        "def print_mat(rows,cols,mat):\n",
        "    for i in range(rows):\n",
        "        for j in range (cols):\n",
        "            print(mat[i][j],end='\\t')\n",
        "        print()\n",
        "    \n",
        "matA=[[]]\n",
        "matB=[[]]\n",
        "mat_mul=[[]]\n",
        "\n",
        "\n",
        "rows=int(input(\"Enter the row size \"))\n",
        "cols=int(input(\"Enter the column size \"))\n",
        "\n",
        "if(rows==cols):\n",
        "    print(\"For matrix A\")\n",
        "    matA=mat_read(rows,cols)\n",
        "    \n",
        "    print(\"For matrix B\")\n",
        "    matB=mat_read(rows,cols)\n",
        "    \n",
        "    mat_mul=[[0 for j in range(cols)]for i in range (rows)]\n",
        "\n",
        "    for i in range (rows):\n",
        "        for j in range(cols):\n",
        "            for k in range(cols):\n",
        "                mat_mul[i][j]+=matA[i][k]*matB[k][j]\n",
        "\n",
        "    print(\"Matrix A \")\n",
        "    print_mat(rows,cols,matA)\n",
        "    \n",
        "    print(\"Matrix B \")\n",
        "    print_mat(rows,cols,matB)\n",
        "    \n",
        "    print(\"Matrix A*B = \")\n",
        "    print_mat(rows,cols,mat_mul)\n",
        "else:\n",
        "    print(\"Matrix multiplication is not possible\")"
      ],
      "execution_count": null,
      "outputs": [
        {
          "name": "stdout",
          "output_type": "stream",
          "text": [
            "Enter the row size 2\n",
            "Enter the column size 2\n",
            "For matrix A\n",
            "Enter the mat[0,0] value 1\n",
            "Enter the mat[0,1] value 2\n",
            "Enter the mat[1,0] value 3\n",
            "Enter the mat[1,1] value 4\n",
            "For matrix B\n",
            "Enter the mat[0,0] value 1\n",
            "Enter the mat[0,1] value 2\n",
            "Enter the mat[1,0] value 3\n",
            "Enter the mat[1,1] value 4\n",
            "Matrix A \n",
            "1\t2\t\n",
            "3\t4\t\n",
            "Matrix B \n",
            "1\t2\t\n",
            "3\t4\t\n",
            "Matrix A*B = \n",
            "7\t10\t\n",
            "15\t22\t\n"
          ]
        }
      ]
    },
    {
      "cell_type": "markdown",
      "metadata": {
        "id": "DVPcoBOOIzFz"
      },
      "source": [
        "\n",
        "\n",
        "\n",
        "\n",
        "\n",
        "\n",
        "\n",
        "\n",
        "\n",
        "\n",
        "\n",
        "\n",
        "\n",
        "\n",
        "\n",
        "\n",
        "\n",
        "\n",
        "\n",
        "\n",
        "\n",
        "\n",
        "\n",
        "\n",
        "\n",
        "\n",
        "\n",
        "## Exercise 12 Modules\n",
        "\n",
        "**AIM :**\n",
        "\n",
        "a) Install packages requests, flask and explore them. using (pip)\n",
        "\n",
        "**DESCRIPTION:**\n",
        "\n",
        "Installing the pip Python package manager on Windows\n",
        "If you are on Windows, and your installed Python the current version, you already have pip! If your Python installation is not the most recent, the easiest thing to do is to simply reinstall it. Download the Python Windows installer at https://www.python.org/downloads/.\n",
        "\n",
        "In Windows, the variable that controls which programs are accessible from the command line is path. To modify your path to include Python and pip, we have to add C:\\Python27 and C:\\Python27\\Tools. Edit the Windows path by opening the Windows menu, right-clicking on Computer and clicking on Properties. Under Advanced system settings, click Environment Variables.... Scroll down until you find Path, double-click it, and add ;C:\\Python27;C:\\Python27\\Tools to the end.\n",
        "\n",
        "**Installing packages:**\n",
        "\n",
        "Suppose you want to install a package called requests (which is used to make HTTP requests). You need to issue the following command.\n",
        "\n",
        "pip install requests\n",
        "\n",
        "**show installed packages**\n",
        "\n",
        "You can use the following command to get information about a installed package, i.e Package name, version, location, dependencies.\n",
        "\n",
        "pip show package_name\n",
        "\n",
        "**install flask**\n",
        "\n",
        "On Mac and Linux, because you are installing programs outside the user-owned folders, you might have to prepend sudo to the install commands. To install Flask, simply run this:\n",
        "\n",
        "$ pip install flask\n",
        "\n",
        "**show installed flask**\n",
        "\n",
        "You can use the following command to get information about a installed flask, i.e Package name, version, location, dependencies\n",
        "\n",
        "$ pip show flask\n",
        "\n",
        "**PROGRAM :**\n",
        "\n",
        "The requests and flask packages are downloaded from internet using the following commands.\n"
      ]
    },
    {
      "cell_type": "code",
      "metadata": {
        "id": "r4Xz802HKExQ"
      },
      "source": [
        "c:\\phython3.9\\scripts>pip install requests\n",
        "\n",
        "c:\\phython3.9\\scripts>pip show requests\n",
        "\n",
        "c:\\phython3.9\\scripts>pip install flask\n",
        "\n",
        "c:\\phython3.9\\scripts>pip show flask\n",
        "\n"
      ],
      "execution_count": null,
      "outputs": []
    },
    {
      "cell_type": "markdown",
      "metadata": {
        "id": "rPq1KwqG6L0v"
      },
      "source": [
        "![py.png](data:image/png;base64,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)"
      ]
    },
    {
      "cell_type": "markdown",
      "metadata": {
        "id": "UdKNaFcr6MMF"
      },
      "source": [
        "![py2.png](data:image/png;base64,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)"
      ]
    },
    {
      "cell_type": "markdown",
      "metadata": {
        "id": "a5oseumy6Mc6"
      },
      "source": [
        "![py3.png](data:image/png;base64,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)"
      ]
    },
    {
      "cell_type": "markdown",
      "metadata": {
        "id": "hmuj8x2v6MwF"
      },
      "source": [
        "![py4.png](data:image/png;base64,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)"
      ]
    },
    {
      "cell_type": "markdown",
      "metadata": {
        "id": "mgjQPu_NKZVE"
      },
      "source": [
        "**AIM :**\n",
        "\n",
        "b) Write a script that imports requests and fetch content from the page. Eg. (Wiki)\n",
        "\n",
        "**DESCRIPTION:**\n",
        "\n",
        "The Hypertext Transfer Protocol (HTTP) is an application protocol for distributed, collaborative, hypermedia information systems. HTTP is the foundation of data communication for the World Wide Web.\n",
        "\n",
        "**Python requests**\n",
        "\n",
        "Requests is a simple and elegant Python HTTP library. It provides methods for accessing Web resources via HTTP.\n",
        "\n",
        "**Python requests reading a web page**\n",
        "\n",
        "The **get()** method issues a GET request; it fetches documents identified by the given URL.\n",
        "\n",
        "**PROGRAM :**\n"
      ]
    },
    {
      "cell_type": "code",
      "metadata": {
        "id": "cDaxFpGoNG8M"
      },
      "source": [
        "import requests\n",
        "r=requests.get('https://www.google.com')\n",
        "print(\"Status code : \",r.status_code)\n",
        "print(\"Header Content : \",r.headers['content-type'])\n",
        "\n",
        "print(r.text)"
      ],
      "execution_count": null,
      "outputs": []
    },
    {
      "cell_type": "markdown",
      "metadata": {
        "id": "dOlqaj9tNglm"
      },
      "source": [
        "**AIM :**\n",
        "\n",
        "c) Write a simple script that serves a simple HTTPResponse and a simple HTML Page\n",
        "\n",
        "**DESCRIPTION:**\n",
        "\n",
        "  **HTTP Protocol**\n",
        "\n",
        "The most important part of a web server is HTTP protocol.So now we will see what exactly this is –\n",
        "\n",
        "It stands for Hyper Text Transfer Protocol.\n",
        "\n",
        "It is an application layer protocol that allows web based applications to \n",
        "communicate and exchange data.\n",
        "\n",
        "The HTTP is the messenger of web.\n",
        "\n",
        "The computer that communicate via the HTTP must speak the HTTP protocol.\n",
        "\n",
        "It is a TCP/IP based protocol.\n",
        "\n",
        "It is used to deliver contents, for eg. images, audios, videos, documents etc.\n",
        "\n",
        "Using HTTP is the most convenient way to quickly and reliably move data on the web.\n",
        "\n",
        "HTML stands for hypertext markup language. It is the standard markup language for web pages that define the structure of the content. These elements are the building blocks of any website\n",
        "\n",
        "**PROGRAM :**"
      ]
    },
    {
      "cell_type": "code",
      "metadata": {
        "colab": {
          "background_save": true,
          "base_uri": "https://localhost:8080/"
        },
        "id": "cw839YUxNhfR",
        "outputId": "beb3377a-591d-4e5f-9a58-4988eb9bf8ef"
      },
      "source": [
        "\n",
        "from flask import Flask,render_template\n",
        "app=Flask(__name__)\n",
        "print(app)\n",
        "@app.route(\"/\")\n",
        "\n",
        "def main():\n",
        "    return render_template('abc.html')\n",
        "\n",
        "if __name__==\"__main__\":\n",
        "    app.run(host=\"127.0.0.1\",port=2500)"
      ],
      "execution_count": null,
      "outputs": [
        {
          "metadata": {
            "tags": null
          },
          "name": "stdout",
          "output_type": "stream",
          "text": [
            "<Flask '__main__'>\n",
            " * Serving Flask app \"__main__\" (lazy loading)\n",
            " * Environment: production\n",
            "\u001b[31m   WARNING: This is a development server. Do not use it in a production deployment.\u001b[0m\n",
            "\u001b[2m   Use a production WSGI server instead.\u001b[0m\n",
            " * Debug mode: off\n"
          ]
        },
        {
          "metadata": {
            "tags": null
          },
          "name": "stderr",
          "output_type": "stream",
          "text": [
            " * Running on http://127.0.0.1:2500/ (Press CTRL+C to quit)\n"
          ]
        }
      ]
    },
    {
      "cell_type": "markdown",
      "metadata": {
        "id": "QZrn9YP3O0aX"
      },
      "source": [
        "##Exercise - 13 OOP\n",
        "\n",
        "**AIM :**\n",
        "\n",
        "a) Class variables and instance variable and illustration of the self-variable\n",
        "\n",
        "\n",
        "**DESCRIPTION:**\n",
        "\n",
        "Variables are named storage location. In python variables are not defined by its type instead it\n",
        "will be automatically determined by the value assigned to it.\n",
        "To determine the type of a variable a function called type () is used.\n",
        "\n",
        "**class variable**is shared by all object instances of a class. ... They are not defined inside any methods of a class. Because a class variable is shared by instances of a class, the Python class owns the variable. As a result, all instances of the class will be able to access that variable\n",
        "\n",
        "**Instance variables** are owned by instances of the class. This means that for each object or instance of a class, the instance variables are different. ... Instance variables, owned by objects of the class, allow for each object or instance to have different values assigned to those variables\n",
        "\n",
        "**self variable** is used to bind the instance of the class to the instance method. We have to explicitly declare it as the first method argument to access the instance variables and methods. This variable is used only with the instance methods.\n",
        "\n",
        "**PROGRAM :**\n",
        "\n",
        "**i) Robot**"
      ]
    },
    {
      "cell_type": "code",
      "metadata": {
        "colab": {
          "base_uri": "https://localhost:8080/"
        },
        "id": "KEde6f4NO_00",
        "outputId": "79cad70b-c9af-438d-fcdf-aecd75f9624c"
      },
      "source": [
        "class Robot:\n",
        "    what=\"Machine\"\n",
        "    name=\"Chitti\"\n",
        "    version=1.0\n",
        "    speed=\"1THz\"\n",
        "    memory=\"1ZB\"\n",
        "\n",
        "    def update(upd):\n",
        "        upd.version=2.0\n",
        "        upd.speed=\"2THz\"\n",
        "        upd.memory=\"2ZB\"\n",
        "\n",
        "    def disp(self):\n",
        "        print(\"Myself is a\",robj.what)\n",
        "        print(\"MyName is a\",robj.name)\n",
        "        print(\"Version :\",robj.version)\n",
        "        print(\"Speed : \",robj.speed)\n",
        "        print(\"Memory: \",robj.memory)\n",
        "\n",
        "robj=Robot()\n",
        "robj.disp()\n",
        "\n",
        "print(\"---------------Update---------\")\n",
        "robj.update()\n",
        "robj.disp()"
      ],
      "execution_count": null,
      "outputs": [
        {
          "name": "stdout",
          "output_type": "stream",
          "text": [
            "Myself is a Machine\n",
            "MyName is a Chitti\n",
            "Version : 1.0\n",
            "Speed :  1THz\n",
            "Memory:  1ZB\n",
            "---------------Update---------\n",
            "Myself is a Machine\n",
            "MyName is a Chitti\n",
            "Version : 2.0\n",
            "Speed :  2THz\n",
            "Memory:  2ZB\n"
          ]
        }
      ]
    },
    {
      "cell_type": "markdown",
      "metadata": {
        "id": "epJ6QhNnPXxf"
      },
      "source": [
        "**ii) ATM Machine**"
      ]
    },
    {
      "cell_type": "code",
      "metadata": {
        "colab": {
          "base_uri": "https://localhost:8080/"
        },
        "id": "mvqG_9N-Pcfh",
        "outputId": "7650a6f4-b895-4802-bc29-4ddc6bb3ceb9"
      },
      "source": [
        "class ATM:\n",
        "    def __init__(self):\n",
        "        self.balance=0\n",
        "        print(\"New Account\")\n",
        "        \n",
        "    def enquire(self):\n",
        "        print(\"Balance: \",self.balance)\n",
        "        \n",
        "    def deposit(self):\n",
        "        amount=int(input(\"Enter the Deposit Amount:\"))\n",
        "        self.balance+=amount\n",
        "        self.enquire()\n",
        "\n",
        "    def withdraw(self):\n",
        "        amount=int(input(\"Enter the Withdraw Amount: \"))\n",
        "        if self.balance<amount:\n",
        "            print(\"Insufficient Balance.....!\")\n",
        "        else:\n",
        "            self.balance-=amount\n",
        "            self.enquire()\n",
        "\n",
        "aobj=ATM()\n",
        "while(True):\n",
        "    print(\"**Menu*\")\n",
        "    print(\"1.Deposit\")\n",
        "    print(\"2.Withdarw\")\n",
        "    print(\"3.Balance\")\n",
        "    print(\"0.Exit\")\n",
        "    ch=int(input(\"Enter Your Choice: \"))\n",
        "    if ch==0:\n",
        "        break\n",
        "    elif ch==1:\n",
        "        aobj.deposit()\n",
        "    elif ch==2:\n",
        "        aobj.withdraw()\n",
        "    elif ch==3:\n",
        "        aobj.enquire()\n",
        "    else:\n",
        "        print(\"Invalid choice:\")\n",
        "        pass"
      ],
      "execution_count": null,
      "outputs": [
        {
          "name": "stdout",
          "output_type": "stream",
          "text": [
            "New Account\n",
            "**Menu*\n",
            "1.Deposit\n",
            "2.Withdarw\n",
            "3.Balance\n",
            "0.Exit\n",
            "Enter Your Choice: 1\n",
            "Enter the Deposit Amount:10000\n",
            "Balance:  10000\n",
            "**Menu*\n",
            "1.Deposit\n",
            "2.Withdarw\n",
            "3.Balance\n",
            "0.Exit\n",
            "Enter Your Choice: 2\n",
            "Enter the Withdraw Amount: 800\n",
            "Balance:  9200\n",
            "**Menu*\n",
            "1.Deposit\n",
            "2.Withdarw\n",
            "3.Balance\n",
            "0.Exit\n",
            "Enter Your Choice: 0\n"
          ]
        }
      ]
    },
    {
      "cell_type": "markdown",
      "metadata": {
        "id": "pp-LWaP5TUqf"
      },
      "source": [
        "##Exercise - 14 GUI, Graphics\n",
        "\n",
        "**AIM :**\n",
        "\n",
        "1. Write a GUI for an Expression Calculator using tk\n",
        "\n",
        "**DESCRIPTION:**\n",
        "\n",
        "Tkinter is a Python package which comes with many functions and methods that can be used to create an application. In order to create a tkinter application, we generally create an instance of tkinter frame, i.e., Tk(). It helps to display the root window and manages all the other components of the tkinter application. We can initialize the tkinter instance by assigning the variable to it.\n",
        "\n",
        "**PROGRAM :**"
      ]
    },
    {
      "cell_type": "code",
      "metadata": {
        "id": "Bwc_sYT-XqCB"
      },
      "source": [
        "\n",
        "from tkinter import *\n",
        "from math import *\n",
        "win=Tk()\n",
        "win.geometry(\"312x324\")\n",
        "win.resizable(0,0)\n",
        "win.title(\"My Calculator\")\n",
        "\n",
        "def btn_click(item):\n",
        "    global expression\n",
        "    expression=expression+str(item)\n",
        "    input_text.set(expression)\n",
        "\n",
        "def bt_clear():\n",
        "    global expression\n",
        "    expression=\"\"\n",
        "    input_text.set(\"\")\n",
        "\n",
        "def bt_equal():\n",
        "    global expression\n",
        "    result=str(eval(expression))\n",
        "    input_text.set(result)\n",
        "    expression=\"\"\n",
        "expression=\"\"\n",
        "\n",
        "input_text=StringVar()\n",
        "\n",
        "input_frame = Frame(win,width=312,height=50,bd=0,highlightbackground=\"black\",\n",
        "highlightcolor=\"black\",highlightthickness=2)\n",
        "input_frame.pack(side=TOP)\n",
        "\n",
        "input_field = Entry(input_frame,font=('arial',18,'bold'),textvariable=input_text,width=50,bg=\"#eee\",bd=0,justify=RIGHT)\n",
        "input_field.grid(row=0,column=0)\n",
        "input_field.pack(ipady=10)\n",
        "\n",
        "btns_frame=Frame(win,width=312,height=272.5,bg=\"grey\")\n",
        "btns_frame.pack()\n",
        "\n",
        "clear=Button(btns_frame,text=\"C\",fg=\"black\",width=32,height=3,bd=0,bg=\"#eee\",cursor=\"hand2\",command=lambda:bt_clear()).grid(row=0,column=0,columnspan=3,padx=1,pady=1)\n",
        "divide=Button(btns_frame,text=\"/\",fg=\"black\",width=10,height=3,bd=0,bg=\"#eee\",cursor=\"hand2\",command=lambda:btn_click(\"/\")).grid(row=0,column=3,padx=1,pady=1)\n",
        "\n",
        "seven=Button(btns_frame,text=\"7\",fg=\"black\",width=10,height=3,bd=0,bg=\"#fff\",cursor=\"hand2\",command=lambda:btn_click(7)).grid(row=1,column=0,padx=1,pady=1)\n",
        "eight=Button(btns_frame,text=\"8\",fg=\"black\",width=10,height=3,bd=0,bg=\"#fff\",cursor=\"hand2\",command=lambda:btn_click(8)).grid(row=1,column=1,padx=1,pady=1)\n",
        "nine=Button(btns_frame,text=\"9\",fg=\"black\",width=10,height=3,bd=0,bg=\"#fff\",cursor=\"hand2\",command=lambda:btn_click(9)).grid(row=1,column=2,padx=1,pady=1)\n",
        "multiply=Button(btns_frame,text=\"*\",fg=\"black\",width=10,height=3,bd=0,bg='#eee',cursor=\"hand2\",command=lambda:btn_click(\"*\")).grid(row=1,column=3, padx=1,pady=1)\n",
        "\n",
        "four=Button(btns_frame,text=\"4\",fg=\"black\",width=10,height=3,bd=0,bg=\"#fff\",cursor=\"hand2\",command=lambda:btn_click(4)).grid(row=2,column=0,padx=1,pady=1)\n",
        "five=Button(btns_frame,text=\"5\",fg=\"black\",width=10,height=3,bd=0,bg=\"#fff\",cursor=\"hand2\",command=lambda:btn_click(5)).grid(row=2,column=1,padx=1,pady=1)\n",
        "six=Button(btns_frame,text=\"6\",fg=\"black\",width=10,height=3,bd=0,bg=\"#fff\",cursor=\"hand2\",command=lambda:btn_click(6)).grid(row=2,column=2,padx=1,pady=1)\n",
        "minus=Button(btns_frame,text=\"-\",fg=\"black\",width=10,height=3,bd=0,bg='#eee',cursor=\"hand2\",command=lambda:btn_click(\"-\")).grid(row=2,column=3, padx=1,pady=1)\n",
        "\n",
        "one=Button(btns_frame,text=\"1\",fg=\"black\",width=10,height=3,bd=0,bg=\"#fff\",cursor=\"hand2\",command=lambda:btn_click(1)).grid(row=3,column=0,padx=1,pady=1)\n",
        "two=Button(btns_frame,text=\"2\",fg=\"black\",width=10,height=3,bd=0,bg=\"#fff\",cursor=\"hand2\",command=lambda:btn_click(2)).grid(row=3,column=1,padx=1,pady=1)\n",
        "three=Button(btns_frame,text=\"3\",fg=\"black\",width=10,height=3,bd=0,bg=\"#fff\",cursor=\"hand2\",command=lambda:btn_click(3)).grid(row=3,column=2,padx=1,pady=1)\n",
        "plus=Button(btns_frame,text=\"+\",fg=\"black\",width=10,height=3,bd=0,bg='#eee',cursor=\"hand2\",command=lambda:btn_click(\"+\")).grid(row=3,column=3, padx=1,pady=1)\n",
        "\n",
        "zero=Button(btns_frame,text=\"0\",fg=\"black\",width=21,height=3,bd=0,bg=\"#fff\",cursor=\"hand2\",command=lambda:btn_click(0)).grid(row=4,column=0,columnspan=2,padx=1,pady=1)\n",
        "point=Button(btns_frame,text=\".\",fg=\"black\",width=10,height=3,bd=0,bg=\"#eee\",cursor=\"hand2\",command=lambda:btn_click(\".\")).grid(row=4,column=2,padx=1,pady=1)\n",
        "equals=Button(btns_frame,text=\"=\",fg=\"black\",width=10,height=3,bd=0,bg=\"#eee\",cursor=\"hand2\",command=lambda:bt_equal()).grid(row=4,column=3,padx=1,pady=1)\n",
        "\n",
        "win.mainloop()"
      ],
      "execution_count": null,
      "outputs": []
    },
    {
      "cell_type": "markdown",
      "metadata": {
        "id": "j7ty0Df5Tmoo"
      },
      "source": [
        "**AIM :**\n",
        "\n",
        "\n",
        "2. Write a program to implement the following figures using turtle\n",
        "\n",
        "**DESCRIPTION:**\n",
        "\n",
        "The turtle module is an extended reimplementation of the same-named module from the Python standard distribution up to version Python 2.5.\n",
        "\n",
        "It tries to keep the merits of the old turtle module and to be (nearly) 100% compatible with it. This means in the first place to enable the learning programmer to use all the commands, classes and methods interactively when using the module from within IDLE run with the -n switch.\n",
        "\n",
        "The turtle module provides turtle graphics primitives, in both object-oriented and procedure-oriented ways. Because it uses tkinter for the underlying graphics, it needs a version of Python installed with Tk support.\n",
        "\n",
        "**PROGRAM :**"
      ]
    },
    {
      "cell_type": "code",
      "metadata": {
        "id": "K_cGM0FvTuE9"
      },
      "source": [
        "import turtle\n",
        "c=[\"red\",\"green\",\"blue\"]\n",
        "i=0\n",
        "turtle.pensize(5)\n",
        "\n",
        "for angle in range(0,360,30):\n",
        "    if i>2:\n",
        "        i=0\n",
        "    turtle.color(c[i])\n",
        "    turtle.seth(angle)\n",
        "    turtle.circle(100)\n",
        "    i+=1\n"
      ],
      "execution_count": null,
      "outputs": []
    },
    {
      "cell_type": "markdown",
      "metadata": {
        "id": "dOEON6oMZHJO"
      },
      "source": [
        "![Screenshot (1).png](data:image/png;base64,iVBORw0KGgoAAAANSUhEUgAACgAAAAWgCAYAAACSABrfAAAAAXNSR0IArs4c6QAAAARnQU1BAACxjwv8YQUAAKudSURBVHhe7N1NjFznfSfqt/RhSq3PWLY0kuMrO2YriSPbiT2+QdgYG8bcSUAKAYwBRrg771hLMsBoJ0ASoJ1nQS7JVbyYRWs23ojE3Lm4QcZhD3Azg8Afsa/VTGzJtvqOJVktUdYXKdbUOd1FNotV3XU+qur8z3ke+HW1yO7qqve85z3Nwq9/1RsMJQAAAAAAAAAAACCUW3ZvAQAAAAAAAAAAgEAEAAEAAAAAAAAAACAgAUAAAAAAAAAAAAAISAAQAAAAAAAAAAAAAhIABAAAAAAAAAAAgIAEAAEAAAAAAAAAACCg3mBo9+PK3njjjbS5uZl+9I//mP7hH/4h/ebN7XTvffenx//oj9LRv/jzdPjw53Y/EwAAAAAAAAAAAKiiUgNglh386KOP0qVLl9Irr7ySLl68mH7285+l37x1KX3svgfTXQ98Kl25mtJ7772bfx4AAAAAAAAAAABQj0oBwKtXr6YPPvggvfrqq+nv/u7v0vnz59Lf/M3/ky6+/Kt07+9+IT20+tX0/pVeevONN9KHH36w+1UAAAAAAAAAAABAVZUCgO++++5O89/PXk6/fP2d9Pp7t6R3013p8qFPpCt3fTpdueNfpA8/uiUP/2VhQQAAAAAAAAAAAKAelQKAv/nNb9Lf//3fpx/85J/SrQ98Ln32f//L9Pg3/s/0yOP/Or32wX3p5V9/kK4Mbk2HDh1Kt9xS6VsBAAAAAAAAAAAAe5RK5Y2a//7p579IW2++l347WEkfu/9TaeUTn0m9ux9J799yf3rz3V56692P0tV0ax7+yxoAr1y5kgaDwe69AAAAAAAAAAAAdEuv16s0ONj3v/+D9G/+zV+k7e23dv+kuOxrs/vI7qvJSgUAX3/99XThwoX037//43TrA4fTQ7//p+nQPQ+kty+9k37yk4v5yD7Oltuo+e/999/Px0cffZT/NwAAAAAAAAAAANTt3//7p9Lffu+/pv/jL/68VAgw+5rsa7P7yO6ryQoFALP2vqzJ7+23304vvfRS+vkrv0yDQ/elW1ceSK+//pv0i1d+kbZeezu9+dZv0+VLr6X0/hvplquXpU8BAAAAAAAAAAD2yLJYRQaz+0//6YX0xS99Mf3g+z8oHAIchf+yr83uI7uvJiscAMwa/LImv7ff3k5vX3o7Xbl8OW2/+Zv0/f/+/6Yf/eCH6YN0Z7rzrnvTLe/8IqU3X0q9K++k2267Ld1xxx35uPXWW3fvLZLzqZ+HGPvDj5g/812M+QIAAAAAAAAAgJH7778v/d//+f8qHAIcD/9l95HdV5MVCgC+++676ZVXXkmv/v+vpd6dH093PfCpdNuhO9N777yVfrH5g/TLf/pJunxlkIf8rl76VfrYh79Ojzz4O+nTn/50uueee/IgYPEmwFG46eaxttZPp89f3P08prl4em3i/E0ea+l0Z6f0Yjp/uj9cV2PzNfzvtf7pFq614bm11vVjDgAAAAAAAAAwXzfkUIZjZPzPpw3KKRoCjBj+yxQKAL7xxhtpY2Mj/fD/++f0O5/9clr9l3+e7v6dh9KV9y+ld/7nZj6yj69efj99+PZWuvu2D9NXv/yl9Kd/+qfpgQce2L2XCo4cGf5vdwz/c2PjbDp5bDX1+jX0nl08n07319JaK5NQj1+ftz3zt2Psz488vvvnc9aw+b6YBf96q+nYybP5Gh9OxO58DP9y+N8bZ08O19q3NewBAAAAAAAAAEAQs4YAo4b/MjMFAK9evZo++OCDPAD405/+NL38y1fTx+59KN1x7yfS//zlP6df/eyl9NEtd6RDwz+75fY7Ui9dTbemy+neldvTZx79dHr00UfTysrK7r2VdTydu3AhXRiN7L2tN88N/3To7LHKQbKLLz6fTp7d2P2vdjl84sz1edsd3zm1EwE8fu7GP79w4Uw6cTj/q7lq0nyf76+l1Sz4l44M52Nz533Tr83Hznuob2Zr7cjnd7+iLY6mM/nzu7CQYw4AAAAAAAAA0GV5JqXAoB4HhQAjh/8yMwUAL1++nC5dupQHAF977dfpzTffTJc//DC9sfVyuvDif0z/47/9bTr08FfSI1/5t+nO3/lUuu3229O999wznIj787f+veOOO/K3Ba7d4aPpzOapnTbAF15M3sWUws7307EsiHjkeDo3uJDOHJ2chDucrbULJ9LR3f8GAAAAAAAAAABimBYCjB7+y8wUAHz//ffTq6++mn79xpvp1rseSHd/4nfTbYfuTO9eeiu9svnDtPWLn6db73kk3f3g76Vbrn6Q0nuvp9tuuZoOHTqUbr/99nTbbbfN7/2oDz+W8jet3fhx2sz/AGZ1PvWPnR3eHkmnvnNGuA8AAAAAAAAAAFpqUggwevgvM1MAMGv/y97699XX3kq/+0f/Kv3hnx1N9zzw8O7fXjf44O105bV/TJeH48q7b6aPPvpoAXWUq+nzO+9mmzvf7+Vhw33fEvh8P/+cXv98unh6Lf949eTO29FunFzd+bt97uPi+dOpv7bzOflYW0v98/v1D15M50/309rer+mtpbX+6TT5y86nfv45/eFHk75fP53e9/vV5OLptJZ9v+E8TXbj47zmhq8bPvf+zhxnn3e6xHzfbHc+d78uHwceg5tdPP18yuN/p75T7i1w93me1+dj8rHvnx6uvd3PuG53PtdO539XfJ3tmP3rphy/ay4O72vyur3x3nae+/jxGD5FAAAAAAAAAKChrmcB6hkQwXgIMHr4LzNTAPC9997LGwB/s30pb/9buf/B9Otf/vO15r97Hv7DdNsd96bBh79NH731cjp0+bX0vz3yyfToo4+mu+66a/de5mUz/TjLkh35fFod3hx96uC3BD7/3Sz2ldLxbx5N6bEn0/Hjx9PxUYjwyPDj7L+H48nHdv9sj5dOr6XVYyfT2bT7efk320hnj61ODrDlIbHVdOzk2eGnHbl230fSRto4ezIdW83CWbufO8Ho+/3ohu93Np0cfr/9vq4pzveHzz17i92RgvN9s/Opv7Y7n8NZ3Pna4Z3tdwym2NxZOOnJJ8qk/2500/PMXUynJzzW7NifPXksre5zADdvWmezPcfC63OqnXlePZat2+ww7dzfzrp9Ib147a6yEOHOc98YHcvdx/rCS0W+HwAAAAAAAAAAUNRMAcArV66k3/72t+md4cg+fmPr5XThxf+Y/sd/+9t06OGvpEe+/G/THfc/kgZXPkhXf/t6+sRdt6RvfG0tfeMb30gPPvjg7r3Mx7UWtyefSHmM6/AT6ck89LQ3pLTX+ZTn/46cSk8dHX760RPpzJkz6an8i7L7eSr/72ycODoeDDubTp5M6dTmIA0u7HzOmQuDtHlq52s3Tn57rEntfOqvnkxZLOz4uc00GFy4dt8XBsOvO3d8+DdZOGtaA9vw+72w8/0uTPh+Z58fb2JrmB89n54/e2RnvobPdzDI5rTIfI/LAnXHUpazO3Jq73xeGH68mbJp2Tj5rTRbzu1ieulH2e3j6bGq+b8Jz/Pa2wk/fjydy9fL9cd6YfexDg/g5Me6cTIdO/n47teNjvvwOW7uhlunPsei63OaPfN8/FzaHD6nC/ljH63bJ9Moq3m9RXF4PPY+1uFzfPqJnc8BAAAAAAAAAJpnJ+NQ34AItrffuuFtf/e+HXD2dxHNFAC8evVq+vDDD9Pl4cg+fvfSW+mVzR9eawC8+8HPpt7V91PvvdfSXbddSQ89cG9aPfx76bOf/ez8GgAv7rzt6M5byR5PT197D9fD6cTTO8G6k9++Oe50U2CwoOPnLtz0drGHT3xnJ9CVfpT2lp6Nvtfwi9KZCeG2w0fP7Iazzqbnp6TWjj896fs9PXzGQ1NDjg2xsZEenzBfpZ3/dto53OfShZvudP/jfrPd5shpRm/vOzYmlvZNfZ7Dx3TmTLr50B9OT+ykVNOPN3f+ZNzxcxO+7vCJ9J18vUx/jkXW51R75/nM0ZvOkyw0O3psOy2KKT1+U4ry8PBzxv8MAAAAAAAAAACWYzz8l73t7963A44aApwpALg3ADX8v90/ve7qB2+ny7/+Sbr10s/Sv3jg7vTII4+kO++8c+fza3M2HdvzOHqru2+5euR4OrW5p3Etc/SbOwG5s98dazy7mF58IU827QkMFnE8Ze8afLPD6bHHdz/cY/QWs6eemvhFucNPPLnT6jbxLYunfb+j6Zv5E2y43ZbFuuy8dfM+8zk67j96acJcjltNn89DcdM9fuRIOjIau3820YHP82I6f/50Ot3vp/7aWlpb6+0GV6eZdtyvr5fJz7HY+pzmhrfIPsDq7iSefb6fzjc5jAoAAAAAAAAAQGdNCv/df/99+YgeApwpAJi55ZZb0qHbb0kP3HVL+vhdt6aP3Xo93De4/F66+vYr6a7Bm2n1s7+bHnvssXTPPffs/m2N9gayjh9Pp85tps0LZyY0r40CcmfTd/cmAC++mHbyf9+8MTA4FzO+xezhx4afwcFG87mRTq7uCYLeMI7tNC4WMqUV7/CJ/K1sL+yOnea9onZaKnu91XTs2Ml08uzZ4Xcbevx4Or7f3R35fFrd/fAmc18vo3meHkLcK2sXPJc9mY2z6Vh2XNbWUl8SEAAAAAAAAACgNqNsDOVMC/+NRA8BFmoAvPeOW9PqJ28fjtvSPYeuL6re1Q/TLR++mT5+1yB9+Ut/lP7kT/5kODH37/5tXY6nc3sCWRfOnEknjh6+6e1JR44+dSpvSju7JwF4/tsn08Z+DXLU6/HHph6fKrLw5/H9xpOP7X7mfq6/De8LVd9HecrzvHj6W7stlafSuc2d97sfrd2n8u/dBofT0TMX0mDzXDp+JAsCbqSzx1ZTb00jIAAAAAAAAAAAy3VQ+G8kcghwpgDg1atX04cffpjefeft9PZrv0iX3vhVuvLhe+mj9y+ld3/9Uhq8/fP08P23p8OPPpJ+77OPpocffjh/C+ClOvxEyjNW194G+HzaeQfZJ9MT80ilTTWlYW7k4ku7rXDzCcu1x+htbI+kJ586k86c2WecODrTXF57++WT3x57q+g6XH+76XMXTqSjYw9o5+2hS1jYejlg3Y47fDRvTBwMNq83An7r9HAWAAAAAAAAAACoIiud2juYzazhv5GoIcCZAoBXrlxJ77zzTvr5yz9Pf/O3/zV978JGeu31N9IHb22l13/4Yrr6q430xcc+lb761a+mj3/84w2pnDycTjydvQ/w2fT86Yspnf9u/vawx58+saCg3fWGuZPfnh4vu/jiC8PPyN71deqbvi7ftRDlmN05XZTVz+/MZ+XGvpHDJ1K+RIbP4lj/fM1htc00PeM3epvdKTZeSNOe4k6L5TzXy2zrdrqsEfA7KX/H5I0fD2cBAAAAAAAAAAAWq2j4byRiCHCmAOChQ4fSQw89lO68cyX9/OWX009/+tN06dKldFu6nO5O2+nhu6+kP1z9TFpdXU333HPP7lc1wNFvpizftfHCi+n083n8L33zgHf/3fhxfZGlwyeezr9/OnssrWUhxDEXz/fT6smdlrinTzSw/2/UojgKUe518XzqH6se/ysy36P53Di5mvoT31/2Yjrf76cJUz3V0TPnrh2j1alvW3sxvVi4sW815XnF4dzteRfqoewxfivlh32qjXTyWzc/lmy97Ez5fNfLwev29O4cD5/L+UnByf3CjwAAAAAAAAAA3ZSVqhUZlPfv/t2ThcN/I+MhwOy+mmymAOADDzyQ/uzP/ix95StfTremQdp+4/V0+cMP0n333Zu+8IXHh3/+lfS5z30uffKTn8zDgs1xNH1zJzG2E7g6/s3hn0w2ejvYPPS01k/9/lrqF0mSTXQ0ndk8tfs2s6vDE3MtrfWz++6nteFJupqnuY6kU5tnpj6u5Rq1KO4+/rXhnGSPf3jbWz2WfnTq1E5QrIRy8319Ps8eG5vPtWzjW03Hzu5XrTfJ8D4Hm7uNdWfTsdWdDXRt+BzzkW+oq+lkHrw7kj6f3cxk1KSXPdbs/kbHPXuMj6dT+Tec4sipdOrxncdy/esWuV4OWrcv7Hza0EvPH0ur+Xzt/H12HHu9Yzttm+eauq4BAAAAAAAAAGiz//Afvp2+/q++Vjj8NzIKAWb3kd1Xk80UAMxa/bJ2vy998YvpD37/99OnHnkk3Xnnnem+++5LX/jCF9If//Efp4cffjitrKykW2+9dfermuHoUztBpjw49dQ+caTDJ9KFc8d3Qk8bZ9PZsxspPbbzV5Vk97u5mc4dPzK87420cTa777Np48iRdPzUubQ5uJCaWP53zdEzafPcqTR8+NnE5I99J9y1mS6cqDBBZec7n89z6dT4fG4M//v4qXRus8x8Hk4nLgx2n2d2v9ljGt53Nob/deTI8XRq+HzzY1Ug0Xb4xIXhfe59jsOZGz7GzcGZ9MTOp0z1xJnhmjl1fPiFu89v+Gfln18J+63bc99JT+SP4XB64unh8xs+wdHzy45jNl/nhl97RvoPAAAAAAAAACANBoNKg+K+9KUvpv/yX/5zqfDfSPa12X1k99VkveEiOXCVfPTRR+ny5ctpe3s7vfrqq+l73/te+uu//ut0xx13pL/6q79KX//61/MwYPbfjXPxdFpbPZk2jpxKmxdOpCZn7ei686mftedZqwAAAAAAAAAAwAxmagDMWv2ycF/2Fr9/8Ad/kLcBZq2A2Z89+OCD6aGHHmpm+G/o/LdP5u1px58WqAIAAAAAAAAAAKA9ZgoAjvR6vTwMeNttt+UfN9/59N3s/WrT8fRNb0cKAAAAAAAAAABAi5QKAGbtf5/5zGfSo48+mu66667dv22ei6efT1n+78ipp5L8HwAAAAAAAAAAAG1SKgCYveXv17/+9fS1r30tfeITn9j924Y4309ra9nopdWTG1n6L33nhDf/BQAAAAAAAAAAoF0KBQAzWQjw7rvvztv/mtoAuLFxdjhSOnL8XNq8cCKJ/wEAAAAAAAAAANA2vcHQ7scAAAAAAAAAAABAEIUbAAEAAAAAAAAAAIDlEwAEAAAAAAAAAACAgAQAAQAAAAAAAAAAICABQAAAAAAAAAAAAAhIABAAAAAAAAAAAAACEgAEAAAAAAAAAACAgHrb29uD3Y8BAAAAAAAAAACAIDQAAgAAAAAAAAAAQEACgAAAAAAAAAAAABCQACAAAAAAAAAAAAAEJAAIAAAAAAAAAAAAAQkAAgAAAAAAAAAAQEC97e3twe7HN1hfX9/9CAAAAAAAAAAAAFi0v/zLv8xvV1ZW8ttxGgABAAAAAAAAAAAgoAMbAPv9fn4LAAAAAAAAAAAAzN9gsBPr29raym81AAIAAAAAAAAAAECLzNwAOEoUAgAAAAAAAAAAAPOnARAAAAAAAAAAAABaSAAQAAAAAAAAAAAAAhIABAAAAAAAAAAAgIAEAAEAAAAAAAAAACAgAUAAAAAAAAAAAAAISAAQAAAAAAAAAAAAAhIABAAAAAAAAAAAgIAEAAEAAAAAAAAAACAgAUAAAAAAAAAAAAAISAAQAAAAAAAAAAAAAhIABAAAAAAAAAAAgIAEAAEAAAAAAAAAACAgAUAAAAAAAAAAAAAISAAQAAAAAAAAAAAAAhIABAAAAAAAAAAAgIAEAAEAAAAAAAAAACAgAUAAAAAAAAAAAAAISAAQAAAAAAAAAAAAAhIABAAAAAAAAAAAgIAEAAEAAAAAAAAAACAgAUAAAAAAAAAAAAAISAAQAAAAAAAAAAAAAhIABAAAAAAAAAAAgIAEAAEAAAAAAAAAACAgAUAAAAAAAAAAAAAISAAQAAAAAAAAAAAAAhIABAAAAAAAAAAAgIAEAAEAAAAAAAAAACAgAUAAAAAAAAAAAAAISAAQAAAAAAAAAAAAAhIABAAAAAAAAAAAgIAEAAEAAAAAAAAAACAgAUAAAAAAAAAAAAAISAAQAAAAAAAAAAAAAhIABAAAAAAAAAAAgIAEAAEAAAAAAAAAACAgAUAAAAAAAAAAAAAISAAQAAAAAAAAAAAAAhIABAAAAAAAAAAAgIAEAAEAAAAAAAAAACAgAUAAAAAAAAAAAAAISAAQAAAAAAAAAAAAAhIABAAAAAAAAAAAgIAEAAEAAAAAAAAAACAgAUAAAAAAAAAAAAAISAAQAAAAAAAAAAAAAhIABAAAAAAAAAAAgIAEAAEAAAAAAAAAACAgAUAAAAAAAAAAAAAISAAQAAAAAAAAAAAAAhIABAAAAAAAAAAAgIAEAAEAAAAAAAAAACAgAUAAAAAAAAAAAAAISAAQAAAAAAAAAAAAAhIABAAAAAAAAAAAgIAEAAEAAAAAAAAAACAgAUAAAAAAAAAAAAAISAAQAAAAAAAAAAAAAhIABAAAAAAAAAAAgIAEAAEAAAAAAAAAACAgAUAAAAAAAAAAAAAISAAQAAAAAAAAAAAAAhIABAAAAAAAAAAAgIAEAAEAAAAAAAAAACAgAUAAAAAAAAAAAAAISAAQAAAAAAAAAAAAAhIABAAAAAAAAAAAgIAEAAEAAAAAAAAAACAgAUAAAAAAAAAAAAAISAAQAAAAAAAAAAAAAhIABAAAAAAAAAAAgIAEAAEAAAAAAAAAACAgAUAAAAAAAAAAAAAISAAQAAAAAAAAAAAAAhIABAAAAAAAAAAAgIAEAAEAAAAAAAAAACAgAUAAAAAAAAAAAAAISAAQAAAAAAAAAAAAAhIABAAAAAAAAAAAgIAEAAEAAAAAAAAAACAgAUAAAAAAAAAAAAAISAAQAAAAAAAAAAAAAhIABAAAAAAAAAAAgIAEAAEAAAAAAAAAACAgAUAAAAAAAAAAAAAISAAQAAAAAAAAAAAAAhIABAAAAAAAAAAAgIAEAAEAAAAAAAAAACAgAUAAAAAAAAAAAAAISAAQAAAAAAAAAAAAAhIABAAAAAAAAAAAgIAEAAEAAAAAAAAAACAgAUAAAAAAAAAAAAAISAAQAAAAAAAAAAAAAhIABAAAAAAAAAAAgIAEAAEAAAAAAAAAACAgAUAAAAAAAAAAAAAISAAQAAAAAAAAAAAAAhIABAAAAAAAAAAAgIAEAAEAAAAAAAAAACAgAUAAAAAAAAAAAAAISAAQAAAAAAAAAAAAAhIABAAAAAAAAAAAgIAEAAEAAAAAAAAAACAgAUAAAAAAAAAAAAAISAAQAAAAAAAAAAAAAhIABAAAAAAAAAAAgIAEAAEAAAAAAAAAACAgAUAAAAAAAAAAAAAISAAQAAAAAAAAAAAAAhIABAAAAAAAAAAAgIAEAAEAAAAAAAAAACAgAUAAAAAAAAAAAAAISAAQAAAAAAAAAAAAAhIABAAAAAAAAAAAgIAEAAEAAAAAAAAAACAgAUAAAAAAAAAAAAAISAAQAAAAAAAAAAAAAhIABAAAAAAAAAAAgIAEAAEAAAAAAAAAACAgAUAAAAAAAAAAAAAISAAQAAAAAAAAAAAAAhIABAAAAAAAAAAAgIAEAAEAAAAAAAAAACAgAUAAAAAAAAAAAAAISAAQAAAAAAAAAAAAAhIABAAAAAAAAAAAgIAEAAEAAAAAAAAAACAgAUAAAAAAAAAAAAAISAAQAAAAAAAAAAAAAhIABAAAAAAAAAAAgIAEAAEAAAAAAAAAACAgAUAAAAAAAAAAAAAISAAQAAAAAAAAAAAAAhIABAAAAAAAAAAAgIAEAAEAAAAAAAAAACAgAUAAAAAAAAAAAAAISAAQAAAAAAAAAAAAAhIABAAAAAAAAAAAgIAEAAEAAAAAAAAAACAgAUAAAAAAAAAAAAAISAAQAAAAAAAAAAAAAhIABAAAAAAAAAAAgIAEAAEAAAAAAAAAACAgAUAAAAAAAAAAAAAISAAQAAAAAAAAAAAAAhIABAAAAAAAAAAAgIAEAAEAAAAAAAAAACAgAUAAAAAAAAAAAAAISAAQAAAAAAAAAAAAAhIABAAAAAAAAAAAgIAEAAEAAAAAAAAAACAgAUAAAAAAAAAAAAAISAAQAAAAAAAAAAAAAhIABAAAAAAAAAAAgIAEAAEAAAAAAAAAACAgAUAAAAAAAAAAAAAISAAQAAAAAAAAAAAAAhIABAAAAAAAAAAAgIAEAAEAAAAAAAAAACAgAUAAAAAAAAAAAAAISAAQAAAAAAAAAAAAAhIABAAAAAAAAAAAgIAEAAEAAAAAAAAAACAgAUAAAAAAAAAAAAAISAAQAAAAAAAAAAAAAhIABAAAAAAAAAAAgIAEAAEAAAAAAAAAACAgAUAAAAAAAAAAAAAISAAQAAAAAAAAAAAAAhIABAAAAAAAAAAAgIAEAAEAAAAAAAAAACAgAUAAAAAAAAAAAAAISAAQAAAAAAAAAAAAAhIABAAAAAAAAAAAgIAEAAEAAAAAAAAAACAgAUAAAAAAAAAAAAAISAAQAAAAAAAAAAAAAhIABAAAAAAAAAAAgIAEAAEAAAAAAAAAACAgAUAAAAAAAAAAAAAISAAQAAAAAAAAAAAAAhIABAAAAAAAAAAAgIAEAAEAAAAAAAAAACAgAUAAAAAAAAAAAAAISAAQAAAAAAAAAAAAAhIABAAAAAAAAAAAgIAEAAEAAAAAAAAAACAgAUAAAAAAAAAAAAAISAAQAAAAAAAAAAAAAhIABAAAAAAAAAAAgIAEAAEAAAAAAAAAACAgAUAAAAAAAAAAAAAISAAQAAAAAAAAAAAAAhIABAAAAAAAAAAAgIAEAAEAAAAAAAAAACAgAUAAAAAAAAAAAAAISAAQAAAAAAAAAAAAAhIABAAAAAAAAAAAgIAEAAEAAAAAAAAAACAgAUAAAAAAAAAAAAAISAAQAAAAAAAAAAAAAhIABAAAAAAAAAAAgIAEAAEAAAAAAAAAACAgAUAAAAAAAAAAAAAISAAQAAAAAAAAAAAAAhIABAAAAAAAAAAAgIAEAAEAAAAAAAAAACAgAUAAAAAAAAAAAAAISAAQAAAAAAAAAAAAAhIABAAAAAAAAAAAgIAEAAEAAAAAAAAAACAgAUAAAAAAAAAAAAAISAAQAAAAAAAAAAAAAhIABAAAAAAAAAAAgIAEAAEAAAAAAAAAACAgAUAAAAAAAAAAAAAISAAQAAAAAAAAAAAAAhIABAAAAAAAAAAAgIAEAAEAAAAAAAAAACAgAUAAAAAAAAAAAAAISAAQAAAAAAAAAAAAAhIABAAAAAAAAAAAgIAEAAEAAAAAAAAAACAgAUAAAAAAAAAAAAAISAAQAAAAAAAAAAAAAhIABAAAAAAAAAAAgIAEAAEAAAAAAAAAACAgAUAAAAAAAAAAAAAISAAQAAAAAAAAAAAAAhIABAAAAAAAAAAAgIAEAAEAAAAAAAAAACAgAUAAAAAAAAAAAAAISAAQAAAAAAAAAAAAAhIABAAAAAAAAAAAgIAEAAEAAAAAAAAAACAgAUAAAAAAAAAAAAAISAAQAAAAAAAAAAAAAhIABAAAAAAAAAAAgIAEAAEAAAAAAAAAACAgAUAAAAAAAAAAAAAISAAQAAAAAAAAAAAAAhIABAAAAAAAAAAAgIAEAAEAAAAAAAAAACAgAUAAAAAAAAAAAAAISAAQAAAAAAAAAAAAAhIABAAAAAAAAAAAgIAEAAEAAAAAAAAAACAgAUAAAAAAAAAAAAAISAAQAAAAAAAAAAAAAhIABAAAAAAAAAAAgIAEAAEAAAAAAAAAACAgAUAAAAAAAAAAAAAISAAQAAAAAAAAAAAAAhIABAAAAAAAAAAAgIAEAAEAAAAAAAAAACAgAUAAAAAAAAAAAAAISAAQAAAAAAAAAAAAAhIABAAAAAAAAAAAgIAEAAEAAAAAAAAAACAgAUAAAAAAAAAAAAAISAAQAAAAAAAAAAAAAhIABAAAAAAAAAAAgIAEAAEAAAAAAAAAACAgAUAAAAAAAAAAAAAISAAQAAAAAAAAAAAAAhIABAAAAAAAAAAAgIAEAAEAAAAAAAAAACAgAUAAAAAAAAAAAAAISAAQAAAAAAAAAAAAAhIABAAAAAAAAAAAgIAEAAEAAAAAAAAAACAgAUAAAAAAAAAAAAAISAAQAAAAAAAAAAAAAhIABAAAAAAAAAAAgIAEAAEAAAAAAAAAACAgAUAAAAAAAAAAAAAISAAQAAAAAAAAAAAAAhIABAAAAAAAAAAAgIAEAAEAAAAAAAAAACAgAUAAAAAAAAAAAAAISAAQAAAAAAAAAAAAAhIABAAAAAAAAAAAgIAEAAEAAAAAAAAAACAgAUAAAAAAAAAAAAAISAAQAAAAAAAAAAAAAhIABAAAAAAAAAAAgIAEAAEAAAAAAAAAACAgAUAAAAAAAAAAAAAISAAQAAAAANqo16tnAAAAAACNJQAIAAAAAAAAAAAAAQkAAgAAAECTTWrlm2XUZdJ9zzIAAAAAgLkTAAQAAAAAAAAAAICABAABAAAAYBEmteTNMqKa9FxmGQAAAADAzAQAAQAAAAAAAAAAICABQAAAAAAoY1J73X6D2Uyau0kDAAAAABAABAAAAAAAAAAAgIgEAAEAAABgP5Pa57LBck06JtkAAAAAgA4RAAQAAAAAAAAAAICABAABAAAAIDOpTS4b0Q0G5UZUk45hNgAAAACghQQAAQAAAAAAAAAAICABQAAAAAC6ZVI7XDaablJL3yyjrEn3NctoqknHPBsAAAAAEJgAIAAAAAAAAAAAAAQkAAgAAABAO01qe8vGsk1qzZtlRDHpsc8ylmXSGskGAAAAAAQgAAgAAAAAAAAAAAABCQACAAAAENuk9rZsLMqkNrv9BpNNmqtJY1EmralsAAAAAECDCAACAAAAAAAAAABAQAKAAAAAAMQwqY0tG4syqY0uGyzWpGOQjUWZtAazAQAAAABLIAAIAAAAAAAAAAAAAQkAAgAAANBMy2pYm9Qulw2abdIxy8aijK/X0QAAAACAORIABAAAAAAAAAAAgIAEAAEAAABohkU3p01qi8sG7TLpGGdjURa9rgEAAADoFAFAAAAAAAAAAAAACEgAEAAAAIDlmncz2qT2t2zQbZPWRDbmTRMgAAAAADUSAAQAAAAAAAAAAICABAABAAAAWKxRA1rdTWiT2tyyAUVMWkPZqNu8zgMAAAAAOkUAEAAAAAAAAAAAAALqbW9vT/z11fX19fy23+/nt4N5/JYrAAAAAI3Ve245rWSDZ3c/mMbrVDTJjO19vbScdet0AQAAAIhta2srv11ZWclvx2kABAAAAAAAAAAAgIA0AAIAAAB0zLKa/Zpm8IzXu5i5wK/1vPwLAAAA0EwaAAEAAAAAAAAAAKCFNAACAAAABKfRb740Bcak2W++vFwMAAAAsBgaAAEAAAAAAAAAAKCFNAACAAAANJRmvxg0BC6Hhr8YvKwMAAAAUI0GQAAAAAAAAAAAAGghDYAAAAAAS6Lhrxs0BJaj4a8bvOwMAAAAsD8NgAAAAAAAAAAAANBCGgABAAAA5ix609+1Bru6KtmmvM7U9UbErjQFdr3Zb+rLrDWfX1Hn2cvQAAAAADfSAAgAAAAAAAAAAAAtpAEQAAAAoGZRmuwObJybc+PfskRrGozaDBitga4xy7TuiTvgiUU5Tl6eBgAAALpKAyAAAAAAAAAAAAC0kAZAAAAAgIqa0ihXW1NcS5v/impqU2BTGwGb2iQX/mXNhp2PTTnOXq4GAAAAukIDIAAAAAAAAAAAALSQBkAAAACAGS2rEW7ujW8a/0pZdkNgU5oAl90I17mXLYOcr4teF16+BgAAANpKAyAAAAAAAAAAAAC0kAZAAAAAgCkW1fC2tCY3zX9zteiGwEWtI81uDRH8/F3UOrJ+AAAAgOg0AAIAAAAAAAAAAEALaQAEAAAA2DXvxralNf2Nq1q95XWiWs1r3dW13ubV1GYZ1Sz4ea0REAAAAGAyDYAAAAAAAAAAAADQQhoAAQAAgM6Zd9PfSGMa/0Y0/4VS9zqddT3W3cRm2SxYy87zeTcDWp8AAABA02kABAAAAAAAAAAAgBbSAAgAAAC0Xmcb/0bKVmh5PagRFtUEqPmvpVp2/s+7EXDE+gUAAACaQgMgAAAAAAAAAAAAtJAGQAAAAKB15t3419imv3Ga/1qptvX9bL3H2bJpuJbuBxoBAQAAgLbTAAgAAAAAAAAAAAAtpAEQAAAAaI15Nf+Fafwb0fzXKTOve41/ZDqyP8yrGdC6BwAAABZNAyAAAAAAAAAAAAC0kAZAAAAAICyNf2M0/zF07bzQ+Md+OrZfaAQEAAAAotIACAAAAAAAAAAAAC2kARAAAAAIp67mv7BNf+M0/7FH7U1nz+7cYWvOF27U0f2j7vPEdgoAAADMiwZAAAAAAAAAAAAAaCENgAAAAEDjafybQvMfQ/Nq/DuIRsCWsZ/k6jqfbLMAAABAXTQAAgAAAAAAAAAAQAtpAAQAAAAaS/PfFJq6GKqt+W/Gxr9pNAG2jP0lpwkQAAAAaAoNgAAAAAAAAAAAANBCGgABAACAxqna/NfaRjLNXAxVbSabthycd9zAfnODeZ13AAAAAAfRAAgAAAAAAAAAAAAtpAEQAAAAWLqqzWMjmv/GeD2nFao2j43Muhycj9zA/nODRZ+PAAAAABoAAQAAAAAAAAAAoIU0AAIAAABLU7VprPUNY5q3Oq1q01hdy8B5Ss5+NFFTzlMAAACgvTQAAgAAAAAAAAAAQAsJAAIAAAALlzWKVWkVyxrFWt0qllVKlamVyqqk1EmFV/bwj9S9DKqeb1XPdxqi7MKquqAbrur51vLpAQAAABZAABAAAAAAAAAAAAAC6m1vb0/8/cT19fX8tt/v57eDOn9tGAAAAOiUutq/Wt36lylbA+V1m1ao2gK2qGVQ9Xxu/XncFfariepq87OtAwAAACNbW1v57crKSn47TgMgAAAAAAAAAAAABKQBEAAAAJgbTWEz0qTVSVEa/w5S9jzXBNgS9q99teU8BwAAAJZHAyAAAAAAAAAAAAC0kAZAAAAAoDZVG/9GNP8dwOs0obW1EUzjZ8fZz/ZV9bwfsf0DAABA92gABAAAAAAAAAAAgBYSAAQAAAAqy5q/6mj/yxrAtIDtI6t+Uv8UVtYAVqUFrOmHv+r5W9c+wpLYn/ZV1/RU3UcAAACA9hEABAAAAAAAAAAAgIB629vbE3/vcH19Pb/t9/v57cBvbwIAAABjqrZ1dbbtr2h9k9dlQqva1hX18NsfOs4+N5Ou7g8AAADA7La2tvLblZWV/HacBkAAAAAAAAAAAAAISAAQAAAAKCxr9qrS7pU1e3Wy3SureipS95RVO6l3Cqvo4R4ZHfboh7/qeV51n2HJii7gsidMcFXP845OGwAAALCHACAAAAAAAAAAAAAE1Nve3p74+4Xr6+v5bb/fz28HkX/dGAAAAKhF2TauTrb9TVK0psnrMaFUbeHqyuGu2upnPwnGvldK2f3E9AEAAED7bG1t5bcrKyv57TgNgAAAAAAAAAAAABCQACAAAABwoKyxq0xrV9bUpa1rKKtyKlLnlFU4qXEKo+jhHde1w111Xyi7H7EkRRd41ROqJcruC6YPAAAAukcAEAAAAAAAAAAAAAISAAQAAABqp/lvV9EqprKVTyxF1aatrh9uTYAdU3TBVz3BWqLr+wQAAABwMAFAAAAAAAAAAAAACEgAEAAAAJiqaMOW5j+6QPNfvTQBwsGK7hsKFAEAAKA7BAABAAAAAAAAAAAgoN729vbE3xtcX1/Pb/v9fn478GvJAAAA0BlF27S0/o0pWrvkdZcQyrZpObzllG31sx8FYZ+sxPQBAABAd2xtbeW3Kysr+e04DYAAAAAAAAAAAAAQkAAgAAAAcE3WuFW2dYuhrJKpSC1TVsmklqm1HN5qsiY/bX4t5gRZqKKXJwAAACAOAUAAAAAAAAAAAAAISAAQAAAAKN38p6GLLlDsuFxF9xlNpi2lwu4GZfcZ0wgAAADtIwAIAAAAAAAAAAAAAfW2t7cn/p7g+vp6ftvv9/PbgV9bBgAAgNYp25LVtda/ZbcleVlmOYoed8dpMYruW1pKl2NZLYxdPd5lr1P2LQAAAGi+ra2t/HZlZSW/HacBEAAAAAAAAAAAAALSAAgAAAAd1Jbmv2U38zWNl2/qoUmr2TSXLteymv2aqi3XRfsXAAAANJcGQAAAAAAAAAAAAGghDYAAAADQIVGbszT9zYeXe26kOSsWTYD10Og3H1Gvm/YzAAAAaB4NgAAAAAAAAAAAANBCGgABAACgA5relKXhr9m68rJQ0XXo5bJmKLq/daUBULNfszX9+mp/AwAAgObQAAgAAAAAAAAAAAAtpAEQAAAAOqApDVma/top+stGmv/aoWtNgBr+2qkp11/7HAAAADSHBkAAAAAAAAAAAABoIQ2AAAAA0GKLbsRqe8PfIC22QinqfEZ5GUkjVju1tQkwauNf5fmd8UTtPbv7Qcst+jpt3wMAAIDl0wAIAAAAAAAAAAAALaQBEAAAAFpo3g1YTWumm/vLFg2vTGra8ZimKS8vlZ0vL4/FULYprylNgFGa/hY+Xw3bh5t2nOZ9Hbf/AQAAwPJoAAQAAAAAAAAAAIAW0gAIAAAALVJ381XTmuWW9vJEy6qSmnJclzVNmq+6Yd5NqHVpSpNcUxoQpwpy4kZpBix7HbAfAgAAwOJpAAQAAAAAAAAAAIAW0gAIAAAALVBX89+ym+Ea9/JDx6viFr0e5j19HT+cndW0JsBFN8Q1vtmvqOAn8rIbAuu67tsfAQAAYHE0AAIAAAAAAAAAAEALaQAEAACAFijbcLXohreRMC8zzDpBHX3dZN7rp65pDV4YRk2W1QQ478a31jX8zapl+/OymgHL/jxgnwQAAIDF0QAIAAAAAAAAAAAALaQBEAAAAAIr3Bj07GL+fR/+ZQRVSKU0rRGw7ONxONupbMNa0YY9jX8L0rIGwIMsrCGw4M8J9ksAAACYPw2AAAAAAAAAAAAA0EIaAAEAACCwAxuB5tz419qXCzrWLDVvi24G1PzHfupqAtT0t2RFT/SWnuBzW4cz/vxg3wQAAID50wAIAAAAAAAAAAAALaQBEAAAAAKa2vgzp8a/zr0soAFwrubdCFiUw9hN827wK0rjX0n264kqr++CP0/YRwEAAGB+NAACAAAAAAAAAABAC2kABAAAgICuNfto/KtX0Wo6r5fUYlmNgA4fmWU1AWr8q4kGwJmUXucz/pxhPwUAAID50QAIAAAAAAAAAAAALaQBEAAAAAKZV1Oaf/bv0iTVCPNuBHT4mGTeTYAa/+ak6IZhA8jNvN4LNg2bXgAAAKifBkAAAAAAAAAAAABoIQ2AAAAA0GAa/xZMA2AjOQ+Yp3k1/2n8WzD7dyUHngezNgE+e+P9OA8AAACgOg2AAAAAAAAAAAAA0EIaAAEAAKBBNJ0tSdGJN6GNUNf54nB2U13NfxrOGkIDYK1uOj9mbQAcGWsCHHG+AAAAQHEaAAEAAAAAAAAAAKCFNAACAADAEmn8awjNUSHVff44vN1QV/PfiEazhii6ITjhC7l23szaBDilAXCc8wcAAAAOpgEQAAAAAAAAAAAAWkgAEAAAAJYgKyqqtb0sa9oZjqzQSKkRbVf7+bNrXvdLM2QNZnW3/9EgLoBzlTX1FWrry5oCZ2gLdF4CAABAdQKAAAAAAAAAAAAAEFBve3t74q/hra+v57f9fj+/HfjtSQAAAKistnaxrPFvj0KtPFxX9IB4faQRZj1so8NV9bxz2GNadKuYfbghim4QlDLzvjr288pBnEcAAABws62trfx2ZWUlvx2nARAAAAAAAAAAAAAC0gAIAAAAC1C1geygBh2NOSVpigqp7GGreh5aBjFUbf4b309nvT/7cEMUPdGd2KUU3k81AQIAAEBpGgABAAAAAAAAAACghTQAAgAAwBxUbRqbtSlHQ05FZavkWIq6ir2qnp+WQzPV3fw3UvR+7csNYX9fiJn304INgOOcVwAAAHSZBkAAAAAAAAAAAABoIQ2AAAAAUKOqzWJFG3I04pRUV5UcC1V3oVfl83WX5bEcVRv/RmbdR2f9fvblhqh7w2CiwvuoJkAAAAAoTAMgAAAAAAAAAAAAtJAGQAAAAKhB1Sax0T+7NUwtiGaoUIqeX2UPW13nMfNVtfmv7P5Z9Pvap5dsURsHuaKX1WWdxwAAABCRBkAAAAAAAAAAAABoIQFAAAAAqCBrvKnSGpY14WQja8Kp2oYDXTc6n8qq+vVV9wP2V3WfzBrDqrSGVf16FqzqCc1cjPbJqueTn5sAAADgOgFAAAAAAAAAAAAACEgAEAAAAEoo2/Q1KiQqW0ykgaqisgeOpVjW4Sp7fo5YZvVadvMfcLCqP9eUPU81AQIAAIAAIAAAAAAAAAAAAITU297envhrdevr6/ltv9/PbwdVfu0ZAAAAWqJsq9e0f1YXba3RYlXRrAfQ6yCN0LTDVbXVz7KaTdU2r3nvk/btYIqeuE7USuqa7rL7gPMNAACANtra2spvV1ZW8ttxGgABAAAAAAAAAAAgIAFAAAAAmEHWaFOm/StrtqmjTChrtNFqA8tV9Xwuu490Rdb4VaX9b1H7pP04mLouxMykrukue55V3UcAAAAgIgFAAAAAAAAAAAAACEgAEAAAAPYxr+Y/DTULpnotlKYfrqoNV5bjjaruh01v5LPfw3QH7YeaAAEAAOBgAoAAAAAAAAAAAAAQUG97e3vir8+tr6/nt/1+P78dVPm1ZgAAAAiiaivXrP98nrWVpsmtVqHMemC9/tEI0Q7XovaNtqnaztWU/dF+HkTRE9X1oBZ17+dt2TcAAACgiK2trfx2ZWUlvx2nARAAAAAAAAAAAAACEgAEAACAoayhpkqLV9ZcoywIqql6Hi7L6Pwvuw9Efd5lZQ1eZVq8suauvSOass+bmpQ9QWmUque/8xAAAIA2EgAEAAAAAAAAAACAgAQAAQAA6LSqzVtFC4U0z0B1TS/yKvv42t4EWHb/a3rjX9MfH0RQdP+ret75eQwAAIA2EQAEAAAAAAAAAACAgAQAAQAA6KSqTVvzbiDTKEWXVD0fm2re+0Tb2Qchvqb/vKQJEAAAgDYQAAQAAAAAAAAAAICABAABAADolLJNY6MGm3k32QDTRT3/ij7utjUiFm3Yanvzn8YxqN9o3yi7fzgvAQAAiEwAEAAAAAAAAAAAAAISAAQAAKATqjb/VaVZZknaVqVGaF1rAiy675Vt7mqK6I+fMa4fS1HXtJc9H/28BgAAQEQCgAAAAAAAAAAAABCQACAAAABMUFfzX1EapJZkWQe84xRszSbaPGnQmo15WhL7/VIsa9r9XAUAAEAXCAACAAAAAAAAAABAQAKAAAAAtFrR5izFQNA8bTsvyz6fpjcBlm20a1tDl8YxaJ6i56WGTgAAACIRAAQAAAAAAAAAAICABAABAABoJc1/QNO1pQlQ8x8QhSZAAAAA2kgAEAAAAAAAAAAAAAISAAQAAIA50hwDHCRqE2DZ/U3zH3CQpjWdAgAAQJMJAAIAAAAAAAAAAEBAAoAAAAC0StHGmLLNW3XTiEWXaHaaLEoToOa/epWdT4go6s9dzlMAAACaTAAQAAAAAAAAAAAAAhIABAAAoBWKNmA1pYEGmK6r52nZ5z3vJsCyDVhdbf7r6vOGSIqep5oAAQAAaCIBQAAAAAAAAAAAAAhIABAAAIDQ5t14VZaGmCVr6sKAAqI3IGrAoxVcT5aqqdPv5zwAAACaRAAQAAAAAAAAAAAAAhIABAAAoFOa1qilIWvJoles0QlFl2ndjVlFm67sa4Rg/1+qpk2/fQsAAIDIBAABAAAAAAAAAAAgIAFAAAAAQiracKXoB4iu6D5WtQlQ8x/QNUX3saL7JAAAAMyDACAAAAAAAAAAAAAEJAAIAABAKJr/IK6qjXSUU3TeNVoth3mH5tAECAAAQCQCgAAAAAAAAAAAABCQACAAAAAhRGkO0wAD1Wnu3F/Z+TloHy27fxVtyuoa8wPV+TkQAAAAphMABAAAAAAAAAAAgIAEAAEAAGilpjeIaYQCqlr2PmcfA6ry8xoAAABUJwAIAAAAAAAAAAAAAQkAAgAA0Gi93s6YVdObZADqVnTfG99Xe8/18jErjVhA1xTd94ruqwAAAFCFACAAAAAAAAAAAAAEJAAIAABAI0Vr/tP00hBFFw60yLz3Qc1/dJrrSyMs+zBoAgQAAKCJBAABAAAAAAAAAAAgIAFAAAAAWCANWg2x7MpIaADNVDDketAIDgMAAACUJwAIAAAAAAAAAAAAAQkAAgAA0Ci93s6YlcaYjhstmKILp+zXUYppXqy690XNpYulmXFB9l4DimxQZb+OVim6LzqvAQAAmCcBQAAAAAAAAAAAAAhIABAAAIBGKFqko/mvZfa2KRUZdZl037MMauW8XpBnh2s3GyyUJsU5mbQ3zzLqMum+Zxm0giZAAAAAmkAAEAAAAAAAAAAAAAISAAQAAADqM6nlaJYR1aTnMsuABajaqKixjoWatFfOMqKa9FxmGQAAAABjBAABAAAAAAAAAAAgIAFAAAAAlqpooU3VRisK2ts6NMtgNpPmbtKAOj07XFPZgEWYtKftN5jNpLmbNFiooo2pved6+QAAAIA6CAACAAAAAAAAAABAQAKAAAAAhKD5b84mtQdlg+WadEyyAUUUbP4r2mRFx03ao7LBck06JtlgruyfAAAALIMAIAAAAAAAAAAAAAQkAAgAAMBSKKJZkr0tQHtHdEUrIqNXSk46htlomIY+LA7guDVD77lePhpjtDDGR3SuHzsDAAAACEsAEAAAAAAAAAAAAAISAAQAAKDRohftLM2kdp9sNN3ogBcdRY3mY9J9zTKaau+x3jsarunTGlXhBrlnhwchG7uCLJ9wBs8M8tFYe/eOvaPp9u7RRUbZ5zfpvmYZTbX3WO8dzFXjmj4BAAAISQAQAAAAAAAAAAAAAhIABAAAgMgmtfVkY9kmtR7NMqqq634OsvcxFxnLMmmNZAMyY81/dMSkPSEbyzZp75xlzFtd32fvYy4ylmXSGskG+2p80ycAAACtIgAIAAAAAAAAAAAAAQkAAgAAsFCKY0ra27qzdyzKpDai/QaTTZqrSWNRJq2pbBBa77lePupiWQS399zeOxZl0h6332CySXM1aSzKpDWVDUqpe98GAACgWwQAAQAAAAAAAAAAICABQAAAABpp0UU2jTGpTScbi7K3RWjvYLEmHYNsLMqkNZgNWmXwzCAftMSkczYbizJpz8oGizXpGGRjUSatwWx0lH0WAACARRAABAAAAAAAAAAAgIAEAAEAAFiIjhfATLe3HWeREzSpHSgbNNukY5aNRRlfr6NBI/Se6+VjXhzuhtl7Di7ywEzag7JBs006ZtlYlPH1OhrcYN77OAAAAO0kAAgAAAAAAAAAAAABCQACAADQKIsupKmqcFPLoptv9rb87B20y6RjnI1FWfS6ppLBM4N8jCx6uVDSos+zvXvJ3kG7TDrG2ViURa/rJRnfdwEAAKBOAoAAAAAAAAAAAAAQkAAgAAAAc9XyQpeZDZ7dGXMzqb0nG3TbpDWRjXlz4i9U4SbSihzeBZv3hE/aI7JBt01aE9loCPsQAAAAXCcACAAAAAAAAAAAAAEJAAIAANAIDSuWqWzU+Fd789/eFp69g3K6WiE0aQ1lg1YbPDPIxzSWQTO4fiyICrlyJq2hbNRkkHr56LpFN7sCAAAQmwAgAAAAAAAAAAAABCQACAAAADWqrbFpUrtONpiN+Spn71rbO2ikZTdEKVCrl+tHQ5m/2exda3sHNzioiRUAAADKEAAEAAAAAAAAAACAgHrb29sTf91sfX09v+33+/ntwG/rAQAAUEDRVqiw/+ysq/7Kv7vnY9bjY/7LOWB+e2m2eTX95cza/le2bcrpM2euH8tlgS9Xx68fRdtbtQYCAAB029bWVn67srKS347TAAgAAAAAAAAAAAABCQACAACwVFlzS6j2lqyxZu+oKtwEwB51rd+6zidosr3XjjrWu+sHkXX8+pE1+mn1AwAAoC4CgAAAAAAAAAAAABCQACAAAAC1ClrEcrC6ntio8aau5htogrrW9eg8q+t8a6nec718NIXDdYC6Jqiu8wyapK51PTrP6jrfGqZp+z4AAADNIgAIAAAAAAAAAAAAAQkAAgAAsBRVi17mru4mmcY/YahRXeu97vOwYwbPDPJRlm2rpLrXrQNBl9S13us+D+ek6j4NAAAAGQFAAAAAAAAAAAAACEgAEAAAgFo0vGBldjU9kd6zNw5gul4a5ONArdloaCXXD2gu1w8AAABaTAAQAAAAAAAAAAAAAuptb29P/PXq9fX1/Lbf7+e3g8EMv4UNAABAZ81aqtK4f17W1AZzUEvT4Bn/rl6KosfX6x9zMfP+kEqejx05br3nis1PXftO2P193uZ8/XDdmBPXhRDmft0YacjxXdb+DgAAQAxbW1v57crKSn47TgMgAAAAAAAAAAAABCQACAAAQDdl1TI1tDdlzU0Htf+xRFmzj/am9qvpfG6LrBlqGe1QnTkMNT1R14+Gc/3ohoZsXMvatwEAAGgHAUAAAAAAAAAAAAAISAAQAACAShpSnHKw0QOt+oBHjUCagaB+Vc+rus5zbtD57a6udbU7kZr/oEajDWo0yqrrPF+Q3nO9fAAAAEBGABAAAAAAAAAAAAACEgAEAABgIaoWs5RWV5PL0p4AdFBd51uQJicayvUD4gl+/Rg8M8gHAAAAFCEACAAAAAAAAAAAAAEJAAIAANBOVZtbRg0ydTXJAMXVdR4uqcmpLr3nevmIIvh0V38Cda1boLy6zsPwGxoAAABdIAAIAAAAAAAAAAAAAQkAAgAA0C51NTcBzaPJaV+DZwb5mJfWb4+uH+3W8vOfA1Q9P60fAAAAGkwAEAAAAAAAAAAAAAISAAQAAKCUxhWhlH1Ao0aYqs0wB+g918sHDde4hc1EVc9bx5m9yq6HquuQZnI8l2ru2/Pec7bMcZ77AyzGz5cAAABkBAABAAAAAAAAAAAgIAFAAAAA5qpswcrMyjax1PTABs8M8kHDzX0hslRlj2/DmpxYsCVfP4DyajsNy97RnK8ffr4EAACgCAFAAAAAAAAAAAAACEgAEAAAgJg0NwHjGtrkVFbvuV4+omrotJZ/YK4fMTV2IdIoLbt+AAAA0C0CgAAAAAAAAAAAABCQACAAAACxlG1a0dxEERp9YutYk9PgmUE+FiXsdlr2+IZ9whTiOJMpuw6CXj8AAABoBwFAAAAAAAAAAAAACEgAEAAAgBg0N1EH66Fbyh5vTU7t4voBFOX6AQAAQCACgAAAAAAAAAAAABCQACAAAACFLLzYpOw3bGhzU++5Xj6ABQrW5GSfqEnLrh8UtKTzl3Iae7iCXD9cNwAAALpNABAAAAAAAAAAAAACEgAEAABgLioXKJVtTqn8jcsZPDPIBy2z4Aafrpv7dJfdHxq6DqLsOwufvrLfcM7XDw1dDTXn4069lna4yn7jihugny8BAACYhQAgAAAAAAAAAAAABCQACAAAQLM0tLmJlrFeFqpx0132AVVscmqbxh3Xllw/NH5Bg5XdL1w/AAAAmCMBQAAAAAAAAAAAAAhIABAAAIBmaElzExCIJqd2cP1gL+cni+D6AQAAQIMIAAIAAAAAAAAAAEBAAoAAAAAsV9kmFM1NLJLGnnZrSJNT77lePtqq9tOo7B0u+PrR9uMa1oLXAS1Vdh3VviECAADQZQKAAAAAAAAAAAAAEJAAIAAAAMsRpLmJlrOeGmlpxUhl18OCH/DgmUE+mmLhp1HZ+V74Ay2maccVKKDs/rLg6wcAAADtJAAIAAAAAAAAAAAAAQkAAgAAMJPaCkrK3lHDm5uK6j3Xywd0SZjTuOwDrW2jZCLXD/bj/AupdYdtydcPP18CAAB0kwAgAAAAAAAAAAAABCQACAAAQK2mFp+UbTYp26SyJINnBvmgpWpq6CGIsvuPdVKvsvMZ7PrBglgXIYU7bGUf8JT9zs+XAAAA7EcAEAAAAAAAAAAAAAISAAQAAGC+NDcRgfXWSGW3j9qVXR+NeQJBlZ2/hpzPved6+QA6zPUDAACABRAABAAAAAAAAAAAgIAEAAEAAGiWhjQ3AfMT9jS3PzVb0OMzeGaQD0rSlEYErh8AAADMkQAgAAAAAAAAAAAABCQACAAAwHwUbeTRjEIkGqe6reh+Zb0UU3S+XD+YhXVCExRdh64fAAAAzEAAEAAAAAAAAAAAAAISAAQAAGBfhYtHin5Bxxt5es/18kFDdHw9UlDR9VJ4Q+0Y1w/ojM5vh3O+fvj5EgAAoFsEAAEAAAAAAAAAACAgAUAAAABqoYjpRoNnBvkAqut8UxShaN5aEBtDJ/j58kZ+vgQAAGASAUAAAAAAAAAAAAAISAAQAACAehRt4lHpQhtooKqkNdtA0Sdi3dyo6Hy0ZOFo8lqQlqwXWqro+nT9AAAAYAIBQAAAAAAAAAAAAAhIABAAAIBKBqmXj5lp4iEC65Qyiq6brjc5FX3+zkugrexvAAAAVCAACAAAAAAAAAAAAAEJAAIAAEAD9J7r5YOgut7kBtjHF8V+G5rDBwAAAPUTAAQAAAAAAAAAAICABAABAAAoZZB6+ZjZYLAzOmbwzCAfBFV03ao2mqsw02vd7K/o8y06nw3nulBSx9dN13T28Fm3AAAAlCAACAAAAAAAAAAAAAEJAAIAAFCI5r/56j3Xywd0SWu3iRmfWO/ZndF2rh/QXUULHDvP/gcAAEABAoAAAAAAAAAAAAAQkAAgAAAALMDgmUE+CKpoE4+qI+ag6fuIwirmouh+aiGG5vABAABAcQKAAAAAAAAAAAAAEFBve3t74u/Tra+v57f9fj+/Hfi1OwAAgE4ale4MUsE2M/+OnKj33GzzqC1wvmY9DnVzXPdXtDQx3DYz5Qn2nt394ABR1s/402z79aPofmIf2F/RfaAufmyZr1mPq+MwxdgEtu26AQAAwP62trby25WVlfx2nAZAAAAAAAAAAAAACEgDIAAAAPsaFY7M3ODk34/70hQ1X8tq9mua6OumtU1RU56YBsBdQa8fXWl2nfW8bDs/5hRTdN2Y3ynGJlIDIAAAQLdoAAQAAAAAAAAAAIAW0gAIAADA/lS3zEVXGqOq0uhXr6gNctOE3W5a3uQ0enozN/+NBD2gbdnPi17umU3Xfyxq/X6+aLsTqgEQAACgWzQAAgAAAAAAAAAAQAtpAAQAAGCyolVA/t1YSNFmu7Y1uGj2a6amrLPObD9tbXLqyAGMuo8XPTwsRtt+jPJj5HzN3Dw6ur6YYAAAgNA0AAIAAAAAAAAAAEALaQAEAABgMtUtCzFzg0uwBkANf+206HU46zYUdvvZfYIaAGMewKbu30WnnxiinSat37+XTAMgAABAt2gABAAAAAAAAAAAgBbSAAgAAMCNClYH9dLOvxf9s7Gcok15TWsAi970V/t8Tjl/Zm14i2pe67IjRXLtaXLqyAFb9r5ddJqjGgx/wpio5nUTdT5tA91W+LoxYsIBAABC0gAIAAAAAAAAAAAALaQBEAAAgB0FK1tGzX/j/POxnJmbXJbcABil8W9p87Tk6qOmHp+qx2PWaY26/4Rvcip5/Wj98VrQul+02o9bkBO8qcdj3LLPq7bv18tW9Dp/03VjxAEAAAAIRQMgAAAAAAAAAAAAtJAGQAAAAHaUbHAa55+P5RRudFlQw11TGuWW3XxYWNGqqDmfOE05juNmPa4Nm87azdwopwFwqea1Txdd3/O2sOPS8hO7Kcd1UdPW9n26KUpfL8Y5AAAAAKFoAAQAAAAAAAAAAIAW0gAIAADQdSWbm6bxz8dqZm52qbkRb1kNceGa/YoKUom0rOM/7qD1MOt0RtuHKjc6LesJV7x+tPY41bSO521p8x9kX1yURa+HeU1nW/fnpql8vRjngAAAAISgARAAAAAAAAAAAABaSAMgAABA181Y2XJQ89+Ifz5WU7SJrWyD3qIa31rf8HeQljRdLWq9jBtfP20tDqvc6LSsJ1rx+tG24zNSdd3WpbHz29YTeU4WtX7KTrPDuViVrxfjHBAAAIAQNAACAAAAAAAAAABAC2kABAAA6KqClS0aABdr5oaXGRv25t3g1vmmv4O0tCJp3utq3GidzTqdUfajyo1Oi36iNV0/Wnd8Cq7PqsJdb1u6Dy5a09ZX2/bjpqt8vRjnwAAAAISgARAAAAAAAAAAAABaSAMgAABAVxWsbNHwslhFG6dGFtXIpvGvpI41YM1tPT5bbF6aPo21NTot6onOuI4Pao5ty3Epuh6LCn9d7di+tyxFp7moaYfFz4eLVdv1YpwDBAAA0GgaAAEAAAAAAAAAAKCFNAACAAB0VcHKFg0vi7WoJr9ZafyriSasXG3re8bmtaZPY9H5mNrstKgnOuM6bm0D4Jwa/1p7/bTvLUXRaZ83h7UeMzcAjn5u8wM8AABAK2gABAAAAAAAAAAAgBbSAAgAANA1JZt4FIgsx6KbADX9LYhGrBuUXucFm9iaPo0zNzstqwGw4Lqd1gAY7jho/CvHPtcoRQ9HXRzWemkABAAA6CYNgAAAAAAAAAAAANBCGgABAAC6pmQTiAKR5Zh3A6DGvyXTkDVR4XU/Y0Nb06evcgPgyLye6IzrdVrz30jjj8Octt3OXB/ta6HMa72POLz1mlsD4IgDBgAA0EgaAAEAAAAAAAAAAKCFBAABAACggbKGl3m0/2WNMHsHwWRNPvOua2qAea3T0fTN6/wipmvrYnfUJSvS2jtar+4JZCHmvU4tiyWb14EFAACgUQQAAQAAAAAAAAAAIKDe9vb2xF//Wl9fz2/7/X5+O/BbYgAAALEVrV8Z+3fgrF/un4/V1NVKpt0vmLL1SB094aaeJ8/OOB/PTv76ZZ83s57/g2d3P5im7nVRcH320v7ff9nLdl5tZJ29/tm/Wq3u88Vhr2bm68T49WzWA+kAAQAANNLW1lZ+u7Kykt+O0wAIAAAAAAAAAAAAAWkABAAA6IqKzR+KQ+arrua/cZoAg9GkVcq182fWBsCRKU2AI4s+f4ruAwtrApxxXR7U/Dey6OVa9rQ6SOevd/arTnD+NMvcGwBHHCAAAIBG0QAIAAAAAAAAAAAALSQACAAAAEuUNbnMq/0vM+/7p2ZZ406Z1p2s2WdeNU0BZE1H+Sg5fdMs+vwZPY+2qvv4HKTu02L0+Bf9PBqn7MR2fuJiqfv8GTfv+2eM8w8AAKDVBAABAAAAAAAAAAAgoN729vbEX/taX1/Pb/v9fn478NthAAAAMRWtV5ny77+a7qbzqraJjdrByt5Pm9vFWqlsPVLHT8DC0/bsbF+wqPNn1vN78OzuB9NUXQcFJ7KX9v9+i1qWZU+bm4yti87vn/ajTqh6mKuef5bLZEV/7pu6X816gBwIAACARtna2spvV1ZW8ttxGgABAAAAAAAAAAAgIA2AAAAAbVdz04fikHLqav4bpwmwI6pWMnXUzNM2YwPgyLzPn9oaAEfKroMZJ/Cg5r+ReS/HsqfJNVPWgea/khPrB4FQ6j7M/4ude0tuW2fWABq9eqIeRryH45H51TPQCRkzR9ZPWcSFJBpYqwrFVO0dR8KlSanaX+l5tH2+23xfeFavUhfGQgAAADRBAiAAAAAAAAAAAAB0SAMgAAAA7GhKbClJ/5uSXH5Kc3n23+nElMCTk8IzJf2UxjCN4O3P3E5jo+Vcl55vyizbO3ubT4l/t4Pvcic2t14RyrNlLt0G2eean5UuDAAAAE3SAAgAAAAAAAAAAAABXT4/P1d/3ev9/X2+vr6+zter3woDAACIJTU2ZePnvq0/dtSPkbXSwHJT/VL/femBQeXGIg16MJOnKzMNrtZ52nqOr29ff3gmdd0TJ+zya9vPr7X9crf/PxvXd9j6qL4MJXW5c5e5+Nx+GXWbbb4vbK1bWxfEuQYAAGjCx8fHfH15eZmv9yQAAgAAAAAAAAAAQEASAAEAAHq1U7KHwJB1pcl/tZOmJAEOIjdSabADmp08dVISYPL5rZ0EuHHCtib/LUq3XfY6LhLXc7i6qJ4MJXW5ay9z6XkebdudlgC4cM4BAABOJQEQAAAAAAAAAAAAOiQBEAAAoFdbkz0SP+8JDPmuteS/Re7rkgQYVG6U0mDf92QnTjWeBNh6AmDpNstet4Xkv5+pH0NpbblLz3fv2zA5ETa1fm1dAOcdAADgVBIAAQAAAAAAAAAAoEMaAAEAAHozJXmUxqn8YAoAEQLyN5GlJP1vSmjZM2Vq759PY3IP5s71ojW505R7nkrrxOEa2w+5L+ffOk/Jfwnpf8PVzeIJZgR7L3fpz8/dxr0Zrn4BAADwjQZAAAAAAAAAAAAACOjy+fm5+mth7+/v8/X19XW+Xv1WJwAAQAxbY1AKP+cd9M80ozTF6+xUltTXL0UmuNw4pMG+/0mdpmV6cutB6rna+u9c377+sNWjdU4s7HvdB0q3r3r3hPowpNx6d5bcbbroZbtuvg/k1rFoGwMAAGBQHx8f8/Xl5WW+3pMACAAAAAAAAAAAAAFpAAQAAIAfTMkruWlfkymRpYV0qdTXUfq+OdmU0JOT0jMlAZXGLgWSOk3L9OSe693OVe56NyZ3+y1vP3V+c9cxrNIJJqTUZW9luUtfR+52H04rCw4AAEARDYAAAAAAAAAAAAAQkAZAAACAXjQadRI1gaU0qauXZKnSeeBkuck+UQ/uQZbpyT3ntc9V8c9LXO/E//2p3J+3bO/a89md0gkmpNxlb03pNow6D+oaAAAAKTQAAgAAAAAAAAAAQECXz8/P1d+fe39/n6+vr6/z9eq3PQEAANq2Nd6k8ue7k/7Z3ZSmrURJ/ct9nz2kGg6tNAap8++HcqdnmZa96sfWn3t9+/rDVv9e+MbX/fX/l9b9WttQHXvAOR9aaR1r3Sjbe3Pdr1XPUidWnQAAADjUx8fHfH15eZmv9yQAAgAAAAAAAAAAQEAaAAEAAOCPKWklJ01qSl65HVFEe71UMiX2lKT2TAlBpfFLDcudnmVaSs9Vbh36p3R9d1a6fZa3V1qvu1VrghlKtGVfXm/u6y49Jt3KnVAAAACaoAEQAAAAAAAAAAAAAtIACAAAABl6SZJKfR/FCWW0oTTpZ4lQ6jRKKXd6lukorQ+9nbPSbbKsR+68lK5Hs5aJrTXBhJa6DXpZdtsXAAAANAACAAAAAAAAAABASJfPz8/V3497f3+fr6+vr/P16tfoAAAA2rY19qXy57vU0KHWPl6mpkl1mSJ1w3wMqiQ97Fan3x/lTs8yHUen+V3fvv7wzL8XuO31XX4du76l89dtfXJeuRH9Oay26PNx+nPY1glUPwAAAA718fExX19eXubrPQmAAAAAAAAAAAAAEJAEQAAAgF6cnNgRLTBE0t06SVvMUiOUHuns+6Tcabmfhr0TAaMmANaap+7qkfPIilr1qFep89PKvGyte7vVua0Tp54AAAAcSgIgAAAAAAAAAAAAdEgDIAAAQHRTUketdKABTMkqe6dvRTYlyuSkypjXzkzJPjXSfTqrT7WmJfecVdfI+nQ3r6WWdam1PrUmmCbkbgvb4Ge1jtswTBgAAEBTNAACAAAAAAAAAABAQJfPz8/V3/t7f3+fr6+vr/P16tcDAQAA2rQ1fWPnz3WNvIyHctPpukiTKlCa6jf6/HWnVtpPJ98zpU7Ho7e9V3rm9e3rD4Uuv/ZZr1rz0U2dcb5YUbotRt8OufN31rxtrX+7172tE6feAAAAHOLj42O+vry8zNd7EgABAAAAAAAAAAAgIA2AAAAAdG1KUslJ15qSVaTXlc9D7vzTqCnpp0baz5QsdDuCSp2OR293tHrzaN5S60X4ebs9A2sbI1XqhqRppdvCdvjLPAAAADACDYAAAAAAAAAAAAAQ0OXz83P199/e39/n6+vr63y9+jU5AACANm2Nh9n5c11qSs1RHzNT0+dGSuHKUZrmZ3479VUALr/OWd+zv7bKTel69Lprp2Ze377+kKnWutZ+v2fXk9rrtNW/9Tx747OLktS/iW3xM8+rG22dKBsOAADgEB8fH/P15eVlvt6TAAgAAAAAAAAAAAABSQAEAACIrrGEjlZeTnNJKp0pTb4y38cqTZTqxe51J3Oe719X7WS5VhMAc9/n3vWj9vxHpU4fq7ROH/SY143U+W7lufWwc9nKAz0AAAAzCYAAAAAAAAAAAADQIQmAAAAA0TWW0HH2y0lNbpJwVEerSV6jKE2OYl1unSpdj+XfrZ1El5sEWJoAWOv95NaL2vM4OnW7rtx6cdBjXbdam/etdUoCIAAAwJgkAAIAAAAAAAAAAECHJAACAABE11hCR2qiSq2XJYGuDdZhX7mJRezrUR0rXa/l59ZKsDs6AbDW639UH2rNC3Wp59vk1oeDHueGcfY6pNYxCYAAAABjkgAIAAAAAAAAAAAAHZIACAAAEFVqZMnBn+uOenkS59pkXfLkJhExiLeyDXJ0AmDp66VP6vzXHxL5en5fR69Ls8l/i8Y/ZwAAAIxGAiAAAAAAAAAAAAB0SAIgAABAVFuTOU76PHdUcEjzCSqDkwT4XW7CUDTJ5zlzYrKT6aI7KAlQ8t82ucmKqQclt55G0fv9Obf++1r+WJ5f72ydEBsVAABgVxIAAQAAAAAAAAAAoEMSAAEAAKIKksixV5KK5L9YSpOroq1fbtLT3pr/emenies2KfBR0t7b1/t98N93SwDsLPkvO9nvmcYPYqtJg6PdB3wdfy7Pr1+2ToQNCwAAsCsJgAAAAAAAAAAAANAhCYAAAABRBUvkqPVyJf/F1lsSYGnCU23dfX1z0gSHTQxcEviWBMBFZhLg5nkIkvy3W6LfM50cTMmA25SWLV/DtyV1PWs9xzazr2s9wAMAAFBEAiAAAAAAAAAAAAB0SAIgAABAVMESOUoTVHKThyQAtilqEmBpslMtw35Nc/YC3E18K/vhqc4TAP/Vg8b2x2haSQiMen8YfPs0K3ddS59jJQACAABwSwIgAAAAAAAAAAAAdEgCIAAAQFRBEzlyX3bY5BR+1HoSYGmiUy5fwyQ6a6EWDxbs7Jf1PxKTAJ8mAB6U/Pc/57zR9eZnZyUEtn6fsJ1iSF3n3OfY5p5ft75xGxkAAGBXEgABAAAAAAAAAACgQxIAAQAAogqayJGclJOYMCX5L7azEwFLk5y28jXLQY5a0I2eJurtrVYC4E7Jf49ex2kc1EMcnQx49n3CtoptuOfYrW/YxgYAANiVBEAAAAAAAAAAAADokARAAACAaFKjRxr9PPf0bUj+G1qtRKhn+6I0yekZX6c0au+FT3R4MuBdfd2cAFg5+a+ZxD8HtWl7JwQedZ+wzfoyzHNs6gGw0QEAAHYhARAAAAAAAAAAAAA6JAEQAAAgmq1JHI1/jhsmOYUi1ZOf3vbZJ7426UStqK9CZyUCLol8D//9wgTA0xP/HNSu1L4/LM8RtcuAbden4Z5jO/n8AQAAEJUEQAAAAAAAAAAAAOiQBEAAAIBoOkvg+J+3I/mPFcVJT5WT/3xNMpjakWCJjkoEvP75lyb/8++l1mVJf5wg+z4hGZYCwzzHSgAEAAA4lQRAAAAAAAAAAAAA6JAEQAAAgGg6TeD497Y2JqdI/hvb06QniX8c4aRkwKMSATfX47MS/xxMfvDwPiHxjx10/xwrARAAAOBUEgABAAAAAAAAAACgQxIAAQAAouk1AfBZotsdCYDcqh3E5msQdlG4UQ9L/nvi+ueV7MoBZAfuE+yp++dYCYAAAACnkgAIAAAAAAAAAAAAHZIACAAAEM3oCYBvf9+Xj6ljq53k9Ovt5x8ocZJV1TdiHZe3rz8svurmXnZPBHzEjYAfuE9wpO6fYyUAAgAAnEoCIAAAAAAAAAAAAHRIAiAAAEA0nSVwbE5MWdwlWfm4OobdgtaeJDo9IulpMI0m/S3+J/Hv3pI49ZXUd/nzpz2dlgi4cGMY0tGJf8+4T4xhmOdYCYAAAACnkgAIAAAAAAAAAAAAHZIACAAAEE0nCRyliSn3fGztU2uJTo9IeupE40l/97Ym/y3uk/n+/f0n9bUWyYDUVPu4Ltsj+fnkCfeHPg33HCsBEAAA4FQSAAEAAAAAAAAAAKBDEgABAACiSY28afTznARAflIr2enZvqid9HRP8lOjgiX9LZ4m/t3bmgB4b5REwIUbSNP2Pq5H3SfcD/oyzHNsJ587AAAAopMACAAAAAAAAAAAAB2SAAgAABDV1kSOxj7P1U5Muefja2ylSU+l6793IuBCEtRBGk36S07yy/Wgfm5OAry3czJgM4mACzeUQxx9TM++T6j/sQ33HBv08wYAAEBvJAACAAAAAAAAAABAhyQAAgAARNV5AuB9Qk5qQpCPsTGUJj/tvc5HJQLekxCV6OgIsXsPNuJZ++dZ4tSjpL3kZMKdEwEX/zO9ja43Pztr2Vq/T6j3MaSuc+5zbHPlJewLBwAA6IsEQAAAAAAAAAAAAOiQBEAAAICogiVyHJWccs/H2TaVJkGdta6nJbrdGTYxqnTjlLrbeK3sh/9xVALg4qAkwEf+LUtj+2M0Z0//Iur9QRJgm3LXtfQ5tplysvWFD17/AAAA9iYBEAAAAAAAAAAAADokARAAACCqYIkcWxNUniXghE1QYVaaENXaeraWANddglTphsmUnYR3to1JfI8SABfJ7//kBMCtnr3v3XRyIzrpOD7V231BEmBbUtez1nNsM/s63AsGAADokwRAAAAAAAAAAAAA6JAEQAAAgKiCJHLUTk5ZpCYR+Vh7rtLkqGjr11oy4KL5ZKnSjZIobNLfIjN5b2sSXq9JgFvtlhjYeEE7+BhuNtp9QBLguTy/ftn6gj1oAwAA7EoCIAAAAAAAAAAAAHRIAiAAAEBUjSdy7JWcci9ckspgcpOkel2nVpMBa0s+z7kbZaPwSX/3CpP2dksAXHSWBPhMdlJgYqHb+Zicrvf7c279lwR4LM+vd7a+UA/YAAAAu5IACAAAAAAAAAAAAB2SAAgAABBV49EhrSaoLHzM3Zd1yTNMQuBOiXzdJf3dOyj5754kQGpS5/POoSTAfR29Ls0nADb/AgEAAMYiARAAAAAAAAAAAAA6JAEQAAAguq0JHQd9rjsq+e+exLk2WId9RU8IrJX811rS36M6Vrpey8/NPVf3jk4ArPX6H9WHWvNCXer5NpIA23D2OqTWscPO19YX5sADAAAcQgIgAAAAAAAAAAAAdEgCIAAAQHSNJXRsTVLZK8Gm2SSVzuUmcZn/OlpNBoye+Jdbp1pL/lscnQC4qPV+cutF7XkcnbpdlyTAc7Q271vr1GHnr7kXBAAAMDYJgAAAAAAAAAAAANAhCYAAAADRNZbQcXYC4CI18cnH3jSliVrm+1hHJQTWSvxb1E7+273uVEqUKj1f93KT/xa11qHW+9y7ftSe/6jU6WOV1um961tvUue7lefWw85lcy8IAABgbBIAAQAAAAAAAAAAoEMSAAEAAKJrJKGjtSSVRWqSk4+/PytNxjK/nSrdGF9yk+bOTr6qlfy3qDSd/7SaALjIfb9n15Pa67TVv/VUULskCXBfnlc32vqC1CEAAIBDSAAEAAAAAAAAAACADkkABAAAiK6RhI6tiSpHJ9NETZZqTWnSlfnsTOmGuBd8g9RKlKo+rYXJf4taCYCLWu8/fF1xjviBJMC6Wk3+u7e1LOx+3Jt5IQAAAEwkAAIAAAAAAAAAAECHNAACAADQtSmYJCecZAo+qR3OFFHpPOTOP42qdTCWjRF8g0yJUimpUlOi1FqqVK1pjeLRvKVuh/DzdnsGUt74I6NtpM49qhdbpdanXpkHAAAARqABEAAAAAAAAAAAAAK6fH5+rv4a4fv7+3x9fX2dr9cav4UKAABAfalpPzt9vtuarlKSZlNDbjjSaB+LzROzWmlinW2M1DSpR3Vvr7C26699fvDl7esPldWan262We2NoTB3JTfN7uznr6NFnaetx3+3Yz1s4QUAAGjbx8fHfH15eZmv9yQAAgAAAAAAAAAAQEAaAAEAAKKbkjekb2xmun42Bb/khE+Z187kboR7nW2MKVEqN1XqVq3pLdbI+nQ3r6WWdam1Pt1MDJMpoS4npa7WOetV7rwOq1Z9AgAAoAoNgAAAAAAAAAAAABDQ5fPzc/XXtN7f3+fr6+vrfL36bS4AAIC2bU33qfz5LjVNprV0ldRQpN4/HpuPQdVKB+t0Q+SmZi317ujwteuvjf/gsl4bX+Dl7esPBymdv27rk/PKjejPYbV5Li209QWoHwAAAIf6+PiYry8vL/P1ngRAAAAAAAAAAAAACEgCIAAAQC9OSuzYmrTSeuLM6YkrJxv9/Q8rdeEf6XRDnJ38t0xrcnlP/QuJ/39q3c+dx0XpfHa6PfMn5F63EzSW6Ml3pXp7/8l1v5bT/mEAAAB+IgEQAAAAAAAAAAAAOqQBEAAAADJMASm1wpfOlPo+psAXoS8dKN3Ay0bodENMSVI5qXVTotQ0ak1vL5Z5ybWsR+68lK5Hs5YJyZ2YRbcTNJbUc5Zb51rTy/sAAACAEhoAAQAAAAAAAAAAICANgAAAAPBHboDSEpwULUAp2uulktKFL00aa1xuktSSvHX69Ja+gJ2lJpTdW9Ynd54an55ypRuo+wliTW7dO8vyenNfd2kd6pbzDwAAEJoGQAAAAAAAAAAAAAjo8vn5ufrrbu/v7/P19fV1vl6Lfv0YAACA3aWmdhR+zktNXYmWtlIagtLqx+jc9+VrgeAs/I9yUqQmS13ba3qTy/qvjX/h/h9O/Icub19/2OhZ/W91/rthgoZUeq5ak/t+Fr0/hxYf163/oLoAAABwio+Pj/n68vIyX+9JAAQAAAAAAAAAAICANAACAAD0YkrkaDCVY0pciZa6MimdzilIJTd0qSWNbiu2yt2IFv5HS11rZXqLf17iD6hd13N/3pQINo3i99+73AnK3eA0ofY5PctyznNFnQd1DQAAgBQaAAEAAAAAAAAAACAgDYAAAADwg9IEllYClFJfh+SZ4HI33mALn5ostSRJNTe9uS+oMblJXcs6ps5vJ9O2Xe4GHG6i+pJ6rlLr4l5KX0duPRmO8w0AANAFDYAAAAAAAAAAAAAQ0OXz83P11+De39/n6+vr63y97vLryQAAAFSXmuKR+XlvaypLr+krpWEpR33MPmg70IrcjTnYwqemSi117Ojp3frvXX9t/R+fvJDEN3h5+/rDE7n3gdz0r9z1Gq7+qRdDyq1/eytJ+5uM/ryZfSx3/wcAAACo4ePjY76+vLzM13sSAAEAAAAAAAAAACAgDYAAAAC9mRI6dkzpmBJaSlNaelA6zVPgSm740hZ7/3wak7vgO9eL1uTWr2Gmt7EXPCV65aR6/Vvnt6+xUe46h5W73sNN1Nhy6+ZWpT8/t070xrEEAAAYmwZAAAAAAAAAAAAACOjy+fm5+utx7+/v8/X19XW+XkP9ujIAAACbY0ASP+9tTWkZLY2lNHWl9sfu1NfjY39QuRtvsAXPTpd6y5un0ulNPr+/Nv6FrS9s4wu4vH39YaPS+0JxClnieg5XF9WToaSep9rPdaXn2XPmus3HMflG45wDAACc6ePjY76+vLzM13sSAAEAAAAAAAAAACAgCYAAAAC92inZQwLgz3IDlO7lfgwX6DKI3I026IInJ02dlPy32Lq81ZP/Fon7a2sSYK37wlFJgMPWR/VlKEclARaf2y+eL3+2+RhW/4EAAADsSQIgAAAAAAAAAAAAdEgCIAAAQO8qJ3xIAEyTG6S02PpxPPXf8TE/qNwNNeiCR0v+W2wu23slAC42vpCjEwAXkgB3pt4MZa8kwNJz6nnyr833ha3TVf0HAgAAsCcJgAAAAAAAAAAAANAhDYAAAACwoyk4pSQ8ZQpo+Smk5dl/pxO5C126AUcxJcElpP8t02p6zzUlg92OZG9/ztTt4LvcDe7GNIQp2e+ndL9n//2Z7HPNz5xPAACALmkABAAAAAAAAAAAgIAun5+fq79G9/7+Pl9fX1/n69WvMwMAAMSUmvLx4PNfaoqL1JZ1paEry/Lk/hwf74Ox0FmSU6c2pv8dNa1bl/3668n/WPqCE/ff5e3rDw8cdV8oSR375m5fDF8/1aMh5J6f5XyXnj/Pj+tSj9/DY7f5BmMdAAAAWvLx8TFfX15e5us9CYAAAAAAAAAAAAAQkARAAACAURQmfmxNdJHckiY3UCmVj/XBSNoqsjmBqrHkv8Xmcr13AuBi4wtqJQFwUS0J8Iv72xf1aQi1z88jzlWazfeHR9Na/AMAAAA4gwRAAAAAAAAAAAAA6JAGQAAAADjRFLCyZ8jK3j+fyqZknpx0rcEXepm2KbGqZmrV0dOau/xR1F6fZ6ZksZrpYsvrP/p9NCf3YPS+wTtT+/zc2/vnc8f5AwAA6JoGQAAAAAAAAAAAAAhIAyAAAADfSQg5Re2ksdo/j53lnrtBF3qZrtxp+/X2Z86mcWeZztan9frrMo+HTnoD17e/ozVL0ljtxLHhEwFz91n2waUHtc8hlZ10/wAAAKCMBkAAAAAAAAAAAAAI6PL5+bn661zv7+/z9fX1db5e/dYXAABAH7am7tx9DtyabiTVpY69wpF8vG9M7kIPtpBPp+ktcR6/0v9am8bN5fmn9L/JXm9s4wu8PEkBbO0+sVd633D3Q/WsC85D2zbfJ+6nO/svAgAA0IKPj4/5+vLyMl/vSQAEAAAAAAAAAACAgCQAAgAAjCYzAUQC4DlyA5W28nH/ZKkLPMiCJe/7jQmArdenzeVZAuCuJKAVUtdC2Wu/LzwX1rX5PrFMu/MIAADQBQmAAAAAAAAAAAAA0CEJgAAAAKPJTAKRAHiO1OUq5eP/QSTyfJO9zzcm/y26TwDce58kLtSjJMBw65C4z7bq/n6pzjVl76S/RzwX1rX5PrFMe/JfAAAAoEUSAAEAAAAAAAAAAKBDEgABAABGlZgIIgHwWKnBSXvztUAlErFm1fb3xmS2XpL/FqclAC42vuBHCYCLsOsiETCNuneKsxL/HvF8WMfW4/TvGCX/BQAAAFokARAAAAAAAAAAAAA6JAEQAABgVImJIBIAj5Ub2JIatJTL1wSZUhco+ETvth8TE9h6SQB8mPy3OGq/bHzB3SYA3tspEXAR/r46WN07y96Jf4/2oefDY1W7X9xz7gAAAJomARAAAAAAAAAAAAA6JAEQAABgVImJPM+SnBYSXurYnPCycbpTA5hS+drgiU4TsPbeV/eWaektcWrzeX+U6HT0fklc+Ef3j+7WJ3F/lgp3v+20Dh6ttf0lAfBYxfeLe84ZAABACBIAAQAAAAAAAAAAoEMSAAEAAEa3MUpEAuAxjgpISv13cg3/dUIniVdH7Zd799ORmnzVXcJcKwmAi40vfJQEwEXpvq2l2fntpC4epfVEyV7rcquK7xf3Bj9fAAAAUUgABAAAAAAAAAAAgA5JAAQAABhdYYLTPckuZTYnu1Se5tRAplq6/7ohSNLVWet/79nb35o0Fa0ObT73QRMAF/f3kW7XqdI+3ttp8x+kLh7l6P2w17r3Wp9b8+z4bE7+W3R+vgAAAHohARAAAAAAAAAAAAA6JAEQAACAv55EikgA3FergUipr2sv4b6WaGxBW1nHe1vfdmpCVrfJcvfJTq0cjMQNttxPel2nxV77e2+HrUtjdbK20ZIee6/TrXh0bCT/AQAA9E0CIAAAAAAAAAAAAHRIAiAAAAB/PYgU2Zr8t5DokmdrENLZH89TA5vOcto8nZxo1er6lL7NrclSUevP5vMvAbAJm9froH1/tOrrdtSEFmp1Pe6dfa56r9dne3RcJAACAAD0TQIgAAAAAAAAAAAAdEgCIAAAAN/dRYtsTQCU5JInMTirucCW1NffmurzmTghl199nJu99mVq4lb3iXJLwlOr39NFL2gbnf02oyTRlbo+ev6oPKFR57PVejdK3T7bUock/wEAAIxBAiAAAAAAAAAAAAB0SAIgAAAA676iRSQA7mtz8lew6U1NyIouNYEnavLf0ftwa5JU2Pqz1NmN+yFMHUgtAEG/d2y1fo+SEDiaaHWu+/p9tkHqLAAAAH9JAAQAAAAAAAAAAIAOSQAEAABg3ZJMJQFwF6MHt6S+/9ZtTQBsPfmvlX2WmmAmAbAxgxS4qG9TQmCbenuOGqaOn2X0B0kAAIDBSAAEAAAAAAAAAACADkkABAAA4EdbE1yuS1Kgz4+bbA1uGX06UwNujrY1+W9xdgJglP20ue4ET/5b9JYAuKzfv/vCVkELXi/1XDLgPkZPtuu+nh9N8h8AAMCQJAACAAAAAAAAAABAhyQAAgAA8CMJgHUJbtnXUYmBrSf/Rd833SZGPdigvSYALjYnAQbduL0kAD4jIfAvSXVpUveN+X0g8QFnua94jgQAAOiDBEAAAAAAAAAAAADokARAAAAAfpScALjwOXLVKElRrStNCsxNALSuP+s+KUoC4DbBDkpqPVEHfnZW0qDkuX1tfp60DuskAAIAAAxNAiAAAAAAAAAAAAB0SAIgAAAAP8pOAFz4PPmNBMDgRH3tqtuEqCf7pvcEwIUkwL+UhUTqbhckAGZK3P/39xPHAQAAoA8SAAEAAAAAAAAAAKBDGgABAADgAFOAS2qIEQ1JXcApckfsDpW1XkemhK+tKV+wWWo9bf2g8CN1JM+U/Lc1TRYAAID+aAAEAAAAAAAAAACAgDQAAgAAsC9JPEkExzGibhOfNta/v7lN/dfJy9vfsZn7B3Tj+vs6DzZS/wAAAEigARAAAAAAAAAAAAAC0gAIAADAMQZNMhHgElzqAopw3FWYBCn75mep7zd1PhvX2ds5zuD7ZjTdJsM+k7hv/+bHDnT/AAAAYJUGQAAAAAAAAAAAAAhIAyAAAAA0IDXYiMZYQBieMnAQEx1amCRXAAAACEQDIAAAAAAAAAAAAASkARAAAIBjXS5/B7TMPiVH6r4ZPcks9f07l0CvEuvb5dd1HgAAADDRAAgAAAAAAAAAAAABaQAEAACgDklOjCh13/PN5b/LPMJLrWf2zXep89HJ/aOTt9E+E03LUven+wcAAAArNAACAAAAAAAAAABAQBoAAQAAqKKbJK9KBA5BPdff13lABAK6DmKih+D58jvPlwAAAKzRAAgAAAAAAAAAAAABaQAEAADgR8nJW6mJPINHmQgwaoxoHVKk7hcH/mep8+O8QljDJ7vufP9ILacAAADEpgEQAAAAAAAAAAAAAtIACAAAwD5So0ckORGJaJ2x7ZzcNLzU+XL/YAv7hBak7kP3DwAAADbQAAgAAAAAAAAAAAABaQAEAACgLRJ6oHuX/y7zCEd9alvQ9bGtCklIIwIHHQAAgB1pAAQAAAAAAAAAAICANAACAACwr9xkHkkpHMl+a9L193Uep8vdH5LJygS/f1h+wP0DAACAI2gABAAAAAAAAAAAgIA0AAIAAFDV5b/LPP5HbpJJI0lOWwV7uaSSyDOW3ANtn9SVO58KMmvsi5AePl+2KnefPah3ti0AAAA/0QAIAAAAAAAAAAAAAWkABAAAYJPr7+s8iklymuVOA0QWJsEpt9442PvKnd/O7h884PyFVO35shUn3z8cAwAAgDFpAAQAAAAAAAAAAICANAACAABwjtyIEklO1GQ/Nem0RKjc/XBw5FJr2/bwZMdO7x+NvzzgJ7kH+OD7BwAAAH3SAAgAAAAAAAAAAAABaQAEAADgXJ0mOdEZCT19ayS5qfdtVj3ZMXfCDr5/9L6uYR28D+hU7j5SGAAAAKhIAyAAAAAAAAAAAAAEpAEQAACANuQmoUjwAXJJbuqD+we3nE+O4P4BAABAQzQAAgAAAAAAAAAAQEAaAAEAAGhLbjKKJCdS2C+Huvx3mUczctdfctM3za1rJ/ePxl4OcCv3gLp/AAAAsCMNgAAAAAAAAAAAABCQBkAAAAB2UZwMFSzJ6aR/lr1J7DnU9fd1HrvJPaiN7oModWf3db2Xu147T2ij24goB4nZacmjufuk8ODbngAAAGyhARAAAAAAAAAAAAAC0gAIAABAEklOZQqDYIAcufXgpAOrTlSSO5GN3j9I5CCFcvjz5VZB7h+2OwAAwNg0AAIAAAAAAAAAAEBAGgABAACIITfaRJITt+yHseSutyilvrh/AKncPwAAAAhEAyAAAAAAAAAAAAAEpAEQAACAWCQ5cQQJPrENltx0dHm7/HeZRzi563v0BHMO68wkdx8EvX8AAADQBw2AAAAAAAAAAAAAEJAGQAAAAGKS5ATc6yy5qdGXtdn193UezcmdWPePmKIfJI7R2f0DAACAsWgABAAAAAAAAAAAgIA0AAIAALCry3+XeewmN3mlUpJTpR/D3ixU33LXV3LT2E6+fwD5qj1fNnr/UGYAAABIoQEQAAAAAAAAAAAAAtIACAAAQJbr7+s8mlGa5LRz1MrOQTHUYqFiKD231plbufuhdB/SJut5qt2fL2/PbM46N3b/aOzlAAAAcBINgAAAAAAAAAAAABCQBkAAAAD6UhqFkpsIA+yv9Hx2HpW0d/m6/HeZR7fcP/rW+fnnidLzaf8AAADQMA2AAAAAAAAAAAAAEJAGQAAAAPpUmtSyJMWUJsYA+Wqdw+DJTdFe/vX3dR5hlU54rX0L5Kt1DqMVYAAAAIakARAAAAAAAAAAAAAC0gAIAADAIS7/XeZxuFrJLaUJMsB2tc6b5CZKuH9APMHvH8oFAAAAOTQAAgAAAAAAAAAAQEAaAAEAAChy/X2dR/OWJJfSRJclmkVEC9RXeq5qnXO+OS3BtRW19tXX/r7++juACpb7xjJy1TrnBwnyMgEAADiIBkAAAAAAAAAAAAAISAMgAAAAYxKdMobSRCBicJ6/OWvbh0mELVVpv0kCbJz7R5Oub99HsUbuH7YbAAAAJTQAAgAAAAAAAAAAQEAaAAEAADjU5b/LPJqxJL80kgDDSaz/LnY777dndqB1G+zttu92DxYszJIEeJ8IKBFsJ4XrxTmqJ/4F3QdBXzYAAAA70wAIAAAAAAAAAAAAAWkABAAAoIrr7+s8whOtAofbnOzkfNKySvvzUSIgjGS5L2y+Pzzj/gEAAEDHNAACAAAAAAAAAABAQBoAAQAAOMXlv8s8mrUkxdRKjLn8ea/TgBHU2u+1z+FgSpeh+Trdqtr7ttZ5gghq7ffa53AnjjcAAAA1aAAEAAAAAAAAAACAgDQAAgAAUNX193Ue3amVILNEvYh8oSe19vVtWlON89ap1qan27pfS60Fq3XOoCW19vVyzmqdt8Z0+rYAAACoRAMgAAAAAAAAAAAABKQBEAAAgFNd/rvMI4zbdJkaUSyliTdwplr7t9Z5gpbd3jtq7Hf3DyIb/P7h+AIAAFCTBkAAAAAAAAAAAAAISAMgAAAAu7j+vs6DjZYoGJEwtOh+fy6DEFKXK1wya1CXX9dvI9vtmUxZaDjC/f5cRqbL2/fRu6ABhwAAABxMAyAAAAAAAAAAAAAEpAEQAAAAWrSWljMNtjFfeW732u2gSWcnQ0l6ras4CXCxdoanQR7zt83tXrsdlfSS+Fd5WgAAAGCmARAAAAAAAAAAAAAC0gAIAABAEy7/XebBE7epOreDPGdHqJ1lbQ9Ng649W2Z1uA1LEmC1RMDF7Vm/HaMatf6XWttD06hsSfzrJfkvle0JAABACg2AAAAAAAAAAAAAEJAGQAAAAHZ1/X2dx+iqJzndW0vjmQZjW9sT09ib6KJDHT3d6vrB9l7gtRoxDca2tiemsbOtiX/qEAAAAPw/DYAAAAAAAAAAAAAQkAZAAAAAmnL57zKPKJKDmZa/kPwXM62l90yDvqyt8TSOcvS+psj99ohWd4d19Dm7rSW3g76srfE0jnL0vj7J0dMKAADAWDQAAgAAAAAAAAAAQEAaAAEAADjE9fd1Htw5K/nmNuXndtC2tTWbxlHu9+syaMLey6GON+b2DO658PfWatA0aNvamk3jKPf7dRl8Y1oAAADIoQEQAAAAAAAAAAAAAtIACAAAQJMu/13mMZzbVJzbcZS1dKBpcKy1NZjGUdb24DToytHbip2tndlpHOW2Vt0OjrW2BtM4ytoenMagjp5+AAAAxqQBEAAAAAAAAAAAAALSAAgAAMChrr+v8yDRWprONI5ymyK0ZbBuba7WxlHW9tQ0CK32Mqrbwd2e7dtxlLUa99Ng3dpcrY2jrO2paZDF9AEAAFBCAyAAAAAAAAAAAAAEpAEQAAAAIrtN3bkdZ1tLJdoyStX6Oc/cvuaUcZa1PTINmLz92QvTYCxrNWEaZ1urnVvG3mr9O7evOWWcZW2PTIMfnb1sAAAAjEUDIAAAAAAAAAAAAASkARAAAICmXf67zINEa2k902jdbdpRyki1zMfaz9oyWnW71rejcc75PpKX/y4J8Pr7Og/qar2MfKsdt6N1tzU6ZeS+v7WftWW06natbwe7Ms0AAADUoAEQAAAAAAAAAAAAAtIACAAAwCkkS53kNtXndkSXmqzUehLTM2trOI3GOOcxWbc2NHesb2vN7YjO/ePvAAAAAMLSAAgAAAAAAAAAAAABaQAEAAAghMt/l3mwk7U0oGlwrrU1mQakePtTO6exUfSAMw62VqOmwbnW1mQa7Er9BAAA4AwaAAEAAAAAAAAAACAgDYAAAACc6vr7Oo+tJAEebC096KfBNmtztzagpsQkQCiyVtN+GmyzNndrg0OlJv9ZJgAAAGrSAAgAAAAAAAAAAAABaQAEAAAA6rlNH0oZUa29ly0DDlCamJqaaAVF1mrllhHV2nvZMgAAAADuaAAEAAAAAAAAAACAgDQAAgAA0ITr7+s8tipNtqIxaylHW0Ytaz97y6Aq5/ogb3/meBocSqLiTtZq85ZRy9rP3jLoQuq5tvwAAADsQQMgAAAAAAAAAAAABKQBEAAAgKZIAiTJbZpSSqRO7t8jS+q5pkztuii57ljK0kFu7wEpE5779+iK5D8AAABaogEQAAAAAAAAAAAAAtIACAAAAAeSpNUICwESqWDiftAEic4AAACQTwMgAAAAAAAAAAAABKQBEAAAgCZdf1/nsdXZyTGStBphIRjY3nVQUBpDc39pQurzYW2pddC2AQAA4AgaAAEAAAAAAAAAACAgDYAAAAA0LVoSIMDRUuvefV1NTaiSBAiMRvIfAAAALdMACAAAAAAAAAAAAAFpAAQAAKBLrScBStACSp1d59QxoJTnNQAAACinARAAAAAAAAAAAAAC0gAIAABACNff13m07vrnJU4DyNd6ItTZcufnWR3NrV8Ssn5mfqCc50AAAAB4TAMgAAAAAAAAAAAABKQBEAAAgFBSE2AkiUE7oiQ49SZ13iVYncO8QztSkzudXwAAAM6kARAAAAAAAAAAAAAC0gAIAABASKmJVpIAgehS61hqnbyXmmiVmpgF0BrJfwAAAESkARAAAAAAAAAAAAAC0gAIAADAUFpLApSYdTILQABHJ//dkwRIl2zUU3keAwAAgHo0AAIAAAAAAAAAAEBAGgABAAAIrXbSVS2piVlUZgHoQGsJWakkatEF95NTec4DAACA5zQAAgAAAAAAAAAAQEAaAAEAAOhCakJM9GQtGMGo5zT3fe+dlJWbeDVqEqAERGhf6jmV/AcAAECLNAACAAAAAAAAAABAQBoAAQAA6ErUJEBJUYxk76S6qFpN/rsnCbAuiWKMJOpzl3MKAABAyzQAAgAAAAAAAAAAQEAaAAEAAGBHEmOAZ6Ik/93LrW+SAIFnzq5vAAAAEIkGQAAAAAAAAAAAAAhIAyAAAABdSk2OyU3gAsgVNfnvniRAIIrUupNb3wAAAOBIGgABAAAAAAAAAAAgIA2AAAAAdE0SIMTX27nMfT+tJf/dkwT4V2/vB3qQei4l/wEAABCJBkAAAAAAAAAAAAAISAMgAAAArDgrcUxy1ElM/ClaT7RrRbR5kpy1jXk6iXp/Cs9VAAAAsB8NgAAAAAAAAAAAABCQBkAAAACGkJugVSuxRtLTSUw8DUmtJ9GS/+6lHr/oSV2Sxjrj/nGKWnUv9zxadgAAACLSAAgAAAAAAAAAAAABaQAEAABgKLnJMktyV2qCF1BP1POX+rprJWC1IjVRq/ckPQljUN9SN3Lrh3MJAABAZBoAAQAAAAAAAAAAICANgAAAAAypNGFr7ySy3AQbiKi3xLvF3nWid+ogxNf685LkPwAAAHqgARAAAAAAAAAAAAAC0gAIAADA0I5OApQ0A+X2TpQqlfv6ek1CXOTWv9aTAFt/fRBBav0rPXeexwAAAOiJBkAAAAAAAAAAAAAISAMgAAAA/FGavNV6IhlEUHoOz7Kc/9w6EPV95ypNAixN/jqLxLGTRd04fFO6jM4hAAAAPdIACAAAAAAAAAAAAAFdPj8/V3/f7f39fb6+vr7O16tfiwMAAGBAual+z9K8UtNrfCwvZMJDST13Z6Xn5daHxUipfz8pDWU767gqK8FsXTALVUXtOp5bJywnAAAAPfj4+JivLy8v8/WeBEAAAAAAAAAAAAAISAMgAAAA/GBKpMlJ6ZqSb35Kv5kSaaTSHMiEh5J77o7y7Hw/0/r7O1rp8ZySwUpTBPek/MBjz+ph7vl27gAAABiJBkAAAAAAAAAAAAAISAMgAAAAbJCb2FWaFLZoPeEKRiD5b1+liV1H1Un1OBgLdqizn3sk/wEAADAiDYAAAAAAAAAAAAAQ0OXz83P19+He39/n6+vr63y9+rU5AAAA+Cc33eZR+tfWlBsfzwulxgmZ8FOlnrPa6XqlKVbS/uooDW+rfYzV62As2KG21s3S56F7lg8AAICefXx8zNeXl5f5ek8CIAAAAAAAAAAAAAQkARAAAAAK1EoIE0x3MIlQoZQmSqWS/Nem3GSwRa3jrHwEY8EOkVo3c59/7lk2AAAARiABEAAAAAAAAAAAADqkARAAAAAKTAk2JWlfU2LONKYEGyk2UGY5T7lK/35pPeBnpXVyShorSRsr/fsczII1aamTpcvjuQkAAAD+nwZAAAAAAAAAAAAACOjy+fm5+nty7+/v8/X19XW+Xv06HQAAADxVkh42e0v7/O3jeqbU2CET3YSt52trCl/xef0i9e8ctcLdth7vrf+ectEIC3aI5Dqa+Jxzz3IBAAAwoo+Pj/n68vIyX+9JAAQAAAAAAAAAAICAJAACAADADo5KAvRxvZCEqFBSz9WjZL7S8ynxr02liYCPjnnqz1UuGqG+H2JzPZX8BwAAANkkAAIAAAAAAAAAAECHJAACAADAAZITxxKTcnxszyQhKqSt5+k+qU/y3xhqJwEqE8GIbDzE03oq8Q8AAACqkQAIAAAAAAAAAAAAHdIACAAAAAeYksOS0sPeLn8HbZgSpUpjxTjNlFRVkv6XfH451ZQcVpIethx3x75zpRuF76bEv9uRybIAAABAOg2AAAAAAAAAAAAAENDl8/Nz9ffp3t/f5+vr6+t8vfq1OwAAAKhmcxpZYoqOj++ZtsZ8meAmlKT5bSHtr097pfkpC41Rz3f1r/4WpPytsRwAAADw2MfHx3x9eXmZr/ckAAIAAAAAAAAAAEBAEgABAADgRNWTAN/+/jwJZokkRoVUOwnQuRlD7SRAZaERqQtr4ZJI0AQAAIDzSAAEAAAAAAAAAACADkkABAAAgIY8TDTbmgC4+EoCXEg2e0JyVEi1EgCdjzHVSjRTDhqxdUEt2CYS/wAAAKAdEgABAAAAAAAAAACgQxIAAQAAoGH/k3C2NQnwLgHwnsSzByRINalW0t8954CJpLNOqN9FnAMAAABolwRAAAAAAAAAAAAA6JAEQAAAAAgkOaHnSRLgQhLaFwlSTdgr8W9hv7NmrwS0hbKxk9SFsxAziX8AAAAQhwRAAAAAAAAAAAAA6JAEQAAAAAhoc3LPxgTAe8MmpEmSOsXeiX+PSAJksnfy3yPKRyVbF3DwCd9tn389Z6inAAAAsB8JgAAAAAAAAAAAANAhCYAAAAAQUHKST2YS4GK4ZB+JUrs6K/HvEclVYzor+e8R5SSTer1q78S/e+ooAAAA7EcCIAAAAAAAAAAAAHRIAiAAAAAEtjnhpzAB8JFuE38kSlW1d+Lf/T7M/fckWI0hNxnt/rjvlrD2RXl5InUBOp3Qvffhs+cHdRMAAAD2JwEQAAAAAAAAAAAAOiQBEAAAAAJLTv7ZKQnwXvhEIMlSWY5O+ntGEiC3cpPSUo/33olsys2XrRPdyYTtva/+SXxOUC8BAABgfxIAAQAAAAAAAAAAoEMSAAEAAKADuYF1eye2PRImMWiwhKlUrSX+PZL6OiVa9Sm3TpbaO7lt2K9tO6vPe++TR3KfB9RJAAAAOI4EQAAAAAAAAAAAAOiQBEAAAADoQG5y0P3H/bMSARfNJQqdFRnWiKP3w97rL+FqTK0d46OT3rr7Wjd4XT56/e/Vuu+rjwAAAHAcCYAAAAAAAAAAAADQIQmAAAAA0JHcZKFHH/vPTgS8d1riUPDEqXutrOtZ6ykJcAxRju3ZiXCL5r/+DbKgraznovb9XT0EAACA40kABAAAAAAAAAAAgA5JAAQAAIAO7R2UNFwyYOPJU62txyOtJEdJvupbbgJbK19/tpYg98jh89VYHW5tnfa+j6t/AAAAcB4JgAAAAAAAAAAAANAhCYAAAADQsaMDk6Ik0eW6vn39YavCCY06n1GSoiRg9amxoLhqoiQD3iue341v/PJrjPN59H1a3QMAAIDzSQAEAAAAAAAAAACADkkABAAAgAG0kojVS0JgahLgJTU5MJjoCVESsfrQa/LfI1ETAflZK/dfdQ4AAADaIQEQAAAAAAAAAAAAOiQBEAAAAAaQmxR11NcB0ZIBR0sAHCUJSkJWTKMl/20lIbBtrd9f1TcAAABohwRAAAAAAAAAAAAA6JAEQAAAABhI60mAj7SaEBg9CVDC03eSsmKJWs9aIylwH1Hvm+oZAAAAtEcCIAAAAAAAAAAAAHRIAiAAAAAMqJfkrFaSAbcmAe6dACi5qQ7JWW2T/HcuiYHf9XJfVL8AAACgXRIAAQAAAAAAAAAAoEMSAAEAAGBgkrS2eZaotDUBcJGaBCiZ6RypSVrW6RipdcvXmuc4Kylw1PWW/AcAAAD9kgAIAAAAAAAAAAAAHZIACAAAAEgCrEU0WZckAbbB8eqUhS0i+Q8AAAD6JwEQAAAAAAAAAAAAOqQBEAAAAJgDlXJClabgptz0QIhiSspKScuaErlyU7n4X6l1Jree0TgL+01unUmtZwAAAED7NAACAAAAAAAAAABAQBoAAQAAgH8ELBVKnUARil2TBFjG8eicBT6U5D8AAADolwZAAAAAAAAAAAAACOjy+fm5+mt/7+/v8/X19XW+Xv36PwAAAAwnNZzJ1wd3TGCXSlP9pHCtKw2Dc3yCUBeLpNYf9QYAAADi+/j4mK8vLy/z9Z4EQAAAAAAAAAAAAAhIAyAAAADw0BS8lBK+NAU7laZ4QeumRK2SVK0pwas0RbAnpXUjtU5BRKl1o7ROAQAAAHFoAAQAAAAAAAAAAICANAACAAAA1UkC/CJCsWuSAMuUbnfJf8GkLrgFno1eJwAAAIDnNAACAAAAAAAAAABAQBoAAQAAgKdyg5hKE766kTqBJi4USYBpSrd3bj3iJKkLboFnuXWhtB4BAAAA8WgABAAAAAAAAAAAgIAun5+fq78O+P7+Pl9fX1/n69VvXQIAAABfSsPphv2aIXXifB8TWm6qX2/pXerF4NS9TUpTQKX+AQAAQL8+Pj7m68vLy3y9JwEQAAAAAAAAAAAAApIACAAAAGST7JVJItZQRk32Uh8Gp85tIvkPAAAAeEYCIAAAAAAAAAAAAHRIAiAAAABQrDTpazHc1w8SsoYyStKX5L/BqWs/Kq0DC8l/AAAAMA4JgAAAAAAAAAAAANAhDYAAAABAsSnAqUaI0xQcVStNsEsmKLQpsasktWtKDquVHraH0u1Zq45wEvXpR7XOb2kdAQAAAPqjARAAAAAAAAAAAAACunx+fq7+uuD7+/t8fX19na9Xv34LAAAAJCoNgxrm64jcifJ9TWilaWCtpIDZvoOzAX7UyzkHAAAAzvPx8TFfX15e5us9CYAAAAAAAAAAAAAQkARAAAAAYHelSYCL7r+ekKQ1tChJYaXn2XbthHq1qvQcLyT/AQAAAAsJgAAAAAAAAAAAANAhCYAAAADA4SSIPSFZa2itJgE6t8zUp1VREjwBAACAeCQAAgAAAAAAAAAAQIc0AAIAAACHm4KgSsKgpgCq0jSypuVOUPcTM4YpCawkDWxKIitNI7tVuq1KzzuNyN0InW+A0vNWet4BAAAANAACAAAAAAAAAABAQJfPz8/VXy98f3+fr6+vr/P16td0AQAAgJ3UCq3r9uuL3AnyfU4XaqX5bU0Zcx75Rv355ujzCAAAAPDx8TFfX15e5us9CYAAAAAAAAAAAAAQkARAAAAAoDmlCWSSAO/4XqcrpQlkj5LHnDu+UW++2evcAQAAADwjARAAAAAAAAAAAAA6JAEQAAAAaFZpItmiu681JHPxR2ki2T9vZfvCtuqM+jKrdb4k/wEAAAClJAACAAAAAAAAAABAhyQAAgAAAM2TBPiApC7+qJYEuNiYCGgbdUY9mUn+AwAAAFojARAAAAAAAAAAAAA6JAEQAAAACEci4B3JXdzYKxHQdunUoPWj9jmR+AcAAADsRQIgAAAAAAAAAAAAdEgCIAAAABBWrSTAe2G/BpEEyB//tsGbhDN+MFi9qJ6M+cW5AAAAAPYmARAAAAAAAAAAAAA6JAEQAAAA6IZEwC+SAIeyebklAjIZpD5I/AMAAAB6IQEQAAAAAAAAAAAAOiQBEAAAAOjOXkmAizBfk0gC7FK1/S0RcCyd1oO9kv7u2d8AAADAWSQAAgAAAAAAAAAAQIckAAIAAADd2zsRcNHs1yeSAEOrvX8fLWvtJDWJaY3o7PxL/AMAAABGIwEQAAAAAAAAAAAAOiQBEAAAABjOsImApW/c90OHOir5754kwOA6O+d7J/7ZnwAAAEDrJAACAAAAAAAAAABAhyQAAgAAAHzZOxmwma9XJAE2Za99V2uZ9kpgk7xWWfBzvXfS38K+AwAAAKKRAAgAAAAAAAAAAAAdkgAIAAAA8MDeiYCL0752qfUGfW+06qj9szhqGY5KaltIbHsg+PmV+AcAAACwjQRAAAAAAAAAAAAA6JAEQAAAAICNjk50W+z+tYwkwCxn7YdFK9N9dCLgveES3oKcV0mRAAAAAHVIAAQAAAAAAAAAAIAOSQAEAAAAKHR2Etyi2tc3EgFnrazrvVan9ewkwEfCJ8M1dh5bWWeJfwAAAMAoJAACAAAAAAAAAABAhyQAAgAAAFTWanLcvadf93SaBBhlfRZRv5ZrNRHwkWYS5Wpv0CcbKMo6SfwDAAAARiUBEAAAAAAAAAAAADokARAAAABgZ9ES5+79+1po50TA6PNUapSv36IlA9b2MMmu8vmKOs+S/gAAAAC+kwAIAAAAAAAAAAAAHZIACAAAAHCSqIl31191X/jlz0/sma/V8oyeFDgKiX8AAAAAP5MACAAAAAAAAAAAAB2SAAgAAADQqCgJgbUSAaMmAfra7BwSAmOQ8AcAAABQRgIgAAAAAAAAAAAAdEgCIAAAAEBwrSQF1koCXLSSCOhrsZgkBO5Lsh8AAADAMSQAAgAAAAAAAAAAQIckAAIAAAAM5qjEwFqJgHslAfq6i4mkwL8k+gEAAAC0SQIgAAAAAAAAAAAAdEgCIAAAAACraicF1koEFN1HUzYelMvb1x8OJtkPAAAAIDYJgAAAAAAAAAAAANAhCYAAAAAAHKt2tODC91fsaa99u7B/AQAAAFghARAAAAAAAAAAAAA6pAEQAAAAgGNNSWe3o5YpoW1tQIq1PTSN2vY6BwAAAAAMRQMgAAAAAAAAAAAABKQBEAAAAIBz7Z2AtpbmNg3GtrYnprE3iX8AAAAAVKQBEAAAAAAAAAAAAALSAAgAAABAG5ZktKMS0tbS36ZBX9bWeBpHOXpfAwAAADAUDYAAAAAAAAAAAAAQkAZAAAAAANp0VnLaWlrcNGjb2ppN4yj3+3UZAAAAALAjDYAAAAAAAAAAAAAQkAZAAAAAAGJYS1ebxlHW0uWmwbHW1mAaR1nbg9MAAAAAgBNoAAQAAAAAAAAAAICANAACAAAAENtaGts0jrKWRvfTYN3aXK2No6ztqWkAAAAAQEM0AAIAAAAAAAAAAEBAGgABAAAA6NNaets0zraWardlRLH22reMs6ztkWkAAAAAQAAaAAEAAAAAAAAAACAgDYAAAAAAjGUt7W0arVtLzdsycq39rC2jVWtrPg0AAAAACEwDIAAAAAAAAAAAAASkARAAAAAAJmvpcNOIbi2lb8uIam0NpwEAAAAAHdIACAAAAAAAAAAAAAFpAAQAAACAn6ylyU2Dc62tyTQAAAAAYCAaAAEAAAAAAAAAACAgDYAAAAAAkGMtfe6nwTZrc7c2AAAAAAANgAAAAAAAAAAAABCRBkAAAAAAOMJait2WEdXae9kyAAAAAIDNNAACAAAAAAAAAABAQBoAAQAAAKBlayl5W0Ytaz97ywAAAAAAdqcBEAAAAAAAAAAAAALSAAgAAAAAPVpL5csZAAAAAECzNAACAAAAAAAAAABAQBoAAQAAAAAAAAAAICANgAAAAAAAAAAAABCQBkAAAAAAAAAAAAAISAMgAAAAAAAAAAAABKQBEAAAAAAAAAAAAALSAAgAAAAAAAAAAAABaQAEAAAAAAAAAACAgDQAAgAAAAAAAAAAQEAaAAEAAAAAAAAAACAgDYAAAAAAAAAAAAAQkAZAAAAAAAAAAAAACEgDIAAAAAAAAAAAAASkARAAAAAAAAAAAAAC0gAIAAAAAAAAAAAAAWkABAAAAAAAAAAAgIA0AAIAAAAAAAAAAEBAGgABAAAAAAAAAAAgIA2AAAAAAAAAAAAAEJAGQAAAAAAAAAAAAAhIAyAAAAAAAAAAAAAEpAEQAAAAAAAAAAAAAtIACAAAAAAAAAAAAAFpAAQAAAAAAAAAAICANAACAAAAAAAAAABAQBoAAQAAAAAAAAAAICANgAAAAAAAAAAAABCQBkAAAAAAAAAAAAAISAMgAAAAAAAAAAAABKQBEAAAAAAAAAAAAALSAAgAAAAAAAAAAAABaQAEAAAAAAAAAACAgDQAAgAAAAAAAAAAQEAaAAEAAAAAAAAAACAgDYAAAAAAAAAAAAAQkAZAAAAAAAAAAAAACEgDIAAAAAAAAAAAAASkARAAAAAAAAAAAAAC0gAIAAAAAAAAAAAAAWkABAAAAAAAAAAAgIA0AAIAAAAAAAAAAEBAGgABAAAAAAAAAAAgIA2AAAAAAAAAAAAAEJAGQAAAAAAAAAAAAAhIAyAAAAAAAAAAAAAEpAEQAAAAAAAAAAAAAtIACAAAAAAAAAAAAAFpAAQAAAAAAAAAAICANAACAAAAAAAAAABAQBoAAQAAAAAAAAAAICANgAAAAAAAAAAAABCQBkAAAAAAAAAAAAAISAMgAAAAAAAAAAAABKQBEAAAAAAAAAAAAALSAAgAAAAAAAAAAAABaQAEAAAAAAAAAACAgDQAAgAAAAAAAAAAQEAaAAEAAAAAAAAAACAgDYAAAAAAAAAAAAAQkAZAAAAAAAAAAAAACEgDIAAAAAAAAAAAAASkARAAAAAAAAAAAAAC0gAIAAAAAAAAAAAAAWkABAAAAAAAAAAAgIA0AAIAAAAAAAAAAEBAGgABAAAAAAAAAAAgIA2AAAAAAAAAAAAAEJAGQAAAAAAAAAAAAAhIAyAAAAAAAAAAAAAEpAEQAAAAAAAAAAAAAtIACAAAAAAAAAAAAAFpAAQAAAAAAAAAAICANAACAAAAAAAAAABAQBoAAQAAAAAAAAAAICANgAAAAAAAAAAAABCQBkAAAAAAAAAAAAAISAMgAAAAAAAAAAAABKQBEAAAAAAAAAAAAALSAAgAAAAAAAAAAAABaQAEAAAAAAAAAACAgDQAAgAAAAAAAAAAQEAaAAEAAAAAAAAAACAgDYAAAAAAAAAAAAAQkAZAAAAAAAAAAAAACEgDIAAAAAAAAAAAAASkARAAAAAAAAAAAAAC0gAIAAAAAAAAAAAAAWkABAAAAAAAAAAAgIA0AAIAAAAAAAAAAEBAGgABAAAAAAAAAAAgIA2AAAAAAAAAAAAAEJAGQAAAAAAAAAAAAAhIAyAAAAAAAAAAAAAEpAEQAAAAAAAAAAAAAtIACAAAAAAAAAAAAAFpAAQAAAAAAAAAAICANAACAAAAAAAAAABAQBoAAQAAAAAAAAAAICANgAAAAAAAAAAAABCQBkAAAAAAAAAAAAAISAMgAAAAAAAAAAAABKQBEAAAAAAAAAAAAALSAAgAAAAAAAAAAAABaQAEAAAAAAAAAACAgDQAAgAAAAAAAAAAQEAaAAEAAAAAAAAAACAgDYAAAAAAAAAAAAAQkAZAAAAAAAAAAAAACEgDIAAAAAAAAAAAAASkARAAAAAAAAAAAAAC0gAIAAAAAAAAAAAAAWkABAAAAAAAAAAAgIA0AAIAAAAAAAAAAEBAGgABAAAAAAAAAAAgIA2AAAAAAAAAAAAAEJAGQAAAAAAAAAAAAAhIAyAAAAAAAAAAAAAEpAEQAAAAAAAAAAAAAtIACAAAAAAAAAAAAAFpAAQAAAAAAAAAAICANAACAAAAAAAAAABAQBoAAQAAAAAAAAAAICANgAAAAAAAAAAAABCQBkAAAAAAAAAAAAAISAMgAAAAAAAAAAAABKQBEAAAAAAAAAAAAALSAAgAAAAAAAAAAAABaQAEAAAAAAAAAACAgDQAAgAAAAAAAAAAQEAaAAEAAAAAAAAAACAgDYAAAAAAAAAAAAAQkAZAAAAAAAAAAAAACEgDIAAAAAAAAAAAAASkARAAAAAAAAAAAAAC0gAIAAAAAAAAAAAAAWkABAAAAAAAAAAAgIA0AAIAAAAAAAAAAEBAGgABAAAAAAAAAAAgIA2AAAAAAAAAAAAAEJAGQAAAAAAAAAAAAAhIAyAAAAAAAAAAAAAEpAEQAAAAAAAAAAAAAtIACAAAAAAAAAAAAAFpAAQAAAAAAAAAAICANAACAAAAAAAAAABAQBoAAQAAAAAAAAAAICANgAAAAAAAAAAAABCQBkAAAAAAAAAAAAAISAMgAAAAAAAAAAAABKQBEAAAAAAAAAAAAALSAAgAAAAAAAAAAAABaQAEAAAAAAAAAACAgDQAAgAAAAAAAAAAQEAaAAEAAAAAAAAAACAgDYAAAAAAAAAAAAAQkAZAAAAAAAAAAAAACEgDIAAAAAAAAAAAAASkARAAAAAAAAAAAAAC0gAIAAAAAAAAAAAAAWkABAAAAAAAAAAAgIA0AAIAAAAAAAAAAEBAGgABAAAAAAAAAAAgIA2AAAAAAAAAAAAAEJAGQAAAAAAAAAAAAAhIAyAAAAAAAAAAAAAEpAEQAAAAAAAAAAAAAtIACAAAAAAAAAAAAAFpAAQAAAAAAAAAAICANAACAAAAAAAAAABAQBoAAQAAAAAAAAAAICANgAAAAAAAAAAAABCQBkAAAAAAAAAAAAAISAMgAAAAAAAAAAAABKQBEAAAAAAAAAAAAALSAAgAAAAAAAAAAAABaQAEAAAAAAAAAACAgDQAAgAAAAAAAAAAQEAaAAEAAAAAAAAAACAgDYAAAAAAAAAAAAAQkAZAAAAAAAAAAAAACEgDIAAAAAAAAAAAAASkARAAAAAAAAAAAAAC0gAIAAAAAAAAAAAAAWkABAAAAAAAAAAAgIA0AAIAAAAAAAAAAEBAGgABAAAAAAAAAAAgIA2AAAAAAAAAAAAAEJAGQAAAAAAAAAAAAAhIAyAAAAAAAAAAAAAEpAEQAAAAAAAAAAAAAtIACAAAAAAAAAAAAAFpAAQAAAAAAAAAAICANAACAAAAAAAAAABAQBoAAQAAAAAAAAAAICANgAAAAAAAAAAAABCQBkAAAAAAAAAAAAAISAMgAAAAAAAAAAAABKQBEAAAAAAAAAAAAALSAAgAAAAAAAAAAAABaQAEAAAAAAAAAACAgDQAAgAAAAAAAAAAQEAaAAEAAAAAAAAAACAgDYAAAAAAAAAAAAAQkAZAAAAAAAAAAAAACEgDIAAAAAAAAAAAAASkARAAAAAAAAAAAAAC0gAIAAAAAAAAAAAAAWkABAAAAAAAAAAAgIA0AAIAAAAAAAAAAEBAGgABAAAAAAAAAAAgIA2AAAAAAAAAAAAAEJAGQAAAAAAAAAAAAAhIAyAAAAAAAAAAAAAEpAEQAAAAAAAAAAAAAtIACAAAAAAAAAAAAAFpAAQAAAAAAAAAAICANAACAAAAAAAAAABAQBoAAQAAAAAAAAAAICANgAAAAAAAAAAAABCQBkAAAAAAAAAAAAAISAMgAAAAAAAAAAAABKQBEAAAAAAAAAAAAALSAAgAAAAAAAAAAAABaQAEAAAAAAAAAACAgDQAAgAAAAAAAAAAQEAaAAEAAAAAAAAAACAgDYAAAAAAAAAAAAAQkAZAAAAAAAAAAAAACEgDIAAAAAAAAAAAAASkARAAAAAAAAAAAAAC0gAIAAAAAAAAAAAAAWkABAAAAAAAAAAAgIA0AAIAAAAAAAAAAEBAGgABAAAAAAAAAAAgIA2AAAAAAAAAAAAAEJAGQAAAAAAAAAAAAAhIAyAAAAAAAAAAAAAEpAEQAAAAAAAAAAAAAtIACAAAAAAAAAAAAAFpAAQAAAAAAAAAAICANAACAAAAAAAAAABAQBoAAQAAAAAAAAAAICANgAAAAAAAAAAAABCQBkAAAAAAAAAAAAAISAMgAAAAAAAAAAAABKQBEAAAAAAAAAAAAALSAAgAAAAAAAAAAAABaQAEAAAAAAAAAACAgDQAAgAAAAAAAAAAQEAaAAEAAAAAAAAAACAgDYAAAAAAAAAAAAAQkAZAAAAAAAAAAAAACEgDIAAAAAAAAAAAAASkARAAAAAAAAAAAAAC0gAIAAAAAAAAAAAAAWkABAAAAAAAAAAAgIA0AAIAAAAAAAAAAEBAGgABAAAAAAAAAAAgIA2AAAAAAAAAAAAAEJAGQAAAAAAAAAAAAAhIAyAAAAAAAAAAAAAEpAEQAID/a+ducqvMgTAKJ2HGAlgCO2HClhiyKlbCMmDECEjr3HCiFyuoh83XOo/ktr9yVdn3J+oMIpIkSZIkSZIkSZIkF9QfACZJkiRJkiRJkiRJkiRJckH9AWCSJEmSJEmSJEmSJEmSJBfUHwAmSZIkSZIkSZIkSZIkSXJB/QFgkiRJkiRJkiRJkiRJkiQX1B8AJkmSJEmSJEmSJEmSJElyQf0BYJIkSZIkSZIkSZIkSZIkF9QfACZJkiRJkiRJkiRJkiRJckH9AWCSJEmSJEmSJEmSJEmSJBfUHwAmSZIkSZIkSZIkSZIkSXJB/QFgkiRJkiRJkiRJkiRJkiQX1B8AJkmSJEmSJEmSJEmSJElyQf/6B4CPj4+3kSRJkiRJkiRJkiRJkiRJ/h79C4BJkiRJkiRJkiRJkiRJklzQ/devX1/85/2+ffv2a5UkSZIkSZIkSZIkSZIkSf4rr1+//rX6Xf8CYJIkSZIkSZIkSZIkSZIkF/THfwEwSZIkSZIkSZIkSZIkSZL8vfoXAJMkSZIkSZIkSZIkSZIkuaD+ADBJkiRJkiRJkiRJkiRJkgvqDwCTJEmSJEmSJEmSJEmSJLmg+3fv3j3e39/fPT4+3j08PNxmhozDvN2HOT9//rzlsP7x48dv/YyLfWJgppb9XZND7atXr5577BnE4B4zcet5ds0M1tsHu4a9NkaddzbftWcxY1+bew7rwPzhw4fbOkmSJLmCjx8/Pv/u6+/F/q68v/saV7////662dOZe+5ha1jTB/bkPTOG7bP5xHhmn3tTt/PewfXG7WGONsbMGWD9Ul9svXnew9fLsJe12wPbZ/NhPqxjfP/+/XaW+7vH2s9p62DcGPMitrUyz9kep+1pr/M9Mc4MzzKXefOw53mGMeMwDvN2H+Z4B9bnZ2ZcfgfATC37uyaHWl6DPfYMYnCPmbj1PLtmBuvtg13DXhujzjub79qzmLGvzT2HdTjrdeaee9ga1vSBPf3ctX02nxjP7HNvv1vOewfXG7eHOdoYM2eA9Ut9sfXmeQ9fL8Ne1m4PbJ/Nh/mwjtHP/9P7xGwcxmHe7sMc78D6/MyMy+8AmKllf9fkUMtrsMeeQQzuMRO3nmfXzGC9fbBr2Gtj1Hln8117FjP2tbnnsA5nvc7ccw9bw5o+sKefu7bP5hPjmX3u7XfLee/geuP2MEcbY+YMsH6pL7bePO/h62XYy9rtge2z+Xj79u3zvnWe5ftAfPdY+zltHYwbY17EtlbmOdvjtD3tdb4nxpnhWeYybx72PM8wZhzGYd7uwxzvwPr8zIyLfWJgppb9XZMD+7hnL+/hHjNx63l2zQzW2we7hr02Rp13Nt+1ZzFjX5t7Dutw1uvMPfewNazpA3v6uWv7bD4xntnn3n63nPcOrol//vz5Vv/mzZvnPfvjy5cvv9VxBqxn3n1svXnnd51hL2u3B7bP5sN8WMfo//9P7xOzcRiHebsPc7wD6/MzMy6/A2Cmlv1dk0Mtr8EeewYxuMdM3HqeXTOD9fbBrmGvjVHnnc137VnM2NfmnsM6nPU6c889bA1r+sCefu7aPptPjGf2ubffLee9g+uN28McbYyZM8D6pb7YevO8h6+XYS9rtwe2z+bDfFjH6Of/6X1iNg7jMG/3YY53YH1+ZsbldwDM1LK/a3Ko5TXYY88gBveYiVvPs2tmsN4+2DXstTHqvLP5rj2LGfva3HNYh7NeZ+65h61hTR/Y089d22fzifHMPvf2u+W8d3C9cXuYo40xcwZYv9QXW2+e9/D1Muxl7fbA9tl8mA/rGP38P71PzMZhHObtPszxDqzPz8y4/A6AmVr2d00OtbwGe+wZxOAeM3HreXbNDNbbB7uGvTZGnXc237VnMWNfm3sO63DW68w997A1rOkDe/q5a/tsPjGe2efefrec9w6uN24Pc7QxZs4A65f6YuvN8x6+Xoa9rN0e2D6bD/NhHeP/9vP//v37W+zTp0+3efPMIfbAfxy7KQ6DezTZg2C9cdaghhh59PEM89f2Oi9qH2wfbD65PDubs184hjUMcplx3oGZYQxnDdzjHHBH77A9rPFezkmSJMmV+Duuv9/6+y6/3/r7cr////n3f2ZyPNM8a3l20HfPZ/ZcmEdP5j2bAfdgL98j9oh5N/fo4z1P1jF7P94DEbeeXnsmjJvH2GfyPZcYjLuG9yOHsfv2Imdj8E7EHNhzYT/7bw9nkWvs7OMdsHWsz+flvucye44Dvg/s+R5vnj9DYHZ4L3Ll5+jenmOe9cZZgxpi5O3Prflre1Gzd7EPtg82n1yenc3xu+SwhkEuM847MDOM4ayBe77X3NE7bA9rvNfO5Himedby7KDvns/suTCPnsx7NgPuwV6+R+wR827u0cd7nqxj9n5+b0DcenrtmTBuHmOfyfdcYjDuGt6PHMbu24ucjcE7EXNgz4X97L89nEWusbOPd8DWsT6fl/uey+w5Dvg+sOd7vHn+DIHZ4b3IlZ+je3uOedYbZw1qiJG3P7fmr+1Fzd7FPtg+2HxyeXY2x++SwxoGucw478DMMIazBu75XnNH77A9rPFeO5PjmeZZy7ODvns+s+fCPHoy79kMuAd7+R6xR8y7uUcf73myjtn7+b0BcevptWfCuHmMfSbfc4nBuGt4P3IYu28vcjaG82wG9lzYz/7bw1nkGjv7eAdsHevzebnvucye44DvA3u+x5vnzxCYHd6LXPk5urfnbB71xu1NDTHy9ufW/WUv++x59sH2webTg2dnc6x3WMMglxnnHZgZxnDWwD3fa+7oHbaHNXsvZ3I80zxreXbQd89n9lyY52vesxlwD/byZ4A9Yt7NGH2cT+YwO/zegGfrOWfPhHHzGPtMvucSg3HX8H7kMHbfXuRsDN6JmAN7Luxn/+3hLHKNnX28A7aO9fm83PdcZs9xwPeBPd/jzfNnCMwO70Wu/Bzd23PMs944a1BDjLz9uTV/bS9q9i72wfbB5pPLs7M5fpcc1jDIZcZ5B2aGMZw1cM/3mjt6h+1hjffamRzPNM9anh303fOZPRfm0ZN5z2bAPdjL94g9Yt7NPfp4z5N1zN7P7w2IW0+vPRPGzWPsM/meSwzGXcP7kcPYfXuRszF4J2IO7Lmwn/23h7PINXb28Q7YOtbn83Lfc5k9xwHfB/Z8jzfPnyEwO7wXufJzdG/PMc9646xBDTHy9ufW/LW9qNm72AfbB5tPLs/O5vhdcljDIJcZ5x2YGcZw1sA932vu6B22hzXea2dyPNM8a3l20HfPZ/ZcmEdP5j2bAfdgL98j9oh5N/fo4z1P1jF7P783IG49vfZMGDePsc/key4xGHcN70cOY/ftRc7G4J2IObDnwn723x7OItfY2cc7YOtYn8/Lfc9l9hwHfB/Y8z3ePH+GwOzwXuTKz9G9Pcc8642zBjXEyNufW/PX9qJm72IfbB9sPrk8O5vjd8lhDYNcZpx3YGYYw1kD93yvuaN32B7WeK+dyfFM86zl2UHfPZ/Zc2EePZn3bAbcg718j9gj5t3co4/3PFnH7P383oC49fTaM2HcPMY+k++5xGDcNbwfOYzdtxc5G4N3IubAngv72X97OItcY2cf74CtY30+L/c9l9lzHPB9YM/3ePP8Gbq7u7v7B0lBaZcQwduMAAAAAElFTkSuQmCC)"
      ]
    },
    {
      "cell_type": "code",
      "metadata": {
        "id": "Fb9E3EFpXLuF"
      },
      "source": [
        "import turtle\n",
        "turtle.pensize(2)\n",
        "for i in range(36):\n",
        "    for j in range(4):\n",
        "        turtle.forward(70)\n",
        "        turtle.left(90)\n",
        "    turtle.left(10)"
      ],
      "execution_count": null,
      "outputs": []
    },
    {
      "cell_type": "markdown",
      "metadata": {
        "id": "zXZGYGTuZNCK"
      },
      "source": [
        "![Screenshot (2).png](data:image/png;base64,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)"
      ]
    },
    {
      "cell_type": "markdown",
      "metadata": {
        "id": "ImFoi27dV2MH"
      },
      "source": [
        "##Exercise - 15 - Testing\n",
        "\n",
        "\n",
        "\n",
        "**AIM :**\n",
        "\n",
        "A) Write a test-case to check the function even numbers which return True on passing a list of all even \n",
        "numbers\n",
        "\n",
        "**DESCRIPTION:**\n",
        "\n",
        "TestCase is used to create test cases by subclassing it. The last block of the code at the bottom allows us to run all the tests just by running the file. Basic terms used in the code : assertEqual() – This statement is used to check if the result obtained is equal to the expected result\n",
        "\n",
        "**test case:**\n",
        "\n",
        "A test case is a set of conditions which is used to determine whether a system under test works correctly.\n",
        "\n",
        "**PROGRAM :**"
      ]
    },
    {
      "cell_type": "code",
      "metadata": {
        "colab": {
          "base_uri": "https://localhost:8080/"
        },
        "id": "jFqZBxrnWSeb",
        "outputId": "dec197de-759f-447b-de90-f5c23f88c535"
      },
      "source": [
        "def evnNo(num):\n",
        "    stat=True\n",
        "\n",
        "    for i in num:\n",
        "        if i%2 ==1:\n",
        "            stat=False\n",
        "            break\n",
        "    return stat\n",
        "\n",
        "numbers=[]\n",
        "n=int(input(\"Enter how many values you want to enter: \"))\n",
        "for i in range(0,n):\n",
        "    numbers.append(int(input(\"Enter a value : \")))\n",
        "print(evnNo(numbers))"
      ],
      "execution_count": null,
      "outputs": [
        {
          "name": "stdout",
          "output_type": "stream",
          "text": [
            "Enter how many values you want to enter: 5\n",
            "Enter a value : 2\n",
            "Enter a value : 4\n",
            "Enter a value : 6\n",
            "Enter a value : 8\n",
            "Enter a value : 12\n",
            "True\n"
          ]
        }
      ]
    },
    {
      "cell_type": "markdown",
      "metadata": {
        "id": "KxmALcEWZw9Q"
      },
      "source": [
        "\n",
        "**AIM :**\n",
        "\n",
        "B) Write a test-case to check the function reverse string which returns the reversed string\n",
        "\n",
        "**DESCRIPTION:**\n",
        "\n",
        "Python string library does’nt support the in-built “reverse()” as done by other python containers like list, hence knowing other methods to reverse string can prove to be useful. This article discusses several ways to achieve it.\n",
        "\n",
        "The reversed() returns the reversed iterator of the given string and then its elements are joined empty string separated using join(). And reversed order string is formed.\n",
        "\n",
        "**PROGRAM :**\n"
      ]
    },
    {
      "cell_type": "code",
      "metadata": {
        "colab": {
          "base_uri": "https://localhost:8080/"
        },
        "id": "qYu6z-alZ3Zi",
        "outputId": "40b9b0e2-13df-44dc-a82c-a50d2eab44b5"
      },
      "source": [
        "def rev_str(st):\n",
        "  return st[::-1]\n",
        "\n",
        "st=\"Uday Kiran Yadav\"\n",
        "print(\"Given String is : \",st)\n",
        "\n",
        "print(\"Reverse is : \",rev_str(st))"
      ],
      "execution_count": null,
      "outputs": [
        {
          "name": "stdout",
          "output_type": "stream",
          "text": [
            "Given String is :  Uday Kiran Yadav\n",
            "Reverse is :  vadaY nariK yadU\n"
          ]
        }
      ]
    },
    {
      "cell_type": "markdown",
      "metadata": {
        "id": "Fwu_q0S8bUm9"
      },
      "source": [
        "##Exercise - 16 - Advanced"
      ]
    },
    {
      "cell_type": "markdown",
      "metadata": {
        "id": "dbGnt796IIiX"
      },
      "source": [
        "\n",
        "\n",
        "**AIM :**\n",
        "\n",
        "A) Write a programe to Build any one classical data structure\n",
        "\n",
        "**DESCRIPTION:**\n",
        "\n",
        "**What is a Data Structure?** \n",
        "\n",
        "Organizing, managing and storing data is important as it enables easier access and efficient modifications. Data Structures allows you to organize your data in such a way that enables you to store collections of data, relate them and perform operations on them accordingly. \n",
        "\n",
        "**Stack**\n",
        "Stacks are linear Data Structures which are based on the principle of Last-In-First-Out (LIFO) where data which is entered last will be the first to get accessed. It is built using the array structure and has operations namely, pushing (adding) elements, popping (deleting) elements and accessing elements only from one point in the stack called as the TOP. This TOP is the pointer to the current position of the stack. Stacks are prominently used in applications such as Recursive Programming, reversing words, undo mechanisms in word editors and so forth.\n",
        "\n",
        "**PROGRAM :**"
      ]
    },
    {
      "cell_type": "code",
      "metadata": {
        "colab": {
          "base_uri": "https://localhost:8080/"
        },
        "id": "9AwWwYhkbX89",
        "outputId": "a63c7282-b54b-4284-c4c7-5a4a063a7607"
      },
      "source": [
        "import sys\n",
        "a=[]\n",
        "\n",
        "while True:\n",
        "        print(\"\\n1.PUSH 2.POP 3.DISPLAY 4.EXIT\")\n",
        "        ch=int(input(\"Enter Your Choice: \"))\n",
        "        if ch==1:\n",
        "            ele=int(input(\"Enter element: \"))\n",
        "            a.append(ele)\n",
        "            print (\"Inserted\")\n",
        "        elif ch==2:\n",
        "            if len(a)==0:\n",
        "                print(\"\\t STACK IS EMPTY\")\n",
        "            else:\n",
        "                print (\"Deleted element is: \", a[len(a)-1])\n",
        "                a.remove(a[len(a)-1])\n",
        "        elif ch==3:\n",
        "            if len(a)==0:\n",
        "                print(\"\\t STACK IS EMPTY\")\n",
        "            else:\n",
        "                print(\"\\tThe Elements in Stack is: \")\n",
        "                for i in reversed(a):\n",
        "                    print (i)\n",
        "        elif ch==4:\n",
        "            break\n",
        "        else:\n",
        "            print (\"\\t INVALID CHOICE \")\n"
      ],
      "execution_count": null,
      "outputs": [
        {
          "name": "stdout",
          "output_type": "stream",
          "text": [
            "\n",
            "1.PUSH 2.POP 3.DISPLAY 4.EXIT\n",
            "Enter Your Choice: 1\n",
            "Enter element: 10\n",
            "Inserted\n",
            "\n",
            "1.PUSH 2.POP 3.DISPLAY 4.EXIT\n",
            "Enter Your Choice: 1\n",
            "Enter element: 11\n",
            "Inserted\n",
            "\n",
            "1.PUSH 2.POP 3.DISPLAY 4.EXIT\n",
            "Enter Your Choice: 1\n",
            "Enter element: 12\n",
            "Inserted\n",
            "\n",
            "1.PUSH 2.POP 3.DISPLAY 4.EXIT\n",
            "Enter Your Choice: 1\n",
            "Enter element: 13\n",
            "Inserted\n",
            "\n",
            "1.PUSH 2.POP 3.DISPLAY 4.EXIT\n",
            "Enter Your Choice: 3\n",
            "\tThe Elements in Stack is: \n",
            "13\n",
            "12\n",
            "11\n",
            "10\n",
            "\n",
            "1.PUSH 2.POP 3.DISPLAY 4.EXIT\n",
            "Enter Your Choice: 2\n",
            "Deleted element is:  13\n",
            "\n",
            "1.PUSH 2.POP 3.DISPLAY 4.EXIT\n",
            "Enter Your Choice: 2\n",
            "Deleted element is:  12\n",
            "\n",
            "1.PUSH 2.POP 3.DISPLAY 4.EXIT\n",
            "Enter Your Choice: 2\n",
            "Deleted element is:  11\n",
            "\n",
            "1.PUSH 2.POP 3.DISPLAY 4.EXIT\n",
            "Enter Your Choice: 3\n",
            "\tThe Elements in Stack is: \n",
            "10\n",
            "\n",
            "1.PUSH 2.POP 3.DISPLAY 4.EXIT\n",
            "Enter Your Choice: 4\n"
          ]
        }
      ]
    },
    {
      "cell_type": "markdown",
      "metadata": {
        "id": "w9gCSzpk09cp"
      },
      "source": [
        "**AIM :**\n",
        "\n",
        "B) Write a program to solve knapsack problem\n",
        "\n",
        "**DESCRIPTION:**\n",
        "\n",
        "Python Program for 0-1 Knapsack Problem\n",
        "\n",
        "Problem statement − We are given weights and values of n items, we need to put these items in a bag of capacity W up to the maximum capacity w. We need to carry a maximum number of items and return its value.\n",
        "\n",
        " Brute-force approach.\n",
        "\n",
        "dynamic approach.\n",
        "\n",
        "**PROGRAM :**\n"
      ]
    },
    {
      "cell_type": "code",
      "metadata": {
        "colab": {
          "base_uri": "https://localhost:8080/"
        },
        "id": "zOIVQAe48m9s",
        "outputId": "ed930f6f-f576-4cef-bb87-6104d21bc4b8"
      },
      "source": [
        " \n",
        "def knapSack(W, wt, val, n):\n",
        "    K = [[0 for x in range(W+1)]for x in range(n+1)]\n",
        "    for i in range(n+1):\n",
        "         for w in range(W+1):\n",
        "            if i==0 or w==0:\n",
        "               K[i][w] = 0\n",
        "            elif wt[i-1]<= w:\n",
        "                K[i][w] = max(val[i-1] + K[i-1][w-wt[i-1]],K[i-1][w])\n",
        "            else:\n",
        "                K[i][w] = K[i-1][w]\n",
        "    return K[n][W]\n",
        "val = [15, 3, 4]\n",
        "wt = [3, 2, 1]\n",
        "W=5\n",
        "n= len(val)\n",
        "print(\"Maximum value knapsack of capacity W: \",knapSack(W, wt, val, n))"
      ],
      "execution_count": null,
      "outputs": [
        {
          "name": "stdout",
          "output_type": "stream",
          "text": [
            "Maximum value knapsack of capacity W:  19\n"
          ]
        }
      ]
    },
    {
      "cell_type": "markdown",
      "metadata": {
        "id": "qttsdCwpDMsg"
      },
      "source": [
        "## Exercise - 17 - Data analysis\n",
        "\n",
        "**AIM :**\n",
        "\n",
        " Data analysis for manipulation using the following packages\n",
        "\n",
        " **DESCRIPTION:**\n",
        "\n",
        "Learn how to analyze data using Python. ... It includes following parts: Data Analysis libraries: will learn to use Pandas, Numpy and Scipy libraries to work with a sample dataset. We will introduce you to pandas, an open-source library, and we will use it to load, manipulate, analyze, and visualize cool datasets.\n",
        "\n",
        "**NumPy** is the fundamental package for scientific computing in Python. ... NumPy arrays facilitate advanced mathematical and other types of operations on large numbers of data.\n",
        "\n",
        "**Pandas** is an open source Python package that is most widely used for data science/data analysis and machine learning tasks. It is built on top of another package named Numpy, which provides support for multi-dimensional arrays.\n",
        "\n",
        "**PROGRAM :**\n"
      ]
    },
    {
      "cell_type": "markdown",
      "metadata": {
        "id": "-mvruuhyDtx_"
      },
      "source": [
        "**a) Numpy Package**"
      ]
    },
    {
      "cell_type": "code",
      "metadata": {
        "colab": {
          "base_uri": "https://localhost:8080/"
        },
        "id": "YHPOyFTxDR-0",
        "outputId": "d95384fb-5647-41c4-a49b-77223aad305a"
      },
      "source": [
        "import numpy as np\n",
        "a=np.array([0,1,2])\n",
        "print (type(a))\n",
        "print (a.shape)\n",
        "print (a[0])\n",
        "print (a[1])\n",
        "print (a[2])\n",
        "a[0]=5\n",
        "print (a)\n",
        "print (\"Creating 3x3 identity matrix\")\n",
        "e=np.eye(3)\n",
        "print (e)"
      ],
      "execution_count": null,
      "outputs": [
        {
          "name": "stdout",
          "output_type": "stream",
          "text": [
            "<class 'numpy.ndarray'>\n",
            "(3,)\n",
            "0\n",
            "1\n",
            "2\n",
            "[5 1 2]\n",
            "Creating 3x3 identity matrix\n",
            "[[1. 0. 0.]\n",
            " [0. 1. 0.]\n",
            " [0. 0. 1.]]\n"
          ]
        }
      ]
    },
    {
      "cell_type": "markdown",
      "metadata": {
        "id": "G1EMPoB8D4Jy"
      },
      "source": [
        "**b)Pandas package**"
      ]
    },
    {
      "cell_type": "markdown",
      "metadata": {
        "id": "fuWZKmFgE9vE"
      },
      "source": [
        "\n",
        "\n",
        "**1)Series**\n",
        " "
      ]
    },
    {
      "cell_type": "code",
      "metadata": {
        "colab": {
          "base_uri": "https://localhost:8080/"
        },
        "id": "bKeqbWNsD7C4",
        "outputId": "785c4816-74eb-47f2-c334-e04e5f57e804"
      },
      "source": [
        "import pandas as pd\n",
        "s=pd.Series([1,2,3,4,5],index=['A','B','C','D','E'])\n",
        "print(s)"
      ],
      "execution_count": null,
      "outputs": [
        {
          "name": "stdout",
          "output_type": "stream",
          "text": [
            "A    1\n",
            "B    2\n",
            "C    3\n",
            "D    4\n",
            "E    5\n",
            "dtype: int64\n"
          ]
        }
      ]
    },
    {
      "cell_type": "markdown",
      "metadata": {
        "id": "td3TEPKzFjJJ"
      },
      "source": [
        "**2) Data Frames**"
      ]
    },
    {
      "cell_type": "code",
      "metadata": {
        "colab": {
          "base_uri": "https://localhost:8080/",
          "height": 143
        },
        "id": "drD0mKDhFm46",
        "outputId": "46404609-5635-4e81-8ccb-aa6daba7d274"
      },
      "source": [
        "#creating data frame\n",
        "import pandas as pd\n",
        "data={'Gen':['F','M','M'],'EiD':['E01','E02','E03'],'Age':[25,56,49]}\n",
        "df=pd.DataFrame(data, columns= ['EiD','Age','Gen'])\n",
        "df"
      ],
      "execution_count": null,
      "outputs": [
        {
          "data": {
            "text/html": [
              "<div>\n",
              "<style scoped>\n",
              "    .dataframe tbody tr th:only-of-type {\n",
              "        vertical-align: middle;\n",
              "    }\n",
              "\n",
              "    .dataframe tbody tr th {\n",
              "        vertical-align: top;\n",
              "    }\n",
              "\n",
              "    .dataframe thead th {\n",
              "        text-align: right;\n",
              "    }\n",
              "</style>\n",
              "<table border=\"1\" class=\"dataframe\">\n",
              "  <thead>\n",
              "    <tr style=\"text-align: right;\">\n",
              "      <th></th>\n",
              "      <th>EiD</th>\n",
              "      <th>Age</th>\n",
              "      <th>Gen</th>\n",
              "    </tr>\n",
              "  </thead>\n",
              "  <tbody>\n",
              "    <tr>\n",
              "      <th>0</th>\n",
              "      <td>E01</td>\n",
              "      <td>25</td>\n",
              "      <td>F</td>\n",
              "    </tr>\n",
              "    <tr>\n",
              "      <th>1</th>\n",
              "      <td>E02</td>\n",
              "      <td>56</td>\n",
              "      <td>M</td>\n",
              "    </tr>\n",
              "    <tr>\n",
              "      <th>2</th>\n",
              "      <td>E03</td>\n",
              "      <td>49</td>\n",
              "      <td>M</td>\n",
              "    </tr>\n",
              "  </tbody>\n",
              "</table>\n",
              "</div>"
            ],
            "text/plain": [
              "   EiD  Age Gen\n",
              "0  E01   25   F\n",
              "1  E02   56   M\n",
              "2  E03   49   M"
            ]
          },
          "execution_count": 5,
          "metadata": {},
          "output_type": "execute_result"
        }
      ]
    },
    {
      "cell_type": "markdown",
      "metadata": {
        "id": "U_dKq1feFzFv"
      },
      "source": [
        "## Exercise - 18 - Data analysis\n",
        "\n",
        "\n",
        "**AIM :**\n",
        "\n",
        "  Data analysis for manipulation using the following packages\n",
        "\n",
        "**DESCRIPTION:**\n",
        "\n",
        "Learn how to analyze data using Python. ... It includes following parts: Data Analysis libraries: will learn to use Pandas, Numpy and Scipy libraries to work with a sample dataset. We will introduce you to pandas, an open-source library, and we will use it to load, manipulate, analyze, and visualize cool datasets.\n",
        "\n",
        "**SciPy** is a free and open-source Python library used for scientific computing and technical computing. It is a collection of mathematical algorithms and convenience functions built on the NumPy extension of Python\n",
        "\n",
        "**Matplotlib** is a plotting library for the Python programming language and its numerical mathematics extension NumPy. It provides an object-oriented API for embedding plots into applications using general-purpose GUI toolkits like Tkinter, wxPython, Qt, or GTK.\n",
        "\n",
        "**PROGRAM :**\n",
        "\n"
      ]
    },
    {
      "cell_type": "markdown",
      "metadata": {
        "id": "MaXWs_QYGNRD"
      },
      "source": [
        "**a) Script Package**"
      ]
    },
    {
      "cell_type": "code",
      "metadata": {
        "colab": {
          "base_uri": "https://localhost:8080/"
        },
        "id": "1M_xBVY6GEdT",
        "outputId": "b1317d45-d758-4dad-cd70-cc063378aa0a"
      },
      "source": [
        "from scipy.cluster.vq import kmeans,vq,whiten\n",
        "from numpy import vstack, array\n",
        "from numpy.random import rand\n",
        "data=vstack ((rand(100,3)+array ([.5,.5,.5]),rand(100,3)))\n",
        "data"
      ],
      "execution_count": null,
      "outputs": [
        {
          "data": {
            "text/plain": [
              "array([[5.66808640e-01, 1.17830223e+00, 1.32837720e+00],\n",
              "       [5.60069236e-01, 1.01556889e+00, 1.12527231e+00],\n",
              "       [6.14521081e-01, 8.35889491e-01, 1.41495831e+00],\n",
              "       [1.04854909e+00, 1.18401071e+00, 1.29642026e+00],\n",
              "       [6.22861932e-01, 1.30294081e+00, 1.49195589e+00],\n",
              "       [1.48554001e+00, 1.23069126e+00, 1.47941863e+00],\n",
              "       [7.32338719e-01, 1.27799369e+00, 1.24012128e+00],\n",
              "       [5.07252639e-01, 7.99660177e-01, 1.45678603e+00],\n",
              "       [6.32211437e-01, 1.06941328e+00, 8.24507590e-01],\n",
              "       [1.49814648e+00, 6.41696479e-01, 1.45844892e+00],\n",
              "       [1.18217557e+00, 1.18312720e+00, 7.59618223e-01],\n",
              "       [7.99685821e-01, 6.98479422e-01, 1.10621815e+00],\n",
              "       [1.31428695e+00, 7.70221184e-01, 1.09931892e+00],\n",
              "       [1.40021056e+00, 1.01922126e+00, 1.21934798e+00],\n",
              "       [1.11368247e+00, 6.16810950e-01, 1.20280148e+00],\n",
              "       [1.41968979e+00, 1.30792609e+00, 6.23908548e-01],\n",
              "       [1.49979526e+00, 1.47136451e+00, 7.15865037e-01],\n",
              "       [5.47127035e-01, 1.24431726e+00, 7.23691527e-01],\n",
              "       [6.27158457e-01, 1.08655532e+00, 1.13448307e+00],\n",
              "       [1.35495837e+00, 7.31776642e-01, 9.21462473e-01],\n",
              "       [8.54566882e-01, 1.02151193e+00, 8.49047124e-01],\n",
              "       [5.65818091e-01, 1.19977175e+00, 9.71777755e-01],\n",
              "       [7.69109667e-01, 1.49235085e+00, 7.97437491e-01],\n",
              "       [8.69903142e-01, 1.05623167e+00, 1.38402780e+00],\n",
              "       [1.13004486e+00, 8.56434336e-01, 1.13931219e+00],\n",
              "       [1.16604298e+00, 1.11181722e+00, 1.17695286e+00],\n",
              "       [9.23275099e-01, 6.19367709e-01, 6.82268406e-01],\n",
              "       [8.80964567e-01, 1.24650956e+00, 1.34709215e+00],\n",
              "       [1.23722370e+00, 1.47871561e+00, 1.41376470e+00],\n",
              "       [8.89293126e-01, 6.52194255e-01, 1.26343897e+00],\n",
              "       [1.06656156e+00, 1.44162533e+00, 8.24407877e-01],\n",
              "       [1.41399690e+00, 1.36539276e+00, 1.35526163e+00],\n",
              "       [5.24695060e-01, 5.74868402e-01, 5.64911647e-01],\n",
              "       [7.09781324e-01, 6.22318453e-01, 1.41913612e+00],\n",
              "       [8.79049583e-01, 1.07288236e+00, 9.43076258e-01],\n",
              "       [8.88800903e-01, 7.52166166e-01, 1.24036648e+00],\n",
              "       [7.01740161e-01, 7.50480917e-01, 1.35951829e+00],\n",
              "       [8.76004416e-01, 1.29327218e+00, 1.03383129e+00],\n",
              "       [5.98355160e-01, 6.36591719e-01, 1.13951218e+00],\n",
              "       [1.22154763e+00, 6.14318378e-01, 1.14988801e+00],\n",
              "       [1.25545245e+00, 1.21367512e+00, 1.32593595e+00],\n",
              "       [1.03455142e+00, 1.30482196e+00, 5.37238204e-01],\n",
              "       [6.28918841e-01, 1.30391706e+00, 1.45456494e+00],\n",
              "       [1.07395109e+00, 5.10500469e-01, 1.11838581e+00],\n",
              "       [1.38503863e+00, 7.54032833e-01, 7.59019060e-01],\n",
              "       [1.26348011e+00, 1.45200186e+00, 1.04503083e+00],\n",
              "       [9.99220377e-01, 1.35838132e+00, 1.33882752e+00],\n",
              "       [1.41214472e+00, 1.13419139e+00, 6.99060305e-01],\n",
              "       [6.34053705e-01, 7.15885970e-01, 1.16890993e+00],\n",
              "       [1.47061602e+00, 1.25052635e+00, 7.73726086e-01],\n",
              "       [1.35671408e+00, 7.30023214e-01, 7.44181341e-01],\n",
              "       [1.49421735e+00, 1.19921090e+00, 7.04465039e-01],\n",
              "       [9.20460608e-01, 1.21753143e+00, 5.96607495e-01],\n",
              "       [7.17441091e-01, 1.41192103e+00, 8.47981999e-01],\n",
              "       [5.41425178e-01, 6.41116122e-01, 1.44885643e+00],\n",
              "       [1.26602762e+00, 5.33102869e-01, 1.30709501e+00],\n",
              "       [1.04997428e+00, 6.91899858e-01, 1.37516140e+00],\n",
              "       [8.95322315e-01, 1.25807602e+00, 1.41735372e+00],\n",
              "       [7.93965216e-01, 7.99567148e-01, 8.71358774e-01],\n",
              "       [8.51569864e-01, 1.29665048e+00, 9.20785712e-01],\n",
              "       [5.75575137e-01, 1.08330281e+00, 1.13339349e+00],\n",
              "       [1.47975438e+00, 5.80451437e-01, 7.78960037e-01],\n",
              "       [6.28897439e-01, 1.35305567e+00, 1.19248792e+00],\n",
              "       [1.24342811e+00, 6.04671618e-01, 6.94319596e-01],\n",
              "       [5.17404326e-01, 1.12330406e+00, 1.02018654e+00],\n",
              "       [9.09299216e-01, 9.66340348e-01, 8.00308901e-01],\n",
              "       [8.99497866e-01, 1.30804461e+00, 1.37038992e+00],\n",
              "       [9.38908785e-01, 1.37548879e+00, 8.49334196e-01],\n",
              "       [1.47022892e+00, 7.53331455e-01, 1.27065380e+00],\n",
              "       [8.59936148e-01, 5.45387300e-01, 1.24783789e+00],\n",
              "       [1.23838828e+00, 1.38297928e+00, 1.24671383e+00],\n",
              "       [8.18588670e-01, 1.26093508e+00, 1.25236683e+00],\n",
              "       [8.23007345e-01, 1.17459467e+00, 8.02425152e-01],\n",
              "       [1.10704010e+00, 6.80308200e-01, 9.66019184e-01],\n",
              "       [1.43462869e+00, 1.17167682e+00, 1.12507231e+00],\n",
              "       [1.10716348e+00, 8.16993650e-01, 1.03858404e+00],\n",
              "       [6.32027716e-01, 1.27079354e+00, 7.66637038e-01],\n",
              "       [8.83361631e-01, 8.35795124e-01, 8.56703784e-01],\n",
              "       [7.65666928e-01, 8.31371586e-01, 8.90140748e-01],\n",
              "       [5.65253415e-01, 8.57296769e-01, 1.34048268e+00],\n",
              "       [6.72341219e-01, 5.56204394e-01, 1.46866806e+00],\n",
              "       [1.17906888e+00, 1.20133468e+00, 1.44004081e+00],\n",
              "       [8.86217740e-01, 5.55558434e-01, 1.27640399e+00],\n",
              "       [7.87129369e-01, 1.26752569e+00, 8.85868224e-01],\n",
              "       [7.58267594e-01, 5.46286121e-01, 1.48285671e+00],\n",
              "       [9.35129203e-01, 6.11694871e-01, 8.20621067e-01],\n",
              "       [1.10033784e+00, 5.08392197e-01, 1.19803475e+00],\n",
              "       [5.25520629e-01, 5.09261605e-01, 5.51823374e-01],\n",
              "       [6.31268241e-01, 5.60667366e-01, 1.07244783e+00],\n",
              "       [6.61576635e-01, 9.63024706e-01, 9.04561983e-01],\n",
              "       [1.45432091e+00, 9.76540521e-01, 5.20848773e-01],\n",
              "       [9.43369084e-01, 1.21111966e+00, 1.23586876e+00],\n",
              "       [8.88030395e-01, 6.07687866e-01, 5.50736673e-01],\n",
              "       [1.00427002e+00, 7.69505501e-01, 8.16860411e-01],\n",
              "       [9.36282871e-01, 5.02972859e-01, 8.45586816e-01],\n",
              "       [9.35783123e-01, 1.25632352e+00, 5.39226772e-01],\n",
              "       [1.48090643e+00, 1.38740232e+00, 8.73127854e-01],\n",
              "       [9.62020326e-01, 1.20311415e+00, 9.23067265e-01],\n",
              "       [1.24982734e+00, 1.26314948e+00, 9.73390148e-01],\n",
              "       [9.41278004e-01, 9.21590640e-01, 6.45611426e-01],\n",
              "       [2.57198785e-01, 6.53173751e-01, 5.86889382e-02],\n",
              "       [2.05305011e-01, 7.80620115e-01, 9.46873475e-01],\n",
              "       [8.41971643e-01, 9.68023061e-01, 4.41868176e-01],\n",
              "       [1.64392978e-02, 9.45720035e-01, 6.27856651e-01],\n",
              "       [6.29698011e-01, 7.31850002e-01, 6.51418658e-01],\n",
              "       [8.64179631e-01, 2.73035839e-01, 6.59581611e-01],\n",
              "       [2.29018674e-01, 7.84801550e-01, 3.03268528e-01],\n",
              "       [8.93821654e-01, 4.95270003e-01, 3.48633717e-01],\n",
              "       [1.04373386e-01, 4.36185376e-01, 5.66818739e-01],\n",
              "       [9.22374363e-01, 4.74543622e-01, 4.54033260e-03],\n",
              "       [9.74155333e-01, 8.13805748e-01, 9.43680177e-01],\n",
              "       [7.50061109e-01, 5.88228939e-01, 5.74583690e-01],\n",
              "       [2.56289931e-01, 3.41646442e-01, 1.13148155e-01],\n",
              "       [1.94488835e-02, 8.95039596e-01, 5.34996872e-01],\n",
              "       [1.96919654e-01, 1.27348145e-01, 5.38397156e-01],\n",
              "       [7.83738276e-01, 4.51396273e-01, 6.47114828e-01],\n",
              "       [6.02220386e-01, 9.50014036e-01, 4.59393534e-01],\n",
              "       [6.37927750e-01, 9.48489452e-01, 5.48324039e-01],\n",
              "       [9.21121262e-01, 7.55579580e-01, 5.86722693e-01],\n",
              "       [8.65829754e-01, 5.50530556e-01, 4.73201222e-01],\n",
              "       [3.32376911e-01, 1.55536719e-01, 1.12311457e-02],\n",
              "       [2.02151485e-01, 4.98748791e-01, 1.13933585e-01],\n",
              "       [6.51837778e-02, 8.65230817e-01, 5.69357966e-01],\n",
              "       [5.72348549e-01, 3.91014737e-01, 5.08078240e-02],\n",
              "       [9.00970746e-01, 1.77586462e-01, 7.48016903e-01],\n",
              "       [2.34831108e-01, 9.86764171e-01, 7.62291500e-01],\n",
              "       [8.18106762e-01, 1.76377102e-01, 3.13651123e-01],\n",
              "       [1.55035320e-01, 2.73320444e-01, 1.94546708e-01],\n",
              "       [4.11852720e-01, 8.53524475e-01, 8.04145240e-02],\n",
              "       [9.81225553e-01, 2.22588152e-01, 7.68755258e-01],\n",
              "       [4.15336803e-01, 8.53620332e-01, 3.12236976e-01],\n",
              "       [5.87739896e-01, 8.49866244e-01, 6.37280106e-01],\n",
              "       [4.11155298e-02, 2.53431917e-02, 5.68980509e-01],\n",
              "       [6.44262649e-01, 7.93253129e-01, 9.95146222e-01],\n",
              "       [9.50526022e-01, 8.40556384e-01, 1.77441484e-02],\n",
              "       [1.06640778e-01, 2.46437116e-01, 3.77141747e-01],\n",
              "       [6.87485023e-01, 8.66831950e-01, 2.68247286e-02],\n",
              "       [8.81712962e-01, 3.86889508e-01, 1.17612641e-01],\n",
              "       [6.14142490e-01, 4.38305933e-01, 5.90101910e-01],\n",
              "       [1.78373868e-01, 8.81353965e-01, 9.74766574e-01],\n",
              "       [4.63617801e-01, 2.85815174e-02, 4.41029518e-01],\n",
              "       [2.17516759e-02, 5.54959066e-01, 8.14583178e-01],\n",
              "       [2.71819245e-01, 1.60293602e-01, 8.34481922e-01],\n",
              "       [3.28200543e-01, 7.35114536e-01, 8.45128147e-01],\n",
              "       [1.49836684e-01, 3.43760336e-02, 7.18241354e-01],\n",
              "       [5.18885519e-01, 3.13963561e-01, 9.68884942e-01],\n",
              "       [7.20575960e-01, 3.34269667e-01, 7.46411935e-01],\n",
              "       [5.08842688e-01, 8.98179797e-01, 2.55191140e-01],\n",
              "       [7.68189272e-02, 1.05288325e-01, 3.25066834e-01],\n",
              "       [7.45631473e-01, 1.46803772e-01, 1.45129208e-01],\n",
              "       [2.67444908e-01, 5.65055417e-01, 8.54473822e-01],\n",
              "       [8.83580924e-01, 1.55726294e-01, 6.82799706e-01],\n",
              "       [8.53911180e-01, 9.04150025e-01, 8.59647776e-01],\n",
              "       [6.52680932e-01, 4.89246580e-01, 3.07808493e-01],\n",
              "       [4.28843583e-01, 5.45469568e-01, 9.46890887e-01],\n",
              "       [8.23698137e-01, 4.49464544e-01, 8.13271188e-01],\n",
              "       [5.89722239e-01, 8.41171724e-04, 3.47692493e-01],\n",
              "       [3.77973636e-01, 4.61380304e-01, 1.60237424e-01],\n",
              "       [2.92872594e-01, 1.15522328e-01, 1.71042752e-01],\n",
              "       [1.87626394e-01, 6.19080299e-01, 1.56272876e-01],\n",
              "       [3.80765560e-01, 7.95138706e-01, 4.09131595e-01],\n",
              "       [2.66803393e-01, 2.65816293e-01, 1.92312889e-02],\n",
              "       [2.38390171e-01, 5.02829302e-01, 1.88717481e-01],\n",
              "       [2.49764558e-02, 2.24274292e-01, 4.53764589e-01],\n",
              "       [7.26839027e-01, 9.48508413e-01, 3.15813815e-01],\n",
              "       [2.79391200e-01, 8.03915519e-01, 5.63116079e-01],\n",
              "       [1.93381453e-01, 7.66548638e-01, 2.75187195e-01],\n",
              "       [7.40088591e-01, 2.65210587e-01, 1.12826456e-01],\n",
              "       [5.52404874e-01, 1.98504972e-01, 2.88848341e-01],\n",
              "       [5.03328507e-01, 1.67878612e-01, 6.02472143e-01],\n",
              "       [6.77162428e-01, 6.27627278e-01, 3.37552738e-01],\n",
              "       [7.42790707e-02, 8.85081664e-02, 7.19096232e-01],\n",
              "       [8.41913418e-01, 1.16788495e-01, 7.62666439e-01],\n",
              "       [3.69335562e-01, 8.55677065e-01, 3.17678002e-01],\n",
              "       [9.01128805e-02, 3.90806947e-01, 5.11053222e-01],\n",
              "       [3.29561383e-01, 4.39888691e-01, 7.75617220e-01],\n",
              "       [1.71748552e-01, 7.03497270e-02, 5.70505702e-01],\n",
              "       [7.75640957e-01, 6.28999664e-01, 1.97699663e-01],\n",
              "       [4.77290915e-01, 6.15057951e-01, 4.11320265e-01],\n",
              "       [3.32615585e-01, 4.19922146e-01, 4.10514219e-01],\n",
              "       [1.19410120e-01, 4.78028488e-01, 4.40609627e-01],\n",
              "       [9.17461594e-01, 9.37339460e-01, 9.59734228e-01],\n",
              "       [5.06030488e-01, 5.85823945e-01, 2.26448663e-01],\n",
              "       [8.57899612e-01, 2.81255708e-01, 5.39483037e-01],\n",
              "       [6.31126001e-03, 5.44303546e-01, 2.45348048e-01],\n",
              "       [6.03391416e-01, 4.41014115e-01, 6.14224303e-01],\n",
              "       [6.72618725e-01, 6.01243628e-01, 9.34980880e-01],\n",
              "       [9.27865521e-01, 8.41587478e-01, 2.07945040e-01],\n",
              "       [2.54455542e-01, 7.72123983e-01, 2.04110893e-01],\n",
              "       [8.08200954e-01, 6.87924659e-01, 3.24661035e-01],\n",
              "       [3.17139764e-01, 4.02759101e-01, 3.69419126e-01],\n",
              "       [5.19940798e-01, 2.63046910e-02, 3.21445817e-01],\n",
              "       [5.87072342e-01, 8.13809368e-01, 3.65091291e-01],\n",
              "       [8.36126741e-02, 5.52083732e-01, 8.55257290e-01],\n",
              "       [5.49865905e-01, 2.72698630e-01, 9.10957368e-01],\n",
              "       [2.25773838e-01, 1.80353947e-01, 8.19885688e-02],\n",
              "       [4.14099390e-01, 1.44926748e-01, 4.62613569e-01],\n",
              "       [9.60555366e-01, 9.33909327e-01, 5.88827825e-01],\n",
              "       [7.67701620e-01, 1.91855219e-01, 8.84834645e-01],\n",
              "       [8.50555002e-01, 9.87026149e-01, 9.12057472e-01]])"
            ]
          },
          "execution_count": 6,
          "metadata": {},
          "output_type": "execute_result"
        }
      ]
    },
    {
      "cell_type": "markdown",
      "metadata": {
        "id": "zV7QFvXTGYHj"
      },
      "source": [
        "**b) Matplotlib**"
      ]
    },
    {
      "cell_type": "code",
      "metadata": {
        "colab": {
          "base_uri": "https://localhost:8080/",
          "height": 265
        },
        "id": "LRdeebsRGbaw",
        "outputId": "fcd63ce4-3182-4df0-a352-291003eee232"
      },
      "source": [
        "import matplotlib.pyplot as plt\n",
        "import numpy as np\n",
        "x=np.array(5)\n",
        "y=(35,45,23,27,60)\n",
        "plt.bar(x,y)\n",
        "plt.show()"
      ],
      "execution_count": null,
      "outputs": [
        {
          "data": {
            "image/png": "[encoded data removed]",
            "text/plain": [
              "<Figure size 432x288 with 1 Axes>"
            ]
          },
          "metadata": {},
          "output_type": "display_data"
        }
      ]
    }
  ]
}